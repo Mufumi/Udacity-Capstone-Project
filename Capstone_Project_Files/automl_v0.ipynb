{
 "cells": [
  {
   "cell_type": "markdown",
   "metadata": {},
   "source": [
    "# Automated ML\n",
    "\n",
    "Importing Dependencies"
   ]
  },
  {
   "cell_type": "code",
   "execution_count": 1,
   "metadata": {
    "gather": {
     "logged": 1598423888013
    },
    "jupyter": {
     "outputs_hidden": false,
     "source_hidden": false
    },
    "nteract": {
     "transient": {
      "deleting": false
     }
    }
   },
   "outputs": [],
   "source": [
    "from azureml.core.workspace import Workspace\n",
    "from azureml.core.dataset import Dataset\n",
    "from azureml.core.experiment import Experiment\n",
    "from azureml.train.automl import AutoMLConfig\n",
    "from azureml.widgets import RunDetails\n",
    "from sklearn.model_selection import train_test_split\n",
    "from sklearn.metrics import mean_squared_error"
   ]
  },
  {
   "cell_type": "markdown",
   "metadata": {},
   "source": [
    "# Initialize workspace"
   ]
  },
  {
   "cell_type": "code",
   "execution_count": 2,
   "metadata": {},
   "outputs": [],
   "source": [
    "ws = Workspace.from_config()"
   ]
  },
  {
   "cell_type": "markdown",
   "metadata": {},
   "source": [
    "# Optional: Creating a AMLCompute cluster"
   ]
  },
  {
   "cell_type": "markdown",
   "metadata": {},
   "source": [
    "This step is optional. If you want to instantiate the AutoML compute cluster using the Python SDK, you can run the following code. However, once a compute instance is initiated within Designer, you don;t have to execute this step\n",
    "\n",
    "`from azureml.core.compute import AmlCompute\n",
    "from azureml.core.compute import ComputeTarget\n",
    "from azureml.core.compute_target import ComputeTargetException`\n",
    "\n",
    "### Update the cluster name to match the existing cluster\n",
    "### Choose a name for your CPU cluster\n",
    "`amlcompute_cluster_name = \"Auto-ML-Compute\"`\n",
    "\n",
    "### Verify that cluster does not exist already\n",
    "`try:\n",
    "    compute_target = ComputeTarget(workspace=ws, name=amlcompute_cluster_name)\n",
    "    print('Found existing cluster, use it.')\n",
    "except ComputeTargetException:\n",
    "    compute_config = AmlCompute.provisioning_configuration(vm_size='STANDARD_D2_V2',# for GPU, use \"STANDARD_NC6\"\n",
    "                                                           #vm_priority = 'lowpriority', # optional\n",
    "                                                           max_nodes=4)\n",
    "    compute_target = ComputeTarget.create(ws, amlcompute_cluster_name, compute_config)\n",
    "`\n",
    "`compute_target.wait_for_completion(show_output=True, min_node_count = 1, timeout_in_minutes = 10)`\n",
    "\n",
    "For a more detailed view of current AmlCompute status, use `get_status().`"
   ]
  },
  {
   "cell_type": "markdown",
   "metadata": {},
   "source": [
    "## Dataset\n",
    "\n",
    "### Overview\n",
    "\n",
    " This experiment is run on custom Spotify data that includes a list of 'liked' tracks as well as disliked tracks. The Spotify API featurizes tracks according to \"danceability\",\"energy\",\"key\",\"loudness\",\"mode\",\"speechiness\",\"acousticness\",\"instrumentalness\",\"liveness\",\"valence\",\"tempo\"\n",
    "\n",
    "A TabularDataset is then created using TabularDatasetFactory using the 'from_delimited_files()' method to pass a csv into a data structure Azure can work with\n",
    "\n",
    "The dataset is then registered into AzureML workspace"
   ]
  },
  {
   "cell_type": "code",
   "execution_count": 5,
   "metadata": {},
   "outputs": [],
   "source": [
    "from azureml.data.dataset_factory import TabularDatasetFactory\n",
    "\n",
    "auto_ml_url_path='https://raw.githubusercontent.com/Mufumi/Udacity-Capstone-Project/main/Spotify_playlist/spotify_playlist.csv'\n",
    "auto_ml_ds = TabularDatasetFactory.from_delimited_files(path=auto_ml_url_path)\n",
    "\n",
    "auto_ml_ds = auto_ml_ds.register(workspace=ws,\n",
    "                                 name='auto_ml_ds',\n",
    "                                 description='auto_ml experiment training data')\n",
    "\n",
    "auto_ml_df = auto_ml_ds.to_pandas_dataframe()"
   ]
  },
  {
   "cell_type": "code",
   "execution_count": 6,
   "metadata": {},
   "outputs": [
    {
     "data": {
      "text/html": [
       "<div>\n",
       "<style scoped>\n",
       "    .dataframe tbody tr th:only-of-type {\n",
       "        vertical-align: middle;\n",
       "    }\n",
       "\n",
       "    .dataframe tbody tr th {\n",
       "        vertical-align: top;\n",
       "    }\n",
       "\n",
       "    .dataframe thead th {\n",
       "        text-align: right;\n",
       "    }\n",
       "</style>\n",
       "<table border=\"1\" class=\"dataframe\">\n",
       "  <thead>\n",
       "    <tr style=\"text-align: right;\">\n",
       "      <th></th>\n",
       "      <th>danceability</th>\n",
       "      <th>energy</th>\n",
       "      <th>key</th>\n",
       "      <th>loudness</th>\n",
       "      <th>mode</th>\n",
       "      <th>speechiness</th>\n",
       "      <th>acousticness</th>\n",
       "      <th>instrumentalness</th>\n",
       "      <th>liveness</th>\n",
       "      <th>valence</th>\n",
       "      <th>tempo</th>\n",
       "      <th>liked</th>\n",
       "    </tr>\n",
       "  </thead>\n",
       "  <tbody>\n",
       "    <tr>\n",
       "      <th>0</th>\n",
       "      <td>0.273</td>\n",
       "      <td>0.163</td>\n",
       "      <td>7</td>\n",
       "      <td>-15.889</td>\n",
       "      <td>1</td>\n",
       "      <td>0.0306</td>\n",
       "      <td>0.853</td>\n",
       "      <td>0.000001</td>\n",
       "      <td>0.0835</td>\n",
       "      <td>0.202</td>\n",
       "      <td>68.994</td>\n",
       "      <td>1</td>\n",
       "    </tr>\n",
       "    <tr>\n",
       "      <th>1</th>\n",
       "      <td>0.784</td>\n",
       "      <td>0.750</td>\n",
       "      <td>7</td>\n",
       "      <td>-6.815</td>\n",
       "      <td>1</td>\n",
       "      <td>0.0459</td>\n",
       "      <td>0.233</td>\n",
       "      <td>0.210000</td>\n",
       "      <td>0.1070</td>\n",
       "      <td>0.358</td>\n",
       "      <td>130.024</td>\n",
       "      <td>0</td>\n",
       "    </tr>\n",
       "    <tr>\n",
       "      <th>2</th>\n",
       "      <td>0.572</td>\n",
       "      <td>0.209</td>\n",
       "      <td>8</td>\n",
       "      <td>-10.413</td>\n",
       "      <td>1</td>\n",
       "      <td>0.0313</td>\n",
       "      <td>0.765</td>\n",
       "      <td>0.000000</td>\n",
       "      <td>0.3560</td>\n",
       "      <td>0.446</td>\n",
       "      <td>80.069</td>\n",
       "      <td>1</td>\n",
       "    </tr>\n",
       "    <tr>\n",
       "      <th>3</th>\n",
       "      <td>0.583</td>\n",
       "      <td>0.625</td>\n",
       "      <td>1</td>\n",
       "      <td>-8.011</td>\n",
       "      <td>1</td>\n",
       "      <td>0.2770</td>\n",
       "      <td>0.506</td>\n",
       "      <td>0.000000</td>\n",
       "      <td>0.1960</td>\n",
       "      <td>0.516</td>\n",
       "      <td>89.812</td>\n",
       "      <td>1</td>\n",
       "    </tr>\n",
       "    <tr>\n",
       "      <th>4</th>\n",
       "      <td>0.716</td>\n",
       "      <td>0.712</td>\n",
       "      <td>4</td>\n",
       "      <td>-6.247</td>\n",
       "      <td>1</td>\n",
       "      <td>0.1280</td>\n",
       "      <td>0.218</td>\n",
       "      <td>0.000000</td>\n",
       "      <td>0.1120</td>\n",
       "      <td>0.562</td>\n",
       "      <td>84.978</td>\n",
       "      <td>0</td>\n",
       "    </tr>\n",
       "  </tbody>\n",
       "</table>\n",
       "</div>"
      ],
      "text/plain": [
       "   danceability  energy  key  loudness  mode  speechiness  acousticness  \\\n",
       "0         0.273   0.163    7   -15.889     1       0.0306         0.853   \n",
       "1         0.784   0.750    7    -6.815     1       0.0459         0.233   \n",
       "2         0.572   0.209    8   -10.413     1       0.0313         0.765   \n",
       "3         0.583   0.625    1    -8.011     1       0.2770         0.506   \n",
       "4         0.716   0.712    4    -6.247     1       0.1280         0.218   \n",
       "\n",
       "   instrumentalness  liveness  valence    tempo  liked  \n",
       "0          0.000001    0.0835    0.202   68.994      1  \n",
       "1          0.210000    0.1070    0.358  130.024      0  \n",
       "2          0.000000    0.3560    0.446   80.069      1  \n",
       "3          0.000000    0.1960    0.516   89.812      1  \n",
       "4          0.000000    0.1120    0.562   84.978      0  "
      ]
     },
     "execution_count": 6,
     "metadata": {},
     "output_type": "execute_result"
    }
   ],
   "source": [
    "auto_ml_df.head()"
   ]
  },
  {
   "cell_type": "markdown",
   "metadata": {},
   "source": [
    "### Splitting the Data into a training and test set"
   ]
  },
  {
   "cell_type": "code",
   "execution_count": 7,
   "metadata": {},
   "outputs": [],
   "source": [
    "X_train, X_test = train_test_split(auto_ml_df, test_size=0.2, random_state=15)"
   ]
  },
  {
   "cell_type": "markdown",
   "metadata": {},
   "source": [
    "# Setting up the AutoML config"
   ]
  },
  {
   "cell_type": "markdown",
   "metadata": {},
   "source": [
    "An early `stopping_policy` was set to `True` so that underperforming models could be aborted. The `primary_metric` was set to `AUC_weighted` which is appropriate for classification problems. Automatic featurization of the data was enabled with the data considered to be standardized."
   ]
  },
  {
   "cell_type": "code",
   "execution_count": 8,
   "metadata": {},
   "outputs": [],
   "source": [
    "automl_settings = {\n",
    "    \"enable_early_stopping\": True,\n",
    "    \"primary_metric\": 'AUC_weighted',\n",
    "    \"featurization\": 'auto',\n",
    "    \"n_cross_validations\": 8,\n",
    "}"
   ]
  },
  {
   "cell_type": "markdown",
   "metadata": {},
   "source": [
    "`experiment_timeout_minutes` was set to 30 in order to minimize run cost, with the `task` selected as a `classfication` task. This is because our target variable will either be **True** or **False**"
   ]
  },
  {
   "cell_type": "code",
   "execution_count": 9,
   "metadata": {},
   "outputs": [],
   "source": [
    "\n",
    "automl_config = AutoMLConfig(\n",
    "    experiment_timeout_minutes=30,\n",
    "    task=\"classification\",\n",
    "    training_data=X_train,\n",
    "    label_column_name=\"liked\",**automl_settings)"
   ]
  },
  {
   "cell_type": "code",
   "execution_count": 10,
   "metadata": {
    "gather": {
     "logged": 1598423890461
    },
    "jupyter": {
     "outputs_hidden": false,
     "source_hidden": false
    },
    "nteract": {
     "transient": {
      "deleting": false
     }
    }
   },
   "outputs": [
    {
     "name": "stdout",
     "output_type": "stream",
     "text": [
      "No run_configuration provided, running on local with default configuration\n",
      "Running in the active local environment.\n"
     ]
    },
    {
     "data": {
      "text/html": [
       "<table style=\"width:100%\"><tr><th>Experiment</th><th>Id</th><th>Type</th><th>Status</th><th>Details Page</th><th>Docs Page</th></tr><tr><td>auto_ml_experiment</td><td>AutoML_aa40e30d-67bd-4ec0-bfd1-a73363f924b1</td><td>automl</td><td>Preparing</td><td><a href=\"https://ml.azure.com/runs/AutoML_aa40e30d-67bd-4ec0-bfd1-a73363f924b1?wsid=/subscriptions/d7f39349-a66b-446e-aba6-0053c2cf1c11/resourcegroups/aml-quickstarts-159976/workspaces/quick-starts-ws-159976&amp;tid=660b3398-b80e-49d2-bc5b-ac1dc93b5254\" target=\"_blank\" rel=\"noopener\">Link to Azure Machine Learning studio</a></td><td><a href=\"https://docs.microsoft.com/en-us/python/api/overview/azure/ml/intro?view=azure-ml-py\" target=\"_blank\" rel=\"noopener\">Link to Documentation</a></td></tr></table>"
      ],
      "text/plain": [
       "<IPython.core.display.HTML object>"
      ]
     },
     "metadata": {},
     "output_type": "display_data"
    },
    {
     "name": "stdout",
     "output_type": "stream",
     "text": [
      "Current status: DatasetEvaluation. Gathering dataset statistics.\n",
      "Current status: FeaturesGeneration. Generating features for the dataset.\n",
      "Current status: DatasetFeaturization. Beginning to fit featurizers and featurize the dataset.\n",
      "Current status: DatasetFeaturizationCompleted. Completed fit featurizers and featurizing the dataset.\n",
      "Current status: DatasetCrossValidationSplit. Generating individually featurized CV splits.\n",
      "\n",
      "****************************************************************************************************\n",
      "DATA GUARDRAILS: \n",
      "\n",
      "TYPE:         Class balancing detection\n",
      "STATUS:       PASSED\n",
      "DESCRIPTION:  Your inputs were analyzed, and all classes are balanced in your training data.\n",
      "              Learn more about imbalanced data: https://aka.ms/AutomatedMLImbalancedData\n",
      "\n",
      "****************************************************************************************************\n",
      "\n",
      "TYPE:         Missing feature values imputation\n",
      "STATUS:       PASSED\n",
      "DESCRIPTION:  No feature missing values were detected in the training data.\n",
      "              Learn more about missing value imputation: https://aka.ms/AutomatedMLFeaturization\n",
      "\n",
      "****************************************************************************************************\n",
      "\n",
      "TYPE:         High cardinality feature detection\n",
      "STATUS:       PASSED\n",
      "DESCRIPTION:  Your inputs were analyzed, and no high cardinality features were detected.\n",
      "              Learn more about high cardinality feature handling: https://aka.ms/AutomatedMLFeaturization\n",
      "\n",
      "****************************************************************************************************\n",
      "Current status: ModelSelection. Beginning model selection.\n",
      "\n",
      "****************************************************************************************************\n",
      "ITERATION: The iteration being evaluated.\n",
      "PIPELINE: A summary description of the pipeline being evaluated.\n",
      "DURATION: Time taken for the current iteration.\n",
      "METRIC: The result of computing score on the fitted pipeline.\n",
      "BEST: The best observed score thus far.\n",
      "****************************************************************************************************\n",
      "\n",
      " ITERATION   PIPELINE                                       DURATION      METRIC      BEST\n",
      "         0   MaxAbsScaler LightGBM                          0:00:25       0.8530    0.8530\n",
      "         1   MaxAbsScaler XGBoostClassifier                 0:00:25       0.8828    0.8828\n",
      "         2   MaxAbsScaler ExtremeRandomTrees                0:00:25       0.8241    0.8828\n",
      "         3   MaxAbsScaler RandomForest                      0:00:24       0.8300    0.8828\n",
      "         4   StandardScalerWrapper LightGBM                 0:00:25       0.8333    0.8828\n",
      "         5   StandardScalerWrapper KNN                      0:00:25       0.7104    0.8828\n",
      "         6   SparseNormalizer XGBoostClassifier             0:00:24       0.8685    0.8828\n",
      "         7   SparseNormalizer RandomForest                  0:00:26       0.8607    0.8828\n",
      "         8   RobustScaler KNN                               0:00:25       0.8220    0.8828\n",
      "         9   MinMaxScaler RandomForest                      0:00:26       0.8710    0.8828\n",
      "        10   StandardScalerWrapper LogisticRegression       0:00:25       0.8421    0.8828\n",
      "        11   StandardScalerWrapper SVM                      0:00:25       0.7980    0.8828\n",
      "        12   StandardScalerWrapper XGBoostClassifier        0:00:24       0.8265    0.8828\n",
      "        13   SparseNormalizer KNN                           0:00:27       0.7447    0.8828\n",
      "        14   RobustScaler ExtremeRandomTrees                0:00:25       0.8461    0.8828\n",
      "        15   SparseNormalizer XGBoostClassifier             0:00:25       0.8407    0.8828\n",
      "        16   MinMaxScaler ExtremeRandomTrees                0:00:26       0.8744    0.8828\n",
      "        17   MinMaxScaler ExtremeRandomTrees                0:00:25       0.8694    0.8828\n",
      "        18   SparseNormalizer LightGBM                      0:00:24       0.8786    0.8828\n",
      "        19   MaxAbsScaler ExtremeRandomTrees                0:00:33       0.8742    0.8828\n",
      "        20   StandardScalerWrapper XGBoostClassifier        0:00:25       0.8624    0.8828\n",
      "        21   StandardScalerWrapper RandomForest             0:00:27       0.8755    0.8828\n",
      "        22   StandardScalerWrapper LogisticRegression       0:00:26       0.8422    0.8828\n",
      "        23   RobustScaler SVM                               0:00:27       0.8066    0.8828\n",
      "        24   StandardScalerWrapper SVM                      0:00:27       0.8438    0.8828\n",
      "        25   PCA XGBoostClassifier                          0:00:25       0.5687    0.8828\n",
      "        26   StandardScalerWrapper SVM                      0:00:26       0.8461    0.8828\n",
      "        27   MinMaxScaler LogisticRegression                0:00:26       0.8553    0.8828\n",
      "        28   StandardScalerWrapper XGBoostClassifier        0:00:26       0.8614    0.8828\n",
      "        29   StandardScalerWrapper GradientBoosting         0:00:31       0.8495    0.8828\n",
      "        30   VotingEnsemble                                 0:00:35       0.9025    0.9025\n",
      "        31   StackEnsemble                                  0:00:40       0.8957    0.9025\n",
      "Stopping criteria reached at iteration 32. Ending experiment.\n",
      "****************************************************************************************************\n",
      "Current status: BestRunExplainModel. Best run model explanations started\n",
      "Current status: ModelExplanationDataSetSetup. Model explanations data setup completed\n",
      "Current status: PickSurrogateModel. Choosing LightGBM as the surrogate model for explanations\n",
      "Current status: EngineeredFeatureExplanations. Computation of engineered features started\n",
      "Current status: EngineeredFeatureExplanations. Computation of engineered features completed\n",
      "Current status: RawFeaturesExplanations. Computation of raw features started\n",
      "Current status: RawFeaturesExplanations. Computation of raw features completed\n",
      "Current status: BestRunExplainModel. Best run model explanations completed\n",
      "****************************************************************************************************\n"
     ]
    }
   ],
   "source": [
    "#Submitting the experiment\n",
    "\n",
    "auto_ml_experiment=Experiment(ws,\"auto_ml_experiment\")\n",
    "\n",
    "# Submitting the automl run\n",
    "auto_ml_run=auto_ml_experiment.submit(config=automl_config,show_output=True)"
   ]
  },
  {
   "cell_type": "markdown",
   "metadata": {},
   "source": [
    "## Run Details\n",
    "\n",
    "OPTIONAL: Write about the different models trained and their performance. Why do you think some models did better than others?\n",
    "\n",
    "TODO: In the cell below, use the `RunDetails` widget to show the different experiments."
   ]
  },
  {
   "cell_type": "code",
   "execution_count": 11,
   "metadata": {
    "gather": {
     "logged": 1598431121770
    },
    "jupyter": {
     "outputs_hidden": false,
     "source_hidden": false
    },
    "nteract": {
     "transient": {
      "deleting": false
     }
    }
   },
   "outputs": [
    {
     "data": {
      "application/vnd.jupyter.widget-view+json": {
       "model_id": "d0dc7108a4254e2c8c8b4cf1b62b1861",
       "version_major": 2,
       "version_minor": 0
      },
      "text/plain": [
       "_AutoMLWidget(widget_settings={'childWidgetDisplay': 'popup', 'send_telemetry': False, 'log_level': 'INFO', 's…"
      ]
     },
     "metadata": {},
     "output_type": "display_data"
    },
    {
     "data": {
      "application/aml.mini.widget.v1": "{\"status\": \"Completed\", \"workbench_run_details_uri\": \"https://ml.azure.com/runs/AutoML_aa40e30d-67bd-4ec0-bfd1-a73363f924b1?wsid=/subscriptions/d7f39349-a66b-446e-aba6-0053c2cf1c11/resourcegroups/aml-quickstarts-159976/workspaces/quick-starts-ws-159976&tid=660b3398-b80e-49d2-bc5b-ac1dc93b5254\", \"run_id\": \"AutoML_aa40e30d-67bd-4ec0-bfd1-a73363f924b1\", \"run_properties\": {\"run_id\": \"AutoML_aa40e30d-67bd-4ec0-bfd1-a73363f924b1\", \"created_utc\": \"2021-10-04T11:43:59.187721Z\", \"properties\": {\"num_iterations\": \"1000\", \"training_type\": \"TrainFull\", \"acquisition_function\": \"EI\", \"primary_metric\": \"AUC_weighted\", \"train_split\": \"0\", \"acquisition_parameter\": \"0\", \"num_cross_validation\": \"8\", \"target\": \"local\", \"AMLSettingsJsonString\": \"{\\\"path\\\":null,\\\"name\\\":\\\"auto_ml_experiment\\\",\\\"subscription_id\\\":\\\"d7f39349-a66b-446e-aba6-0053c2cf1c11\\\",\\\"resource_group\\\":\\\"aml-quickstarts-159976\\\",\\\"workspace_name\\\":\\\"quick-starts-ws-159976\\\",\\\"region\\\":\\\"southcentralus\\\",\\\"compute_target\\\":\\\"local\\\",\\\"spark_service\\\":null,\\\"azure_service\\\":\\\"Microsoft.AzureNotebookVM\\\",\\\"many_models\\\":false,\\\"pipeline_fetch_max_batch_size\\\":1,\\\"enable_batch_run\\\":false,\\\"enable_run_restructure\\\":false,\\\"start_auxiliary_runs_before_parent_complete\\\":false,\\\"enable_code_generation\\\":false,\\\"iterations\\\":1000,\\\"primary_metric\\\":\\\"AUC_weighted\\\",\\\"task_type\\\":\\\"classification\\\",\\\"data_script\\\":null,\\\"test_size\\\":0.0,\\\"test_include_predictions_only\\\":false,\\\"validation_size\\\":0.0,\\\"n_cross_validations\\\":8,\\\"y_min\\\":null,\\\"y_max\\\":null,\\\"num_classes\\\":null,\\\"featurization\\\":\\\"auto\\\",\\\"_ignore_package_version_incompatibilities\\\":false,\\\"is_timeseries\\\":false,\\\"max_cores_per_iteration\\\":1,\\\"max_concurrent_iterations\\\":1,\\\"iteration_timeout_minutes\\\":null,\\\"mem_in_mb\\\":null,\\\"enforce_time_on_windows\\\":false,\\\"experiment_timeout_minutes\\\":30,\\\"experiment_exit_score\\\":null,\\\"whitelist_models\\\":null,\\\"blacklist_algos\\\":[\\\"TensorFlowLinearClassifier\\\",\\\"TensorFlowDNN\\\"],\\\"supported_models\\\":[\\\"LightGBM\\\",\\\"SVM\\\",\\\"RandomForest\\\",\\\"MultinomialNaiveBayes\\\",\\\"DecisionTree\\\",\\\"ExtremeRandomTrees\\\",\\\"TensorFlowDNN\\\",\\\"TensorFlowLinearClassifier\\\",\\\"GradientBoosting\\\",\\\"LogisticRegression\\\",\\\"XGBoostClassifier\\\",\\\"AveragedPerceptronClassifier\\\",\\\"BernoulliNaiveBayes\\\",\\\"SGD\\\",\\\"LinearSVM\\\",\\\"KNN\\\"],\\\"private_models\\\":[],\\\"auto_blacklist\\\":true,\\\"blacklist_samples_reached\\\":false,\\\"exclude_nan_labels\\\":true,\\\"verbosity\\\":20,\\\"_debug_log\\\":\\\"automl.log\\\",\\\"show_warnings\\\":false,\\\"model_explainability\\\":true,\\\"service_url\\\":null,\\\"sdk_url\\\":null,\\\"sdk_packages\\\":null,\\\"enable_onnx_compatible_models\\\":false,\\\"enable_split_onnx_featurizer_estimator_models\\\":false,\\\"vm_type\\\":null,\\\"telemetry_verbosity\\\":20,\\\"send_telemetry\\\":true,\\\"enable_dnn\\\":false,\\\"scenario\\\":\\\"SDK-1.13.0\\\",\\\"environment_label\\\":null,\\\"save_mlflow\\\":false,\\\"force_text_dnn\\\":false,\\\"enable_feature_sweeping\\\":true,\\\"enable_early_stopping\\\":true,\\\"early_stopping_n_iters\\\":10,\\\"metrics\\\":null,\\\"enable_metric_confidence\\\":false,\\\"enable_ensembling\\\":true,\\\"enable_stack_ensembling\\\":true,\\\"ensemble_iterations\\\":15,\\\"enable_tf\\\":false,\\\"enable_subsampling\\\":null,\\\"subsample_seed\\\":null,\\\"enable_nimbusml\\\":false,\\\"enable_streaming\\\":false,\\\"force_streaming\\\":false,\\\"track_child_runs\\\":true,\\\"allowed_private_models\\\":[],\\\"label_column_name\\\":\\\"liked\\\",\\\"weight_column_name\\\":null,\\\"cv_split_column_names\\\":null,\\\"positive_label\\\":null,\\\"enable_local_managed\\\":false,\\\"_local_managed_run_id\\\":null,\\\"cost_mode\\\":1,\\\"lag_length\\\":0,\\\"metric_operation\\\":\\\"maximize\\\",\\\"preprocess\\\":true}\", \"DataPrepJsonString\": null, \"EnableSubsampling\": null, \"runTemplate\": \"AutoML\", \"azureml.runsource\": \"automl\", \"display_task_type\": \"classification\", \"dependencies_versions\": \"{\\\"azureml-widgets\\\": \\\"1.34.0\\\", \\\"azureml-train\\\": \\\"1.34.0\\\", \\\"azureml-train-restclients-hyperdrive\\\": \\\"1.34.0\\\", \\\"azureml-train-core\\\": \\\"1.34.0\\\", \\\"azureml-train-automl\\\": \\\"1.34.0\\\", \\\"azureml-train-automl-runtime\\\": \\\"1.34.0\\\", \\\"azureml-train-automl-client\\\": \\\"1.34.0\\\", \\\"azureml-tensorboard\\\": \\\"1.34.0\\\", \\\"azureml-telemetry\\\": \\\"1.34.0\\\", \\\"azureml-sdk\\\": \\\"1.34.0\\\", \\\"azureml-samples\\\": \\\"0+unknown\\\", \\\"azureml-responsibleai\\\": \\\"1.34.0\\\", \\\"azureml-pipeline\\\": \\\"1.34.0\\\", \\\"azureml-pipeline-steps\\\": \\\"1.34.0\\\", \\\"azureml-pipeline-core\\\": \\\"1.34.0\\\", \\\"azureml-opendatasets\\\": \\\"1.34.0\\\", \\\"azureml-mlflow\\\": \\\"1.34.0\\\", \\\"azureml-interpret\\\": \\\"1.34.0\\\", \\\"azureml-inference-server-http\\\": \\\"0.3.1\\\", \\\"azureml-explain-model\\\": \\\"1.34.0\\\", \\\"azureml-defaults\\\": \\\"1.34.0\\\", \\\"azureml-dataset-runtime\\\": \\\"1.34.0\\\", \\\"azureml-dataprep\\\": \\\"2.22.2\\\", \\\"azureml-dataprep-rslex\\\": \\\"1.20.1\\\", \\\"azureml-dataprep-native\\\": \\\"38.0.0\\\", \\\"azureml-datadrift\\\": \\\"1.34.0\\\", \\\"azureml-core\\\": \\\"1.34.0\\\", \\\"azureml-contrib-services\\\": \\\"1.34.0\\\", \\\"azureml-contrib-server\\\": \\\"1.34.0\\\", \\\"azureml-contrib-reinforcementlearning\\\": \\\"1.34.0\\\", \\\"azureml-contrib-pipeline-steps\\\": \\\"1.34.0\\\", \\\"azureml-contrib-notebook\\\": \\\"1.34.0\\\", \\\"azureml-contrib-fairness\\\": \\\"1.34.0\\\", \\\"azureml-contrib-dataset\\\": \\\"1.34.0\\\", \\\"azureml-contrib-automl-pipeline-steps\\\": \\\"1.34.0\\\", \\\"azureml-cli-common\\\": \\\"1.34.0\\\", \\\"azureml-automl-runtime\\\": \\\"1.34.0\\\", \\\"azureml-automl-dnn-nlp\\\": \\\"1.34.0\\\", \\\"azureml-automl-core\\\": \\\"1.34.0\\\", \\\"azureml-accel-models\\\": \\\"1.34.0\\\"}\", \"_aml_system_scenario_identification\": \"Local.Parent\", \"ClientSdkVersion\": \"1.34.0\", \"ClientType\": \"SDK\", \"environment_cpu_name\": \"AzureML-AutoML\", \"environment_cpu_label\": \"prod\", \"environment_gpu_name\": \"AzureML-AutoML-GPU\", \"environment_gpu_label\": \"prod\", \"root_attribution\": \"automl\", \"attribution\": \"AutoML\", \"Orchestrator\": \"AutoML\", \"_azureml.ComputeTargetType\": \"local\", \"ProblemInfoJsonString\": \"{\\\"dataset_num_categorical\\\": 0, \\\"is_sparse\\\": false, \\\"subsampling\\\": false, \\\"has_extra_col\\\": true, \\\"dataset_classes\\\": 2, \\\"dataset_features\\\": 11, \\\"dataset_samples\\\": 160, \\\"single_frequency_class_detected\\\": false}\"}, \"tags\": {\"model_explain_run\": \"best_run\", \"best_score\": \"0.9025013875013874\", \"best_pipeline\": \"VotingEnsemble\", \"automl_best_child_run_id\": \"AutoML_aa40e30d-67bd-4ec0-bfd1-a73363f924b1_30\", \"model_explain_best_run_child_id\": \"AutoML_aa40e30d-67bd-4ec0-bfd1-a73363f924b1_30\"}, \"end_time_utc\": \"2021-10-04T11:59:27.64852Z\", \"status\": \"Completed\", \"log_files\": {}, \"log_groups\": [], \"run_duration\": \"0:15:28\", \"run_number\": \"1\", \"run_queued_details\": {\"status\": \"Completed\", \"details\": null}}, \"child_runs\": [{\"run_id\": \"AutoML_aa40e30d-67bd-4ec0-bfd1-a73363f924b1_0\", \"run_number\": 2, \"metric\": null, \"status\": \"Completed\", \"run_type\": null, \"training_percent\": \"100\", \"start_time\": \"2021-10-04T11:44:18.488504Z\", \"end_time\": \"2021-10-04T11:44:43.833731Z\", \"created_time\": \"2021-10-04T11:44:18.353714Z\", \"created_time_dt\": \"2021-10-04T11:44:18.353714Z\", \"duration\": \"0:00:25\", \"iteration\": \"0\", \"goal\": \"AUC_weighted_max\", \"run_name\": \"MaxAbsScaler, LightGBM\", \"run_properties\": \"copy=True\", \"primary_metric\": 0.85302156, \"best_metric\": 0.85302156}, {\"run_id\": \"AutoML_aa40e30d-67bd-4ec0-bfd1-a73363f924b1_1\", \"run_number\": 3, \"metric\": null, \"status\": \"Completed\", \"run_type\": null, \"training_percent\": \"100\", \"start_time\": \"2021-10-04T11:44:44.187537Z\", \"end_time\": \"2021-10-04T11:45:09.505292Z\", \"created_time\": \"2021-10-04T11:44:44.057063Z\", \"created_time_dt\": \"2021-10-04T11:44:44.057063Z\", \"duration\": \"0:00:25\", \"iteration\": \"1\", \"goal\": \"AUC_weighted_max\", \"run_name\": \"MaxAbsScaler, XGBoostClassifier\", \"run_properties\": \"copy=True\", \"primary_metric\": 0.8828423, \"best_metric\": 0.8828423}, {\"run_id\": \"AutoML_aa40e30d-67bd-4ec0-bfd1-a73363f924b1_2\", \"run_number\": 4, \"metric\": null, \"status\": \"Completed\", \"run_type\": null, \"training_percent\": \"100\", \"start_time\": \"2021-10-04T11:45:10.344111Z\", \"end_time\": \"2021-10-04T11:45:35.572359Z\", \"created_time\": \"2021-10-04T11:45:10.202849Z\", \"created_time_dt\": \"2021-10-04T11:45:10.202849Z\", \"duration\": \"0:00:25\", \"iteration\": \"2\", \"goal\": \"AUC_weighted_max\", \"run_name\": \"MaxAbsScaler, ExtremeRandomTrees\", \"run_properties\": \"copy=True\", \"primary_metric\": 0.82405359, \"best_metric\": 0.8828423}, {\"run_id\": \"AutoML_aa40e30d-67bd-4ec0-bfd1-a73363f924b1_3\", \"run_number\": 5, \"metric\": null, \"status\": \"Completed\", \"run_type\": null, \"training_percent\": \"100\", \"start_time\": \"2021-10-04T11:45:37.108014Z\", \"end_time\": \"2021-10-04T11:46:01.950132Z\", \"created_time\": \"2021-10-04T11:45:36.944141Z\", \"created_time_dt\": \"2021-10-04T11:45:36.944141Z\", \"duration\": \"0:00:25\", \"iteration\": \"3\", \"goal\": \"AUC_weighted_max\", \"run_name\": \"MaxAbsScaler, RandomForest\", \"run_properties\": \"copy=True\", \"primary_metric\": 0.82995289, \"best_metric\": 0.8828423}, {\"run_id\": \"AutoML_aa40e30d-67bd-4ec0-bfd1-a73363f924b1_4\", \"run_number\": 6, \"metric\": null, \"status\": \"Completed\", \"run_type\": null, \"training_percent\": \"100\", \"start_time\": \"2021-10-04T11:46:03.410486Z\", \"end_time\": \"2021-10-04T11:46:28.461982Z\", \"created_time\": \"2021-10-04T11:46:03.252462Z\", \"created_time_dt\": \"2021-10-04T11:46:03.252462Z\", \"duration\": \"0:00:25\", \"iteration\": \"4\", \"goal\": \"AUC_weighted_max\", \"run_name\": \"StandardScalerWrapper, LightGBM\", \"run_properties\": \"\\n    copy=True,\\n    with_mean=False,\\n    with_std=True\\n\", \"primary_metric\": 0.83325147, \"best_metric\": 0.8828423}, {\"run_id\": \"AutoML_aa40e30d-67bd-4ec0-bfd1-a73363f924b1_5\", \"run_number\": 7, \"metric\": null, \"status\": \"Completed\", \"run_type\": null, \"training_percent\": \"100\", \"start_time\": \"2021-10-04T11:46:30.308276Z\", \"end_time\": \"2021-10-04T11:46:55.576392Z\", \"created_time\": \"2021-10-04T11:46:30.175476Z\", \"created_time_dt\": \"2021-10-04T11:46:30.175476Z\", \"duration\": \"0:00:25\", \"iteration\": \"5\", \"goal\": \"AUC_weighted_max\", \"run_name\": \"StandardScalerWrapper, KNN\", \"run_properties\": \"\\n    copy=True,\\n    with_mean=True,\\n    with_std=False\\n\", \"primary_metric\": 0.71038142, \"best_metric\": 0.8828423}, {\"run_id\": \"AutoML_aa40e30d-67bd-4ec0-bfd1-a73363f924b1_6\", \"run_number\": 8, \"metric\": null, \"status\": \"Completed\", \"run_type\": null, \"training_percent\": \"100\", \"start_time\": \"2021-10-04T11:46:57.071839Z\", \"end_time\": \"2021-10-04T11:47:21.686517Z\", \"created_time\": \"2021-10-04T11:46:56.935111Z\", \"created_time_dt\": \"2021-10-04T11:46:56.935111Z\", \"duration\": \"0:00:24\", \"iteration\": \"6\", \"goal\": \"AUC_weighted_max\", \"run_name\": \"SparseNormalizer, XGBoostClassifier\", \"run_properties\": \"copy=True, norm='max'\", \"primary_metric\": 0.86846945, \"best_metric\": 0.8828423}, {\"run_id\": \"AutoML_aa40e30d-67bd-4ec0-bfd1-a73363f924b1_7\", \"run_number\": 9, \"metric\": null, \"status\": \"Completed\", \"run_type\": null, \"training_percent\": \"100\", \"start_time\": \"2021-10-04T11:47:23.056305Z\", \"end_time\": \"2021-10-04T11:47:49.433832Z\", \"created_time\": \"2021-10-04T11:47:22.921704Z\", \"created_time_dt\": \"2021-10-04T11:47:22.921704Z\", \"duration\": \"0:00:26\", \"iteration\": \"7\", \"goal\": \"AUC_weighted_max\", \"run_name\": \"SparseNormalizer, RandomForest\", \"run_properties\": \"copy=True, norm='l2'\", \"primary_metric\": 0.86071859, \"best_metric\": 0.8828423}, {\"run_id\": \"AutoML_aa40e30d-67bd-4ec0-bfd1-a73363f924b1_8\", \"run_number\": 10, \"metric\": null, \"status\": \"Completed\", \"run_type\": null, \"training_percent\": \"100\", \"start_time\": \"2021-10-04T11:47:50.92426Z\", \"end_time\": \"2021-10-04T11:48:16.655629Z\", \"created_time\": \"2021-10-04T11:47:50.763715Z\", \"created_time_dt\": \"2021-10-04T11:47:50.763715Z\", \"duration\": \"0:00:25\", \"iteration\": \"8\", \"goal\": \"AUC_weighted_max\", \"run_name\": \"RobustScaler, KNN\", \"run_properties\": \"copy=True, quantile_range=[25, 75], with_centering=False,\\n             with_scaling=True\", \"primary_metric\": 0.82195194, \"best_metric\": 0.8828423}, {\"run_id\": \"AutoML_aa40e30d-67bd-4ec0-bfd1-a73363f924b1_9\", \"run_number\": 11, \"metric\": null, \"status\": \"Completed\", \"run_type\": null, \"training_percent\": \"100\", \"start_time\": \"2021-10-04T11:48:18.241345Z\", \"end_time\": \"2021-10-04T11:48:44.647863Z\", \"created_time\": \"2021-10-04T11:48:18.104007Z\", \"created_time_dt\": \"2021-10-04T11:48:18.104007Z\", \"duration\": \"0:00:26\", \"iteration\": \"9\", \"goal\": \"AUC_weighted_max\", \"run_name\": \"MinMaxScaler, RandomForest\", \"run_properties\": \"copy=True, feature_range=(0, 1\", \"primary_metric\": 0.87101745, \"best_metric\": 0.8828423}, {\"run_id\": \"AutoML_aa40e30d-67bd-4ec0-bfd1-a73363f924b1_10\", \"run_number\": 12, \"metric\": null, \"status\": \"Completed\", \"run_type\": null, \"training_percent\": \"100\", \"start_time\": \"2021-10-04T11:48:46.113746Z\", \"end_time\": \"2021-10-04T11:49:11.287883Z\", \"created_time\": \"2021-10-04T11:48:45.980644Z\", \"created_time_dt\": \"2021-10-04T11:48:45.980644Z\", \"duration\": \"0:00:25\", \"iteration\": \"10\", \"goal\": \"AUC_weighted_max\", \"run_name\": \"StandardScalerWrapper, LogisticRegression\", \"run_properties\": \"\\n    copy=True,\\n    with_mean=True,\\n    with_std=True\\n\", \"primary_metric\": 0.84209638, \"best_metric\": 0.8828423}, {\"run_id\": \"AutoML_aa40e30d-67bd-4ec0-bfd1-a73363f924b1_11\", \"run_number\": 13, \"metric\": null, \"status\": \"Completed\", \"run_type\": null, \"training_percent\": \"100\", \"start_time\": \"2021-10-04T11:49:12.715352Z\", \"end_time\": \"2021-10-04T11:49:37.782804Z\", \"created_time\": \"2021-10-04T11:49:12.585699Z\", \"created_time_dt\": \"2021-10-04T11:49:12.585699Z\", \"duration\": \"0:00:25\", \"iteration\": \"11\", \"goal\": \"AUC_weighted_max\", \"run_name\": \"StandardScalerWrapper, SVM\", \"run_properties\": \"\\n    copy=True,\\n    with_mean=True,\\n    with_std=True\\n\", \"primary_metric\": 0.79798479, \"best_metric\": 0.8828423}, {\"run_id\": \"AutoML_aa40e30d-67bd-4ec0-bfd1-a73363f924b1_12\", \"run_number\": 14, \"metric\": null, \"status\": \"Completed\", \"run_type\": null, \"training_percent\": \"100\", \"start_time\": \"2021-10-04T11:49:39.259262Z\", \"end_time\": \"2021-10-04T11:50:03.828739Z\", \"created_time\": \"2021-10-04T11:49:39.122565Z\", \"created_time_dt\": \"2021-10-04T11:49:39.122565Z\", \"duration\": \"0:00:24\", \"iteration\": \"12\", \"goal\": \"AUC_weighted_max\", \"run_name\": \"StandardScalerWrapper, XGBoostClassifier\", \"run_properties\": \"\\n    copy=True,\\n    with_mean=False,\\n    with_std=False\\n\", \"primary_metric\": 0.82651876, \"best_metric\": 0.8828423}, {\"run_id\": \"AutoML_aa40e30d-67bd-4ec0-bfd1-a73363f924b1_13\", \"run_number\": 15, \"metric\": null, \"status\": \"Completed\", \"run_type\": null, \"training_percent\": \"100\", \"start_time\": \"2021-10-04T11:50:05.315741Z\", \"end_time\": \"2021-10-04T11:50:32.250708Z\", \"created_time\": \"2021-10-04T11:50:05.170297Z\", \"created_time_dt\": \"2021-10-04T11:50:05.170297Z\", \"duration\": \"0:00:27\", \"iteration\": \"13\", \"goal\": \"AUC_weighted_max\", \"run_name\": \"SparseNormalizer, KNN\", \"run_properties\": \"copy=True, norm='max'\", \"primary_metric\": 0.74465451, \"best_metric\": 0.8828423}, {\"run_id\": \"AutoML_aa40e30d-67bd-4ec0-bfd1-a73363f924b1_14\", \"run_number\": 16, \"metric\": null, \"status\": \"Completed\", \"run_type\": null, \"training_percent\": \"100\", \"start_time\": \"2021-10-04T11:50:33.976045Z\", \"end_time\": \"2021-10-04T11:50:59.54768Z\", \"created_time\": \"2021-10-04T11:50:33.836677Z\", \"created_time_dt\": \"2021-10-04T11:50:33.836677Z\", \"duration\": \"0:00:25\", \"iteration\": \"14\", \"goal\": \"AUC_weighted_max\", \"run_name\": \"RobustScaler, ExtremeRandomTrees\", \"run_properties\": \"copy=True, quantile_range=[10, 90], with_centering=True,\\n             with_scaling=False\", \"primary_metric\": 0.84606851, \"best_metric\": 0.8828423}, {\"run_id\": \"AutoML_aa40e30d-67bd-4ec0-bfd1-a73363f924b1_15\", \"run_number\": 17, \"metric\": null, \"status\": \"Completed\", \"run_type\": null, \"training_percent\": \"100\", \"start_time\": \"2021-10-04T11:51:01.071726Z\", \"end_time\": \"2021-10-04T11:51:26.295209Z\", \"created_time\": \"2021-10-04T11:51:00.901204Z\", \"created_time_dt\": \"2021-10-04T11:51:00.901204Z\", \"duration\": \"0:00:25\", \"iteration\": \"15\", \"goal\": \"AUC_weighted_max\", \"run_name\": \"SparseNormalizer, XGBoostClassifier\", \"run_properties\": \"copy=True, norm='max'\", \"primary_metric\": 0.84074911, \"best_metric\": 0.8828423}, {\"run_id\": \"AutoML_aa40e30d-67bd-4ec0-bfd1-a73363f924b1_16\", \"run_number\": 18, \"metric\": null, \"status\": \"Completed\", \"run_type\": null, \"training_percent\": \"100\", \"start_time\": \"2021-10-04T11:51:27.791578Z\", \"end_time\": \"2021-10-04T11:51:54.635485Z\", \"created_time\": \"2021-10-04T11:51:27.621893Z\", \"created_time_dt\": \"2021-10-04T11:51:27.621893Z\", \"duration\": \"0:00:27\", \"iteration\": \"16\", \"goal\": \"AUC_weighted_max\", \"run_name\": \"MinMaxScaler, ExtremeRandomTrees\", \"run_properties\": \"copy=True, feature_range=(0, 1\", \"primary_metric\": 0.87441475, \"best_metric\": 0.8828423}, {\"run_id\": \"AutoML_aa40e30d-67bd-4ec0-bfd1-a73363f924b1_17\", \"run_number\": 19, \"metric\": null, \"status\": \"Completed\", \"run_type\": null, \"training_percent\": \"100\", \"start_time\": \"2021-10-04T11:51:56.039196Z\", \"end_time\": \"2021-10-04T11:52:21.847859Z\", \"created_time\": \"2021-10-04T11:51:55.890015Z\", \"created_time_dt\": \"2021-10-04T11:51:55.890015Z\", \"duration\": \"0:00:25\", \"iteration\": \"17\", \"goal\": \"AUC_weighted_max\", \"run_name\": \"MinMaxScaler, ExtremeRandomTrees\", \"run_properties\": \"copy=True, feature_range=(0, 1\", \"primary_metric\": 0.86941829, \"best_metric\": 0.8828423}, {\"run_id\": \"AutoML_aa40e30d-67bd-4ec0-bfd1-a73363f924b1_18\", \"run_number\": 20, \"metric\": null, \"status\": \"Completed\", \"run_type\": null, \"training_percent\": \"100\", \"start_time\": \"2021-10-04T11:52:23.329989Z\", \"end_time\": \"2021-10-04T11:52:47.540032Z\", \"created_time\": \"2021-10-04T11:52:23.190062Z\", \"created_time_dt\": \"2021-10-04T11:52:23.190062Z\", \"duration\": \"0:00:24\", \"iteration\": \"18\", \"goal\": \"AUC_weighted_max\", \"run_name\": \"SparseNormalizer, LightGBM\", \"run_properties\": \"copy=True, norm='l1'\", \"primary_metric\": 0.87863789, \"best_metric\": 0.8828423}, {\"run_id\": \"AutoML_aa40e30d-67bd-4ec0-bfd1-a73363f924b1_19\", \"run_number\": 21, \"metric\": null, \"status\": \"Completed\", \"run_type\": null, \"training_percent\": \"100\", \"start_time\": \"2021-10-04T11:52:48.89573Z\", \"end_time\": \"2021-10-04T11:53:22.534796Z\", \"created_time\": \"2021-10-04T11:52:48.747466Z\", \"created_time_dt\": \"2021-10-04T11:52:48.747466Z\", \"duration\": \"0:00:33\", \"iteration\": \"19\", \"goal\": \"AUC_weighted_max\", \"run_name\": \"MaxAbsScaler, ExtremeRandomTrees\", \"run_properties\": \"copy=True\", \"primary_metric\": 0.87416167, \"best_metric\": 0.8828423}, {\"run_id\": \"AutoML_aa40e30d-67bd-4ec0-bfd1-a73363f924b1_20\", \"run_number\": 22, \"metric\": null, \"status\": \"Completed\", \"run_type\": null, \"training_percent\": \"100\", \"start_time\": \"2021-10-04T11:53:24.070943Z\", \"end_time\": \"2021-10-04T11:53:49.951152Z\", \"created_time\": \"2021-10-04T11:53:23.929145Z\", \"created_time_dt\": \"2021-10-04T11:53:23.929145Z\", \"duration\": \"0:00:26\", \"iteration\": \"20\", \"goal\": \"AUC_weighted_max\", \"run_name\": \"StandardScalerWrapper, XGBoostClassifier\", \"run_properties\": \"\\n    copy=True,\\n    with_mean=False,\\n    with_std=False\\n\", \"primary_metric\": 0.86235445, \"best_metric\": 0.8828423}, {\"run_id\": \"AutoML_aa40e30d-67bd-4ec0-bfd1-a73363f924b1_21\", \"run_number\": 23, \"metric\": null, \"status\": \"Completed\", \"run_type\": null, \"training_percent\": \"100\", \"start_time\": \"2021-10-04T11:53:51.396114Z\", \"end_time\": \"2021-10-04T11:54:18.37024Z\", \"created_time\": \"2021-10-04T11:53:51.257329Z\", \"created_time_dt\": \"2021-10-04T11:53:51.257329Z\", \"duration\": \"0:00:27\", \"iteration\": \"21\", \"goal\": \"AUC_weighted_max\", \"run_name\": \"StandardScalerWrapper, RandomForest\", \"run_properties\": \"\\n    copy=True,\\n    with_mean=False,\\n    with_std=False\\n\", \"primary_metric\": 0.87553044, \"best_metric\": 0.8828423}, {\"run_id\": \"AutoML_aa40e30d-67bd-4ec0-bfd1-a73363f924b1_22\", \"run_number\": 24, \"metric\": null, \"status\": \"Completed\", \"run_type\": null, \"training_percent\": \"100\", \"start_time\": \"2021-10-04T11:54:19.8753Z\", \"end_time\": \"2021-10-04T11:54:45.79982Z\", \"created_time\": \"2021-10-04T11:54:19.733906Z\", \"created_time_dt\": \"2021-10-04T11:54:19.733906Z\", \"duration\": \"0:00:26\", \"iteration\": \"22\", \"goal\": \"AUC_weighted_max\", \"run_name\": \"StandardScalerWrapper, LogisticRegression\", \"run_properties\": \"\\n    copy=True,\\n    with_mean=False,\\n    with_std=True\\n\", \"primary_metric\": 0.84217768, \"best_metric\": 0.8828423}, {\"run_id\": \"AutoML_aa40e30d-67bd-4ec0-bfd1-a73363f924b1_23\", \"run_number\": 25, \"metric\": null, \"status\": \"Completed\", \"run_type\": null, \"training_percent\": \"100\", \"start_time\": \"2021-10-04T11:54:47.20685Z\", \"end_time\": \"2021-10-04T11:55:14.481515Z\", \"created_time\": \"2021-10-04T11:54:47.079615Z\", \"created_time_dt\": \"2021-10-04T11:54:47.079615Z\", \"duration\": \"0:00:27\", \"iteration\": \"23\", \"goal\": \"AUC_weighted_max\", \"run_name\": \"RobustScaler, SVM\", \"run_properties\": \"copy=True, quantile_range=[10, 90], with_centering=False,\\n             with_scaling=True\", \"primary_metric\": 0.8065565, \"best_metric\": 0.8828423}, {\"run_id\": \"AutoML_aa40e30d-67bd-4ec0-bfd1-a73363f924b1_24\", \"run_number\": 26, \"metric\": null, \"status\": \"Completed\", \"run_type\": null, \"training_percent\": \"100\", \"start_time\": \"2021-10-04T11:55:16.142803Z\", \"end_time\": \"2021-10-04T11:55:44.008809Z\", \"created_time\": \"2021-10-04T11:55:15.99959Z\", \"created_time_dt\": \"2021-10-04T11:55:15.99959Z\", \"duration\": \"0:00:28\", \"iteration\": \"24\", \"goal\": \"AUC_weighted_max\", \"run_name\": \"StandardScalerWrapper, SVM\", \"run_properties\": \"\\n    copy=True,\\n    with_mean=False,\\n    with_std=True\\n\", \"primary_metric\": 0.84380661, \"best_metric\": 0.8828423}, {\"run_id\": \"AutoML_aa40e30d-67bd-4ec0-bfd1-a73363f924b1_25\", \"run_number\": 27, \"metric\": null, \"status\": \"Completed\", \"run_type\": null, \"training_percent\": \"100\", \"start_time\": \"2021-10-04T11:55:46.528733Z\", \"end_time\": \"2021-10-04T11:56:12.339414Z\", \"created_time\": \"2021-10-04T11:55:46.373218Z\", \"created_time_dt\": \"2021-10-04T11:55:46.373218Z\", \"duration\": \"0:00:25\", \"iteration\": \"25\", \"goal\": \"AUC_weighted_max\", \"run_name\": \"PCA, XGBoostClassifier\", \"run_properties\": \"copy=True, iterated_power='auto', n_components=0.9005263157894737,\\n    random_state=None, svd_solver='auto', tol=0.0, whiten=False\", \"primary_metric\": 0.56865752, \"best_metric\": 0.8828423}, {\"run_id\": \"AutoML_aa40e30d-67bd-4ec0-bfd1-a73363f924b1_26\", \"run_number\": 28, \"metric\": null, \"status\": \"Completed\", \"run_type\": null, \"training_percent\": \"100\", \"start_time\": \"2021-10-04T11:56:13.785502Z\", \"end_time\": \"2021-10-04T11:56:40.492822Z\", \"created_time\": \"2021-10-04T11:56:13.646147Z\", \"created_time_dt\": \"2021-10-04T11:56:13.646147Z\", \"duration\": \"0:00:26\", \"iteration\": \"26\", \"goal\": \"AUC_weighted_max\", \"run_name\": \"StandardScalerWrapper, SVM\", \"run_properties\": \"\\n    copy=True,\\n    with_mean=False,\\n    with_std=True\\n\", \"primary_metric\": 0.84610639, \"best_metric\": 0.8828423}, {\"run_id\": \"AutoML_aa40e30d-67bd-4ec0-bfd1-a73363f924b1_27\", \"run_number\": 29, \"metric\": null, \"status\": \"Completed\", \"run_type\": null, \"training_percent\": \"100\", \"start_time\": \"2021-10-04T11:56:41.844858Z\", \"end_time\": \"2021-10-04T11:57:08.475102Z\", \"created_time\": \"2021-10-04T11:56:41.704725Z\", \"created_time_dt\": \"2021-10-04T11:56:41.704725Z\", \"duration\": \"0:00:26\", \"iteration\": \"27\", \"goal\": \"AUC_weighted_max\", \"run_name\": \"MinMaxScaler, LogisticRegression\", \"run_properties\": \"copy=True, feature_range=(0, 1\", \"primary_metric\": 0.85529817, \"best_metric\": 0.8828423}, {\"run_id\": \"AutoML_aa40e30d-67bd-4ec0-bfd1-a73363f924b1_28\", \"run_number\": 30, \"metric\": null, \"status\": \"Completed\", \"run_type\": null, \"training_percent\": \"100\", \"start_time\": \"2021-10-04T11:57:09.90642Z\", \"end_time\": \"2021-10-04T11:57:36.119364Z\", \"created_time\": \"2021-10-04T11:57:09.735602Z\", \"created_time_dt\": \"2021-10-04T11:57:09.735602Z\", \"duration\": \"0:00:26\", \"iteration\": \"28\", \"goal\": \"AUC_weighted_max\", \"run_name\": \"StandardScalerWrapper, XGBoostClassifier\", \"run_properties\": \"\\n    copy=True,\\n    with_mean=False,\\n    with_std=False\\n\", \"primary_metric\": 0.8613882, \"best_metric\": 0.8828423}, {\"run_id\": \"AutoML_aa40e30d-67bd-4ec0-bfd1-a73363f924b1_29\", \"run_number\": 31, \"metric\": null, \"status\": \"Completed\", \"run_type\": null, \"training_percent\": \"100\", \"start_time\": \"2021-10-04T11:57:38.80259Z\", \"end_time\": \"2021-10-04T11:58:09.855111Z\", \"created_time\": \"2021-10-04T11:57:38.618853Z\", \"created_time_dt\": \"2021-10-04T11:57:38.618853Z\", \"duration\": \"0:00:31\", \"iteration\": \"29\", \"goal\": \"AUC_weighted_max\", \"run_name\": \"StandardScalerWrapper, GradientBoosting\", \"run_properties\": \"\\n    copy=True,\\n    with_mean=False,\\n    with_std=True\\n\", \"primary_metric\": 0.84945374, \"best_metric\": 0.8828423}, {\"run_id\": \"AutoML_aa40e30d-67bd-4ec0-bfd1-a73363f924b1_30\", \"run_number\": 32, \"metric\": null, \"status\": \"Completed\", \"run_type\": null, \"training_percent\": \"100\", \"start_time\": \"2021-10-04T11:58:10.245324Z\", \"end_time\": \"2021-10-04T11:58:46.011445Z\", \"created_time\": \"2021-10-04T11:58:10.105576Z\", \"created_time_dt\": \"2021-10-04T11:58:10.105576Z\", \"duration\": \"0:00:35\", \"iteration\": \"30\", \"goal\": \"AUC_weighted_max\", \"run_name\": \"VotingEnsemble\", \"run_properties\": \"\\n    estimators=[('1', Pipeline(\\n        memory=None,\\n        steps=[('maxabsscaler', MaxAbsScaler(\\n            copy=True\\n        \", \"primary_metric\": 0.90250139, \"best_metric\": 0.90250139}, {\"run_id\": \"AutoML_aa40e30d-67bd-4ec0-bfd1-a73363f924b1_31\", \"run_number\": 33, \"metric\": null, \"status\": \"Completed\", \"run_type\": null, \"training_percent\": \"100\", \"start_time\": \"2021-10-04T11:58:46.430665Z\", \"end_time\": \"2021-10-04T11:59:27.250248Z\", \"created_time\": \"2021-10-04T11:58:46.269505Z\", \"created_time_dt\": \"2021-10-04T11:58:46.269505Z\", \"duration\": \"0:00:40\", \"iteration\": \"31\", \"goal\": \"AUC_weighted_max\", \"run_name\": \"StackEnsemble\", \"run_properties\": \"\\n    base_learners=[('1', Pipeline(\\n        memory=None,\\n        steps=[('maxabsscaler', MaxAbsScaler(\\n            copy=True\\n        \", \"primary_metric\": 0.89573732, \"best_metric\": 0.90250139}], \"children_metrics\": {\"categories\": [0], \"series\": {\"recall_score_micro\": [{\"categories\": [\"0\", \"1\", \"2\", \"3\", \"4\", \"5\", \"6\", \"7\", \"8\", \"9\", \"10\", \"11\", \"12\", \"13\", \"14\", \"15\", \"16\", \"17\", \"18\", \"19\", \"20\", \"21\", \"22\", \"23\", \"24\", \"25\", \"26\", \"27\", \"28\", \"29\", \"30\", \"31\"], \"mode\": \"markers\", \"name\": \"recall_score_micro\", \"stepped\": false, \"type\": \"scatter\", \"data\": [0.7875, 0.76875, 0.71875, 0.71875, 0.73125, 0.6125, 0.7625, 0.76875, 0.725, 0.76875, 0.7375, 0.725, 0.74375, 0.6625, 0.79375, 0.75, 0.79375, 0.79375, 0.8, 0.8, 0.7625, 0.80625, 0.75625, 0.7, 0.7625, 0.5062500000000001, 0.76875, 0.75625, 0.78125, 0.7562500000000001, 0.79375, 0.6812499999999999]}, {\"categories\": [\"0\", \"1\", \"2\", \"3\", \"4\", \"5\", \"6\", \"7\", \"8\", \"9\", \"10\", \"11\", \"12\", \"13\", \"14\", \"15\", \"16\", \"17\", \"18\", \"19\", \"20\", \"21\", \"22\", \"23\", \"24\", \"25\", \"26\", \"27\", \"28\", \"29\", \"30\", \"31\"], \"mode\": \"lines\", \"name\": \"recall_score_micro_max\", \"stepped\": true, \"type\": \"scatter\", \"data\": [0.7875, 0.7875, 0.7875, 0.7875, 0.7875, 0.7875, 0.7875, 0.7875, 0.7875, 0.7875, 0.7875, 0.7875, 0.7875, 0.7875, 0.79375, 0.79375, 0.79375, 0.79375, 0.8, 0.8, 0.8, 0.80625, 0.80625, 0.80625, 0.80625, 0.80625, 0.80625, 0.80625, 0.80625, 0.80625, 0.80625, 0.80625]}], \"recall_score_macro\": [{\"categories\": [\"0\", \"1\", \"2\", \"3\", \"4\", \"5\", \"6\", \"7\", \"8\", \"9\", \"10\", \"11\", \"12\", \"13\", \"14\", \"15\", \"16\", \"17\", \"18\", \"19\", \"20\", \"21\", \"22\", \"23\", \"24\", \"25\", \"26\", \"27\", \"28\", \"29\", \"30\", \"31\"], \"mode\": \"markers\", \"name\": \"recall_score_macro\", \"stepped\": false, \"type\": \"scatter\", \"data\": [0.7986263736263737, 0.7824370074370074, 0.7459630647130647, 0.7288628038628039, 0.7355658230658231, 0.6425518925518926, 0.7798312798312799, 0.7700070762570763, 0.7472000222000221, 0.7914911477411477, 0.7502296314796315, 0.7409389221889222, 0.7691398878898879, 0.678266872016872, 0.805713036963037, 0.7610958485958486, 0.8191329503829504, 0.8082660395160395, 0.8137570762570763, 0.8201250138750139, 0.7651029526029527, 0.8216588966588967, 0.7613761238761239, 0.7169406981906982, 0.7750770063270064, 0.5541944166944167, 0.7852127039627039, 0.7677170052170053, 0.782769314019314, 0.7668428793428794, 0.7990578865578866, 0.7169164169164168]}, {\"categories\": [\"0\", \"1\", \"2\", \"3\", \"4\", \"5\", \"6\", \"7\", \"8\", \"9\", \"10\", \"11\", \"12\", \"13\", \"14\", \"15\", \"16\", \"17\", \"18\", \"19\", \"20\", \"21\", \"22\", \"23\", \"24\", \"25\", \"26\", \"27\", \"28\", \"29\", \"30\", \"31\"], \"mode\": \"lines\", \"name\": \"recall_score_macro_max\", \"stepped\": true, \"type\": \"scatter\", \"data\": [0.7986263736263737, 0.7986263736263737, 0.7986263736263737, 0.7986263736263737, 0.7986263736263737, 0.7986263736263737, 0.7986263736263737, 0.7986263736263737, 0.7986263736263737, 0.7986263736263737, 0.7986263736263737, 0.7986263736263737, 0.7986263736263737, 0.7986263736263737, 0.805713036963037, 0.805713036963037, 0.8191329503829504, 0.8191329503829504, 0.8191329503829504, 0.8201250138750139, 0.8201250138750139, 0.8216588966588967, 0.8216588966588967, 0.8216588966588967, 0.8216588966588967, 0.8216588966588967, 0.8216588966588967, 0.8216588966588967, 0.8216588966588967, 0.8216588966588967, 0.8216588966588967, 0.8216588966588967]}], \"norm_macro_recall\": [{\"categories\": [\"0\", \"1\", \"2\", \"3\", \"4\", \"5\", \"6\", \"7\", \"8\", \"9\", \"10\", \"11\", \"12\", \"13\", \"14\", \"15\", \"16\", \"17\", \"18\", \"19\", \"20\", \"21\", \"22\", \"23\", \"24\", \"25\", \"26\", \"27\", \"28\", \"29\", \"30\", \"31\"], \"mode\": \"markers\", \"name\": \"norm_macro_recall\", \"stepped\": false, \"type\": \"scatter\", \"data\": [0.5972527472527472, 0.5648740148740148, 0.49192612942612945, 0.4577256077256078, 0.4711316461316461, 0.2888916638916639, 0.5596625596625597, 0.5400141525141525, 0.4944000444000444, 0.5829822954822954, 0.5004592629592629, 0.48187784437784437, 0.5382797757797758, 0.35653374403374405, 0.6114260739260738, 0.5221916971916971, 0.6382659007659008, 0.616532079032079, 0.6275141525141525, 0.6402500277500278, 0.5302059052059052, 0.6433177933177934, 0.5227522477522477, 0.43388139638139644, 0.5501540126540126, 0.16800283050283052, 0.570425407925408, 0.5354340104340104, 0.5655386280386281, 0.5336857586857587, 0.5981157731157731, 0.43383283383283383]}, {\"categories\": [\"0\", \"1\", \"2\", \"3\", \"4\", \"5\", \"6\", \"7\", \"8\", \"9\", \"10\", \"11\", \"12\", \"13\", \"14\", \"15\", \"16\", \"17\", \"18\", \"19\", \"20\", \"21\", \"22\", \"23\", \"24\", \"25\", \"26\", \"27\", \"28\", \"29\", \"30\", \"31\"], \"mode\": \"lines\", \"name\": \"norm_macro_recall_max\", \"stepped\": true, \"type\": \"scatter\", \"data\": [0.5972527472527472, 0.5972527472527472, 0.5972527472527472, 0.5972527472527472, 0.5972527472527472, 0.5972527472527472, 0.5972527472527472, 0.5972527472527472, 0.5972527472527472, 0.5972527472527472, 0.5972527472527472, 0.5972527472527472, 0.5972527472527472, 0.5972527472527472, 0.6114260739260738, 0.6114260739260738, 0.6382659007659008, 0.6382659007659008, 0.6382659007659008, 0.6402500277500278, 0.6402500277500278, 0.6433177933177934, 0.6433177933177934, 0.6433177933177934, 0.6433177933177934, 0.6433177933177934, 0.6433177933177934, 0.6433177933177934, 0.6433177933177934, 0.6433177933177934, 0.6433177933177934, 0.6433177933177934]}], \"AUC_weighted\": [{\"categories\": [\"0\", \"1\", \"2\", \"3\", \"4\", \"5\", \"6\", \"7\", \"8\", \"9\", \"10\", \"11\", \"12\", \"13\", \"14\", \"15\", \"16\", \"17\", \"18\", \"19\", \"20\", \"21\", \"22\", \"23\", \"24\", \"25\", \"26\", \"27\", \"28\", \"29\", \"30\", \"31\"], \"mode\": \"markers\", \"name\": \"AUC_weighted\", \"stepped\": false, \"type\": \"scatter\", \"data\": [0.8530215617715617, 0.8828422965922966, 0.8240535853035854, 0.8299528943278943, 0.8332514707514708, 0.7103814241314241, 0.8684694472194472, 0.8607185869685869, 0.8219519369519369, 0.8710174547674547, 0.8420963758463759, 0.797984792984793, 0.826518759018759, 0.7446545121545123, 0.8460685148185147, 0.840749111999112, 0.8744147519147518, 0.8694182900432901, 0.8786378898878898, 0.8741616716616716, 0.8623544511044512, 0.8755304417804417, 0.8421776834276834, 0.8065564990564991, 0.84380661005661, 0.568657523032523, 0.8461063936063935, 0.855298174048174, 0.8613881951381952, 0.8494537407037406, 0.9025013875013874, 0.8957373182373183]}, {\"categories\": [\"0\", \"1\", \"2\", \"3\", \"4\", \"5\", \"6\", \"7\", \"8\", \"9\", \"10\", \"11\", \"12\", \"13\", \"14\", \"15\", \"16\", \"17\", \"18\", \"19\", \"20\", \"21\", \"22\", \"23\", \"24\", \"25\", \"26\", \"27\", \"28\", \"29\", \"30\", \"31\"], \"mode\": \"lines\", \"name\": \"AUC_weighted_max\", \"stepped\": true, \"type\": \"scatter\", \"data\": [0.8530215617715617, 0.8828422965922966, 0.8828422965922966, 0.8828422965922966, 0.8828422965922966, 0.8828422965922966, 0.8828422965922966, 0.8828422965922966, 0.8828422965922966, 0.8828422965922966, 0.8828422965922966, 0.8828422965922966, 0.8828422965922966, 0.8828422965922966, 0.8828422965922966, 0.8828422965922966, 0.8828422965922966, 0.8828422965922966, 0.8828422965922966, 0.8828422965922966, 0.8828422965922966, 0.8828422965922966, 0.8828422965922966, 0.8828422965922966, 0.8828422965922966, 0.8828422965922966, 0.8828422965922966, 0.8828422965922966, 0.8828422965922966, 0.8828422965922966, 0.9025013875013874, 0.9025013875013874]}], \"recall_score_binary\": [{\"categories\": [\"0\", \"1\", \"2\", \"3\", \"4\", \"5\", \"6\", \"7\", \"8\", \"9\", \"10\", \"11\", \"12\", \"13\", \"14\", \"15\", \"16\", \"17\", \"18\", \"19\", \"20\", \"21\", \"22\", \"23\", \"24\", \"25\", \"26\", \"27\", \"28\", \"29\", \"30\", \"31\"], \"mode\": \"markers\", \"name\": \"recall_score_binary\", \"stepped\": false, \"type\": \"scatter\", \"data\": [0.8028846153846154, 0.7985195360195361, 0.7387210012210013, 0.7282967032967034, 0.7691544566544566, 0.5456807081807081, 0.7872100122100123, 0.7902930402930404, 0.6598595848595848, 0.8160866910866911, 0.7703601953601953, 0.8210470085470085, 0.7726495726495726, 0.6204822954822955, 0.801510989010989, 0.8389041514041514, 0.8016025641025641, 0.7863247863247864, 0.831959706959707, 0.8035866910866911, 0.8035866910866911, 0.822039072039072, 0.7377289377289378, 0.746947496947497, 0.7813644688644689, 0.5498473748473749, 0.7754120879120879, 0.7731379731379731, 0.8320512820512821, 0.7953449328449328, 0.8276862026862026, 0.7172619047619048]}, {\"categories\": [\"0\", \"1\", \"2\", \"3\", \"4\", \"5\", \"6\", \"7\", \"8\", \"9\", \"10\", \"11\", \"12\", \"13\", \"14\", \"15\", \"16\", \"17\", \"18\", \"19\", \"20\", \"21\", \"22\", \"23\", \"24\", \"25\", \"26\", \"27\", \"28\", \"29\", \"30\", \"31\"], \"mode\": \"lines\", \"name\": \"recall_score_binary_max\", \"stepped\": true, \"type\": \"scatter\", \"data\": [0.8028846153846154, 0.8028846153846154, 0.8028846153846154, 0.8028846153846154, 0.8028846153846154, 0.8028846153846154, 0.8028846153846154, 0.8028846153846154, 0.8028846153846154, 0.8160866910866911, 0.8160866910866911, 0.8210470085470085, 0.8210470085470085, 0.8210470085470085, 0.8210470085470085, 0.8389041514041514, 0.8389041514041514, 0.8389041514041514, 0.8389041514041514, 0.8389041514041514, 0.8389041514041514, 0.8389041514041514, 0.8389041514041514, 0.8389041514041514, 0.8389041514041514, 0.8389041514041514, 0.8389041514041514, 0.8389041514041514, 0.8389041514041514, 0.8389041514041514, 0.8389041514041514, 0.8389041514041514]}], \"recall_score_weighted\": [{\"categories\": [\"0\", \"1\", \"2\", \"3\", \"4\", \"5\", \"6\", \"7\", \"8\", \"9\", \"10\", \"11\", \"12\", \"13\", \"14\", \"15\", \"16\", \"17\", \"18\", \"19\", \"20\", \"21\", \"22\", \"23\", \"24\", \"25\", \"26\", \"27\", \"28\", \"29\", \"30\", \"31\"], \"mode\": \"markers\", \"name\": \"recall_score_weighted\", \"stepped\": false, \"type\": \"scatter\", \"data\": [0.7875, 0.76875, 0.71875, 0.71875, 0.73125, 0.6125, 0.7625, 0.76875, 0.725, 0.76875, 0.7375, 0.725, 0.74375, 0.6625, 0.79375, 0.75, 0.79375, 0.79375, 0.8, 0.8, 0.7625, 0.80625, 0.75625, 0.7, 0.7625, 0.5062500000000001, 0.76875, 0.75625, 0.78125, 0.7562500000000001, 0.79375, 0.6812499999999999]}, {\"categories\": [\"0\", \"1\", \"2\", \"3\", \"4\", \"5\", \"6\", \"7\", \"8\", \"9\", \"10\", \"11\", \"12\", \"13\", \"14\", \"15\", \"16\", \"17\", \"18\", \"19\", \"20\", \"21\", \"22\", \"23\", \"24\", \"25\", \"26\", \"27\", \"28\", \"29\", \"30\", \"31\"], \"mode\": \"lines\", \"name\": \"recall_score_weighted_max\", \"stepped\": true, \"type\": \"scatter\", \"data\": [0.7875, 0.7875, 0.7875, 0.7875, 0.7875, 0.7875, 0.7875, 0.7875, 0.7875, 0.7875, 0.7875, 0.7875, 0.7875, 0.7875, 0.79375, 0.79375, 0.79375, 0.79375, 0.8, 0.8, 0.8, 0.80625, 0.80625, 0.80625, 0.80625, 0.80625, 0.80625, 0.80625, 0.80625, 0.80625, 0.80625, 0.80625]}], \"f1_score_binary\": [{\"categories\": [\"0\", \"1\", \"2\", \"3\", \"4\", \"5\", \"6\", \"7\", \"8\", \"9\", \"10\", \"11\", \"12\", \"13\", \"14\", \"15\", \"16\", \"17\", \"18\", \"19\", \"20\", \"21\", \"22\", \"23\", \"24\", \"25\", \"26\", \"27\", \"28\", \"29\", \"30\", \"31\"], \"mode\": \"markers\", \"name\": \"f1_score_binary\", \"stepped\": false, \"type\": \"scatter\", \"data\": [0.7747125338429686, 0.7611792129439189, 0.7088129223287891, 0.7127031402979546, 0.7300360315066197, 0.5751429738562092, 0.753180596350101, 0.7625602199944306, 0.6976686507936508, 0.7656012614836143, 0.7331381763231608, 0.7422263993316625, 0.7411945240749589, 0.6410023393415337, 0.7845301689051689, 0.761536828181565, 0.7762034044386985, 0.7792193223443225, 0.7949452691557954, 0.7830761150614092, 0.7575734233087175, 0.7964261773085303, 0.7331104784909133, 0.6974610356963298, 0.7521289554958286, 0.5069353516318115, 0.7580096782302664, 0.74494825708061, 0.78258547008547, 0.7516045542148483, 0.7882522814875756, 0.647043404111102]}, {\"categories\": [\"0\", \"1\", \"2\", \"3\", \"4\", \"5\", \"6\", \"7\", \"8\", \"9\", \"10\", \"11\", \"12\", \"13\", \"14\", \"15\", \"16\", \"17\", \"18\", \"19\", \"20\", \"21\", \"22\", \"23\", \"24\", \"25\", \"26\", \"27\", \"28\", \"29\", \"30\", \"31\"], \"mode\": \"lines\", \"name\": \"f1_score_binary_max\", \"stepped\": true, \"type\": \"scatter\", \"data\": [0.7747125338429686, 0.7747125338429686, 0.7747125338429686, 0.7747125338429686, 0.7747125338429686, 0.7747125338429686, 0.7747125338429686, 0.7747125338429686, 0.7747125338429686, 0.7747125338429686, 0.7747125338429686, 0.7747125338429686, 0.7747125338429686, 0.7747125338429686, 0.7845301689051689, 0.7845301689051689, 0.7845301689051689, 0.7845301689051689, 0.7949452691557954, 0.7949452691557954, 0.7949452691557954, 0.7964261773085303, 0.7964261773085303, 0.7964261773085303, 0.7964261773085303, 0.7964261773085303, 0.7964261773085303, 0.7964261773085303, 0.7964261773085303, 0.7964261773085303, 0.7964261773085303, 0.7964261773085303]}], \"precision_score_weighted\": [{\"categories\": [\"0\", \"1\", \"2\", \"3\", \"4\", \"5\", \"6\", \"7\", \"8\", \"9\", \"10\", \"11\", \"12\", \"13\", \"14\", \"15\", \"16\", \"17\", \"18\", \"19\", \"20\", \"21\", \"22\", \"23\", \"24\", \"25\", \"26\", \"27\", \"28\", \"29\", \"30\", \"31\"], \"mode\": \"markers\", \"name\": \"precision_score_weighted\", \"stepped\": false, \"type\": \"scatter\", \"data\": [0.8250147422022422, 0.8101923076923077, 0.7738476107226107, 0.7573011363636364, 0.7674479166666667, 0.6881660006660006, 0.8009433621933622, 0.7954439137251637, 0.7818751040626042, 0.8181179931179932, 0.7784486520424021, 0.7798717948717948, 0.7943639520202019, 0.717306114024864, 0.823855744949495, 0.7872174873737373, 0.8395549242424243, 0.8297337211399711, 0.8309054834054834, 0.8382075216450217, 0.7979053064990564, 0.8389298895548896, 0.7834167568542569, 0.7479763465700966, 0.7957525460650461, 0.6173750606011635, 0.810871663059163, 0.788180049117549, 0.8088763666888666, 0.7889283459595959, 0.8206603119103119, 0.651237130924631]}, {\"categories\": [\"0\", \"1\", \"2\", \"3\", \"4\", \"5\", \"6\", \"7\", \"8\", \"9\", \"10\", \"11\", \"12\", \"13\", \"14\", \"15\", \"16\", \"17\", \"18\", \"19\", \"20\", \"21\", \"22\", \"23\", \"24\", \"25\", \"26\", \"27\", \"28\", \"29\", \"30\", \"31\"], \"mode\": \"lines\", \"name\": \"precision_score_weighted_max\", \"stepped\": true, \"type\": \"scatter\", \"data\": [0.8250147422022422, 0.8250147422022422, 0.8250147422022422, 0.8250147422022422, 0.8250147422022422, 0.8250147422022422, 0.8250147422022422, 0.8250147422022422, 0.8250147422022422, 0.8250147422022422, 0.8250147422022422, 0.8250147422022422, 0.8250147422022422, 0.8250147422022422, 0.8250147422022422, 0.8250147422022422, 0.8395549242424243, 0.8395549242424243, 0.8395549242424243, 0.8395549242424243, 0.8395549242424243, 0.8395549242424243, 0.8395549242424243, 0.8395549242424243, 0.8395549242424243, 0.8395549242424243, 0.8395549242424243, 0.8395549242424243, 0.8395549242424243, 0.8395549242424243, 0.8395549242424243, 0.8395549242424243]}], \"f1_score_micro\": [{\"categories\": [\"0\", \"1\", \"2\", \"3\", \"4\", \"5\", \"6\", \"7\", \"8\", \"9\", \"10\", \"11\", \"12\", \"13\", \"14\", \"15\", \"16\", \"17\", \"18\", \"19\", \"20\", \"21\", \"22\", \"23\", \"24\", \"25\", \"26\", \"27\", \"28\", \"29\", \"30\", \"31\"], \"mode\": \"markers\", \"name\": \"f1_score_micro\", \"stepped\": false, \"type\": \"scatter\", \"data\": [0.7875, 0.76875, 0.71875, 0.7187500000000001, 0.73125, 0.6125, 0.7625, 0.76875, 0.7250000000000001, 0.76875, 0.7375, 0.7250000000000001, 0.74375, 0.6625, 0.7937500000000001, 0.75, 0.7937500000000001, 0.79375, 0.8, 0.8, 0.7625, 0.80625, 0.75625, 0.7, 0.7625, 0.5062500000000001, 0.76875, 0.75625, 0.78125, 0.7562500000000001, 0.79375, 0.6812499999999999]}, {\"categories\": [\"0\", \"1\", \"2\", \"3\", \"4\", \"5\", \"6\", \"7\", \"8\", \"9\", \"10\", \"11\", \"12\", \"13\", \"14\", \"15\", \"16\", \"17\", \"18\", \"19\", \"20\", \"21\", \"22\", \"23\", \"24\", \"25\", \"26\", \"27\", \"28\", \"29\", \"30\", \"31\"], \"mode\": \"lines\", \"name\": \"f1_score_micro_max\", \"stepped\": true, \"type\": \"scatter\", \"data\": [0.7875, 0.7875, 0.7875, 0.7875, 0.7875, 0.7875, 0.7875, 0.7875, 0.7875, 0.7875, 0.7875, 0.7875, 0.7875, 0.7875, 0.7937500000000001, 0.7937500000000001, 0.7937500000000001, 0.7937500000000001, 0.8, 0.8, 0.8, 0.80625, 0.80625, 0.80625, 0.80625, 0.80625, 0.80625, 0.80625, 0.80625, 0.80625, 0.80625, 0.80625]}], \"precision_score_macro\": [{\"categories\": [\"0\", \"1\", \"2\", \"3\", \"4\", \"5\", \"6\", \"7\", \"8\", \"9\", \"10\", \"11\", \"12\", \"13\", \"14\", \"15\", \"16\", \"17\", \"18\", \"19\", \"20\", \"21\", \"22\", \"23\", \"24\", \"25\", \"26\", \"27\", \"28\", \"29\", \"30\", \"31\"], \"mode\": \"markers\", \"name\": \"precision_score_macro\", \"stepped\": false, \"type\": \"scatter\", \"data\": [0.7848696442446442, 0.7677483974358975, 0.7248506701631702, 0.712957702020202, 0.7258470695970696, 0.6324092574092575, 0.7625624375624376, 0.7600155053280053, 0.7358603202353202, 0.7723935786435786, 0.7354386932511933, 0.7327141608391607, 0.746685606060606, 0.667166860916861, 0.7884762806637806, 0.7480767496392496, 0.7958017676767677, 0.7888032106782107, 0.7929022366522367, 0.7976100288600287, 0.7594167984792985, 0.800737456987457, 0.7471094877344877, 0.7035820082695083, 0.7547341547341546, 0.5608465982546865, 0.7675121753246753, 0.747854575979576, 0.7725148115773116, 0.7469539141414142, 0.7862654706404706, 0.6257029428904428]}, {\"categories\": [\"0\", \"1\", \"2\", \"3\", \"4\", \"5\", \"6\", \"7\", \"8\", \"9\", \"10\", \"11\", \"12\", \"13\", \"14\", \"15\", \"16\", \"17\", \"18\", \"19\", \"20\", \"21\", \"22\", \"23\", \"24\", \"25\", \"26\", \"27\", \"28\", \"29\", \"30\", \"31\"], \"mode\": \"lines\", \"name\": \"precision_score_macro_max\", \"stepped\": true, \"type\": \"scatter\", \"data\": [0.7848696442446442, 0.7848696442446442, 0.7848696442446442, 0.7848696442446442, 0.7848696442446442, 0.7848696442446442, 0.7848696442446442, 0.7848696442446442, 0.7848696442446442, 0.7848696442446442, 0.7848696442446442, 0.7848696442446442, 0.7848696442446442, 0.7848696442446442, 0.7884762806637806, 0.7884762806637806, 0.7958017676767677, 0.7958017676767677, 0.7958017676767677, 0.7976100288600287, 0.7976100288600287, 0.800737456987457, 0.800737456987457, 0.800737456987457, 0.800737456987457, 0.800737456987457, 0.800737456987457, 0.800737456987457, 0.800737456987457, 0.800737456987457, 0.800737456987457, 0.800737456987457]}], \"average_precision_score_macro\": [{\"categories\": [\"0\", \"1\", \"2\", \"3\", \"4\", \"5\", \"6\", \"7\", \"8\", \"9\", \"10\", \"11\", \"12\", \"13\", \"14\", \"15\", \"16\", \"17\", \"18\", \"19\", \"20\", \"21\", \"22\", \"23\", \"24\", \"25\", \"26\", \"27\", \"28\", \"29\", \"30\", \"31\"], \"mode\": \"markers\", \"name\": \"average_precision_score_macro\", \"stepped\": false, \"type\": \"scatter\", \"data\": [0.852053974961994, 0.88504889074001, 0.8291479874157166, 0.8412200010339737, 0.8394712723073761, 0.7262757010646208, 0.8698831790960357, 0.858534670923812, 0.8167013943715035, 0.866463119863796, 0.8355783874710347, 0.7915330555394704, 0.8248815996068026, 0.7464045505564996, 0.8376632796271298, 0.8480831980025341, 0.8679390937058973, 0.8681922286951416, 0.8759690386111239, 0.8671422422946653, 0.8644897613298442, 0.8701022040659812, 0.8302850667420802, 0.7952609568669544, 0.8341706256377417, 0.5776716958839548, 0.8383630005433261, 0.8533023178038484, 0.856409005177518, 0.8410908246725053, 0.8963843806790841, 0.8896608134915018]}, {\"categories\": [\"0\", \"1\", \"2\", \"3\", \"4\", \"5\", \"6\", \"7\", \"8\", \"9\", \"10\", \"11\", \"12\", \"13\", \"14\", \"15\", \"16\", \"17\", \"18\", \"19\", \"20\", \"21\", \"22\", \"23\", \"24\", \"25\", \"26\", \"27\", \"28\", \"29\", \"30\", \"31\"], \"mode\": \"lines\", \"name\": \"average_precision_score_macro_max\", \"stepped\": true, \"type\": \"scatter\", \"data\": [0.852053974961994, 0.88504889074001, 0.88504889074001, 0.88504889074001, 0.88504889074001, 0.88504889074001, 0.88504889074001, 0.88504889074001, 0.88504889074001, 0.88504889074001, 0.88504889074001, 0.88504889074001, 0.88504889074001, 0.88504889074001, 0.88504889074001, 0.88504889074001, 0.88504889074001, 0.88504889074001, 0.88504889074001, 0.88504889074001, 0.88504889074001, 0.88504889074001, 0.88504889074001, 0.88504889074001, 0.88504889074001, 0.88504889074001, 0.88504889074001, 0.88504889074001, 0.88504889074001, 0.88504889074001, 0.8963843806790841, 0.8963843806790841]}], \"AUC_micro\": [{\"categories\": [\"0\", \"1\", \"2\", \"3\", \"4\", \"5\", \"6\", \"7\", \"8\", \"9\", \"10\", \"11\", \"12\", \"13\", \"14\", \"15\", \"16\", \"17\", \"18\", \"19\", \"20\", \"21\", \"22\", \"23\", \"24\", \"25\", \"26\", \"27\", \"28\", \"29\", \"30\", \"31\"], \"mode\": \"markers\", \"name\": \"AUC_micro\", \"stepped\": false, \"type\": \"scatter\", \"data\": [0.833125, 0.8465625, 0.8021875, 0.80296875, 0.8065625000000001, 0.688125, 0.8443750000000001, 0.8496874999999999, 0.796875, 0.8321875, 0.8300000000000001, 0.78, 0.8028125, 0.7146874999999999, 0.8384375, 0.82375, 0.8490625, 0.85375, 0.865, 0.86, 0.83125, 0.84671875, 0.8328125, 0.76171875, 0.8339062500000001, 0.5134375, 0.835, 0.8434375, 0.8315625, 0.8184374999999999, 0.8684375, 0.7821874999999999]}, {\"categories\": [\"0\", \"1\", \"2\", \"3\", \"4\", \"5\", \"6\", \"7\", \"8\", \"9\", \"10\", \"11\", \"12\", \"13\", \"14\", \"15\", \"16\", \"17\", \"18\", \"19\", \"20\", \"21\", \"22\", \"23\", \"24\", \"25\", \"26\", \"27\", \"28\", \"29\", \"30\", \"31\"], \"mode\": \"lines\", \"name\": \"AUC_micro_max\", \"stepped\": true, \"type\": \"scatter\", \"data\": [0.833125, 0.8465625, 0.8465625, 0.8465625, 0.8465625, 0.8465625, 0.8465625, 0.8496874999999999, 0.8496874999999999, 0.8496874999999999, 0.8496874999999999, 0.8496874999999999, 0.8496874999999999, 0.8496874999999999, 0.8496874999999999, 0.8496874999999999, 0.8496874999999999, 0.85375, 0.865, 0.865, 0.865, 0.865, 0.865, 0.865, 0.865, 0.865, 0.865, 0.865, 0.865, 0.865, 0.8684375, 0.8684375]}], \"average_precision_score_weighted\": [{\"categories\": [\"0\", \"1\", \"2\", \"3\", \"4\", \"5\", \"6\", \"7\", \"8\", \"9\", \"10\", \"11\", \"12\", \"13\", \"14\", \"15\", \"16\", \"17\", \"18\", \"19\", \"20\", \"21\", \"22\", \"23\", \"24\", \"25\", \"26\", \"27\", \"28\", \"29\", \"30\", \"31\"], \"mode\": \"markers\", \"name\": \"average_precision_score_weighted\", \"stepped\": false, \"type\": \"scatter\", \"data\": [0.8771375368214087, 0.9043304469492066, 0.8524206719976362, 0.8657910855269602, 0.8638434505810667, 0.7668828812924692, 0.8913128369791972, 0.8820899166354371, 0.8483057533872647, 0.891526984206454, 0.8597687657253736, 0.829486773600067, 0.8517832381004788, 0.7827761206962542, 0.8648928728113132, 0.8703088894625757, 0.8890078951889613, 0.8897516587568348, 0.8963513324910384, 0.8899383005410483, 0.8891288609857205, 0.894872495710344, 0.8579786658291398, 0.8242539899041448, 0.8623972658587112, 0.6255793367064652, 0.8646778366220123, 0.874144841038949, 0.8820752274847186, 0.8720481448429881, 0.9178450374176477, 0.9116792373272152]}, {\"categories\": [\"0\", \"1\", \"2\", \"3\", \"4\", \"5\", \"6\", \"7\", \"8\", \"9\", \"10\", \"11\", \"12\", \"13\", \"14\", \"15\", \"16\", \"17\", \"18\", \"19\", \"20\", \"21\", \"22\", \"23\", \"24\", \"25\", \"26\", \"27\", \"28\", \"29\", \"30\", \"31\"], \"mode\": \"lines\", \"name\": \"average_precision_score_weighted_max\", \"stepped\": true, \"type\": \"scatter\", \"data\": [0.8771375368214087, 0.9043304469492066, 0.9043304469492066, 0.9043304469492066, 0.9043304469492066, 0.9043304469492066, 0.9043304469492066, 0.9043304469492066, 0.9043304469492066, 0.9043304469492066, 0.9043304469492066, 0.9043304469492066, 0.9043304469492066, 0.9043304469492066, 0.9043304469492066, 0.9043304469492066, 0.9043304469492066, 0.9043304469492066, 0.9043304469492066, 0.9043304469492066, 0.9043304469492066, 0.9043304469492066, 0.9043304469492066, 0.9043304469492066, 0.9043304469492066, 0.9043304469492066, 0.9043304469492066, 0.9043304469492066, 0.9043304469492066, 0.9043304469492066, 0.9178450374176477, 0.9178450374176477]}], \"f1_score_weighted\": [{\"categories\": [\"0\", \"1\", \"2\", \"3\", \"4\", \"5\", \"6\", \"7\", \"8\", \"9\", \"10\", \"11\", \"12\", \"13\", \"14\", \"15\", \"16\", \"17\", \"18\", \"19\", \"20\", \"21\", \"22\", \"23\", \"24\", \"25\", \"26\", \"27\", \"28\", \"29\", \"30\", \"31\"], \"mode\": \"markers\", \"name\": \"f1_score_weighted\", \"stepped\": false, \"type\": \"scatter\", \"data\": [0.7905059202972785, 0.7735499662913177, 0.7235914882877588, 0.7267492586719602, 0.7370704461741278, 0.6182900555817293, 0.7680741792379884, 0.7734821023274971, 0.7285596804511278, 0.771931735925342, 0.7419797075008494, 0.7289763297131718, 0.7496623738911774, 0.6697647073153323, 0.7965763801865775, 0.7542851278838121, 0.7958439633136304, 0.797353407557355, 0.8051229365176733, 0.8031869120315791, 0.7648561481219308, 0.8105560641434203, 0.7594327175825737, 0.7020846449834621, 0.7674269780889531, 0.5010142820043211, 0.7735507261014773, 0.7602132721817825, 0.7849619678567047, 0.762008788437337, 0.7974514129424616, 0.6425941991714024]}, {\"categories\": [\"0\", \"1\", \"2\", \"3\", \"4\", \"5\", \"6\", \"7\", \"8\", \"9\", \"10\", \"11\", \"12\", \"13\", \"14\", \"15\", \"16\", \"17\", \"18\", \"19\", \"20\", \"21\", \"22\", \"23\", \"24\", \"25\", \"26\", \"27\", \"28\", \"29\", \"30\", \"31\"], \"mode\": \"lines\", \"name\": \"f1_score_weighted_max\", \"stepped\": true, \"type\": \"scatter\", \"data\": [0.7905059202972785, 0.7905059202972785, 0.7905059202972785, 0.7905059202972785, 0.7905059202972785, 0.7905059202972785, 0.7905059202972785, 0.7905059202972785, 0.7905059202972785, 0.7905059202972785, 0.7905059202972785, 0.7905059202972785, 0.7905059202972785, 0.7905059202972785, 0.7965763801865775, 0.7965763801865775, 0.7965763801865775, 0.797353407557355, 0.8051229365176733, 0.8051229365176733, 0.8051229365176733, 0.8105560641434203, 0.8105560641434203, 0.8105560641434203, 0.8105560641434203, 0.8105560641434203, 0.8105560641434203, 0.8105560641434203, 0.8105560641434203, 0.8105560641434203, 0.8105560641434203, 0.8105560641434203]}], \"AUC_macro\": [{\"categories\": [\"0\", \"1\", \"2\", \"3\", \"4\", \"5\", \"6\", \"7\", \"8\", \"9\", \"10\", \"11\", \"12\", \"13\", \"14\", \"15\", \"16\", \"17\", \"18\", \"19\", \"20\", \"21\", \"22\", \"23\", \"24\", \"25\", \"26\", \"27\", \"28\", \"29\", \"30\", \"31\"], \"mode\": \"markers\", \"name\": \"AUC_macro\", \"stepped\": false, \"type\": \"scatter\", \"data\": [0.8530215617715617, 0.8828422965922966, 0.8240535853035853, 0.8302505133755134, 0.8332514707514708, 0.7103814241314241, 0.8684694472194472, 0.8607185869685869, 0.821951936951937, 0.8710174547674547, 0.8420963758463758, 0.797984792984793, 0.826518759018759, 0.7446545121545122, 0.8460685148185149, 0.840749111999112, 0.8744147519147519, 0.8694182900432901, 0.8786378898878899, 0.8741616716616717, 0.8623544511044512, 0.8755304417804417, 0.8421776834276834, 0.8065564990564991, 0.8438066100566101, 0.568657523032523, 0.8461063936063936, 0.855298174048174, 0.8613881951381952, 0.8494537407037407, 0.9025013875013875, 0.8957373182373183]}, {\"categories\": [\"0\", \"1\", \"2\", \"3\", \"4\", \"5\", \"6\", \"7\", \"8\", \"9\", \"10\", \"11\", \"12\", \"13\", \"14\", \"15\", \"16\", \"17\", \"18\", \"19\", \"20\", \"21\", \"22\", \"23\", \"24\", \"25\", \"26\", \"27\", \"28\", \"29\", \"30\", \"31\"], \"mode\": \"lines\", \"name\": \"AUC_macro_max\", \"stepped\": true, \"type\": \"scatter\", \"data\": [0.8530215617715617, 0.8828422965922966, 0.8828422965922966, 0.8828422965922966, 0.8828422965922966, 0.8828422965922966, 0.8828422965922966, 0.8828422965922966, 0.8828422965922966, 0.8828422965922966, 0.8828422965922966, 0.8828422965922966, 0.8828422965922966, 0.8828422965922966, 0.8828422965922966, 0.8828422965922966, 0.8828422965922966, 0.8828422965922966, 0.8828422965922966, 0.8828422965922966, 0.8828422965922966, 0.8828422965922966, 0.8828422965922966, 0.8828422965922966, 0.8828422965922966, 0.8828422965922966, 0.8828422965922966, 0.8828422965922966, 0.8828422965922966, 0.8828422965922966, 0.9025013875013875, 0.9025013875013875]}], \"balanced_accuracy\": [{\"categories\": [\"0\", \"1\", \"2\", \"3\", \"4\", \"5\", \"6\", \"7\", \"8\", \"9\", \"10\", \"11\", \"12\", \"13\", \"14\", \"15\", \"16\", \"17\", \"18\", \"19\", \"20\", \"21\", \"22\", \"23\", \"24\", \"25\", \"26\", \"27\", \"28\", \"29\", \"30\", \"31\"], \"mode\": \"markers\", \"name\": \"balanced_accuracy\", \"stepped\": false, \"type\": \"scatter\", \"data\": [0.7986263736263737, 0.7824370074370074, 0.7459630647130647, 0.7288628038628039, 0.7355658230658231, 0.6425518925518926, 0.7798312798312799, 0.7700070762570763, 0.7472000222000221, 0.7914911477411477, 0.7502296314796315, 0.7409389221889222, 0.7691398878898879, 0.678266872016872, 0.805713036963037, 0.7610958485958486, 0.8191329503829504, 0.8082660395160395, 0.8137570762570763, 0.8201250138750139, 0.7651029526029527, 0.8216588966588967, 0.7613761238761239, 0.7169406981906982, 0.7750770063270064, 0.5541944166944167, 0.7852127039627039, 0.7677170052170053, 0.782769314019314, 0.7668428793428794, 0.7990578865578866, 0.7169164169164168]}, {\"categories\": [\"0\", \"1\", \"2\", \"3\", \"4\", \"5\", \"6\", \"7\", \"8\", \"9\", \"10\", \"11\", \"12\", \"13\", \"14\", \"15\", \"16\", \"17\", \"18\", \"19\", \"20\", \"21\", \"22\", \"23\", \"24\", \"25\", \"26\", \"27\", \"28\", \"29\", \"30\", \"31\"], \"mode\": \"lines\", \"name\": \"balanced_accuracy_max\", \"stepped\": true, \"type\": \"scatter\", \"data\": [0.7986263736263737, 0.7986263736263737, 0.7986263736263737, 0.7986263736263737, 0.7986263736263737, 0.7986263736263737, 0.7986263736263737, 0.7986263736263737, 0.7986263736263737, 0.7986263736263737, 0.7986263736263737, 0.7986263736263737, 0.7986263736263737, 0.7986263736263737, 0.805713036963037, 0.805713036963037, 0.8191329503829504, 0.8191329503829504, 0.8191329503829504, 0.8201250138750139, 0.8201250138750139, 0.8216588966588967, 0.8216588966588967, 0.8216588966588967, 0.8216588966588967, 0.8216588966588967, 0.8216588966588967, 0.8216588966588967, 0.8216588966588967, 0.8216588966588967, 0.8216588966588967, 0.8216588966588967]}], \"log_loss\": [{\"categories\": [\"0\", \"1\", \"2\", \"3\", \"4\", \"5\", \"6\", \"7\", \"8\", \"9\", \"10\", \"11\", \"12\", \"13\", \"14\", \"15\", \"16\", \"17\", \"18\", \"19\", \"20\", \"21\", \"22\", \"23\", \"24\", \"25\", \"26\", \"27\", \"28\", \"29\", \"30\", \"31\"], \"mode\": \"markers\", \"name\": \"log_loss\", \"stepped\": false, \"type\": \"scatter\", \"data\": [0.6024870535677428, 0.5356782394490797, 0.5360453903517861, 0.9235752140374187, 0.5283316276860346, 0.6338814026904315, 0.5226577706180222, 0.48614631038597744, 0.5686216076657256, 0.4977859999494151, 0.5358472468207016, 0.6143335271437618, 0.5715216935081613, 1.045719245778474, 0.5250830799883405, 0.5495057226699004, 0.49227899157156635, 0.47621947801176945, 0.4713293131561066, 0.4930029506013599, 0.5019556325889822, 0.4908788831727875, 0.49966634620852635, 0.5840755982717021, 0.5119621443335347, 0.7023711627843972, 0.5075112909130115, 0.48940613348196205, 0.5101235821524248, 0.5357170702498079, 0.48400663464390703, 0.5876042069270765]}, {\"categories\": [\"0\", \"1\", \"2\", \"3\", \"4\", \"5\", \"6\", \"7\", \"8\", \"9\", \"10\", \"11\", \"12\", \"13\", \"14\", \"15\", \"16\", \"17\", \"18\", \"19\", \"20\", \"21\", \"22\", \"23\", \"24\", \"25\", \"26\", \"27\", \"28\", \"29\", \"30\", \"31\"], \"mode\": \"lines\", \"name\": \"log_loss_min\", \"stepped\": true, \"type\": \"scatter\", \"data\": [0.6024870535677428, 0.5356782394490797, 0.5356782394490797, 0.5356782394490797, 0.5283316276860346, 0.5283316276860346, 0.5226577706180222, 0.48614631038597744, 0.48614631038597744, 0.48614631038597744, 0.48614631038597744, 0.48614631038597744, 0.48614631038597744, 0.48614631038597744, 0.48614631038597744, 0.48614631038597744, 0.48614631038597744, 0.47621947801176945, 0.4713293131561066, 0.4713293131561066, 0.4713293131561066, 0.4713293131561066, 0.4713293131561066, 0.4713293131561066, 0.4713293131561066, 0.4713293131561066, 0.4713293131561066, 0.4713293131561066, 0.4713293131561066, 0.4713293131561066, 0.4713293131561066, 0.4713293131561066]}], \"weighted_accuracy\": [{\"categories\": [\"0\", \"1\", \"2\", \"3\", \"4\", \"5\", \"6\", \"7\", \"8\", \"9\", \"10\", \"11\", \"12\", \"13\", \"14\", \"15\", \"16\", \"17\", \"18\", \"19\", \"20\", \"21\", \"22\", \"23\", \"24\", \"25\", \"26\", \"27\", \"28\", \"29\", \"30\", \"31\"], \"mode\": \"markers\", \"name\": \"weighted_accuracy\", \"stepped\": false, \"type\": \"scatter\", \"data\": [0.7788476669558762, 0.7583690616768098, 0.6990384082302568, 0.7114830969019078, 0.7272318964734182, 0.59161710951228, 0.7508739557916564, 0.7673872278480616, 0.7105205615468222, 0.7517232100068596, 0.7287650503819758, 0.712199231193287, 0.7256105858529541, 0.6518575593323331, 0.7852792190402209, 0.7402698184244239, 0.7759274974080768, 0.7832612776067229, 0.7898279072608305, 0.7858071491663561, 0.75976881767582, 0.7948181425228888, 0.7531362036077065, 0.6876897859431624, 0.7533022472209259, 0.47136721209292703, 0.757297606816993, 0.7482354327650418, 0.7786284850012999, 0.7480525886343774, 0.7885391028030357, 0.6518782751416553]}, {\"categories\": [\"0\", \"1\", \"2\", \"3\", \"4\", \"5\", \"6\", \"7\", \"8\", \"9\", \"10\", \"11\", \"12\", \"13\", \"14\", \"15\", \"16\", \"17\", \"18\", \"19\", \"20\", \"21\", \"22\", \"23\", \"24\", \"25\", \"26\", \"27\", \"28\", \"29\", \"30\", \"31\"], \"mode\": \"lines\", \"name\": \"weighted_accuracy_max\", \"stepped\": true, \"type\": \"scatter\", \"data\": [0.7788476669558762, 0.7788476669558762, 0.7788476669558762, 0.7788476669558762, 0.7788476669558762, 0.7788476669558762, 0.7788476669558762, 0.7788476669558762, 0.7788476669558762, 0.7788476669558762, 0.7788476669558762, 0.7788476669558762, 0.7788476669558762, 0.7788476669558762, 0.7852792190402209, 0.7852792190402209, 0.7852792190402209, 0.7852792190402209, 0.7898279072608305, 0.7898279072608305, 0.7898279072608305, 0.7948181425228888, 0.7948181425228888, 0.7948181425228888, 0.7948181425228888, 0.7948181425228888, 0.7948181425228888, 0.7948181425228888, 0.7948181425228888, 0.7948181425228888, 0.7948181425228888, 0.7948181425228888]}], \"matthews_correlation\": [{\"categories\": [\"0\", \"1\", \"2\", \"3\", \"4\", \"5\", \"6\", \"7\", \"8\", \"9\", \"10\", \"11\", \"12\", \"13\", \"14\", \"15\", \"16\", \"17\", \"18\", \"19\", \"20\", \"21\", \"22\", \"23\", \"24\", \"25\", \"26\", \"27\", \"28\", \"29\", \"30\", \"31\"], \"mode\": \"markers\", \"name\": \"matthews_correlation\", \"stepped\": false, \"type\": \"scatter\", \"data\": [0.5823350079159881, 0.5492741129964969, 0.46955143444064074, 0.4412197958606362, 0.460856286468708, 0.2744819125968831, 0.5417285257790159, 0.5294589428857459, 0.4816221191747548, 0.5625075223412318, 0.4848078638795858, 0.4733372653624988, 0.514713609210188, 0.34483152078327806, 0.593055893998226, 0.508593610787275, 0.6129135285680916, 0.5957583907602462, 0.6058081990724884, 0.6161711859366625, 0.5237932965320267, 0.6213746700860014, 0.5075923072953068, 0.41937660172916585, 0.528900822795934, 0.11380994594954838, 0.5515061277557587, 0.5146526817286642, 0.5548306349536011, 0.5129567169206293, 0.5847853638815983, 0.41662035163706357]}, {\"categories\": [\"0\", \"1\", \"2\", \"3\", \"4\", \"5\", \"6\", \"7\", \"8\", \"9\", \"10\", \"11\", \"12\", \"13\", \"14\", \"15\", \"16\", \"17\", \"18\", \"19\", \"20\", \"21\", \"22\", \"23\", \"24\", \"25\", \"26\", \"27\", \"28\", \"29\", \"30\", \"31\"], \"mode\": \"lines\", \"name\": \"matthews_correlation_max\", \"stepped\": true, \"type\": \"scatter\", \"data\": [0.5823350079159881, 0.5823350079159881, 0.5823350079159881, 0.5823350079159881, 0.5823350079159881, 0.5823350079159881, 0.5823350079159881, 0.5823350079159881, 0.5823350079159881, 0.5823350079159881, 0.5823350079159881, 0.5823350079159881, 0.5823350079159881, 0.5823350079159881, 0.593055893998226, 0.593055893998226, 0.6129135285680916, 0.6129135285680916, 0.6129135285680916, 0.6161711859366625, 0.6161711859366625, 0.6213746700860014, 0.6213746700860014, 0.6213746700860014, 0.6213746700860014, 0.6213746700860014, 0.6213746700860014, 0.6213746700860014, 0.6213746700860014, 0.6213746700860014, 0.6213746700860014, 0.6213746700860014]}], \"average_precision_score_micro\": [{\"categories\": [\"0\", \"1\", \"2\", \"3\", \"4\", \"5\", \"6\", \"7\", \"8\", \"9\", \"10\", \"11\", \"12\", \"13\", \"14\", \"15\", \"16\", \"17\", \"18\", \"19\", \"20\", \"21\", \"22\", \"23\", \"24\", \"25\", \"26\", \"27\", \"28\", \"29\", \"30\", \"31\"], \"mode\": \"markers\", \"name\": \"average_precision_score_micro\", \"stepped\": false, \"type\": \"scatter\", \"data\": [0.8291327530380234, 0.8518707689933872, 0.8135676283630162, 0.8099506493713529, 0.8148195693404001, 0.712809648488628, 0.854721594661965, 0.8571253675556091, 0.7921814402219924, 0.8393697399921943, 0.8352003316626012, 0.7761976720570105, 0.8043067521399572, 0.7138974743519646, 0.8400676542179184, 0.8372808930742981, 0.8517630037622397, 0.858479110158021, 0.8725140357092184, 0.862644846771149, 0.8373064606567792, 0.8475526305324138, 0.8321236220735474, 0.7595315215918234, 0.8361663603243438, 0.5549621005870697, 0.8334583974547687, 0.8476180059433845, 0.8276506129635035, 0.8169758308584619, 0.8700253767811009, 0.799333644337457]}, {\"categories\": [\"0\", \"1\", \"2\", \"3\", \"4\", \"5\", \"6\", \"7\", \"8\", \"9\", \"10\", \"11\", \"12\", \"13\", \"14\", \"15\", \"16\", \"17\", \"18\", \"19\", \"20\", \"21\", \"22\", \"23\", \"24\", \"25\", \"26\", \"27\", \"28\", \"29\", \"30\", \"31\"], \"mode\": \"lines\", \"name\": \"average_precision_score_micro_max\", \"stepped\": true, \"type\": \"scatter\", \"data\": [0.8291327530380234, 0.8518707689933872, 0.8518707689933872, 0.8518707689933872, 0.8518707689933872, 0.8518707689933872, 0.854721594661965, 0.8571253675556091, 0.8571253675556091, 0.8571253675556091, 0.8571253675556091, 0.8571253675556091, 0.8571253675556091, 0.8571253675556091, 0.8571253675556091, 0.8571253675556091, 0.8571253675556091, 0.858479110158021, 0.8725140357092184, 0.8725140357092184, 0.8725140357092184, 0.8725140357092184, 0.8725140357092184, 0.8725140357092184, 0.8725140357092184, 0.8725140357092184, 0.8725140357092184, 0.8725140357092184, 0.8725140357092184, 0.8725140357092184, 0.8725140357092184, 0.8725140357092184]}], \"AUC_binary\": [{\"categories\": [\"0\", \"1\", \"2\", \"3\", \"4\", \"5\", \"6\", \"7\", \"8\", \"9\", \"10\", \"11\", \"12\", \"13\", \"14\", \"15\", \"16\", \"17\", \"18\", \"19\", \"20\", \"21\", \"22\", \"23\", \"24\", \"25\", \"26\", \"27\", \"28\", \"29\", \"30\", \"31\"], \"mode\": \"markers\", \"name\": \"AUC_binary\", \"stepped\": false, \"type\": \"scatter\", \"data\": [0.8530215617715617, 0.8828422965922966, 0.8240535853035853, 0.830994560994561, 0.8332514707514707, 0.7103814241314241, 0.8684694472194472, 0.8607185869685869, 0.821951936951937, 0.8710174547674547, 0.8420963758463758, 0.797984792984793, 0.826518759018759, 0.7446545121545122, 0.8460685148185149, 0.840749111999112, 0.8744147519147519, 0.8694182900432901, 0.8786378898878898, 0.8741616716616717, 0.8623544511044512, 0.8755304417804417, 0.8421776834276834, 0.8065564990564991, 0.8438066100566101, 0.568657523032523, 0.8461063936063936, 0.855298174048174, 0.8613881951381951, 0.8494537407037407, 0.9025013875013875, 0.8957373182373183]}, {\"categories\": [\"0\", \"1\", \"2\", \"3\", \"4\", \"5\", \"6\", \"7\", \"8\", \"9\", \"10\", \"11\", \"12\", \"13\", \"14\", \"15\", \"16\", \"17\", \"18\", \"19\", \"20\", \"21\", \"22\", \"23\", \"24\", \"25\", \"26\", \"27\", \"28\", \"29\", \"30\", \"31\"], \"mode\": \"lines\", \"name\": \"AUC_binary_max\", \"stepped\": true, \"type\": \"scatter\", \"data\": [0.8530215617715617, 0.8828422965922966, 0.8828422965922966, 0.8828422965922966, 0.8828422965922966, 0.8828422965922966, 0.8828422965922966, 0.8828422965922966, 0.8828422965922966, 0.8828422965922966, 0.8828422965922966, 0.8828422965922966, 0.8828422965922966, 0.8828422965922966, 0.8828422965922966, 0.8828422965922966, 0.8828422965922966, 0.8828422965922966, 0.8828422965922966, 0.8828422965922966, 0.8828422965922966, 0.8828422965922966, 0.8828422965922966, 0.8828422965922966, 0.8828422965922966, 0.8828422965922966, 0.8828422965922966, 0.8828422965922966, 0.8828422965922966, 0.8828422965922966, 0.9025013875013875, 0.9025013875013875]}], \"precision_score_binary\": [{\"categories\": [\"0\", \"1\", \"2\", \"3\", \"4\", \"5\", \"6\", \"7\", \"8\", \"9\", \"10\", \"11\", \"12\", \"13\", \"14\", \"15\", \"16\", \"17\", \"18\", \"19\", \"20\", \"21\", \"22\", \"23\", \"24\", \"25\", \"26\", \"27\", \"28\", \"29\", \"30\", \"31\"], \"mode\": \"markers\", \"name\": \"precision_score_binary\", \"stepped\": false, \"type\": \"scatter\", \"data\": [0.7706304112554112, 0.7532051282051282, 0.721702602952603, 0.7212752525252525, 0.7153846153846154, 0.6684704184704184, 0.7485916860916861, 0.7557269119769119, 0.7844246031746032, 0.7560585248085248, 0.7310245310245309, 0.7093406593406593, 0.7472853535353535, 0.6996843434343435, 0.7938762626262627, 0.7166396103896104, 0.797159090909091, 0.8009785353535355, 0.7801136363636363, 0.7957702020202021, 0.7455201048951049, 0.797041847041847, 0.7528769841269841, 0.6888378982128982, 0.7474237567987568, 0.5895604395604395, 0.7775883838383839, 0.7447587135087135, 0.7526744089244088, 0.7313762626262627, 0.7667332667332667, 0.6227442696192697]}, {\"categories\": [\"0\", \"1\", \"2\", \"3\", \"4\", \"5\", \"6\", \"7\", \"8\", \"9\", \"10\", \"11\", \"12\", \"13\", \"14\", \"15\", \"16\", \"17\", \"18\", \"19\", \"20\", \"21\", \"22\", \"23\", \"24\", \"25\", \"26\", \"27\", \"28\", \"29\", \"30\", \"31\"], \"mode\": \"lines\", \"name\": \"precision_score_binary_max\", \"stepped\": true, \"type\": \"scatter\", \"data\": [0.7706304112554112, 0.7706304112554112, 0.7706304112554112, 0.7706304112554112, 0.7706304112554112, 0.7706304112554112, 0.7706304112554112, 0.7706304112554112, 0.7844246031746032, 0.7844246031746032, 0.7844246031746032, 0.7844246031746032, 0.7844246031746032, 0.7844246031746032, 0.7938762626262627, 0.7938762626262627, 0.797159090909091, 0.8009785353535355, 0.8009785353535355, 0.8009785353535355, 0.8009785353535355, 0.8009785353535355, 0.8009785353535355, 0.8009785353535355, 0.8009785353535355, 0.8009785353535355, 0.8009785353535355, 0.8009785353535355, 0.8009785353535355, 0.8009785353535355, 0.8009785353535355, 0.8009785353535355]}], \"precision_score_micro\": [{\"categories\": [\"0\", \"1\", \"2\", \"3\", \"4\", \"5\", \"6\", \"7\", \"8\", \"9\", \"10\", \"11\", \"12\", \"13\", \"14\", \"15\", \"16\", \"17\", \"18\", \"19\", \"20\", \"21\", \"22\", \"23\", \"24\", \"25\", \"26\", \"27\", \"28\", \"29\", \"30\", \"31\"], \"mode\": \"markers\", \"name\": \"precision_score_micro\", \"stepped\": false, \"type\": \"scatter\", \"data\": [0.7875, 0.76875, 0.71875, 0.71875, 0.73125, 0.6125, 0.7625, 0.76875, 0.725, 0.76875, 0.7375, 0.725, 0.74375, 0.6625, 0.79375, 0.75, 0.79375, 0.79375, 0.8, 0.8, 0.7625, 0.80625, 0.75625, 0.7, 0.7625, 0.5062500000000001, 0.76875, 0.75625, 0.78125, 0.7562500000000001, 0.79375, 0.6812499999999999]}, {\"categories\": [\"0\", \"1\", \"2\", \"3\", \"4\", \"5\", \"6\", \"7\", \"8\", \"9\", \"10\", \"11\", \"12\", \"13\", \"14\", \"15\", \"16\", \"17\", \"18\", \"19\", \"20\", \"21\", \"22\", \"23\", \"24\", \"25\", \"26\", \"27\", \"28\", \"29\", \"30\", \"31\"], \"mode\": \"lines\", \"name\": \"precision_score_micro_max\", \"stepped\": true, \"type\": \"scatter\", \"data\": [0.7875, 0.7875, 0.7875, 0.7875, 0.7875, 0.7875, 0.7875, 0.7875, 0.7875, 0.7875, 0.7875, 0.7875, 0.7875, 0.7875, 0.79375, 0.79375, 0.79375, 0.79375, 0.8, 0.8, 0.8, 0.80625, 0.80625, 0.80625, 0.80625, 0.80625, 0.80625, 0.80625, 0.80625, 0.80625, 0.80625, 0.80625]}], \"f1_score_macro\": [{\"categories\": [\"0\", \"1\", \"2\", \"3\", \"4\", \"5\", \"6\", \"7\", \"8\", \"9\", \"10\", \"11\", \"12\", \"13\", \"14\", \"15\", \"16\", \"17\", \"18\", \"19\", \"20\", \"21\", \"22\", \"23\", \"24\", \"25\", \"26\", \"27\", \"28\", \"29\", \"30\", \"31\"], \"mode\": \"markers\", \"name\": \"f1_score_macro\", \"stepped\": false, \"type\": \"scatter\", \"data\": [0.7745335833557667, 0.7574658830049865, 0.7102484603487851, 0.7079502432150416, 0.7172109458209539, 0.6034409221267732, 0.7556288321048887, 0.7552561339732392, 0.7135476000607579, 0.7581918488232426, 0.7247788108378364, 0.7126661642451115, 0.7359501705453803, 0.6507347360494234, 0.783166617130433, 0.738969204528415, 0.7837021555893964, 0.7820736938500097, 0.7913121284173916, 0.7905496830619239, 0.7458901412148821, 0.7973035588724526, 0.7422404853718793, 0.6867007450846965, 0.7513955075590641, 0.4982561709240939, 0.7578241855295883, 0.7440051790115729, 0.7668030069345859, 0.7446874227588742, 0.7820974086063601, 0.64249859372266]}, {\"categories\": [\"0\", \"1\", \"2\", \"3\", \"4\", \"5\", \"6\", \"7\", \"8\", \"9\", \"10\", \"11\", \"12\", \"13\", \"14\", \"15\", \"16\", \"17\", \"18\", \"19\", \"20\", \"21\", \"22\", \"23\", \"24\", \"25\", \"26\", \"27\", \"28\", \"29\", \"30\", \"31\"], \"mode\": \"lines\", \"name\": \"f1_score_macro_max\", \"stepped\": true, \"type\": \"scatter\", \"data\": [0.7745335833557667, 0.7745335833557667, 0.7745335833557667, 0.7745335833557667, 0.7745335833557667, 0.7745335833557667, 0.7745335833557667, 0.7745335833557667, 0.7745335833557667, 0.7745335833557667, 0.7745335833557667, 0.7745335833557667, 0.7745335833557667, 0.7745335833557667, 0.783166617130433, 0.783166617130433, 0.7837021555893964, 0.7837021555893964, 0.7913121284173916, 0.7913121284173916, 0.7913121284173916, 0.7973035588724526, 0.7973035588724526, 0.7973035588724526, 0.7973035588724526, 0.7973035588724526, 0.7973035588724526, 0.7973035588724526, 0.7973035588724526, 0.7973035588724526, 0.7973035588724526, 0.7973035588724526]}], \"accuracy\": [{\"categories\": [\"0\", \"1\", \"2\", \"3\", \"4\", \"5\", \"6\", \"7\", \"8\", \"9\", \"10\", \"11\", \"12\", \"13\", \"14\", \"15\", \"16\", \"17\", \"18\", \"19\", \"20\", \"21\", \"22\", \"23\", \"24\", \"25\", \"26\", \"27\", \"28\", \"29\", \"30\", \"31\"], \"mode\": \"markers\", \"name\": \"accuracy\", \"stepped\": false, \"type\": \"scatter\", \"data\": [0.7875, 0.76875, 0.71875, 0.71875, 0.73125, 0.6125, 0.7625, 0.76875, 0.725, 0.76875, 0.7375, 0.725, 0.74375, 0.6625, 0.79375, 0.75, 0.79375, 0.79375, 0.8, 0.8, 0.7625, 0.80625, 0.75625, 0.7, 0.7625, 0.5062500000000001, 0.76875, 0.75625, 0.78125, 0.7562500000000001, 0.79375, 0.6812499999999999]}, {\"categories\": [\"0\", \"1\", \"2\", \"3\", \"4\", \"5\", \"6\", \"7\", \"8\", \"9\", \"10\", \"11\", \"12\", \"13\", \"14\", \"15\", \"16\", \"17\", \"18\", \"19\", \"20\", \"21\", \"22\", \"23\", \"24\", \"25\", \"26\", \"27\", \"28\", \"29\", \"30\", \"31\"], \"mode\": \"lines\", \"name\": \"accuracy_max\", \"stepped\": true, \"type\": \"scatter\", \"data\": [0.7875, 0.7875, 0.7875, 0.7875, 0.7875, 0.7875, 0.7875, 0.7875, 0.7875, 0.7875, 0.7875, 0.7875, 0.7875, 0.7875, 0.79375, 0.79375, 0.79375, 0.79375, 0.8, 0.8, 0.8, 0.80625, 0.80625, 0.80625, 0.80625, 0.80625, 0.80625, 0.80625, 0.80625, 0.80625, 0.80625, 0.80625]}], \"average_precision_score_binary\": [{\"categories\": [\"0\", \"1\", \"2\", \"3\", \"4\", \"5\", \"6\", \"7\", \"8\", \"9\", \"10\", \"11\", \"12\", \"13\", \"14\", \"15\", \"16\", \"17\", \"18\", \"19\", \"20\", \"21\", \"22\", \"23\", \"24\", \"25\", \"26\", \"27\", \"28\", \"29\", \"30\", \"31\"], \"mode\": \"markers\", \"name\": \"average_precision_score_binary\", \"stepped\": false, \"type\": \"scatter\", \"data\": [0.8824345906402611, 0.9048642917444517, 0.853455628939951, 0.8801311779278295, 0.8709342549213827, 0.7151471336823965, 0.8773557488138801, 0.8712740401366662, 0.8241208581863066, 0.8909054465883401, 0.8514252318776037, 0.801826110020291, 0.8653539103888606, 0.7577870714698999, 0.8471284555531478, 0.844473955495195, 0.8983772402058466, 0.88058248438929, 0.8893174157451118, 0.8920611233594979, 0.8950103158411435, 0.9054547436281182, 0.8188874244638018, 0.8092146123121823, 0.8536172120601946, 0.5868501232077913, 0.8577686609030877, 0.867291534336168, 0.8897161324822673, 0.8673184145043942, 0.9185647549618138, 0.9166033097712019]}, {\"categories\": [\"0\", \"1\", \"2\", \"3\", \"4\", \"5\", \"6\", \"7\", \"8\", \"9\", \"10\", \"11\", \"12\", \"13\", \"14\", \"15\", \"16\", \"17\", \"18\", \"19\", \"20\", \"21\", \"22\", \"23\", \"24\", \"25\", \"26\", \"27\", \"28\", \"29\", \"30\", \"31\"], \"mode\": \"lines\", \"name\": \"average_precision_score_binary_max\", \"stepped\": true, \"type\": \"scatter\", \"data\": [0.8824345906402611, 0.9048642917444517, 0.9048642917444517, 0.9048642917444517, 0.9048642917444517, 0.9048642917444517, 0.9048642917444517, 0.9048642917444517, 0.9048642917444517, 0.9048642917444517, 0.9048642917444517, 0.9048642917444517, 0.9048642917444517, 0.9048642917444517, 0.9048642917444517, 0.9048642917444517, 0.9048642917444517, 0.9048642917444517, 0.9048642917444517, 0.9048642917444517, 0.9048642917444517, 0.9054547436281182, 0.9054547436281182, 0.9054547436281182, 0.9054547436281182, 0.9054547436281182, 0.9054547436281182, 0.9054547436281182, 0.9054547436281182, 0.9054547436281182, 0.9185647549618138, 0.9185647549618138]}]}, \"metricName\": null, \"primaryMetricName\": \"AUC_weighted\", \"showLegend\": false}, \"run_metrics\": [{\"name\": \"precision_score_micro\", \"run_id\": \"AutoML_aa40e30d-67bd-4ec0-bfd1-a73363f924b1\", \"categories\": [0], \"series\": [{\"data\": [0.79375]}]}, {\"name\": \"f1_score_weighted\", \"run_id\": \"AutoML_aa40e30d-67bd-4ec0-bfd1-a73363f924b1\", \"categories\": [0], \"series\": [{\"data\": [0.7974514129424616]}]}, {\"name\": \"accuracy\", \"run_id\": \"AutoML_aa40e30d-67bd-4ec0-bfd1-a73363f924b1\", \"categories\": [0], \"series\": [{\"data\": [0.79375]}]}, {\"name\": \"AUC_micro\", \"run_id\": \"AutoML_aa40e30d-67bd-4ec0-bfd1-a73363f924b1\", \"categories\": [0], \"series\": [{\"data\": [0.8684375]}]}, {\"name\": \"f1_score_micro\", \"run_id\": \"AutoML_aa40e30d-67bd-4ec0-bfd1-a73363f924b1\", \"categories\": [0], \"series\": [{\"data\": [0.79375]}]}, {\"name\": \"precision_score_weighted\", \"run_id\": \"AutoML_aa40e30d-67bd-4ec0-bfd1-a73363f924b1\", \"categories\": [0], \"series\": [{\"data\": [0.8206603119103119]}]}, {\"name\": \"norm_macro_recall\", \"run_id\": \"AutoML_aa40e30d-67bd-4ec0-bfd1-a73363f924b1\", \"categories\": [0], \"series\": [{\"data\": [0.5981157731157731]}]}, {\"name\": \"precision_score_binary\", \"run_id\": \"AutoML_aa40e30d-67bd-4ec0-bfd1-a73363f924b1\", \"categories\": [0], \"series\": [{\"data\": [0.7667332667332667]}]}, {\"name\": \"f1_score_macro\", \"run_id\": \"AutoML_aa40e30d-67bd-4ec0-bfd1-a73363f924b1\", \"categories\": [0], \"series\": [{\"data\": [0.7820974086063601]}]}, {\"name\": \"f1_score_binary\", \"run_id\": \"AutoML_aa40e30d-67bd-4ec0-bfd1-a73363f924b1\", \"categories\": [0], \"series\": [{\"data\": [0.7882522814875756]}]}, {\"name\": \"precision_score_macro\", \"run_id\": \"AutoML_aa40e30d-67bd-4ec0-bfd1-a73363f924b1\", \"categories\": [0], \"series\": [{\"data\": [0.7862654706404706]}]}, {\"name\": \"matthews_correlation\", \"run_id\": \"AutoML_aa40e30d-67bd-4ec0-bfd1-a73363f924b1\", \"categories\": [0], \"series\": [{\"data\": [0.5847853638815983]}]}, {\"name\": \"recall_score_binary\", \"run_id\": \"AutoML_aa40e30d-67bd-4ec0-bfd1-a73363f924b1\", \"categories\": [0], \"series\": [{\"data\": [0.8276862026862026]}]}, {\"name\": \"AUC_binary\", \"run_id\": \"AutoML_aa40e30d-67bd-4ec0-bfd1-a73363f924b1\", \"categories\": [0], \"series\": [{\"data\": [0.9025013875013875]}]}, {\"name\": \"balanced_accuracy\", \"run_id\": \"AutoML_aa40e30d-67bd-4ec0-bfd1-a73363f924b1\", \"categories\": [0], \"series\": [{\"data\": [0.7990578865578866]}]}, {\"name\": \"AUC_weighted\", \"run_id\": \"AutoML_aa40e30d-67bd-4ec0-bfd1-a73363f924b1\", \"categories\": [0], \"series\": [{\"data\": [0.9025013875013874]}]}, {\"name\": \"average_precision_score_micro\", \"run_id\": \"AutoML_aa40e30d-67bd-4ec0-bfd1-a73363f924b1\", \"categories\": [0], \"series\": [{\"data\": [0.8700253767811009]}]}, {\"name\": \"recall_score_macro\", \"run_id\": \"AutoML_aa40e30d-67bd-4ec0-bfd1-a73363f924b1\", \"categories\": [0], \"series\": [{\"data\": [0.7990578865578866]}]}, {\"name\": \"average_precision_score_binary\", \"run_id\": \"AutoML_aa40e30d-67bd-4ec0-bfd1-a73363f924b1\", \"categories\": [0], \"series\": [{\"data\": [0.9185647549618138]}]}, {\"name\": \"recall_score_weighted\", \"run_id\": \"AutoML_aa40e30d-67bd-4ec0-bfd1-a73363f924b1\", \"categories\": [0], \"series\": [{\"data\": [0.79375]}]}, {\"name\": \"average_precision_score_macro\", \"run_id\": \"AutoML_aa40e30d-67bd-4ec0-bfd1-a73363f924b1\", \"categories\": [0], \"series\": [{\"data\": [0.8963843806790841]}]}, {\"name\": \"weighted_accuracy\", \"run_id\": \"AutoML_aa40e30d-67bd-4ec0-bfd1-a73363f924b1\", \"categories\": [0], \"series\": [{\"data\": [0.7885391028030357]}]}, {\"name\": \"AUC_macro\", \"run_id\": \"AutoML_aa40e30d-67bd-4ec0-bfd1-a73363f924b1\", \"categories\": [0], \"series\": [{\"data\": [0.9025013875013875]}]}, {\"name\": \"log_loss\", \"run_id\": \"AutoML_aa40e30d-67bd-4ec0-bfd1-a73363f924b1\", \"categories\": [0], \"series\": [{\"data\": [0.48400663464390703]}]}, {\"name\": \"average_precision_score_weighted\", \"run_id\": \"AutoML_aa40e30d-67bd-4ec0-bfd1-a73363f924b1\", \"categories\": [0], \"series\": [{\"data\": [0.9178450374176477]}]}, {\"name\": \"recall_score_micro\", \"run_id\": \"AutoML_aa40e30d-67bd-4ec0-bfd1-a73363f924b1\", \"categories\": [0], \"series\": [{\"data\": [0.79375]}]}], \"run_logs\": \"\\nRun is completed.\", \"graph\": {}, \"widget_settings\": {\"childWidgetDisplay\": \"popup\", \"send_telemetry\": false, \"log_level\": \"INFO\", \"sdk_version\": \"1.34.0\"}, \"loading\": false}"
     },
     "metadata": {},
     "output_type": "display_data"
    }
   ],
   "source": [
    "from azureml.widgets import RunDetails\n",
    "\n",
    "RunDetails(auto_ml_run).show()"
   ]
  },
  {
   "cell_type": "markdown",
   "metadata": {},
   "source": [
    "## Best Model\n",
    "\n",
    "TODO: In the cell below, get the best model from the automl experiments and display all the properties of the model.\n",
    "\n"
   ]
  },
  {
   "cell_type": "code",
   "execution_count": 13,
   "metadata": {
    "gather": {
     "logged": 1598431426111
    },
    "jupyter": {
     "outputs_hidden": false,
     "source_hidden": false
    },
    "nteract": {
     "transient": {
      "deleting": false
     }
    }
   },
   "outputs": [
    {
     "name": "stdout",
     "output_type": "stream",
     "text": [
      "[1]\n"
     ]
    },
    {
     "data": {
      "text/plain": [
       "['auto-ml-best_run.pkl']"
      ]
     },
     "execution_count": 13,
     "metadata": {},
     "output_type": "execute_result"
    }
   ],
   "source": [
    "#TODO: Save the best model\n",
    "import joblib\n",
    "import pandas as pd\n",
    "\n",
    "best_run,best_model = auto_ml_run.get_output()\n",
    "\n",
    "test_data = {\n",
    "    'danceability':0.273,\n",
    "    'energy':0.163,\n",
    "    'key':7,\n",
    "    'loudness':-15.889,\n",
    "    'mode':1,\n",
    "    'speechiness':0.0306,\n",
    "    'acousticness':0.853,\n",
    "    'instrumentalness':1.01e-06,\n",
    "    'liveness':0.0835,\n",
    "    'valence':0.202,\n",
    "    'tempo':68.994\n",
    "}\n",
    "\n",
    "# Convert data to dataframe and check if model is operational. The track specifications for the above track are ones I like. \n",
    "# Expecting model to output '1'\n",
    "test_data_df=pd.DataFrame([test_data])\n",
    "print(best_model.predict(test_data_df))\n",
    "\n",
    "joblib.dump(value=best_model,filename='auto-ml-best_run.pkl')"
   ]
  },
  {
   "cell_type": "markdown",
   "metadata": {},
   "source": [
    "## Model Deployment\n",
    "\n",
    "The first step in deployment requires us to register the model within the Azure Workspace."
   ]
  },
  {
   "cell_type": "code",
   "execution_count": 17,
   "metadata": {
    "gather": {
     "logged": 1598431435189
    },
    "jupyter": {
     "outputs_hidden": false,
     "source_hidden": false
    },
    "nteract": {
     "transient": {
      "deleting": false
     }
    }
   },
   "outputs": [
    {
     "name": "stdout",
     "output_type": "stream",
     "text": [
      "Model ID AutoMLaa40e30d630\n"
     ]
    }
   ],
   "source": [
    "# Register the model to deploy\n",
    "\n",
    "model_name = best_run.properties['model_name']\n",
    "description = 'AutoML model for predicting track recommendation'\n",
    "tags={'area': \"music\", 'type': \"classification\"}\n",
    "Auto_ML_model = auto_ml_run.register_model(model_name = model_name, \n",
    "                                  description = description, \n",
    "                                  tags = tags)\n",
    "\n",
    "print(\"Model ID\", auto_ml_run.model_id)"
   ]
  },
  {
   "cell_type": "markdown",
   "metadata": {},
   "source": [
    "# Set up environment\n",
    "\n",
    "This step inititates the environment in which the model will be deplyed. Azure has the environment files that contain the specific packages required to set up deployment."
   ]
  },
  {
   "cell_type": "code",
   "execution_count": 18,
   "metadata": {},
   "outputs": [],
   "source": [
    "from azureml.core.environment import Environment\n",
    "from azureml.automl.core.shared import constants\n",
    "\n",
    "best_run.download_file(constants.CONDA_ENV_FILE_PATH, 'AML_test_env.yml') # check if this is the correct file in the child run\n",
    "model_deploy_env = Environment.from_conda_specification(name=\"AML_test_env\", file_path=\"AML_test_env.yml\")"
   ]
  },
  {
   "cell_type": "markdown",
   "metadata": {},
   "source": [
    "Check that model is registered in the Azure workspace by selecting the **models** tab"
   ]
  },
  {
   "cell_type": "markdown",
   "metadata": {},
   "source": [
    "## Deploy model"
   ]
  },
  {
   "cell_type": "code",
   "execution_count": 19,
   "metadata": {},
   "outputs": [],
   "source": [
    "from azureml.core.model import InferenceConfig, Model\n",
    "from azureml.core import Environment\n",
    "from azureml.core.webservice import AciWebservice, Webservice"
   ]
  },
  {
   "cell_type": "markdown",
   "metadata": {},
   "source": [
    "## Instantiate the inference config"
   ]
  },
  {
   "cell_type": "markdown",
   "metadata": {},
   "source": [
    "The inference class requires a `entry_script`. We can obtain this file from the workspace by accessing the running experiment, selecting the most recent run and the most recent child run. In **outputs and logs**, Azure places the trained model, environment dependencies, environment file set-up as well as other useful files associated with the experiment."
   ]
  },
  {
   "cell_type": "code",
   "execution_count": 20,
   "metadata": {},
   "outputs": [],
   "source": [
    "best_run.download_file('outputs/scoring_file_v_1_0_0.py', 'inference/score.py')"
   ]
  },
  {
   "cell_type": "code",
   "execution_count": 21,
   "metadata": {},
   "outputs": [],
   "source": [
    "# Combine scoring script & environment in Inference configuration\n",
    "# Ensure that no duplicate models are registered in workspace\n",
    "\n",
    "inference_config = InferenceConfig(entry_script=\"./inference/score.py\",\n",
    "                                   environment=model_deploy_env)\n",
    "\n",
    "# Set deployment configuration\n",
    "aci_config = AciWebservice.deploy_configuration(cpu_cores = 1, \n",
    "                                               memory_gb = 1, \n",
    "                                               description = 'Spotify tracklist classification service')\n",
    "\n",
    "# Define the model, inference, & deployment configuration and web service name and location to deploy\n",
    "service = Model.deploy(workspace = ws,\n",
    "                       name = \"my-web-service\",\n",
    "                       models = [Auto_ML_model],\n",
    "                       inference_config = inference_config,\n",
    "                       deployment_config = aci_config)"
   ]
  },
  {
   "cell_type": "code",
   "execution_count": 22,
   "metadata": {},
   "outputs": [
    {
     "name": "stdout",
     "output_type": "stream",
     "text": [
      "Tips: You can try get_logs(): https://aka.ms/debugimage#dockerlog or local deployment: https://aka.ms/debugimage#debug-locally to debug if deployment takes longer than 10 minutes.\n",
      "Running\n",
      "2021-10-04 12:34:52+00:00 Creating Container Registry if not exists..\n",
      "2021-10-04 12:44:53+00:00 Registering the environment..\n",
      "2021-10-04 12:44:54+00:00 Building image..\n",
      "2021-10-04 12:56:11+00:00 Generating deployment configuration.\n",
      "2021-10-04 12:56:12+00:00 Submitting deployment to compute..\n",
      "2021-10-04 12:56:16+00:00 Checking the status of deployment my-web-service."
     ]
    },
    {
     "name": "stderr",
     "output_type": "stream",
     "text": [
      "WARNING:urllib3.connectionpool:Retrying (Retry(total=2, connect=2, read=3, redirect=None, status=None)) after connection broken by 'NewConnectionError('<urllib3.connection.HTTPSConnection object at 0x7fd818722940>: Failed to establish a new connection: [Errno 111] Connection refused',)': /history/v1.0/subscriptions/d7f39349-a66b-446e-aba6-0053c2cf1c11/resourceGroups/aml-quickstarts-159976/providers/Microsoft.MachineLearningServices/workspaces/quick-starts-ws-159976/experimentids/71084f8a-03f3-4297-acca-db6548a2c710/runs/AutoML_aa40e30d-67bd-4ec0-bfd1-a73363f924b1\n"
     ]
    },
    {
     "name": "stdout",
     "output_type": "stream",
     "text": [
      ".\n",
      "2021-10-04 13:01:11+00:00 Checking the status of inference endpoint my-web-service.\n",
      "Succeeded\n",
      "ACI service creation operation finished, operation \"Succeeded\"\n"
     ]
    }
   ],
   "source": [
    "service.wait_for_deployment(True)"
   ]
  },
  {
   "cell_type": "code",
   "execution_count": 139,
   "metadata": {},
   "outputs": [
    {
     "name": "stdout",
     "output_type": "stream",
     "text": [
      "LocalWebservice(workspace=Workspace.create(name='quick-starts-ws-159285', subscription_id='9a7511b8-150f-4a58-8528-3e7d50216c31', resource_group='aml-quickstarts-159285'), name=my-web-service, image_id=None, compute_type=None, state=Local, scoring_uri=deploying, tags=http://localhost:6789/score, properties=None, created_by=None)\n"
     ]
    }
   ],
   "source": [
    "print(service)"
   ]
  },
  {
   "cell_type": "markdown",
   "metadata": {
    "collapsed": true,
    "gather": {
     "logged": 1598431657736
    },
    "jupyter": {
     "outputs_hidden": false,
     "source_hidden": false
    },
    "nteract": {
     "transient": {
      "deleting": false
     }
    }
   },
   "source": [
    "TODO: In the cell below, send a request to the web service you deployed to test it."
   ]
  },
  {
   "cell_type": "code",
   "execution_count": 37,
   "metadata": {
    "gather": {
     "logged": 1598432707604
    },
    "jupyter": {
     "outputs_hidden": false,
     "source_hidden": false
    },
    "nteract": {
     "transient": {
      "deleting": false
     }
    }
   },
   "outputs": [
    {
     "name": "stdout",
     "output_type": "stream",
     "text": [
      "list index out of range\n"
     ]
    }
   ],
   "source": [
    "import requests\n",
    "import json\n",
    "\n",
    "uri = service.scoring_uri\n",
    "key=''\n",
    "\n",
    "{\n",
    "\"data\": [\n",
    "    {\n",
    "    \"danceability\":0.724,\n",
    "    \"energy\":0.6,\n",
    "    \"key\":1,\n",
    "    \"loudness\":-6.25,\n",
    "    \"mode\":0,\n",
    "    \"speechiness\":0.087,\n",
    "    \"acousticness\":0.28,\n",
    "    \"instrumentalness\":6.83e-05,\n",
    "    \"liveness\":0.108,\n",
    "    \"valence\":0.201,\n",
    "    \"tempo\":164.037\n",
    "    }\n",
    "  ],\n",
    "    \"method\":\"predict\" \n",
    "}\n",
    "\n",
    "input_data = json.dumps(data)\n",
    "\n",
    "headers = {\"Content-Type\": \"application/json\"}\n",
    "headers['Authorization'] = f'Bearer {key}' \n",
    "\n",
    "response = requests.post(uri, data=input_data, headers=headers)\n",
    "\n",
    "print(response.text)"
   ]
  },
  {
   "cell_type": "markdown",
   "metadata": {
    "collapsed": true,
    "gather": {
     "logged": 1598432765711
    },
    "jupyter": {
     "outputs_hidden": false,
     "source_hidden": false
    },
    "nteract": {
     "transient": {
      "deleting": false
     }
    }
   },
   "source": [
    "TODO: In the cell below, print the logs of the web service and delete the service"
   ]
  },
  {
   "cell_type": "code",
   "execution_count": 21,
   "metadata": {
    "jupyter": {
     "outputs_hidden": false,
     "source_hidden": false
    },
    "nteract": {
     "transient": {
      "deleting": false
     }
    }
   },
   "outputs": [
    {
     "name": "stdout",
     "output_type": "stream",
     "text": [
      "2021-09-17T13:53:38,963495688+00:00 - gunicorn/run \n",
      "Dynamic Python package installation is disabled.\n",
      "Starting HTTP server\n",
      "2021-09-17T13:53:38,964705385+00:00 - rsyslog/run \n",
      "2021-09-17T13:53:38,967305078+00:00 - nginx/run \n",
      "2021-09-17T13:53:38,970254370+00:00 - iot-server/run \n",
      "EdgeHubConnectionString and IOTEDGE_IOTHUBHOSTNAME are not set. Exiting...\n",
      "2021-09-17T13:53:39,065720959+00:00 - iot-server/finish 1 0\n",
      "2021-09-17T13:53:39,067174461+00:00 - Exit code 1 is normal. Not restarting iot-server.\n",
      "Starting gunicorn 20.1.0\n",
      "Listening at: http://127.0.0.1:31311 (12)\n",
      "Using worker: sync\n",
      "worker timeout is set to 300\n",
      "Booting worker with pid: 41\n",
      "SPARK_HOME not set. Skipping PySpark Initialization.\n",
      "Initializing logger\n",
      "2021-09-17 13:53:39,438 | root | INFO | Starting up app insights client\n",
      "logging socket was found. logging is available.\n",
      "logging socket was found. logging is available.\n",
      "2021-09-17 13:53:39,438 | root | INFO | Starting up request id generator\n",
      "2021-09-17 13:53:39,438 | root | INFO | Starting up app insight hooks\n",
      "2021-09-17 13:53:39,438 | root | INFO | Invoking user's init function\n",
      "This is init\n",
      "no request id,This is init\n",
      "\n",
      "2021-09-17 13:53:39,438 | root | INFO | Users's init has completed successfully\n",
      "2021-09-17 13:53:39,440 | root | INFO | Skipping middleware: dbg_model_info as it's not enabled.\n",
      "2021-09-17 13:53:39,441 | root | INFO | Skipping middleware: dbg_resource_usage as it's not enabled.\n",
      "2021-09-17 13:53:39,442 | root | INFO | Scoring timeout setting is not found. Use default timeout: 3600000 ms\n",
      "2021-09-17 13:55:48,186 | root | INFO | Scoring Timer is set to 3600.0 seconds\n",
      "received data {'query': 'What color is the fox', 'context': 'The quick brown fox jumped over the lazy dog.'}\n",
      "a73adc72-a954-4ddc-b0d1-297d7a29def3,received data {'query': 'What color is the fox', 'context': 'The quick brown fox jumped over the lazy dog.'}\n",
      "\n",
      "2021-09-17 13:55:48,186 | root | INFO | 200\n",
      "127.0.0.1 - - [17/Sep/2021:13:55:48 +0000] \"POST /score HTTP/1.0\" 200 104 \"-\" \"python-requests/2.26.0\"\n",
      "2021-09-17 14:01:24,916 | root | INFO | Scoring Timer is set to 3600.0 seconds\n",
      "received data {'danceability': 0.724, 'energy': 0.6, 'key': 1, 'loudness': -6.25, 'mode': 0, 'speechiness': 0.087, 'acousticness': 0.28, 'instrumentalness': 6.83e-05, 'liveness': 0.108, 'valence': 0.201, 'tempo': 164.037}\n",
      "c8a82968-4fba-4891-9c9e-dbace06c5317,received data {'danceability': 0.724, 'energy': 0.6, 'key': 1, 'loudness': -6.25, 'mode': 0, 'speechiness': 0.087, 'acousticness': 0.28, 'instrumentalness': 6.83e-05, 'liveness': 0.108, 'valence': 0.201, 'tempo': 164.037}\n",
      "\n",
      "2021-09-17 14:01:24,916 | root | INFO | 200\n",
      "127.0.0.1 - - [17/Sep/2021:14:01:24 +0000] \"POST /score HTTP/1.0\" 200 217 \"-\" \"python-requests/2.26.0\"\n",
      "2021-09-17 14:05:40,363 | root | INFO | Scoring Timer is set to 3600.0 seconds\n",
      "received data {'danceability': 0.724, 'energy': 0.6, 'key': 1, 'loudness': -6.25, 'mode': 0, 'speechiness': 0.087, 'acousticness': 0.28, 'instrumentalness': 6.83e-05, 'liveness': 0.108, 'valence': 0.201, 'tempo': 164.037}\n",
      "d269ac17-937f-4bc2-ade8-be5ee16d5c2c,received data {'danceability': 0.724, 'energy': 0.6, 'key': 1, 'loudness': -6.25, 'mode': 0, 'speechiness': 0.087, 'acousticness': 0.28, 'instrumentalness': 6.83e-05, 'liveness': 0.108, 'valence': 0.201, 'tempo': 164.037}\n",
      "\n",
      "2021-09-17 14:05:40,364 | root | INFO | 200\n",
      "127.0.0.1 - - [17/Sep/2021:14:05:40 +0000] \"POST /score HTTP/1.0\" 200 217 \"-\" \"python-requests/2.26.0\"\n",
      "\n"
     ]
    }
   ],
   "source": [
    "print(service.get_logs())"
   ]
  },
  {
   "cell_type": "code",
   "execution_count": null,
   "metadata": {},
   "outputs": [],
   "source": [
    "service.delete()\n",
    "model.delete()"
   ]
  }
 ],
 "metadata": {
  "kernel_info": {
   "name": "python3-azureml"
  },
  "kernelspec": {
   "display_name": "Python 3",
   "language": "python",
   "name": "python3"
  },
  "language_info": {
   "codemirror_mode": {
    "name": "ipython",
    "version": 3
   },
   "file_extension": ".py",
   "mimetype": "text/x-python",
   "name": "python",
   "nbconvert_exporter": "python",
   "pygments_lexer": "ipython3",
   "version": "3.6.9"
  },
  "nteract": {
   "version": "nteract-front-end@1.0.0"
  }
 },
 "nbformat": 4,
 "nbformat_minor": 2
}
