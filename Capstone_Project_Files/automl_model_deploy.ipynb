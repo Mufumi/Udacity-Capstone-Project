{
 "cells": [
  {
   "cell_type": "markdown",
   "metadata": {},
   "source": [
    "# Automated ML\n",
    "\n",
    "Importing Dependencies"
   ]
  },
  {
   "cell_type": "code",
   "execution_count": 1,
   "metadata": {
    "gather": {
     "logged": 1598423888013
    },
    "jupyter": {
     "outputs_hidden": false,
     "source_hidden": false
    },
    "nteract": {
     "transient": {
      "deleting": false
     }
    }
   },
   "outputs": [],
   "source": [
    "from azureml.core.workspace import Workspace\n",
    "from azureml.core.dataset import Dataset\n",
    "from azureml.core.experiment import Experiment\n",
    "from azureml.train.automl import AutoMLConfig\n",
    "from azureml.widgets import RunDetails\n",
    "from sklearn.model_selection import train_test_split\n",
    "from sklearn.metrics import mean_squared_error"
   ]
  },
  {
   "cell_type": "markdown",
   "metadata": {},
   "source": [
    "# Initialize workspace"
   ]
  },
  {
   "cell_type": "code",
   "execution_count": 2,
   "metadata": {},
   "outputs": [],
   "source": [
    "ws = Workspace.from_config()"
   ]
  },
  {
   "cell_type": "markdown",
   "metadata": {},
   "source": [
    "# Optional: Creating a AMLCompute cluster"
   ]
  },
  {
   "cell_type": "markdown",
   "metadata": {},
   "source": [
    "This step is optional. If you want to instantiate the AutoML compute cluster using the Python SDK, you can run the following code. However, once a compute instance is initiated within Designer, you don;t have to execute this step\n",
    "\n",
    "`from azureml.core.compute import AmlCompute\n",
    "from azureml.core.compute import ComputeTarget\n",
    "from azureml.core.compute_target import ComputeTargetException`\n",
    "\n",
    "### Update the cluster name to match the existing cluster\n",
    "### Choose a name for your CPU cluster\n",
    "`amlcompute_cluster_name = \"Auto-ML-Compute\"`\n",
    "\n",
    "### Verify that cluster does not exist already\n",
    "`try:\n",
    "    compute_target = ComputeTarget(workspace=ws, name=amlcompute_cluster_name)\n",
    "    print('Found existing cluster, use it.')\n",
    "except ComputeTargetException:\n",
    "    compute_config = AmlCompute.provisioning_configuration(vm_size='STANDARD_D2_V2',# for GPU, use \"STANDARD_NC6\"\n",
    "                                                           #vm_priority = 'lowpriority', # optional\n",
    "                                                           max_nodes=4)\n",
    "    compute_target = ComputeTarget.create(ws, amlcompute_cluster_name, compute_config)\n",
    "`\n",
    "`compute_target.wait_for_completion(show_output=True, min_node_count = 1, timeout_in_minutes = 10)`\n",
    "\n",
    "For a more detailed view of current AmlCompute status, use `get_status().`"
   ]
  },
  {
   "cell_type": "markdown",
   "metadata": {},
   "source": [
    "## Dataset\n",
    "\n",
    "### Overview\n",
    "\n",
    " This experiment is run on custom Spotify data that includes a list of 'liked' tracks as well as disliked tracks. The Spotify API featurizes tracks according to \"danceability\",\"energy\",\"key\",\"loudness\",\"mode\",\"speechiness\",\"acousticness\",\"instrumentalness\",\"liveness\",\"valence\",\"tempo\"\n",
    "\n",
    "A TabularDataset is then created using TabularDatasetFactory using the 'from_delimited_files()' method to pass a csv into a data structure Azure can work with\n",
    "\n",
    "The dataset is then registered into AzureML workspace"
   ]
  },
  {
   "cell_type": "code",
   "execution_count": 3,
   "metadata": {},
   "outputs": [],
   "source": [
    "from azureml.data.dataset_factory import TabularDatasetFactory\n",
    "\n",
    "auto_ml_url_path='https://raw.githubusercontent.com/Mufumi/Udacity-Capstone-Project/main/Spotify_playlist/spotify_playlist.csv'\n",
    "auto_ml_ds = TabularDatasetFactory.from_delimited_files(path=auto_ml_url_path)\n",
    "\n",
    "auto_ml_ds = auto_ml_ds.register(workspace=ws,\n",
    "                                 name='auto_ml_ds',\n",
    "                                 description='auto_ml experiment training data')\n",
    "\n",
    "auto_ml_df = auto_ml_ds.to_pandas_dataframe()"
   ]
  },
  {
   "cell_type": "code",
   "execution_count": 4,
   "metadata": {},
   "outputs": [
    {
     "data": {
      "text/html": [
       "<div>\n",
       "<style scoped>\n",
       "    .dataframe tbody tr th:only-of-type {\n",
       "        vertical-align: middle;\n",
       "    }\n",
       "\n",
       "    .dataframe tbody tr th {\n",
       "        vertical-align: top;\n",
       "    }\n",
       "\n",
       "    .dataframe thead th {\n",
       "        text-align: right;\n",
       "    }\n",
       "</style>\n",
       "<table border=\"1\" class=\"dataframe\">\n",
       "  <thead>\n",
       "    <tr style=\"text-align: right;\">\n",
       "      <th></th>\n",
       "      <th>danceability</th>\n",
       "      <th>energy</th>\n",
       "      <th>key</th>\n",
       "      <th>loudness</th>\n",
       "      <th>mode</th>\n",
       "      <th>speechiness</th>\n",
       "      <th>acousticness</th>\n",
       "      <th>instrumentalness</th>\n",
       "      <th>liveness</th>\n",
       "      <th>valence</th>\n",
       "      <th>tempo</th>\n",
       "      <th>liked</th>\n",
       "    </tr>\n",
       "  </thead>\n",
       "  <tbody>\n",
       "    <tr>\n",
       "      <th>0</th>\n",
       "      <td>0.273</td>\n",
       "      <td>0.163</td>\n",
       "      <td>7</td>\n",
       "      <td>-15.889</td>\n",
       "      <td>1</td>\n",
       "      <td>0.0306</td>\n",
       "      <td>0.853</td>\n",
       "      <td>0.000001</td>\n",
       "      <td>0.0835</td>\n",
       "      <td>0.202</td>\n",
       "      <td>68.994</td>\n",
       "      <td>1</td>\n",
       "    </tr>\n",
       "    <tr>\n",
       "      <th>1</th>\n",
       "      <td>0.784</td>\n",
       "      <td>0.750</td>\n",
       "      <td>7</td>\n",
       "      <td>-6.815</td>\n",
       "      <td>1</td>\n",
       "      <td>0.0459</td>\n",
       "      <td>0.233</td>\n",
       "      <td>0.210000</td>\n",
       "      <td>0.1070</td>\n",
       "      <td>0.358</td>\n",
       "      <td>130.024</td>\n",
       "      <td>0</td>\n",
       "    </tr>\n",
       "    <tr>\n",
       "      <th>2</th>\n",
       "      <td>0.572</td>\n",
       "      <td>0.209</td>\n",
       "      <td>8</td>\n",
       "      <td>-10.413</td>\n",
       "      <td>1</td>\n",
       "      <td>0.0313</td>\n",
       "      <td>0.765</td>\n",
       "      <td>0.000000</td>\n",
       "      <td>0.3560</td>\n",
       "      <td>0.446</td>\n",
       "      <td>80.069</td>\n",
       "      <td>1</td>\n",
       "    </tr>\n",
       "    <tr>\n",
       "      <th>3</th>\n",
       "      <td>0.583</td>\n",
       "      <td>0.625</td>\n",
       "      <td>1</td>\n",
       "      <td>-8.011</td>\n",
       "      <td>1</td>\n",
       "      <td>0.2770</td>\n",
       "      <td>0.506</td>\n",
       "      <td>0.000000</td>\n",
       "      <td>0.1960</td>\n",
       "      <td>0.516</td>\n",
       "      <td>89.812</td>\n",
       "      <td>1</td>\n",
       "    </tr>\n",
       "    <tr>\n",
       "      <th>4</th>\n",
       "      <td>0.716</td>\n",
       "      <td>0.712</td>\n",
       "      <td>4</td>\n",
       "      <td>-6.247</td>\n",
       "      <td>1</td>\n",
       "      <td>0.1280</td>\n",
       "      <td>0.218</td>\n",
       "      <td>0.000000</td>\n",
       "      <td>0.1120</td>\n",
       "      <td>0.562</td>\n",
       "      <td>84.978</td>\n",
       "      <td>0</td>\n",
       "    </tr>\n",
       "  </tbody>\n",
       "</table>\n",
       "</div>"
      ],
      "text/plain": [
       "   danceability  energy  key  loudness  mode  speechiness  acousticness  \\\n",
       "0         0.273   0.163    7   -15.889     1       0.0306         0.853   \n",
       "1         0.784   0.750    7    -6.815     1       0.0459         0.233   \n",
       "2         0.572   0.209    8   -10.413     1       0.0313         0.765   \n",
       "3         0.583   0.625    1    -8.011     1       0.2770         0.506   \n",
       "4         0.716   0.712    4    -6.247     1       0.1280         0.218   \n",
       "\n",
       "   instrumentalness  liveness  valence    tempo  liked  \n",
       "0          0.000001    0.0835    0.202   68.994      1  \n",
       "1          0.210000    0.1070    0.358  130.024      0  \n",
       "2          0.000000    0.3560    0.446   80.069      1  \n",
       "3          0.000000    0.1960    0.516   89.812      1  \n",
       "4          0.000000    0.1120    0.562   84.978      0  "
      ]
     },
     "execution_count": 4,
     "metadata": {},
     "output_type": "execute_result"
    }
   ],
   "source": [
    "auto_ml_df.head()"
   ]
  },
  {
   "cell_type": "markdown",
   "metadata": {},
   "source": [
    "### Splitting the Data into a training and test set"
   ]
  },
  {
   "cell_type": "code",
   "execution_count": 5,
   "metadata": {},
   "outputs": [],
   "source": [
    "X_train, X_test = train_test_split(auto_ml_df, test_size=0.2, random_state=15)"
   ]
  },
  {
   "cell_type": "markdown",
   "metadata": {},
   "source": [
    "# Setting up the AutoML config"
   ]
  },
  {
   "cell_type": "markdown",
   "metadata": {},
   "source": [
    "An early `stopping_policy` was set to `True` so that underperforming models could be aborted. The `primary_metric` was set to `AUC_weighted` which is appropriate for classification problems. Automatic featurization of the data was enabled with the data considered to be standardized."
   ]
  },
  {
   "cell_type": "code",
   "execution_count": 6,
   "metadata": {},
   "outputs": [],
   "source": [
    "automl_settings = {\n",
    "    \"enable_early_stopping\": True,\n",
    "    \"primary_metric\": 'AUC_weighted',\n",
    "    \"featurization\": 'auto',\n",
    "    \"n_cross_validations\": 8,\n",
    "}"
   ]
  },
  {
   "cell_type": "markdown",
   "metadata": {},
   "source": [
    "`experiment_timeout_minutes` was set to 30 in order to minimize run cost, with the `task` selected as a `classfication` task. This is because our target variable will either be **True** or **False**"
   ]
  },
  {
   "cell_type": "code",
   "execution_count": 7,
   "metadata": {},
   "outputs": [],
   "source": [
    "\n",
    "automl_config = AutoMLConfig(\n",
    "    experiment_timeout_minutes=30,\n",
    "    task=\"classification\",\n",
    "    training_data=X_train,\n",
    "    label_column_name=\"liked\",**automl_settings)"
   ]
  },
  {
   "cell_type": "code",
   "execution_count": 8,
   "metadata": {
    "gather": {
     "logged": 1598423890461
    },
    "jupyter": {
     "outputs_hidden": false,
     "source_hidden": false
    },
    "nteract": {
     "transient": {
      "deleting": false
     }
    }
   },
   "outputs": [
    {
     "name": "stdout",
     "output_type": "stream",
     "text": [
      "No run_configuration provided, running on local with default configuration\n",
      "Running in the active local environment.\n"
     ]
    },
    {
     "data": {
      "text/html": [
       "<table style=\"width:100%\"><tr><th>Experiment</th><th>Id</th><th>Type</th><th>Status</th><th>Details Page</th><th>Docs Page</th></tr><tr><td>auto_ml_experiment</td><td>AutoML_808d8d01-7318-463f-accb-7df463e309cb</td><td>automl</td><td>Preparing</td><td><a href=\"https://ml.azure.com/runs/AutoML_808d8d01-7318-463f-accb-7df463e309cb?wsid=/subscriptions/3e42d11f-d64d-4173-af9b-12ecaa1030b3/resourcegroups/aml-quickstarts-160175/workspaces/quick-starts-ws-160175&amp;tid=660b3398-b80e-49d2-bc5b-ac1dc93b5254\" target=\"_blank\" rel=\"noopener\">Link to Azure Machine Learning studio</a></td><td><a href=\"https://docs.microsoft.com/en-us/python/api/overview/azure/ml/intro?view=azure-ml-py\" target=\"_blank\" rel=\"noopener\">Link to Documentation</a></td></tr></table>"
      ],
      "text/plain": [
       "<IPython.core.display.HTML object>"
      ]
     },
     "metadata": {},
     "output_type": "display_data"
    },
    {
     "name": "stdout",
     "output_type": "stream",
     "text": [
      "Current status: DatasetEvaluation. Gathering dataset statistics.\n",
      "Current status: FeaturesGeneration. Generating features for the dataset.\n",
      "Current status: DatasetFeaturization. Beginning to fit featurizers and featurize the dataset.\n",
      "Current status: DatasetFeaturizationCompleted. Completed fit featurizers and featurizing the dataset.\n",
      "Current status: DatasetCrossValidationSplit. Generating individually featurized CV splits.\n",
      "\n",
      "****************************************************************************************************\n",
      "DATA GUARDRAILS: \n",
      "\n",
      "TYPE:         Class balancing detection\n",
      "STATUS:       PASSED\n",
      "DESCRIPTION:  Your inputs were analyzed, and all classes are balanced in your training data.\n",
      "              Learn more about imbalanced data: https://aka.ms/AutomatedMLImbalancedData\n",
      "\n",
      "****************************************************************************************************\n",
      "\n",
      "TYPE:         Missing feature values imputation\n",
      "STATUS:       PASSED\n",
      "DESCRIPTION:  No feature missing values were detected in the training data.\n",
      "              Learn more about missing value imputation: https://aka.ms/AutomatedMLFeaturization\n",
      "\n",
      "****************************************************************************************************\n",
      "\n",
      "TYPE:         High cardinality feature detection\n",
      "STATUS:       PASSED\n",
      "DESCRIPTION:  Your inputs were analyzed, and no high cardinality features were detected.\n",
      "              Learn more about high cardinality feature handling: https://aka.ms/AutomatedMLFeaturization\n",
      "\n",
      "****************************************************************************************************\n",
      "Current status: ModelSelection. Beginning model selection.\n",
      "\n",
      "****************************************************************************************************\n",
      "ITERATION: The iteration being evaluated.\n",
      "PIPELINE: A summary description of the pipeline being evaluated.\n",
      "DURATION: Time taken for the current iteration.\n",
      "METRIC: The result of computing score on the fitted pipeline.\n",
      "BEST: The best observed score thus far.\n",
      "****************************************************************************************************\n",
      "\n",
      " ITERATION   PIPELINE                                       DURATION      METRIC      BEST\n",
      "         0   MaxAbsScaler LightGBM                          0:00:22       0.8530    0.8530\n",
      "         1   MaxAbsScaler XGBoostClassifier                 0:00:23       0.8828    0.8828\n",
      "         2   MaxAbsScaler ExtremeRandomTrees                0:00:22       0.8594    0.8828\n",
      "         3   MaxAbsScaler RandomForest                      0:00:22       0.8620    0.8828\n",
      "         4   StandardScalerWrapper LightGBM                 0:00:22       0.8333    0.8828\n",
      "         5   StandardScalerWrapper KNN                      0:00:23       0.7104    0.8828\n",
      "         6   SparseNormalizer XGBoostClassifier             0:00:22       0.8685    0.8828\n",
      "         7   SparseNormalizer RandomForest                  0:00:24       0.8719    0.8828\n",
      "         8   RobustScaler KNN                               0:00:22       0.8220    0.8828\n",
      "         9   MinMaxScaler RandomForest                      0:00:24       0.8661    0.8828\n",
      "        10   StandardScalerWrapper LogisticRegression       0:00:22       0.8421    0.8828\n",
      "        11   StandardScalerWrapper SVM                      0:00:22       0.7980    0.8828\n",
      "        12   StandardScalerWrapper XGBoostClassifier        0:00:22       0.8265    0.8828\n",
      "        13   SparseNormalizer KNN                           0:00:22       0.7447    0.8828\n",
      "        14   RobustScaler ExtremeRandomTrees                0:00:24       0.8387    0.8828\n",
      "        15   SparseNormalizer XGBoostClassifier             0:00:22       0.8407    0.8828\n",
      "        16   MinMaxScaler ExtremeRandomTrees                0:00:23       0.8616    0.8828\n",
      "        17   MinMaxScaler ExtremeRandomTrees                0:00:23       0.8645    0.8828\n",
      "        18   SparseNormalizer LightGBM                      0:00:22       0.8786    0.8828\n",
      "        19   MaxAbsScaler ExtremeRandomTrees                0:00:28       0.8718    0.8828\n",
      "        20   StandardScalerWrapper XGBoostClassifier        0:00:22       0.8624    0.8828\n",
      "        21   StandardScalerWrapper RandomForest             0:00:24       0.8757    0.8828\n",
      "        22   StandardScalerWrapper LogisticRegression       0:00:22       0.8422    0.8828\n",
      "        23   RobustScaler SVM                               0:00:22       0.8072    0.8828\n",
      "        24   MaxAbsScaler ExtremeRandomTrees                0:00:29       0.8573    0.8828\n",
      "        25   PCA XGBoostClassifier                          0:00:23       0.5687    0.8828\n",
      "        26   StandardScalerWrapper SVM                      0:00:23       0.8438    0.8828\n",
      "        27   StandardScalerWrapper SVM                      0:00:23       0.8461    0.8828\n",
      "        28   StandardScalerWrapper GradientBoosting         0:00:26       0.8558    0.8828\n",
      "        29   StandardScalerWrapper XGBoostClassifier        0:00:23       0.8614    0.8828\n",
      "        30   VotingEnsemble                                 0:00:30       0.9055    0.9055\n",
      "        31   StackEnsemble                                  0:00:33       0.8900    0.9055\n",
      "Stopping criteria reached at iteration 32. Ending experiment.\n",
      "****************************************************************************************************\n",
      "Current status: BestRunExplainModel. Best run model explanations started\n",
      "Current status: ModelExplanationDataSetSetup. Model explanations data setup completed\n",
      "Current status: PickSurrogateModel. Choosing LightGBM as the surrogate model for explanations\n",
      "Current status: EngineeredFeatureExplanations. Computation of engineered features started\n",
      "Current status: EngineeredFeatureExplanations. Computation of engineered features completed\n",
      "Current status: RawFeaturesExplanations. Computation of raw features started\n",
      "Current status: RawFeaturesExplanations. Computation of raw features completed\n",
      "Current status: BestRunExplainModel. Best run model explanations completed\n",
      "****************************************************************************************************\n"
     ]
    }
   ],
   "source": [
    "#Submitting the experiment\n",
    "\n",
    "auto_ml_experiment=Experiment(ws,\"auto_ml_experiment\")\n",
    "\n",
    "# Submitting the automl run\n",
    "auto_ml_run=auto_ml_experiment.submit(config=automl_config,show_output=True)"
   ]
  },
  {
   "cell_type": "markdown",
   "metadata": {},
   "source": [
    "## Run Details\n",
    "\n",
    "OPTIONAL: Write about the different models trained and their performance. Why do you think some models did better than others?\n",
    "\n",
    "TODO: In the cell below, use the `RunDetails` widget to show the different experiments."
   ]
  },
  {
   "cell_type": "code",
   "execution_count": 9,
   "metadata": {
    "gather": {
     "logged": 1598431121770
    },
    "jupyter": {
     "outputs_hidden": false,
     "source_hidden": false
    },
    "nteract": {
     "transient": {
      "deleting": false
     }
    }
   },
   "outputs": [
    {
     "data": {
      "application/vnd.jupyter.widget-view+json": {
       "model_id": "09cfbb86b9c44e1cba16a5ebb4a76b70",
       "version_major": 2,
       "version_minor": 0
      },
      "text/plain": [
       "_AutoMLWidget(widget_settings={'childWidgetDisplay': 'popup', 'send_telemetry': False, 'log_level': 'INFO', 's…"
      ]
     },
     "metadata": {},
     "output_type": "display_data"
    },
    {
     "data": {
      "application/aml.mini.widget.v1": "{\"status\": \"Completed\", \"workbench_run_details_uri\": \"https://ml.azure.com/runs/AutoML_808d8d01-7318-463f-accb-7df463e309cb?wsid=/subscriptions/3e42d11f-d64d-4173-af9b-12ecaa1030b3/resourcegroups/aml-quickstarts-160175/workspaces/quick-starts-ws-160175&tid=660b3398-b80e-49d2-bc5b-ac1dc93b5254\", \"run_id\": \"AutoML_808d8d01-7318-463f-accb-7df463e309cb\", \"run_properties\": {\"run_id\": \"AutoML_808d8d01-7318-463f-accb-7df463e309cb\", \"created_utc\": \"2021-10-06T13:23:37.910774Z\", \"properties\": {\"num_iterations\": \"1000\", \"training_type\": \"TrainFull\", \"acquisition_function\": \"EI\", \"primary_metric\": \"AUC_weighted\", \"train_split\": \"0\", \"acquisition_parameter\": \"0\", \"num_cross_validation\": \"8\", \"target\": \"local\", \"AMLSettingsJsonString\": \"{\\\"path\\\":null,\\\"name\\\":\\\"auto_ml_experiment\\\",\\\"subscription_id\\\":\\\"3e42d11f-d64d-4173-af9b-12ecaa1030b3\\\",\\\"resource_group\\\":\\\"aml-quickstarts-160175\\\",\\\"workspace_name\\\":\\\"quick-starts-ws-160175\\\",\\\"region\\\":\\\"southcentralus\\\",\\\"compute_target\\\":\\\"local\\\",\\\"spark_service\\\":null,\\\"azure_service\\\":\\\"Microsoft.AzureNotebookVM\\\",\\\"many_models\\\":false,\\\"pipeline_fetch_max_batch_size\\\":1,\\\"enable_batch_run\\\":false,\\\"enable_run_restructure\\\":false,\\\"start_auxiliary_runs_before_parent_complete\\\":false,\\\"enable_code_generation\\\":false,\\\"iterations\\\":1000,\\\"primary_metric\\\":\\\"AUC_weighted\\\",\\\"task_type\\\":\\\"classification\\\",\\\"data_script\\\":null,\\\"test_size\\\":0.0,\\\"test_include_predictions_only\\\":false,\\\"validation_size\\\":0.0,\\\"n_cross_validations\\\":8,\\\"y_min\\\":null,\\\"y_max\\\":null,\\\"num_classes\\\":null,\\\"featurization\\\":\\\"auto\\\",\\\"_ignore_package_version_incompatibilities\\\":false,\\\"is_timeseries\\\":false,\\\"max_cores_per_iteration\\\":1,\\\"max_concurrent_iterations\\\":1,\\\"iteration_timeout_minutes\\\":null,\\\"mem_in_mb\\\":null,\\\"enforce_time_on_windows\\\":false,\\\"experiment_timeout_minutes\\\":30,\\\"experiment_exit_score\\\":null,\\\"whitelist_models\\\":null,\\\"blacklist_algos\\\":[\\\"TensorFlowLinearClassifier\\\",\\\"TensorFlowDNN\\\"],\\\"supported_models\\\":[\\\"XGBoostClassifier\\\",\\\"SGD\\\",\\\"GradientBoosting\\\",\\\"RandomForest\\\",\\\"MultinomialNaiveBayes\\\",\\\"BernoulliNaiveBayes\\\",\\\"LinearSVM\\\",\\\"AveragedPerceptronClassifier\\\",\\\"DecisionTree\\\",\\\"SVM\\\",\\\"LightGBM\\\",\\\"LogisticRegression\\\",\\\"TensorFlowDNN\\\",\\\"TensorFlowLinearClassifier\\\",\\\"KNN\\\",\\\"ExtremeRandomTrees\\\"],\\\"private_models\\\":[],\\\"auto_blacklist\\\":true,\\\"blacklist_samples_reached\\\":false,\\\"exclude_nan_labels\\\":true,\\\"verbosity\\\":20,\\\"_debug_log\\\":\\\"automl.log\\\",\\\"show_warnings\\\":false,\\\"model_explainability\\\":true,\\\"service_url\\\":null,\\\"sdk_url\\\":null,\\\"sdk_packages\\\":null,\\\"enable_onnx_compatible_models\\\":false,\\\"enable_split_onnx_featurizer_estimator_models\\\":false,\\\"vm_type\\\":null,\\\"telemetry_verbosity\\\":20,\\\"send_telemetry\\\":true,\\\"enable_dnn\\\":false,\\\"scenario\\\":\\\"SDK-1.13.0\\\",\\\"environment_label\\\":null,\\\"save_mlflow\\\":false,\\\"force_text_dnn\\\":false,\\\"enable_feature_sweeping\\\":true,\\\"enable_early_stopping\\\":true,\\\"early_stopping_n_iters\\\":10,\\\"metrics\\\":null,\\\"enable_metric_confidence\\\":false,\\\"enable_ensembling\\\":true,\\\"enable_stack_ensembling\\\":true,\\\"ensemble_iterations\\\":15,\\\"enable_tf\\\":false,\\\"enable_subsampling\\\":null,\\\"subsample_seed\\\":null,\\\"enable_nimbusml\\\":false,\\\"enable_streaming\\\":false,\\\"force_streaming\\\":false,\\\"track_child_runs\\\":true,\\\"allowed_private_models\\\":[],\\\"label_column_name\\\":\\\"liked\\\",\\\"weight_column_name\\\":null,\\\"cv_split_column_names\\\":null,\\\"positive_label\\\":null,\\\"enable_local_managed\\\":false,\\\"_local_managed_run_id\\\":null,\\\"cost_mode\\\":1,\\\"lag_length\\\":0,\\\"metric_operation\\\":\\\"maximize\\\",\\\"preprocess\\\":true}\", \"DataPrepJsonString\": null, \"EnableSubsampling\": null, \"runTemplate\": \"AutoML\", \"azureml.runsource\": \"automl\", \"display_task_type\": \"classification\", \"dependencies_versions\": \"{\\\"azureml-widgets\\\": \\\"1.34.0\\\", \\\"azureml-train\\\": \\\"1.34.0\\\", \\\"azureml-train-restclients-hyperdrive\\\": \\\"1.34.0\\\", \\\"azureml-train-core\\\": \\\"1.34.0\\\", \\\"azureml-train-automl\\\": \\\"1.34.0\\\", \\\"azureml-train-automl-runtime\\\": \\\"1.34.0\\\", \\\"azureml-train-automl-client\\\": \\\"1.34.0\\\", \\\"azureml-tensorboard\\\": \\\"1.34.0\\\", \\\"azureml-telemetry\\\": \\\"1.34.0\\\", \\\"azureml-sdk\\\": \\\"1.34.0\\\", \\\"azureml-samples\\\": \\\"0+unknown\\\", \\\"azureml-responsibleai\\\": \\\"1.34.0\\\", \\\"azureml-pipeline\\\": \\\"1.34.0\\\", \\\"azureml-pipeline-steps\\\": \\\"1.34.0\\\", \\\"azureml-pipeline-core\\\": \\\"1.34.0\\\", \\\"azureml-opendatasets\\\": \\\"1.34.0\\\", \\\"azureml-mlflow\\\": \\\"1.34.0\\\", \\\"azureml-interpret\\\": \\\"1.34.0\\\", \\\"azureml-inference-server-http\\\": \\\"0.3.1\\\", \\\"azureml-explain-model\\\": \\\"1.34.0\\\", \\\"azureml-defaults\\\": \\\"1.34.0\\\", \\\"azureml-dataset-runtime\\\": \\\"1.34.0\\\", \\\"azureml-dataprep\\\": \\\"2.22.2\\\", \\\"azureml-dataprep-rslex\\\": \\\"1.20.1\\\", \\\"azureml-dataprep-native\\\": \\\"38.0.0\\\", \\\"azureml-datadrift\\\": \\\"1.34.0\\\", \\\"azureml-core\\\": \\\"1.34.0\\\", \\\"azureml-contrib-services\\\": \\\"1.34.0\\\", \\\"azureml-contrib-server\\\": \\\"1.34.0\\\", \\\"azureml-contrib-reinforcementlearning\\\": \\\"1.34.0\\\", \\\"azureml-contrib-pipeline-steps\\\": \\\"1.34.0\\\", \\\"azureml-contrib-notebook\\\": \\\"1.34.0\\\", \\\"azureml-contrib-fairness\\\": \\\"1.34.0\\\", \\\"azureml-contrib-dataset\\\": \\\"1.34.0\\\", \\\"azureml-contrib-automl-pipeline-steps\\\": \\\"1.34.0\\\", \\\"azureml-cli-common\\\": \\\"1.34.0\\\", \\\"azureml-automl-runtime\\\": \\\"1.34.0\\\", \\\"azureml-automl-dnn-nlp\\\": \\\"1.34.0\\\", \\\"azureml-automl-core\\\": \\\"1.34.0\\\", \\\"azureml-accel-models\\\": \\\"1.34.0\\\"}\", \"_aml_system_scenario_identification\": \"Local.Parent\", \"ClientSdkVersion\": \"1.34.0\", \"ClientType\": \"SDK\", \"environment_cpu_name\": \"AzureML-AutoML\", \"environment_cpu_label\": \"prod\", \"environment_gpu_name\": \"AzureML-AutoML-GPU\", \"environment_gpu_label\": \"prod\", \"root_attribution\": \"automl\", \"attribution\": \"AutoML\", \"Orchestrator\": \"AutoML\", \"_azureml.ComputeTargetType\": \"local\", \"ProblemInfoJsonString\": \"{\\\"dataset_num_categorical\\\": 0, \\\"is_sparse\\\": false, \\\"subsampling\\\": false, \\\"has_extra_col\\\": true, \\\"dataset_classes\\\": 2, \\\"dataset_features\\\": 11, \\\"dataset_samples\\\": 160, \\\"single_frequency_class_detected\\\": false}\"}, \"tags\": {\"model_explain_run\": \"best_run\", \"best_score\": \"0.9054947829947829\", \"best_pipeline\": \"VotingEnsemble\", \"automl_best_child_run_id\": \"AutoML_808d8d01-7318-463f-accb-7df463e309cb_30\", \"model_explain_best_run_child_id\": \"AutoML_808d8d01-7318-463f-accb-7df463e309cb_30\"}, \"end_time_utc\": \"2021-10-06T13:37:31.735018Z\", \"status\": \"Completed\", \"log_files\": {}, \"log_groups\": [], \"run_duration\": \"0:13:53\", \"run_number\": \"1\", \"run_queued_details\": {\"status\": \"Completed\", \"details\": null}}, \"child_runs\": [{\"run_id\": \"AutoML_808d8d01-7318-463f-accb-7df463e309cb_0\", \"run_number\": 2, \"metric\": null, \"status\": \"Completed\", \"run_type\": null, \"training_percent\": \"100\", \"start_time\": \"2021-10-06T13:23:56.494694Z\", \"end_time\": \"2021-10-06T13:24:19.050586Z\", \"created_time\": \"2021-10-06T13:23:56.377877Z\", \"created_time_dt\": \"2021-10-06T13:23:56.377877Z\", \"duration\": \"0:00:22\", \"iteration\": \"0\", \"goal\": \"AUC_weighted_max\", \"run_name\": \"MaxAbsScaler, LightGBM\", \"run_properties\": \"copy=True\", \"primary_metric\": 0.85302156, \"best_metric\": 0.85302156}, {\"run_id\": \"AutoML_808d8d01-7318-463f-accb-7df463e309cb_1\", \"run_number\": 3, \"metric\": null, \"status\": \"Completed\", \"run_type\": null, \"training_percent\": \"100\", \"start_time\": \"2021-10-06T13:24:19.388776Z\", \"end_time\": \"2021-10-06T13:24:42.316328Z\", \"created_time\": \"2021-10-06T13:24:19.265681Z\", \"created_time_dt\": \"2021-10-06T13:24:19.265681Z\", \"duration\": \"0:00:23\", \"iteration\": \"1\", \"goal\": \"AUC_weighted_max\", \"run_name\": \"MaxAbsScaler, XGBoostClassifier\", \"run_properties\": \"copy=True\", \"primary_metric\": 0.8828423, \"best_metric\": 0.8828423}, {\"run_id\": \"AutoML_808d8d01-7318-463f-accb-7df463e309cb_2\", \"run_number\": 4, \"metric\": null, \"status\": \"Completed\", \"run_type\": null, \"training_percent\": \"100\", \"start_time\": \"2021-10-06T13:24:43.493242Z\", \"end_time\": \"2021-10-06T13:25:05.687298Z\", \"created_time\": \"2021-10-06T13:24:43.349056Z\", \"created_time_dt\": \"2021-10-06T13:24:43.349056Z\", \"duration\": \"0:00:22\", \"iteration\": \"2\", \"goal\": \"AUC_weighted_max\", \"run_name\": \"MaxAbsScaler, ExtremeRandomTrees\", \"run_properties\": \"copy=True\", \"primary_metric\": 0.85937784, \"best_metric\": 0.8828423}, {\"run_id\": \"AutoML_808d8d01-7318-463f-accb-7df463e309cb_3\", \"run_number\": 5, \"metric\": null, \"status\": \"Completed\", \"run_type\": null, \"training_percent\": \"100\", \"start_time\": \"2021-10-06T13:25:07.10474Z\", \"end_time\": \"2021-10-06T13:25:29.753733Z\", \"created_time\": \"2021-10-06T13:25:06.99378Z\", \"created_time_dt\": \"2021-10-06T13:25:06.99378Z\", \"duration\": \"0:00:22\", \"iteration\": \"3\", \"goal\": \"AUC_weighted_max\", \"run_name\": \"MaxAbsScaler, RandomForest\", \"run_properties\": \"copy=True\", \"primary_metric\": 0.86197816, \"best_metric\": 0.8828423}, {\"run_id\": \"AutoML_808d8d01-7318-463f-accb-7df463e309cb_4\", \"run_number\": 6, \"metric\": null, \"status\": \"Completed\", \"run_type\": null, \"training_percent\": \"100\", \"start_time\": \"2021-10-06T13:25:31.137846Z\", \"end_time\": \"2021-10-06T13:25:53.835406Z\", \"created_time\": \"2021-10-06T13:25:31.001449Z\", \"created_time_dt\": \"2021-10-06T13:25:31.001449Z\", \"duration\": \"0:00:22\", \"iteration\": \"4\", \"goal\": \"AUC_weighted_max\", \"run_name\": \"StandardScalerWrapper, LightGBM\", \"run_properties\": \"\\n    copy=True,\\n    with_mean=False,\\n    with_std=True\\n\", \"primary_metric\": 0.83325147, \"best_metric\": 0.8828423}, {\"run_id\": \"AutoML_808d8d01-7318-463f-accb-7df463e309cb_5\", \"run_number\": 7, \"metric\": null, \"status\": \"Completed\", \"run_type\": null, \"training_percent\": \"100\", \"start_time\": \"2021-10-06T13:25:55.296731Z\", \"end_time\": \"2021-10-06T13:26:18.218262Z\", \"created_time\": \"2021-10-06T13:25:55.143083Z\", \"created_time_dt\": \"2021-10-06T13:25:55.143083Z\", \"duration\": \"0:00:23\", \"iteration\": \"5\", \"goal\": \"AUC_weighted_max\", \"run_name\": \"StandardScalerWrapper, KNN\", \"run_properties\": \"\\n    copy=True,\\n    with_mean=True,\\n    with_std=False\\n\", \"primary_metric\": 0.71038142, \"best_metric\": 0.8828423}, {\"run_id\": \"AutoML_808d8d01-7318-463f-accb-7df463e309cb_6\", \"run_number\": 8, \"metric\": null, \"status\": \"Completed\", \"run_type\": null, \"training_percent\": \"100\", \"start_time\": \"2021-10-06T13:26:19.674963Z\", \"end_time\": \"2021-10-06T13:26:42.404437Z\", \"created_time\": \"2021-10-06T13:26:19.544362Z\", \"created_time_dt\": \"2021-10-06T13:26:19.544362Z\", \"duration\": \"0:00:22\", \"iteration\": \"6\", \"goal\": \"AUC_weighted_max\", \"run_name\": \"SparseNormalizer, XGBoostClassifier\", \"run_properties\": \"copy=True, norm='max'\", \"primary_metric\": 0.86846945, \"best_metric\": 0.8828423}, {\"run_id\": \"AutoML_808d8d01-7318-463f-accb-7df463e309cb_7\", \"run_number\": 9, \"metric\": null, \"status\": \"Completed\", \"run_type\": null, \"training_percent\": \"100\", \"start_time\": \"2021-10-06T13:26:43.905262Z\", \"end_time\": \"2021-10-06T13:27:08.323352Z\", \"created_time\": \"2021-10-06T13:26:43.777248Z\", \"created_time_dt\": \"2021-10-06T13:26:43.777248Z\", \"duration\": \"0:00:24\", \"iteration\": \"7\", \"goal\": \"AUC_weighted_max\", \"run_name\": \"SparseNormalizer, RandomForest\", \"run_properties\": \"copy=True, norm='l2'\", \"primary_metric\": 0.87192086, \"best_metric\": 0.8828423}, {\"run_id\": \"AutoML_808d8d01-7318-463f-accb-7df463e309cb_8\", \"run_number\": 10, \"metric\": null, \"status\": \"Completed\", \"run_type\": null, \"training_percent\": \"100\", \"start_time\": \"2021-10-06T13:27:09.885725Z\", \"end_time\": \"2021-10-06T13:27:32.493747Z\", \"created_time\": \"2021-10-06T13:27:09.764494Z\", \"created_time_dt\": \"2021-10-06T13:27:09.764494Z\", \"duration\": \"0:00:22\", \"iteration\": \"8\", \"goal\": \"AUC_weighted_max\", \"run_name\": \"RobustScaler, KNN\", \"run_properties\": \"copy=True, quantile_range=[25, 75], with_centering=False,\\n             with_scaling=True\", \"primary_metric\": 0.82195194, \"best_metric\": 0.8828423}, {\"run_id\": \"AutoML_808d8d01-7318-463f-accb-7df463e309cb_9\", \"run_number\": 11, \"metric\": null, \"status\": \"Completed\", \"run_type\": null, \"training_percent\": \"100\", \"start_time\": \"2021-10-06T13:27:34.029672Z\", \"end_time\": \"2021-10-06T13:27:58.474631Z\", \"created_time\": \"2021-10-06T13:27:33.87742Z\", \"created_time_dt\": \"2021-10-06T13:27:33.87742Z\", \"duration\": \"0:00:24\", \"iteration\": \"9\", \"goal\": \"AUC_weighted_max\", \"run_name\": \"MinMaxScaler, RandomForest\", \"run_properties\": \"copy=True, feature_range=(0, 1\", \"primary_metric\": 0.86608142, \"best_metric\": 0.8828423}, {\"run_id\": \"AutoML_808d8d01-7318-463f-accb-7df463e309cb_10\", \"run_number\": 12, \"metric\": null, \"status\": \"Completed\", \"run_type\": null, \"training_percent\": \"100\", \"start_time\": \"2021-10-06T13:27:59.88724Z\", \"end_time\": \"2021-10-06T13:28:22.714564Z\", \"created_time\": \"2021-10-06T13:27:59.763192Z\", \"created_time_dt\": \"2021-10-06T13:27:59.763192Z\", \"duration\": \"0:00:22\", \"iteration\": \"10\", \"goal\": \"AUC_weighted_max\", \"run_name\": \"StandardScalerWrapper, LogisticRegression\", \"run_properties\": \"\\n    copy=True,\\n    with_mean=True,\\n    with_std=True\\n\", \"primary_metric\": 0.84209638, \"best_metric\": 0.8828423}, {\"run_id\": \"AutoML_808d8d01-7318-463f-accb-7df463e309cb_11\", \"run_number\": 13, \"metric\": null, \"status\": \"Completed\", \"run_type\": null, \"training_percent\": \"100\", \"start_time\": \"2021-10-06T13:28:24.780032Z\", \"end_time\": \"2021-10-06T13:28:47.189592Z\", \"created_time\": \"2021-10-06T13:28:24.657448Z\", \"created_time_dt\": \"2021-10-06T13:28:24.657448Z\", \"duration\": \"0:00:22\", \"iteration\": \"11\", \"goal\": \"AUC_weighted_max\", \"run_name\": \"StandardScalerWrapper, SVM\", \"run_properties\": \"\\n    copy=True,\\n    with_mean=True,\\n    with_std=True\\n\", \"primary_metric\": 0.79798479, \"best_metric\": 0.8828423}, {\"run_id\": \"AutoML_808d8d01-7318-463f-accb-7df463e309cb_12\", \"run_number\": 14, \"metric\": null, \"status\": \"Completed\", \"run_type\": null, \"training_percent\": \"100\", \"start_time\": \"2021-10-06T13:28:48.680792Z\", \"end_time\": \"2021-10-06T13:29:11.303241Z\", \"created_time\": \"2021-10-06T13:28:48.560536Z\", \"created_time_dt\": \"2021-10-06T13:28:48.560536Z\", \"duration\": \"0:00:22\", \"iteration\": \"12\", \"goal\": \"AUC_weighted_max\", \"run_name\": \"StandardScalerWrapper, XGBoostClassifier\", \"run_properties\": \"\\n    copy=True,\\n    with_mean=False,\\n    with_std=False\\n\", \"primary_metric\": 0.82651876, \"best_metric\": 0.8828423}, {\"run_id\": \"AutoML_808d8d01-7318-463f-accb-7df463e309cb_13\", \"run_number\": 15, \"metric\": null, \"status\": \"Completed\", \"run_type\": null, \"training_percent\": \"100\", \"start_time\": \"2021-10-06T13:29:12.814661Z\", \"end_time\": \"2021-10-06T13:29:35.188578Z\", \"created_time\": \"2021-10-06T13:29:12.667726Z\", \"created_time_dt\": \"2021-10-06T13:29:12.667726Z\", \"duration\": \"0:00:22\", \"iteration\": \"13\", \"goal\": \"AUC_weighted_max\", \"run_name\": \"SparseNormalizer, KNN\", \"run_properties\": \"copy=True, norm='max'\", \"primary_metric\": 0.74465451, \"best_metric\": 0.8828423}, {\"run_id\": \"AutoML_808d8d01-7318-463f-accb-7df463e309cb_14\", \"run_number\": 16, \"metric\": null, \"status\": \"Completed\", \"run_type\": null, \"training_percent\": \"100\", \"start_time\": \"2021-10-06T13:29:36.740583Z\", \"end_time\": \"2021-10-06T13:30:00.763243Z\", \"created_time\": \"2021-10-06T13:29:36.509961Z\", \"created_time_dt\": \"2021-10-06T13:29:36.509961Z\", \"duration\": \"0:00:24\", \"iteration\": \"14\", \"goal\": \"AUC_weighted_max\", \"run_name\": \"RobustScaler, ExtremeRandomTrees\", \"run_properties\": \"copy=True, quantile_range=[10, 90], with_centering=True,\\n             with_scaling=False\", \"primary_metric\": 0.83869561, \"best_metric\": 0.8828423}, {\"run_id\": \"AutoML_808d8d01-7318-463f-accb-7df463e309cb_15\", \"run_number\": 17, \"metric\": null, \"status\": \"Completed\", \"run_type\": null, \"training_percent\": \"100\", \"start_time\": \"2021-10-06T13:30:02.263519Z\", \"end_time\": \"2021-10-06T13:30:24.704102Z\", \"created_time\": \"2021-10-06T13:30:02.128879Z\", \"created_time_dt\": \"2021-10-06T13:30:02.128879Z\", \"duration\": \"0:00:22\", \"iteration\": \"15\", \"goal\": \"AUC_weighted_max\", \"run_name\": \"SparseNormalizer, XGBoostClassifier\", \"run_properties\": \"copy=True, norm='max'\", \"primary_metric\": 0.84074911, \"best_metric\": 0.8828423}, {\"run_id\": \"AutoML_808d8d01-7318-463f-accb-7df463e309cb_16\", \"run_number\": 18, \"metric\": null, \"status\": \"Completed\", \"run_type\": null, \"training_percent\": \"100\", \"start_time\": \"2021-10-06T13:30:26.136053Z\", \"end_time\": \"2021-10-06T13:30:49.269728Z\", \"created_time\": \"2021-10-06T13:30:26.016274Z\", \"created_time_dt\": \"2021-10-06T13:30:26.016274Z\", \"duration\": \"0:00:23\", \"iteration\": \"16\", \"goal\": \"AUC_weighted_max\", \"run_name\": \"MinMaxScaler, ExtremeRandomTrees\", \"run_properties\": \"copy=True, feature_range=(0, 1\", \"primary_metric\": 0.86163781, \"best_metric\": 0.8828423}, {\"run_id\": \"AutoML_808d8d01-7318-463f-accb-7df463e309cb_17\", \"run_number\": 19, \"metric\": null, \"status\": \"Completed\", \"run_type\": null, \"training_percent\": \"100\", \"start_time\": \"2021-10-06T13:30:50.793256Z\", \"end_time\": \"2021-10-06T13:31:14.085007Z\", \"created_time\": \"2021-10-06T13:30:50.677178Z\", \"created_time_dt\": \"2021-10-06T13:30:50.677178Z\", \"duration\": \"0:00:23\", \"iteration\": \"17\", \"goal\": \"AUC_weighted_max\", \"run_name\": \"MinMaxScaler, ExtremeRandomTrees\", \"run_properties\": \"copy=True, feature_range=(0, 1\", \"primary_metric\": 0.86449259, \"best_metric\": 0.8828423}, {\"run_id\": \"AutoML_808d8d01-7318-463f-accb-7df463e309cb_18\", \"run_number\": 20, \"metric\": null, \"status\": \"Completed\", \"run_type\": null, \"training_percent\": \"100\", \"start_time\": \"2021-10-06T13:31:15.731997Z\", \"end_time\": \"2021-10-06T13:31:38.011175Z\", \"created_time\": \"2021-10-06T13:31:15.581754Z\", \"created_time_dt\": \"2021-10-06T13:31:15.581754Z\", \"duration\": \"0:00:22\", \"iteration\": \"18\", \"goal\": \"AUC_weighted_max\", \"run_name\": \"SparseNormalizer, LightGBM\", \"run_properties\": \"copy=True, norm='l1'\", \"primary_metric\": 0.87863789, \"best_metric\": 0.8828423}, {\"run_id\": \"AutoML_808d8d01-7318-463f-accb-7df463e309cb_19\", \"run_number\": 21, \"metric\": null, \"status\": \"Completed\", \"run_type\": null, \"training_percent\": \"100\", \"start_time\": \"2021-10-06T13:31:39.436918Z\", \"end_time\": \"2021-10-06T13:32:07.921736Z\", \"created_time\": \"2021-10-06T13:31:39.312369Z\", \"created_time_dt\": \"2021-10-06T13:31:39.312369Z\", \"duration\": \"0:00:28\", \"iteration\": \"19\", \"goal\": \"AUC_weighted_max\", \"run_name\": \"MaxAbsScaler, ExtremeRandomTrees\", \"run_properties\": \"copy=True\", \"primary_metric\": 0.8718186, \"best_metric\": 0.8828423}, {\"run_id\": \"AutoML_808d8d01-7318-463f-accb-7df463e309cb_20\", \"run_number\": 22, \"metric\": null, \"status\": \"Completed\", \"run_type\": null, \"training_percent\": \"100\", \"start_time\": \"2021-10-06T13:32:10.346941Z\", \"end_time\": \"2021-10-06T13:32:32.751749Z\", \"created_time\": \"2021-10-06T13:32:10.202944Z\", \"created_time_dt\": \"2021-10-06T13:32:10.202944Z\", \"duration\": \"0:00:22\", \"iteration\": \"20\", \"goal\": \"AUC_weighted_max\", \"run_name\": \"StandardScalerWrapper, XGBoostClassifier\", \"run_properties\": \"\\n    copy=True,\\n    with_mean=False,\\n    with_std=False\\n\", \"primary_metric\": 0.86235445, \"best_metric\": 0.8828423}, {\"run_id\": \"AutoML_808d8d01-7318-463f-accb-7df463e309cb_21\", \"run_number\": 23, \"metric\": null, \"status\": \"Completed\", \"run_type\": null, \"training_percent\": \"100\", \"start_time\": \"2021-10-06T13:32:34.342475Z\", \"end_time\": \"2021-10-06T13:32:58.732404Z\", \"created_time\": \"2021-10-06T13:32:34.205727Z\", \"created_time_dt\": \"2021-10-06T13:32:34.205727Z\", \"duration\": \"0:00:24\", \"iteration\": \"21\", \"goal\": \"AUC_weighted_max\", \"run_name\": \"StandardScalerWrapper, RandomForest\", \"run_properties\": \"\\n    copy=True,\\n    with_mean=False,\\n    with_std=False\\n\", \"primary_metric\": 0.87568452, \"best_metric\": 0.8828423}, {\"run_id\": \"AutoML_808d8d01-7318-463f-accb-7df463e309cb_22\", \"run_number\": 24, \"metric\": null, \"status\": \"Completed\", \"run_type\": null, \"training_percent\": \"100\", \"start_time\": \"2021-10-06T13:33:01.463993Z\", \"end_time\": \"2021-10-06T13:33:23.648326Z\", \"created_time\": \"2021-10-06T13:33:01.330334Z\", \"created_time_dt\": \"2021-10-06T13:33:01.330334Z\", \"duration\": \"0:00:22\", \"iteration\": \"22\", \"goal\": \"AUC_weighted_max\", \"run_name\": \"StandardScalerWrapper, LogisticRegression\", \"run_properties\": \"\\n    copy=True,\\n    with_mean=False,\\n    with_std=True\\n\", \"primary_metric\": 0.84217768, \"best_metric\": 0.8828423}, {\"run_id\": \"AutoML_808d8d01-7318-463f-accb-7df463e309cb_23\", \"run_number\": 25, \"metric\": null, \"status\": \"Completed\", \"run_type\": null, \"training_percent\": \"100\", \"start_time\": \"2021-10-06T13:33:25.106571Z\", \"end_time\": \"2021-10-06T13:33:47.660399Z\", \"created_time\": \"2021-10-06T13:33:24.961322Z\", \"created_time_dt\": \"2021-10-06T13:33:24.961322Z\", \"duration\": \"0:00:22\", \"iteration\": \"23\", \"goal\": \"AUC_weighted_max\", \"run_name\": \"RobustScaler, SVM\", \"run_properties\": \"copy=True, quantile_range=[10, 90], with_centering=False,\\n             with_scaling=True\", \"primary_metric\": 0.80724331, \"best_metric\": 0.8828423}, {\"run_id\": \"AutoML_808d8d01-7318-463f-accb-7df463e309cb_24\", \"run_number\": 26, \"metric\": null, \"status\": \"Completed\", \"run_type\": null, \"training_percent\": \"100\", \"start_time\": \"2021-10-06T13:33:49.276115Z\", \"end_time\": \"2021-10-06T13:34:18.876859Z\", \"created_time\": \"2021-10-06T13:33:49.092397Z\", \"created_time_dt\": \"2021-10-06T13:33:49.092397Z\", \"duration\": \"0:00:29\", \"iteration\": \"24\", \"goal\": \"AUC_weighted_max\", \"run_name\": \"MaxAbsScaler, ExtremeRandomTrees\", \"run_properties\": \"copy=True\", \"primary_metric\": 0.85726371, \"best_metric\": 0.8828423}, {\"run_id\": \"AutoML_808d8d01-7318-463f-accb-7df463e309cb_25\", \"run_number\": 27, \"metric\": null, \"status\": \"Completed\", \"run_type\": null, \"training_percent\": \"100\", \"start_time\": \"2021-10-06T13:34:21.363642Z\", \"end_time\": \"2021-10-06T13:34:44.503756Z\", \"created_time\": \"2021-10-06T13:34:21.22437Z\", \"created_time_dt\": \"2021-10-06T13:34:21.22437Z\", \"duration\": \"0:00:23\", \"iteration\": \"25\", \"goal\": \"AUC_weighted_max\", \"run_name\": \"PCA, XGBoostClassifier\", \"run_properties\": \"copy=True, iterated_power='auto', n_components=0.9005263157894737,\\n    random_state=None, svd_solver='auto', tol=0.0, whiten=False\", \"primary_metric\": 0.56865752, \"best_metric\": 0.8828423}, {\"run_id\": \"AutoML_808d8d01-7318-463f-accb-7df463e309cb_26\", \"run_number\": 28, \"metric\": null, \"status\": \"Completed\", \"run_type\": null, \"training_percent\": \"100\", \"start_time\": \"2021-10-06T13:34:46.056498Z\", \"end_time\": \"2021-10-06T13:35:09.096961Z\", \"created_time\": \"2021-10-06T13:34:45.858524Z\", \"created_time_dt\": \"2021-10-06T13:34:45.858524Z\", \"duration\": \"0:00:23\", \"iteration\": \"26\", \"goal\": \"AUC_weighted_max\", \"run_name\": \"StandardScalerWrapper, SVM\", \"run_properties\": \"\\n    copy=True,\\n    with_mean=False,\\n    with_std=True\\n\", \"primary_metric\": 0.84380661, \"best_metric\": 0.8828423}, {\"run_id\": \"AutoML_808d8d01-7318-463f-accb-7df463e309cb_27\", \"run_number\": 29, \"metric\": null, \"status\": \"Completed\", \"run_type\": null, \"training_percent\": \"100\", \"start_time\": \"2021-10-06T13:35:10.560188Z\", \"end_time\": \"2021-10-06T13:35:34.01121Z\", \"created_time\": \"2021-10-06T13:35:10.425688Z\", \"created_time_dt\": \"2021-10-06T13:35:10.425688Z\", \"duration\": \"0:00:23\", \"iteration\": \"27\", \"goal\": \"AUC_weighted_max\", \"run_name\": \"StandardScalerWrapper, SVM\", \"run_properties\": \"\\n    copy=True,\\n    with_mean=False,\\n    with_std=True\\n\", \"primary_metric\": 0.84610639, \"best_metric\": 0.8828423}, {\"run_id\": \"AutoML_808d8d01-7318-463f-accb-7df463e309cb_28\", \"run_number\": 30, \"metric\": null, \"status\": \"Completed\", \"run_type\": null, \"training_percent\": \"100\", \"start_time\": \"2021-10-06T13:35:35.488592Z\", \"end_time\": \"2021-10-06T13:36:01.505231Z\", \"created_time\": \"2021-10-06T13:35:35.366451Z\", \"created_time_dt\": \"2021-10-06T13:35:35.366451Z\", \"duration\": \"0:00:26\", \"iteration\": \"28\", \"goal\": \"AUC_weighted_max\", \"run_name\": \"StandardScalerWrapper, GradientBoosting\", \"run_properties\": \"\\n    copy=True,\\n    with_mean=False,\\n    with_std=True\\n\", \"primary_metric\": 0.85576673, \"best_metric\": 0.8828423}, {\"run_id\": \"AutoML_808d8d01-7318-463f-accb-7df463e309cb_29\", \"run_number\": 31, \"metric\": null, \"status\": \"Completed\", \"run_type\": null, \"training_percent\": \"100\", \"start_time\": \"2021-10-06T13:36:02.879602Z\", \"end_time\": \"2021-10-06T13:36:26.342797Z\", \"created_time\": \"2021-10-06T13:36:02.751865Z\", \"created_time_dt\": \"2021-10-06T13:36:02.751865Z\", \"duration\": \"0:00:23\", \"iteration\": \"29\", \"goal\": \"AUC_weighted_max\", \"run_name\": \"StandardScalerWrapper, XGBoostClassifier\", \"run_properties\": \"\\n    copy=True,\\n    with_mean=False,\\n    with_std=False\\n\", \"primary_metric\": 0.8613882, \"best_metric\": 0.8828423}, {\"run_id\": \"AutoML_808d8d01-7318-463f-accb-7df463e309cb_30\", \"run_number\": 32, \"metric\": null, \"status\": \"Completed\", \"run_type\": null, \"training_percent\": \"100\", \"start_time\": \"2021-10-06T13:36:26.68423Z\", \"end_time\": \"2021-10-06T13:36:56.813383Z\", \"created_time\": \"2021-10-06T13:36:26.561877Z\", \"created_time_dt\": \"2021-10-06T13:36:26.561877Z\", \"duration\": \"0:00:30\", \"iteration\": \"30\", \"goal\": \"AUC_weighted_max\", \"run_name\": \"VotingEnsemble\", \"run_properties\": \"\\n    estimators=[('1', Pipeline(\\n        memory=None,\\n        steps=[('maxabsscaler', MaxAbsScaler(\\n            copy=True\\n        \", \"primary_metric\": 0.90549478, \"best_metric\": 0.90549478}, {\"run_id\": \"AutoML_808d8d01-7318-463f-accb-7df463e309cb_31\", \"run_number\": 33, \"metric\": null, \"status\": \"Completed\", \"run_type\": null, \"training_percent\": \"100\", \"start_time\": \"2021-10-06T13:36:57.902769Z\", \"end_time\": \"2021-10-06T13:37:31.39013Z\", \"created_time\": \"2021-10-06T13:36:57.535207Z\", \"created_time_dt\": \"2021-10-06T13:36:57.535207Z\", \"duration\": \"0:00:33\", \"iteration\": \"31\", \"goal\": \"AUC_weighted_max\", \"run_name\": \"StackEnsemble\", \"run_properties\": \"\\n    base_learners=[('1', Pipeline(\\n        memory=None,\\n        steps=[('maxabsscaler', MaxAbsScaler(\\n            copy=True\\n        \", \"primary_metric\": 0.89001041, \"best_metric\": 0.90549478}], \"children_metrics\": {\"categories\": [0], \"series\": {\"log_loss\": [{\"categories\": [\"0\", \"1\", \"2\", \"3\", \"4\", \"5\", \"6\", \"7\", \"8\", \"9\", \"10\", \"11\", \"12\", \"13\", \"14\", \"15\", \"16\", \"17\", \"18\", \"19\", \"20\", \"21\", \"22\", \"23\", \"24\", \"25\", \"26\", \"27\", \"28\", \"29\", \"30\", \"31\"], \"mode\": \"markers\", \"name\": \"log_loss\", \"stepped\": false, \"type\": \"scatter\", \"data\": [0.6024870535677428, 0.5356782394490797, 0.5104798704197641, 0.9256452135507209, 0.5283316276860346, 0.6338814026904315, 0.5226577706180222, 0.4864285617419094, 0.5686216076657256, 0.49612896344591373, 0.5358472468207016, 0.615633848519051, 0.5715216935081613, 1.045719245778474, 0.5289473096474808, 0.5495057226699004, 0.5138978911024459, 0.6970153439367253, 0.4713293131561066, 0.49454428702949693, 0.5019556325889822, 0.4975979959255981, 0.49976447408847935, 0.6136830635127687, 0.5362032393743771, 0.7023711627843972, 0.5062936589423097, 0.503053924777181, 0.5265202394178361, 0.5101235821524248, 0.4611832284612287, 0.5965387967160746]}, {\"categories\": [\"0\", \"1\", \"2\", \"3\", \"4\", \"5\", \"6\", \"7\", \"8\", \"9\", \"10\", \"11\", \"12\", \"13\", \"14\", \"15\", \"16\", \"17\", \"18\", \"19\", \"20\", \"21\", \"22\", \"23\", \"24\", \"25\", \"26\", \"27\", \"28\", \"29\", \"30\", \"31\"], \"mode\": \"lines\", \"name\": \"log_loss_min\", \"stepped\": true, \"type\": \"scatter\", \"data\": [0.6024870535677428, 0.5356782394490797, 0.5104798704197641, 0.5104798704197641, 0.5104798704197641, 0.5104798704197641, 0.5104798704197641, 0.4864285617419094, 0.4864285617419094, 0.4864285617419094, 0.4864285617419094, 0.4864285617419094, 0.4864285617419094, 0.4864285617419094, 0.4864285617419094, 0.4864285617419094, 0.4864285617419094, 0.4864285617419094, 0.4713293131561066, 0.4713293131561066, 0.4713293131561066, 0.4713293131561066, 0.4713293131561066, 0.4713293131561066, 0.4713293131561066, 0.4713293131561066, 0.4713293131561066, 0.4713293131561066, 0.4713293131561066, 0.4713293131561066, 0.4611832284612287, 0.4611832284612287]}], \"recall_score_binary\": [{\"categories\": [\"0\", \"1\", \"2\", \"3\", \"4\", \"5\", \"6\", \"7\", \"8\", \"9\", \"10\", \"11\", \"12\", \"13\", \"14\", \"15\", \"16\", \"17\", \"18\", \"19\", \"20\", \"21\", \"22\", \"23\", \"24\", \"25\", \"26\", \"27\", \"28\", \"29\", \"30\", \"31\"], \"mode\": \"markers\", \"name\": \"recall_score_binary\", \"stepped\": false, \"type\": \"scatter\", \"data\": [0.8028846153846154, 0.7985195360195361, 0.8257020757020757, 0.8318528693528694, 0.7691544566544566, 0.5456807081807081, 0.7872100122100123, 0.78495115995116, 0.6598595848595848, 0.7813644688644689, 0.7703601953601953, 0.8210470085470085, 0.7726495726495726, 0.6204822954822955, 0.818070818070818, 0.8389041514041514, 0.8244200244200244, 0.7993131868131867, 0.831959706959707, 0.7993131868131869, 0.8035866910866911, 0.8160866910866911, 0.7377289377289378, 0.7548840048840049, 0.8160866910866911, 0.5498473748473749, 0.8021978021978022, 0.7754120879120879, 0.8042735042735043, 0.8320512820512821, 0.8415750915750917, 0.8772893772893773]}, {\"categories\": [\"0\", \"1\", \"2\", \"3\", \"4\", \"5\", \"6\", \"7\", \"8\", \"9\", \"10\", \"11\", \"12\", \"13\", \"14\", \"15\", \"16\", \"17\", \"18\", \"19\", \"20\", \"21\", \"22\", \"23\", \"24\", \"25\", \"26\", \"27\", \"28\", \"29\", \"30\", \"31\"], \"mode\": \"lines\", \"name\": \"recall_score_binary_max\", \"stepped\": true, \"type\": \"scatter\", \"data\": [0.8028846153846154, 0.8028846153846154, 0.8257020757020757, 0.8318528693528694, 0.8318528693528694, 0.8318528693528694, 0.8318528693528694, 0.8318528693528694, 0.8318528693528694, 0.8318528693528694, 0.8318528693528694, 0.8318528693528694, 0.8318528693528694, 0.8318528693528694, 0.8318528693528694, 0.8389041514041514, 0.8389041514041514, 0.8389041514041514, 0.8389041514041514, 0.8389041514041514, 0.8389041514041514, 0.8389041514041514, 0.8389041514041514, 0.8389041514041514, 0.8389041514041514, 0.8389041514041514, 0.8389041514041514, 0.8389041514041514, 0.8389041514041514, 0.8389041514041514, 0.8415750915750917, 0.8772893772893773]}], \"recall_score_micro\": [{\"categories\": [\"0\", \"1\", \"2\", \"3\", \"4\", \"5\", \"6\", \"7\", \"8\", \"9\", \"10\", \"11\", \"12\", \"13\", \"14\", \"15\", \"16\", \"17\", \"18\", \"19\", \"20\", \"21\", \"22\", \"23\", \"24\", \"25\", \"26\", \"27\", \"28\", \"29\", \"30\", \"31\"], \"mode\": \"markers\", \"name\": \"recall_score_micro\", \"stepped\": false, \"type\": \"scatter\", \"data\": [0.7875, 0.76875, 0.7874999999999999, 0.7625, 0.73125, 0.6125, 0.7625, 0.75625, 0.725, 0.7562500000000001, 0.7375, 0.725, 0.74375, 0.6625, 0.8, 0.75, 0.8, 0.78125, 0.8, 0.80625, 0.7625, 0.79375, 0.75625, 0.70625, 0.8, 0.5062500000000001, 0.775, 0.76875, 0.7875, 0.78125, 0.8375, 0.675]}, {\"categories\": [\"0\", \"1\", \"2\", \"3\", \"4\", \"5\", \"6\", \"7\", \"8\", \"9\", \"10\", \"11\", \"12\", \"13\", \"14\", \"15\", \"16\", \"17\", \"18\", \"19\", \"20\", \"21\", \"22\", \"23\", \"24\", \"25\", \"26\", \"27\", \"28\", \"29\", \"30\", \"31\"], \"mode\": \"lines\", \"name\": \"recall_score_micro_max\", \"stepped\": true, \"type\": \"scatter\", \"data\": [0.7875, 0.7875, 0.7875, 0.7875, 0.7875, 0.7875, 0.7875, 0.7875, 0.7875, 0.7875, 0.7875, 0.7875, 0.7875, 0.7875, 0.8, 0.8, 0.8, 0.8, 0.8, 0.80625, 0.80625, 0.80625, 0.80625, 0.80625, 0.80625, 0.80625, 0.80625, 0.80625, 0.80625, 0.80625, 0.8375, 0.8375]}], \"average_precision_score_macro\": [{\"categories\": [\"0\", \"1\", \"2\", \"3\", \"4\", \"5\", \"6\", \"7\", \"8\", \"9\", \"10\", \"11\", \"12\", \"13\", \"14\", \"15\", \"16\", \"17\", \"18\", \"19\", \"20\", \"21\", \"22\", \"23\", \"24\", \"25\", \"26\", \"27\", \"28\", \"29\", \"30\", \"31\"], \"mode\": \"markers\", \"name\": \"average_precision_score_macro\", \"stepped\": false, \"type\": \"scatter\", \"data\": [0.852053974961994, 0.88504889074001, 0.845391343047746, 0.8499288507944769, 0.8394712723073761, 0.7262757010646208, 0.8698831790960357, 0.8676355256053787, 0.8167013943715035, 0.8666237651412954, 0.8355783874710347, 0.7915330555394704, 0.8248815996068026, 0.7464045505564996, 0.8205562313845912, 0.8480831980025341, 0.8453539736362676, 0.8589835749540796, 0.8759690386111239, 0.8619673248525848, 0.8644897613298442, 0.8618671238929198, 0.8302850667420802, 0.7949747847057822, 0.8427916256437096, 0.5776716958839548, 0.8341706256377417, 0.8383630005433261, 0.8560837650489463, 0.856409005177518, 0.8995133401179255, 0.8865071323827182]}, {\"categories\": [\"0\", \"1\", \"2\", \"3\", \"4\", \"5\", \"6\", \"7\", \"8\", \"9\", \"10\", \"11\", \"12\", \"13\", \"14\", \"15\", \"16\", \"17\", \"18\", \"19\", \"20\", \"21\", \"22\", \"23\", \"24\", \"25\", \"26\", \"27\", \"28\", \"29\", \"30\", \"31\"], \"mode\": \"lines\", \"name\": \"average_precision_score_macro_max\", \"stepped\": true, \"type\": \"scatter\", \"data\": [0.852053974961994, 0.88504889074001, 0.88504889074001, 0.88504889074001, 0.88504889074001, 0.88504889074001, 0.88504889074001, 0.88504889074001, 0.88504889074001, 0.88504889074001, 0.88504889074001, 0.88504889074001, 0.88504889074001, 0.88504889074001, 0.88504889074001, 0.88504889074001, 0.88504889074001, 0.88504889074001, 0.88504889074001, 0.88504889074001, 0.88504889074001, 0.88504889074001, 0.88504889074001, 0.88504889074001, 0.88504889074001, 0.88504889074001, 0.88504889074001, 0.88504889074001, 0.88504889074001, 0.88504889074001, 0.8995133401179255, 0.8995133401179255]}], \"AUC_macro\": [{\"categories\": [\"0\", \"1\", \"2\", \"3\", \"4\", \"5\", \"6\", \"7\", \"8\", \"9\", \"10\", \"11\", \"12\", \"13\", \"14\", \"15\", \"16\", \"17\", \"18\", \"19\", \"20\", \"21\", \"22\", \"23\", \"24\", \"25\", \"26\", \"27\", \"28\", \"29\", \"30\", \"31\"], \"mode\": \"markers\", \"name\": \"AUC_macro\", \"stepped\": false, \"type\": \"scatter\", \"data\": [0.8530215617715617, 0.8828422965922966, 0.8593778443778444, 0.8616805416805418, 0.8332514707514708, 0.7103814241314241, 0.8684694472194472, 0.871920856920857, 0.821951936951937, 0.8660814185814186, 0.8420963758463758, 0.797984792984793, 0.826518759018759, 0.7446545121545122, 0.83869560994561, 0.840749111999112, 0.8616378066378066, 0.8644925907425908, 0.8786378898878899, 0.8718185980685982, 0.8623544511044512, 0.8756845238095238, 0.8421776834276834, 0.8072433122433122, 0.8572637085137085, 0.568657523032523, 0.8438066100566101, 0.8461063936063936, 0.8557667332667332, 0.8613881951381952, 0.905494782994783, 0.8900104062604063]}, {\"categories\": [\"0\", \"1\", \"2\", \"3\", \"4\", \"5\", \"6\", \"7\", \"8\", \"9\", \"10\", \"11\", \"12\", \"13\", \"14\", \"15\", \"16\", \"17\", \"18\", \"19\", \"20\", \"21\", \"22\", \"23\", \"24\", \"25\", \"26\", \"27\", \"28\", \"29\", \"30\", \"31\"], \"mode\": \"lines\", \"name\": \"AUC_macro_max\", \"stepped\": true, \"type\": \"scatter\", \"data\": [0.8530215617715617, 0.8828422965922966, 0.8828422965922966, 0.8828422965922966, 0.8828422965922966, 0.8828422965922966, 0.8828422965922966, 0.8828422965922966, 0.8828422965922966, 0.8828422965922966, 0.8828422965922966, 0.8828422965922966, 0.8828422965922966, 0.8828422965922966, 0.8828422965922966, 0.8828422965922966, 0.8828422965922966, 0.8828422965922966, 0.8828422965922966, 0.8828422965922966, 0.8828422965922966, 0.8828422965922966, 0.8828422965922966, 0.8828422965922966, 0.8828422965922966, 0.8828422965922966, 0.8828422965922966, 0.8828422965922966, 0.8828422965922966, 0.8828422965922966, 0.905494782994783, 0.905494782994783]}], \"weighted_accuracy\": [{\"categories\": [\"0\", \"1\", \"2\", \"3\", \"4\", \"5\", \"6\", \"7\", \"8\", \"9\", \"10\", \"11\", \"12\", \"13\", \"14\", \"15\", \"16\", \"17\", \"18\", \"19\", \"20\", \"21\", \"22\", \"23\", \"24\", \"25\", \"26\", \"27\", \"28\", \"29\", \"30\", \"31\"], \"mode\": \"markers\", \"name\": \"weighted_accuracy\", \"stepped\": false, \"type\": \"scatter\", \"data\": [0.7788476669558762, 0.7583690616768098, 0.7729725639836997, 0.7379380271940512, 0.7272318964734182, 0.59161710951228, 0.7508739557916564, 0.7504161994418359, 0.7105205615468222, 0.7465808774012486, 0.7287650503819758, 0.712199231193287, 0.7256105858529541, 0.6518575593323331, 0.7976258100738893, 0.7402698184244239, 0.7950233782077987, 0.7701947387873871, 0.7898279072608305, 0.7944989013690993, 0.75976881767582, 0.7790399077870457, 0.7531362036077065, 0.6900912302160301, 0.7822760805422522, 0.47136721209292703, 0.7633419365346847, 0.7579448045642907, 0.7757640457180801, 0.7786284850012999, 0.831290260946373, 0.6421627719953267]}, {\"categories\": [\"0\", \"1\", \"2\", \"3\", \"4\", \"5\", \"6\", \"7\", \"8\", \"9\", \"10\", \"11\", \"12\", \"13\", \"14\", \"15\", \"16\", \"17\", \"18\", \"19\", \"20\", \"21\", \"22\", \"23\", \"24\", \"25\", \"26\", \"27\", \"28\", \"29\", \"30\", \"31\"], \"mode\": \"lines\", \"name\": \"weighted_accuracy_max\", \"stepped\": true, \"type\": \"scatter\", \"data\": [0.7788476669558762, 0.7788476669558762, 0.7788476669558762, 0.7788476669558762, 0.7788476669558762, 0.7788476669558762, 0.7788476669558762, 0.7788476669558762, 0.7788476669558762, 0.7788476669558762, 0.7788476669558762, 0.7788476669558762, 0.7788476669558762, 0.7788476669558762, 0.7976258100738893, 0.7976258100738893, 0.7976258100738893, 0.7976258100738893, 0.7976258100738893, 0.7976258100738893, 0.7976258100738893, 0.7976258100738893, 0.7976258100738893, 0.7976258100738893, 0.7976258100738893, 0.7976258100738893, 0.7976258100738893, 0.7976258100738893, 0.7976258100738893, 0.7976258100738893, 0.831290260946373, 0.831290260946373]}], \"AUC_binary\": [{\"categories\": [\"0\", \"1\", \"2\", \"3\", \"4\", \"5\", \"6\", \"7\", \"8\", \"9\", \"10\", \"11\", \"12\", \"13\", \"14\", \"15\", \"16\", \"17\", \"18\", \"19\", \"20\", \"21\", \"22\", \"23\", \"24\", \"25\", \"26\", \"27\", \"28\", \"29\", \"30\", \"31\"], \"mode\": \"markers\", \"name\": \"AUC_binary\", \"stepped\": false, \"type\": \"scatter\", \"data\": [0.8530215617715617, 0.8828422965922966, 0.8593778443778444, 0.8609364940614941, 0.8332514707514707, 0.7103814241314241, 0.8684694472194472, 0.871920856920857, 0.821951936951937, 0.8660814185814186, 0.8420963758463758, 0.797984792984793, 0.826518759018759, 0.7446545121545122, 0.83869560994561, 0.840749111999112, 0.8616378066378066, 0.8644925907425908, 0.8786378898878898, 0.8718185980685981, 0.8623544511044512, 0.8756845238095238, 0.8421776834276834, 0.8072433122433122, 0.8572637085137085, 0.568657523032523, 0.8438066100566101, 0.8461063936063936, 0.8557667332667331, 0.8613881951381951, 0.905494782994783, 0.8900104062604063]}, {\"categories\": [\"0\", \"1\", \"2\", \"3\", \"4\", \"5\", \"6\", \"7\", \"8\", \"9\", \"10\", \"11\", \"12\", \"13\", \"14\", \"15\", \"16\", \"17\", \"18\", \"19\", \"20\", \"21\", \"22\", \"23\", \"24\", \"25\", \"26\", \"27\", \"28\", \"29\", \"30\", \"31\"], \"mode\": \"lines\", \"name\": \"AUC_binary_max\", \"stepped\": true, \"type\": \"scatter\", \"data\": [0.8530215617715617, 0.8828422965922966, 0.8828422965922966, 0.8828422965922966, 0.8828422965922966, 0.8828422965922966, 0.8828422965922966, 0.8828422965922966, 0.8828422965922966, 0.8828422965922966, 0.8828422965922966, 0.8828422965922966, 0.8828422965922966, 0.8828422965922966, 0.8828422965922966, 0.8828422965922966, 0.8828422965922966, 0.8828422965922966, 0.8828422965922966, 0.8828422965922966, 0.8828422965922966, 0.8828422965922966, 0.8828422965922966, 0.8828422965922966, 0.8828422965922966, 0.8828422965922966, 0.8828422965922966, 0.8828422965922966, 0.8828422965922966, 0.8828422965922966, 0.905494782994783, 0.905494782994783]}], \"AUC_weighted\": [{\"categories\": [\"0\", \"1\", \"2\", \"3\", \"4\", \"5\", \"6\", \"7\", \"8\", \"9\", \"10\", \"11\", \"12\", \"13\", \"14\", \"15\", \"16\", \"17\", \"18\", \"19\", \"20\", \"21\", \"22\", \"23\", \"24\", \"25\", \"26\", \"27\", \"28\", \"29\", \"30\", \"31\"], \"mode\": \"markers\", \"name\": \"AUC_weighted\", \"stepped\": false, \"type\": \"scatter\", \"data\": [0.8530215617715617, 0.8828422965922966, 0.8593778443778444, 0.8619781607281607, 0.8332514707514708, 0.7103814241314241, 0.8684694472194472, 0.871920856920857, 0.8219519369519369, 0.8660814185814186, 0.8420963758463759, 0.797984792984793, 0.826518759018759, 0.7446545121545123, 0.83869560994561, 0.840749111999112, 0.8616378066378066, 0.8644925907425908, 0.8786378898878898, 0.871818598068598, 0.8623544511044512, 0.8756845238095239, 0.8421776834276834, 0.8072433122433122, 0.8572637085137085, 0.568657523032523, 0.84380661005661, 0.8461063936063935, 0.8557667332667332, 0.8613881951381952, 0.9054947829947829, 0.8900104062604062]}, {\"categories\": [\"0\", \"1\", \"2\", \"3\", \"4\", \"5\", \"6\", \"7\", \"8\", \"9\", \"10\", \"11\", \"12\", \"13\", \"14\", \"15\", \"16\", \"17\", \"18\", \"19\", \"20\", \"21\", \"22\", \"23\", \"24\", \"25\", \"26\", \"27\", \"28\", \"29\", \"30\", \"31\"], \"mode\": \"lines\", \"name\": \"AUC_weighted_max\", \"stepped\": true, \"type\": \"scatter\", \"data\": [0.8530215617715617, 0.8828422965922966, 0.8828422965922966, 0.8828422965922966, 0.8828422965922966, 0.8828422965922966, 0.8828422965922966, 0.8828422965922966, 0.8828422965922966, 0.8828422965922966, 0.8828422965922966, 0.8828422965922966, 0.8828422965922966, 0.8828422965922966, 0.8828422965922966, 0.8828422965922966, 0.8828422965922966, 0.8828422965922966, 0.8828422965922966, 0.8828422965922966, 0.8828422965922966, 0.8828422965922966, 0.8828422965922966, 0.8828422965922966, 0.8828422965922966, 0.8828422965922966, 0.8828422965922966, 0.8828422965922966, 0.8828422965922966, 0.8828422965922966, 0.9054947829947829, 0.9054947829947829]}], \"f1_score_weighted\": [{\"categories\": [\"0\", \"1\", \"2\", \"3\", \"4\", \"5\", \"6\", \"7\", \"8\", \"9\", \"10\", \"11\", \"12\", \"13\", \"14\", \"15\", \"16\", \"17\", \"18\", \"19\", \"20\", \"21\", \"22\", \"23\", \"24\", \"25\", \"26\", \"27\", \"28\", \"29\", \"30\", \"31\"], \"mode\": \"markers\", \"name\": \"f1_score_weighted\", \"stepped\": false, \"type\": \"scatter\", \"data\": [0.7905059202972785, 0.7735499662913177, 0.7913218097691781, 0.767569246806274, 0.7370704461741278, 0.6182900555817293, 0.7680741792379884, 0.7618297402939935, 0.7285596804511278, 0.760558295505664, 0.7419797075008494, 0.7289763297131718, 0.7496623738911774, 0.6697647073153323, 0.8037411373348873, 0.7542851278838121, 0.8025880747541931, 0.783574175459044, 0.8051229365176733, 0.8094791269438597, 0.7648561481219308, 0.7975527545224216, 0.7594327175825737, 0.7105276274396024, 0.8027578206551194, 0.5010142820043211, 0.7791177549431731, 0.773344628216099, 0.7921430788741328, 0.7849619678567047, 0.8410959164834644, 0.6145276820757903]}, {\"categories\": [\"0\", \"1\", \"2\", \"3\", \"4\", \"5\", \"6\", \"7\", \"8\", \"9\", \"10\", \"11\", \"12\", \"13\", \"14\", \"15\", \"16\", \"17\", \"18\", \"19\", \"20\", \"21\", \"22\", \"23\", \"24\", \"25\", \"26\", \"27\", \"28\", \"29\", \"30\", \"31\"], \"mode\": \"lines\", \"name\": \"f1_score_weighted_max\", \"stepped\": true, \"type\": \"scatter\", \"data\": [0.7905059202972785, 0.7905059202972785, 0.7913218097691781, 0.7913218097691781, 0.7913218097691781, 0.7913218097691781, 0.7913218097691781, 0.7913218097691781, 0.7913218097691781, 0.7913218097691781, 0.7913218097691781, 0.7913218097691781, 0.7913218097691781, 0.7913218097691781, 0.8037411373348873, 0.8037411373348873, 0.8037411373348873, 0.8037411373348873, 0.8051229365176733, 0.8094791269438597, 0.8094791269438597, 0.8094791269438597, 0.8094791269438597, 0.8094791269438597, 0.8094791269438597, 0.8094791269438597, 0.8094791269438597, 0.8094791269438597, 0.8094791269438597, 0.8094791269438597, 0.8410959164834644, 0.8410959164834644]}], \"recall_score_macro\": [{\"categories\": [\"0\", \"1\", \"2\", \"3\", \"4\", \"5\", \"6\", \"7\", \"8\", \"9\", \"10\", \"11\", \"12\", \"13\", \"14\", \"15\", \"16\", \"17\", \"18\", \"19\", \"20\", \"21\", \"22\", \"23\", \"24\", \"25\", \"26\", \"27\", \"28\", \"29\", \"30\", \"31\"], \"mode\": \"markers\", \"name\": \"recall_score_macro\", \"stepped\": false, \"type\": \"scatter\", \"data\": [0.7986263736263737, 0.7824370074370074, 0.8078414640914642, 0.7961274836274836, 0.7355658230658231, 0.6425518925518926, 0.7798312798312799, 0.763215256965257, 0.7472000222000221, 0.7681859806859808, 0.7502296314796315, 0.7409389221889222, 0.7691398878898879, 0.678266872016872, 0.801753108003108, 0.7610958485958486, 0.8058850871350871, 0.7962162837162837, 0.8137570762570763, 0.82367007992008, 0.7651029526029527, 0.8138750138750139, 0.7613761238761239, 0.7283390220890221, 0.8251574814074814, 0.5541944166944167, 0.7911754911754912, 0.7843385780885781, 0.8031607281607281, 0.782769314019314, 0.8460372960372962, 0.7138881951381951]}, {\"categories\": [\"0\", \"1\", \"2\", \"3\", \"4\", \"5\", \"6\", \"7\", \"8\", \"9\", \"10\", \"11\", \"12\", \"13\", \"14\", \"15\", \"16\", \"17\", \"18\", \"19\", \"20\", \"21\", \"22\", \"23\", \"24\", \"25\", \"26\", \"27\", \"28\", \"29\", \"30\", \"31\"], \"mode\": \"lines\", \"name\": \"recall_score_macro_max\", \"stepped\": true, \"type\": \"scatter\", \"data\": [0.7986263736263737, 0.7986263736263737, 0.8078414640914642, 0.8078414640914642, 0.8078414640914642, 0.8078414640914642, 0.8078414640914642, 0.8078414640914642, 0.8078414640914642, 0.8078414640914642, 0.8078414640914642, 0.8078414640914642, 0.8078414640914642, 0.8078414640914642, 0.8078414640914642, 0.8078414640914642, 0.8078414640914642, 0.8078414640914642, 0.8137570762570763, 0.82367007992008, 0.82367007992008, 0.82367007992008, 0.82367007992008, 0.82367007992008, 0.8251574814074814, 0.8251574814074814, 0.8251574814074814, 0.8251574814074814, 0.8251574814074814, 0.8251574814074814, 0.8460372960372962, 0.8460372960372962]}], \"AUC_micro\": [{\"categories\": [\"0\", \"1\", \"2\", \"3\", \"4\", \"5\", \"6\", \"7\", \"8\", \"9\", \"10\", \"11\", \"12\", \"13\", \"14\", \"15\", \"16\", \"17\", \"18\", \"19\", \"20\", \"21\", \"22\", \"23\", \"24\", \"25\", \"26\", \"27\", \"28\", \"29\", \"30\", \"31\"], \"mode\": \"markers\", \"name\": \"AUC_micro\", \"stepped\": false, \"type\": \"scatter\", \"data\": [0.833125, 0.8465625, 0.8375000000000001, 0.81328125, 0.8065625000000001, 0.688125, 0.8443750000000001, 0.8490625, 0.796875, 0.8290624999999999, 0.8300000000000001, 0.78015625, 0.8028125, 0.7146874999999999, 0.833125, 0.82375, 0.840625, 0.8343750000000001, 0.865, 0.8565625000000001, 0.83125, 0.8412499999999999, 0.8328125, 0.78125, 0.836875, 0.5134375, 0.83296875, 0.8390625, 0.8274999999999999, 0.8315625, 0.8768750000000001, 0.750625]}, {\"categories\": [\"0\", \"1\", \"2\", \"3\", \"4\", \"5\", \"6\", \"7\", \"8\", \"9\", \"10\", \"11\", \"12\", \"13\", \"14\", \"15\", \"16\", \"17\", \"18\", \"19\", \"20\", \"21\", \"22\", \"23\", \"24\", \"25\", \"26\", \"27\", \"28\", \"29\", \"30\", \"31\"], \"mode\": \"lines\", \"name\": \"AUC_micro_max\", \"stepped\": true, \"type\": \"scatter\", \"data\": [0.833125, 0.8465625, 0.8465625, 0.8465625, 0.8465625, 0.8465625, 0.8465625, 0.8490625, 0.8490625, 0.8490625, 0.8490625, 0.8490625, 0.8490625, 0.8490625, 0.8490625, 0.8490625, 0.8490625, 0.8490625, 0.865, 0.865, 0.865, 0.865, 0.865, 0.865, 0.865, 0.865, 0.865, 0.865, 0.865, 0.865, 0.8768750000000001, 0.8768750000000001]}], \"f1_score_binary\": [{\"categories\": [\"0\", \"1\", \"2\", \"3\", \"4\", \"5\", \"6\", \"7\", \"8\", \"9\", \"10\", \"11\", \"12\", \"13\", \"14\", \"15\", \"16\", \"17\", \"18\", \"19\", \"20\", \"21\", \"22\", \"23\", \"24\", \"25\", \"26\", \"27\", \"28\", \"29\", \"30\", \"31\"], \"mode\": \"markers\", \"name\": \"f1_score_binary\", \"stepped\": false, \"type\": \"scatter\", \"data\": [0.7747125338429686, 0.7611792129439189, 0.7842857142857143, 0.7662302815863187, 0.7300360315066197, 0.5751429738562092, 0.753180596350101, 0.7519041948078493, 0.6976686507936508, 0.7490211640211639, 0.7331381763231608, 0.7422263993316625, 0.7411945240749589, 0.6410023393415337, 0.7950956450956451, 0.761536828181565, 0.7922000915750916, 0.7633773402523403, 0.7949452691557954, 0.7859551877431135, 0.7575734233087175, 0.7838773971126912, 0.7331104784909133, 0.7055750707840491, 0.7891034210887152, 0.5069353516318115, 0.7668348378487697, 0.7558381956021275, 0.7765800940259144, 0.78258547008547, 0.8240383567957097, 0.7340324535354962]}, {\"categories\": [\"0\", \"1\", \"2\", \"3\", \"4\", \"5\", \"6\", \"7\", \"8\", \"9\", \"10\", \"11\", \"12\", \"13\", \"14\", \"15\", \"16\", \"17\", \"18\", \"19\", \"20\", \"21\", \"22\", \"23\", \"24\", \"25\", \"26\", \"27\", \"28\", \"29\", \"30\", \"31\"], \"mode\": \"lines\", \"name\": \"f1_score_binary_max\", \"stepped\": true, \"type\": \"scatter\", \"data\": [0.7747125338429686, 0.7747125338429686, 0.7842857142857143, 0.7842857142857143, 0.7842857142857143, 0.7842857142857143, 0.7842857142857143, 0.7842857142857143, 0.7842857142857143, 0.7842857142857143, 0.7842857142857143, 0.7842857142857143, 0.7842857142857143, 0.7842857142857143, 0.7950956450956451, 0.7950956450956451, 0.7950956450956451, 0.7950956450956451, 0.7950956450956451, 0.7950956450956451, 0.7950956450956451, 0.7950956450956451, 0.7950956450956451, 0.7950956450956451, 0.7950956450956451, 0.7950956450956451, 0.7950956450956451, 0.7950956450956451, 0.7950956450956451, 0.7950956450956451, 0.8240383567957097, 0.8240383567957097]}], \"precision_score_micro\": [{\"categories\": [\"0\", \"1\", \"2\", \"3\", \"4\", \"5\", \"6\", \"7\", \"8\", \"9\", \"10\", \"11\", \"12\", \"13\", \"14\", \"15\", \"16\", \"17\", \"18\", \"19\", \"20\", \"21\", \"22\", \"23\", \"24\", \"25\", \"26\", \"27\", \"28\", \"29\", \"30\", \"31\"], \"mode\": \"markers\", \"name\": \"precision_score_micro\", \"stepped\": false, \"type\": \"scatter\", \"data\": [0.7875, 0.76875, 0.7874999999999999, 0.7625, 0.73125, 0.6125, 0.7625, 0.75625, 0.725, 0.7562500000000001, 0.7375, 0.725, 0.74375, 0.6625, 0.8, 0.75, 0.8, 0.78125, 0.8, 0.80625, 0.7625, 0.79375, 0.75625, 0.70625, 0.8, 0.5062500000000001, 0.775, 0.76875, 0.7875, 0.78125, 0.8375, 0.675]}, {\"categories\": [\"0\", \"1\", \"2\", \"3\", \"4\", \"5\", \"6\", \"7\", \"8\", \"9\", \"10\", \"11\", \"12\", \"13\", \"14\", \"15\", \"16\", \"17\", \"18\", \"19\", \"20\", \"21\", \"22\", \"23\", \"24\", \"25\", \"26\", \"27\", \"28\", \"29\", \"30\", \"31\"], \"mode\": \"lines\", \"name\": \"precision_score_micro_max\", \"stepped\": true, \"type\": \"scatter\", \"data\": [0.7875, 0.7875, 0.7875, 0.7875, 0.7875, 0.7875, 0.7875, 0.7875, 0.7875, 0.7875, 0.7875, 0.7875, 0.7875, 0.7875, 0.8, 0.8, 0.8, 0.8, 0.8, 0.80625, 0.80625, 0.80625, 0.80625, 0.80625, 0.80625, 0.80625, 0.80625, 0.80625, 0.80625, 0.80625, 0.8375, 0.8375]}], \"average_precision_score_binary\": [{\"categories\": [\"0\", \"1\", \"2\", \"3\", \"4\", \"5\", \"6\", \"7\", \"8\", \"9\", \"10\", \"11\", \"12\", \"13\", \"14\", \"15\", \"16\", \"17\", \"18\", \"19\", \"20\", \"21\", \"22\", \"23\", \"24\", \"25\", \"26\", \"27\", \"28\", \"29\", \"30\", \"31\"], \"mode\": \"markers\", \"name\": \"average_precision_score_binary\", \"stepped\": false, \"type\": \"scatter\", \"data\": [0.8824345906402611, 0.9048642917444517, 0.8758972291632066, 0.8735506853967068, 0.8709342549213827, 0.7151471336823965, 0.8773557488138801, 0.8734838237164648, 0.8241208581863066, 0.8860770184665223, 0.8514252318776037, 0.801826110020291, 0.8653539103888606, 0.7577870714698999, 0.8354409572311865, 0.844473955495195, 0.8717659616208839, 0.8882690262663633, 0.8893174157451118, 0.8869901607605242, 0.8950103158411435, 0.9031404456693323, 0.8188874244638018, 0.8100263006238706, 0.8692472506469638, 0.5868501232077913, 0.8536172120601946, 0.8577686609030877, 0.8790262469339758, 0.8897161324822673, 0.922858791761978, 0.9120673138136373]}, {\"categories\": [\"0\", \"1\", \"2\", \"3\", \"4\", \"5\", \"6\", \"7\", \"8\", \"9\", \"10\", \"11\", \"12\", \"13\", \"14\", \"15\", \"16\", \"17\", \"18\", \"19\", \"20\", \"21\", \"22\", \"23\", \"24\", \"25\", \"26\", \"27\", \"28\", \"29\", \"30\", \"31\"], \"mode\": \"lines\", \"name\": \"average_precision_score_binary_max\", \"stepped\": true, \"type\": \"scatter\", \"data\": [0.8824345906402611, 0.9048642917444517, 0.9048642917444517, 0.9048642917444517, 0.9048642917444517, 0.9048642917444517, 0.9048642917444517, 0.9048642917444517, 0.9048642917444517, 0.9048642917444517, 0.9048642917444517, 0.9048642917444517, 0.9048642917444517, 0.9048642917444517, 0.9048642917444517, 0.9048642917444517, 0.9048642917444517, 0.9048642917444517, 0.9048642917444517, 0.9048642917444517, 0.9048642917444517, 0.9048642917444517, 0.9048642917444517, 0.9048642917444517, 0.9048642917444517, 0.9048642917444517, 0.9048642917444517, 0.9048642917444517, 0.9048642917444517, 0.9048642917444517, 0.922858791761978, 0.922858791761978]}], \"f1_score_macro\": [{\"categories\": [\"0\", \"1\", \"2\", \"3\", \"4\", \"5\", \"6\", \"7\", \"8\", \"9\", \"10\", \"11\", \"12\", \"13\", \"14\", \"15\", \"16\", \"17\", \"18\", \"19\", \"20\", \"21\", \"22\", \"23\", \"24\", \"25\", \"26\", \"27\", \"28\", \"29\", \"30\", \"31\"], \"mode\": \"markers\", \"name\": \"f1_score_macro\", \"stepped\": false, \"type\": \"scatter\", \"data\": [0.7745335833557667, 0.7574658830049865, 0.7800891214049109, 0.7574169402522816, 0.7172109458209539, 0.6034409221267732, 0.7556288321048887, 0.7439081343337468, 0.7135476000607579, 0.7428691423099317, 0.7247788108378364, 0.7126661642451115, 0.7359501705453803, 0.6507347360494234, 0.7868264258889259, 0.738969204528415, 0.7854280533063427, 0.7694111997894892, 0.7913121284173916, 0.7968725214077885, 0.7458901412148821, 0.7841050859923269, 0.7422404853718793, 0.6970077626285561, 0.7915666777631292, 0.4982561709240939, 0.7641832313442305, 0.7571148793745627, 0.777859716473931, 0.7668030069345859, 0.8276027041715981, 0.6205538123705511]}, {\"categories\": [\"0\", \"1\", \"2\", \"3\", \"4\", \"5\", \"6\", \"7\", \"8\", \"9\", \"10\", \"11\", \"12\", \"13\", \"14\", \"15\", \"16\", \"17\", \"18\", \"19\", \"20\", \"21\", \"22\", \"23\", \"24\", \"25\", \"26\", \"27\", \"28\", \"29\", \"30\", \"31\"], \"mode\": \"lines\", \"name\": \"f1_score_macro_max\", \"stepped\": true, \"type\": \"scatter\", \"data\": [0.7745335833557667, 0.7745335833557667, 0.7800891214049109, 0.7800891214049109, 0.7800891214049109, 0.7800891214049109, 0.7800891214049109, 0.7800891214049109, 0.7800891214049109, 0.7800891214049109, 0.7800891214049109, 0.7800891214049109, 0.7800891214049109, 0.7800891214049109, 0.7868264258889259, 0.7868264258889259, 0.7868264258889259, 0.7868264258889259, 0.7913121284173916, 0.7968725214077885, 0.7968725214077885, 0.7968725214077885, 0.7968725214077885, 0.7968725214077885, 0.7968725214077885, 0.7968725214077885, 0.7968725214077885, 0.7968725214077885, 0.7968725214077885, 0.7968725214077885, 0.8276027041715981, 0.8276027041715981]}], \"precision_score_macro\": [{\"categories\": [\"0\", \"1\", \"2\", \"3\", \"4\", \"5\", \"6\", \"7\", \"8\", \"9\", \"10\", \"11\", \"12\", \"13\", \"14\", \"15\", \"16\", \"17\", \"18\", \"19\", \"20\", \"21\", \"22\", \"23\", \"24\", \"25\", \"26\", \"27\", \"28\", \"29\", \"30\", \"31\"], \"mode\": \"markers\", \"name\": \"precision_score_macro\", \"stepped\": false, \"type\": \"scatter\", \"data\": [0.7848696442446442, 0.7677483974358975, 0.7845479173604173, 0.7775835275835276, 0.7258470695970696, 0.6324092574092575, 0.7625624375624376, 0.7536392427017427, 0.7358603202353202, 0.7502490564990565, 0.7354386932511933, 0.7327141608391607, 0.746685606060606, 0.667166860916861, 0.7924011752136753, 0.7480767496392496, 0.7903485403485403, 0.7816761363636364, 0.7929022366522367, 0.8006876803751803, 0.7594167984792985, 0.7934433621933621, 0.7471094877344877, 0.7106839341214342, 0.8031583000333, 0.5608465982546865, 0.771007985070485, 0.7658707611832611, 0.778945707070707, 0.7725148115773116, 0.8270713661338661, 0.5860840548340548]}, {\"categories\": [\"0\", \"1\", \"2\", \"3\", \"4\", \"5\", \"6\", \"7\", \"8\", \"9\", \"10\", \"11\", \"12\", \"13\", \"14\", \"15\", \"16\", \"17\", \"18\", \"19\", \"20\", \"21\", \"22\", \"23\", \"24\", \"25\", \"26\", \"27\", \"28\", \"29\", \"30\", \"31\"], \"mode\": \"lines\", \"name\": \"precision_score_macro_max\", \"stepped\": true, \"type\": \"scatter\", \"data\": [0.7848696442446442, 0.7848696442446442, 0.7848696442446442, 0.7848696442446442, 0.7848696442446442, 0.7848696442446442, 0.7848696442446442, 0.7848696442446442, 0.7848696442446442, 0.7848696442446442, 0.7848696442446442, 0.7848696442446442, 0.7848696442446442, 0.7848696442446442, 0.7924011752136753, 0.7924011752136753, 0.7924011752136753, 0.7924011752136753, 0.7929022366522367, 0.8006876803751803, 0.8006876803751803, 0.8006876803751803, 0.8006876803751803, 0.8006876803751803, 0.8031583000333, 0.8031583000333, 0.8031583000333, 0.8031583000333, 0.8031583000333, 0.8031583000333, 0.8270713661338661, 0.8270713661338661]}], \"balanced_accuracy\": [{\"categories\": [\"0\", \"1\", \"2\", \"3\", \"4\", \"5\", \"6\", \"7\", \"8\", \"9\", \"10\", \"11\", \"12\", \"13\", \"14\", \"15\", \"16\", \"17\", \"18\", \"19\", \"20\", \"21\", \"22\", \"23\", \"24\", \"25\", \"26\", \"27\", \"28\", \"29\", \"30\", \"31\"], \"mode\": \"markers\", \"name\": \"balanced_accuracy\", \"stepped\": false, \"type\": \"scatter\", \"data\": [0.7986263736263737, 0.7824370074370074, 0.8078414640914642, 0.7961274836274836, 0.7355658230658231, 0.6425518925518926, 0.7798312798312799, 0.763215256965257, 0.7472000222000221, 0.7681859806859808, 0.7502296314796315, 0.7409389221889222, 0.7691398878898879, 0.678266872016872, 0.801753108003108, 0.7610958485958486, 0.8058850871350871, 0.7962162837162837, 0.8137570762570763, 0.82367007992008, 0.7651029526029527, 0.8138750138750139, 0.7613761238761239, 0.7283390220890221, 0.8251574814074814, 0.5541944166944167, 0.7911754911754912, 0.7843385780885781, 0.8031607281607281, 0.782769314019314, 0.8460372960372962, 0.7138881951381951]}, {\"categories\": [\"0\", \"1\", \"2\", \"3\", \"4\", \"5\", \"6\", \"7\", \"8\", \"9\", \"10\", \"11\", \"12\", \"13\", \"14\", \"15\", \"16\", \"17\", \"18\", \"19\", \"20\", \"21\", \"22\", \"23\", \"24\", \"25\", \"26\", \"27\", \"28\", \"29\", \"30\", \"31\"], \"mode\": \"lines\", \"name\": \"balanced_accuracy_max\", \"stepped\": true, \"type\": \"scatter\", \"data\": [0.7986263736263737, 0.7986263736263737, 0.8078414640914642, 0.8078414640914642, 0.8078414640914642, 0.8078414640914642, 0.8078414640914642, 0.8078414640914642, 0.8078414640914642, 0.8078414640914642, 0.8078414640914642, 0.8078414640914642, 0.8078414640914642, 0.8078414640914642, 0.8078414640914642, 0.8078414640914642, 0.8078414640914642, 0.8078414640914642, 0.8137570762570763, 0.82367007992008, 0.82367007992008, 0.82367007992008, 0.82367007992008, 0.82367007992008, 0.8251574814074814, 0.8251574814074814, 0.8251574814074814, 0.8251574814074814, 0.8251574814074814, 0.8251574814074814, 0.8460372960372962, 0.8460372960372962]}], \"f1_score_micro\": [{\"categories\": [\"0\", \"1\", \"2\", \"3\", \"4\", \"5\", \"6\", \"7\", \"8\", \"9\", \"10\", \"11\", \"12\", \"13\", \"14\", \"15\", \"16\", \"17\", \"18\", \"19\", \"20\", \"21\", \"22\", \"23\", \"24\", \"25\", \"26\", \"27\", \"28\", \"29\", \"30\", \"31\"], \"mode\": \"markers\", \"name\": \"f1_score_micro\", \"stepped\": false, \"type\": \"scatter\", \"data\": [0.7875, 0.76875, 0.7875, 0.7625, 0.73125, 0.6125, 0.7625, 0.75625, 0.7250000000000001, 0.7562500000000001, 0.7375, 0.7250000000000001, 0.74375, 0.6625, 0.8, 0.75, 0.8, 0.78125, 0.8, 0.80625, 0.7625, 0.79375, 0.75625, 0.70625, 0.8, 0.5062500000000001, 0.775, 0.76875, 0.7875000000000001, 0.78125, 0.8375, 0.675]}, {\"categories\": [\"0\", \"1\", \"2\", \"3\", \"4\", \"5\", \"6\", \"7\", \"8\", \"9\", \"10\", \"11\", \"12\", \"13\", \"14\", \"15\", \"16\", \"17\", \"18\", \"19\", \"20\", \"21\", \"22\", \"23\", \"24\", \"25\", \"26\", \"27\", \"28\", \"29\", \"30\", \"31\"], \"mode\": \"lines\", \"name\": \"f1_score_micro_max\", \"stepped\": true, \"type\": \"scatter\", \"data\": [0.7875, 0.7875, 0.7875, 0.7875, 0.7875, 0.7875, 0.7875, 0.7875, 0.7875, 0.7875, 0.7875, 0.7875, 0.7875, 0.7875, 0.8, 0.8, 0.8, 0.8, 0.8, 0.80625, 0.80625, 0.80625, 0.80625, 0.80625, 0.80625, 0.80625, 0.80625, 0.80625, 0.80625, 0.80625, 0.8375, 0.8375]}], \"precision_score_weighted\": [{\"categories\": [\"0\", \"1\", \"2\", \"3\", \"4\", \"5\", \"6\", \"7\", \"8\", \"9\", \"10\", \"11\", \"12\", \"13\", \"14\", \"15\", \"16\", \"17\", \"18\", \"19\", \"20\", \"21\", \"22\", \"23\", \"24\", \"25\", \"26\", \"27\", \"28\", \"29\", \"30\", \"31\"], \"mode\": \"markers\", \"name\": \"precision_score_weighted\", \"stepped\": false, \"type\": \"scatter\", \"data\": [0.8250147422022422, 0.8101923076923077, 0.8231247051559551, 0.827004662004662, 0.7674479166666667, 0.6881660006660006, 0.8009433621933622, 0.7936636106948607, 0.7818751040626042, 0.7942753600566099, 0.7784486520424021, 0.7798717948717948, 0.7943639520202019, 0.717306114024864, 0.8261491113053614, 0.7872174873737373, 0.8278591200466201, 0.8210905934343434, 0.8309054834054834, 0.8386510191197691, 0.7979053064990564, 0.8358337842712843, 0.7834167568542569, 0.7561511578699078, 0.8453474303474304, 0.6173750606011635, 0.8129922334609835, 0.8094070165945166, 0.8194381313131313, 0.8088763666888666, 0.8599234966422467, 0.601623602092352]}, {\"categories\": [\"0\", \"1\", \"2\", \"3\", \"4\", \"5\", \"6\", \"7\", \"8\", \"9\", \"10\", \"11\", \"12\", \"13\", \"14\", \"15\", \"16\", \"17\", \"18\", \"19\", \"20\", \"21\", \"22\", \"23\", \"24\", \"25\", \"26\", \"27\", \"28\", \"29\", \"30\", \"31\"], \"mode\": \"lines\", \"name\": \"precision_score_weighted_max\", \"stepped\": true, \"type\": \"scatter\", \"data\": [0.8250147422022422, 0.8250147422022422, 0.8250147422022422, 0.827004662004662, 0.827004662004662, 0.827004662004662, 0.827004662004662, 0.827004662004662, 0.827004662004662, 0.827004662004662, 0.827004662004662, 0.827004662004662, 0.827004662004662, 0.827004662004662, 0.827004662004662, 0.827004662004662, 0.8278591200466201, 0.8278591200466201, 0.8309054834054834, 0.8386510191197691, 0.8386510191197691, 0.8386510191197691, 0.8386510191197691, 0.8386510191197691, 0.8453474303474304, 0.8453474303474304, 0.8453474303474304, 0.8453474303474304, 0.8453474303474304, 0.8453474303474304, 0.8599234966422467, 0.8599234966422467]}], \"accuracy\": [{\"categories\": [\"0\", \"1\", \"2\", \"3\", \"4\", \"5\", \"6\", \"7\", \"8\", \"9\", \"10\", \"11\", \"12\", \"13\", \"14\", \"15\", \"16\", \"17\", \"18\", \"19\", \"20\", \"21\", \"22\", \"23\", \"24\", \"25\", \"26\", \"27\", \"28\", \"29\", \"30\", \"31\"], \"mode\": \"markers\", \"name\": \"accuracy\", \"stepped\": false, \"type\": \"scatter\", \"data\": [0.7875, 0.76875, 0.7874999999999999, 0.7625, 0.73125, 0.6125, 0.7625, 0.75625, 0.725, 0.7562500000000001, 0.7375, 0.725, 0.74375, 0.6625, 0.8, 0.75, 0.8, 0.78125, 0.8, 0.80625, 0.7625, 0.79375, 0.75625, 0.70625, 0.8, 0.5062500000000001, 0.775, 0.76875, 0.7875, 0.78125, 0.8375, 0.675]}, {\"categories\": [\"0\", \"1\", \"2\", \"3\", \"4\", \"5\", \"6\", \"7\", \"8\", \"9\", \"10\", \"11\", \"12\", \"13\", \"14\", \"15\", \"16\", \"17\", \"18\", \"19\", \"20\", \"21\", \"22\", \"23\", \"24\", \"25\", \"26\", \"27\", \"28\", \"29\", \"30\", \"31\"], \"mode\": \"lines\", \"name\": \"accuracy_max\", \"stepped\": true, \"type\": \"scatter\", \"data\": [0.7875, 0.7875, 0.7875, 0.7875, 0.7875, 0.7875, 0.7875, 0.7875, 0.7875, 0.7875, 0.7875, 0.7875, 0.7875, 0.7875, 0.8, 0.8, 0.8, 0.8, 0.8, 0.80625, 0.80625, 0.80625, 0.80625, 0.80625, 0.80625, 0.80625, 0.80625, 0.80625, 0.80625, 0.80625, 0.8375, 0.8375]}], \"average_precision_score_micro\": [{\"categories\": [\"0\", \"1\", \"2\", \"3\", \"4\", \"5\", \"6\", \"7\", \"8\", \"9\", \"10\", \"11\", \"12\", \"13\", \"14\", \"15\", \"16\", \"17\", \"18\", \"19\", \"20\", \"21\", \"22\", \"23\", \"24\", \"25\", \"26\", \"27\", \"28\", \"29\", \"30\", \"31\"], \"mode\": \"markers\", \"name\": \"average_precision_score_micro\", \"stepped\": false, \"type\": \"scatter\", \"data\": [0.8291327530380234, 0.8518707689933872, 0.8345280785721447, 0.8061151635214219, 0.8148195693404001, 0.712809648488628, 0.854721594661965, 0.8596555309013441, 0.7921814402219924, 0.8366630344976849, 0.8352003316626012, 0.776781677483245, 0.8043067521399572, 0.7138974743519646, 0.834245637199604, 0.8372808930742981, 0.8415703609594664, 0.8386123507361107, 0.8725140357092184, 0.858638342124743, 0.8373064606567792, 0.8349073628616551, 0.8321236220735474, 0.7755385712930907, 0.8396877598604765, 0.5549621005870697, 0.8347398480990936, 0.8372192377132484, 0.8317092842014695, 0.8276506129635035, 0.875800138945265, 0.7737602029461501]}, {\"categories\": [\"0\", \"1\", \"2\", \"3\", \"4\", \"5\", \"6\", \"7\", \"8\", \"9\", \"10\", \"11\", \"12\", \"13\", \"14\", \"15\", \"16\", \"17\", \"18\", \"19\", \"20\", \"21\", \"22\", \"23\", \"24\", \"25\", \"26\", \"27\", \"28\", \"29\", \"30\", \"31\"], \"mode\": \"lines\", \"name\": \"average_precision_score_micro_max\", \"stepped\": true, \"type\": \"scatter\", \"data\": [0.8291327530380234, 0.8518707689933872, 0.8518707689933872, 0.8518707689933872, 0.8518707689933872, 0.8518707689933872, 0.854721594661965, 0.8596555309013441, 0.8596555309013441, 0.8596555309013441, 0.8596555309013441, 0.8596555309013441, 0.8596555309013441, 0.8596555309013441, 0.8596555309013441, 0.8596555309013441, 0.8596555309013441, 0.8596555309013441, 0.8725140357092184, 0.8725140357092184, 0.8725140357092184, 0.8725140357092184, 0.8725140357092184, 0.8725140357092184, 0.8725140357092184, 0.8725140357092184, 0.8725140357092184, 0.8725140357092184, 0.8725140357092184, 0.8725140357092184, 0.875800138945265, 0.875800138945265]}], \"precision_score_binary\": [{\"categories\": [\"0\", \"1\", \"2\", \"3\", \"4\", \"5\", \"6\", \"7\", \"8\", \"9\", \"10\", \"11\", \"12\", \"13\", \"14\", \"15\", \"16\", \"17\", \"18\", \"19\", \"20\", \"21\", \"22\", \"23\", \"24\", \"25\", \"26\", \"27\", \"28\", \"29\", \"30\", \"31\"], \"mode\": \"markers\", \"name\": \"precision_score_binary\", \"stepped\": false, \"type\": \"scatter\", \"data\": [0.7706304112554112, 0.7532051282051282, 0.7700563325563325, 0.7542200854700855, 0.7153846153846154, 0.6684704184704184, 0.7485916860916861, 0.7489718614718615, 0.7844246031746032, 0.7461444805194806, 0.7310245310245309, 0.7093406593406593, 0.7472853535353535, 0.6996843434343435, 0.7916666666666666, 0.7166396103896104, 0.7869560994560995, 0.768560606060606, 0.7801136363636363, 0.8008838383838385, 0.7455201048951049, 0.7899621212121213, 0.7528769841269841, 0.6993079836829837, 0.8024475524475525, 0.5895604395604395, 0.7642662892662893, 0.7720328282828284, 0.7723800505050505, 0.7526744089244088, 0.820661976911977, 0.6917613636363636]}, {\"categories\": [\"0\", \"1\", \"2\", \"3\", \"4\", \"5\", \"6\", \"7\", \"8\", \"9\", \"10\", \"11\", \"12\", \"13\", \"14\", \"15\", \"16\", \"17\", \"18\", \"19\", \"20\", \"21\", \"22\", \"23\", \"24\", \"25\", \"26\", \"27\", \"28\", \"29\", \"30\", \"31\"], \"mode\": \"lines\", \"name\": \"precision_score_binary_max\", \"stepped\": true, \"type\": \"scatter\", \"data\": [0.7706304112554112, 0.7706304112554112, 0.7706304112554112, 0.7706304112554112, 0.7706304112554112, 0.7706304112554112, 0.7706304112554112, 0.7706304112554112, 0.7844246031746032, 0.7844246031746032, 0.7844246031746032, 0.7844246031746032, 0.7844246031746032, 0.7844246031746032, 0.7916666666666666, 0.7916666666666666, 0.7916666666666666, 0.7916666666666666, 0.7916666666666666, 0.8008838383838385, 0.8008838383838385, 0.8008838383838385, 0.8008838383838385, 0.8008838383838385, 0.8024475524475525, 0.8024475524475525, 0.8024475524475525, 0.8024475524475525, 0.8024475524475525, 0.8024475524475525, 0.820661976911977, 0.820661976911977]}], \"recall_score_weighted\": [{\"categories\": [\"0\", \"1\", \"2\", \"3\", \"4\", \"5\", \"6\", \"7\", \"8\", \"9\", \"10\", \"11\", \"12\", \"13\", \"14\", \"15\", \"16\", \"17\", \"18\", \"19\", \"20\", \"21\", \"22\", \"23\", \"24\", \"25\", \"26\", \"27\", \"28\", \"29\", \"30\", \"31\"], \"mode\": \"markers\", \"name\": \"recall_score_weighted\", \"stepped\": false, \"type\": \"scatter\", \"data\": [0.7875, 0.76875, 0.7874999999999999, 0.7625, 0.73125, 0.6125, 0.7625, 0.75625, 0.725, 0.7562500000000001, 0.7375, 0.725, 0.74375, 0.6625, 0.8, 0.75, 0.8, 0.78125, 0.8, 0.80625, 0.7625, 0.79375, 0.75625, 0.70625, 0.8, 0.5062500000000001, 0.775, 0.76875, 0.7875, 0.78125, 0.8375, 0.675]}, {\"categories\": [\"0\", \"1\", \"2\", \"3\", \"4\", \"5\", \"6\", \"7\", \"8\", \"9\", \"10\", \"11\", \"12\", \"13\", \"14\", \"15\", \"16\", \"17\", \"18\", \"19\", \"20\", \"21\", \"22\", \"23\", \"24\", \"25\", \"26\", \"27\", \"28\", \"29\", \"30\", \"31\"], \"mode\": \"lines\", \"name\": \"recall_score_weighted_max\", \"stepped\": true, \"type\": \"scatter\", \"data\": [0.7875, 0.7875, 0.7875, 0.7875, 0.7875, 0.7875, 0.7875, 0.7875, 0.7875, 0.7875, 0.7875, 0.7875, 0.7875, 0.7875, 0.8, 0.8, 0.8, 0.8, 0.8, 0.80625, 0.80625, 0.80625, 0.80625, 0.80625, 0.80625, 0.80625, 0.80625, 0.80625, 0.80625, 0.80625, 0.8375, 0.8375]}], \"matthews_correlation\": [{\"categories\": [\"0\", \"1\", \"2\", \"3\", \"4\", \"5\", \"6\", \"7\", \"8\", \"9\", \"10\", \"11\", \"12\", \"13\", \"14\", \"15\", \"16\", \"17\", \"18\", \"19\", \"20\", \"21\", \"22\", \"23\", \"24\", \"25\", \"26\", \"27\", \"28\", \"29\", \"30\", \"31\"], \"mode\": \"markers\", \"name\": \"matthews_correlation\", \"stepped\": false, \"type\": \"scatter\", \"data\": [0.5823350079159881, 0.5492741129964969, 0.5912736257995344, 0.5728756257279431, 0.460856286468708, 0.2744819125968831, 0.5417285257790159, 0.516288434434842, 0.4816221191747548, 0.5176261058178957, 0.4848078638795858, 0.4733372653624988, 0.514713609210188, 0.34483152078327806, 0.5936796235818705, 0.508593610787275, 0.5952300903937844, 0.5764441222520629, 0.6058081990724884, 0.6228538676184243, 0.5237932965320267, 0.6059362480155654, 0.5075923072953068, 0.43824623089349485, 0.6266187277823781, 0.11380994594954838, 0.5611916540215993, 0.5489841768033936, 0.5810659173305737, 0.5548306349536011, 0.6723722315641052, 0.40855909884544583]}, {\"categories\": [\"0\", \"1\", \"2\", \"3\", \"4\", \"5\", \"6\", \"7\", \"8\", \"9\", \"10\", \"11\", \"12\", \"13\", \"14\", \"15\", \"16\", \"17\", \"18\", \"19\", \"20\", \"21\", \"22\", \"23\", \"24\", \"25\", \"26\", \"27\", \"28\", \"29\", \"30\", \"31\"], \"mode\": \"lines\", \"name\": \"matthews_correlation_max\", \"stepped\": true, \"type\": \"scatter\", \"data\": [0.5823350079159881, 0.5823350079159881, 0.5912736257995344, 0.5912736257995344, 0.5912736257995344, 0.5912736257995344, 0.5912736257995344, 0.5912736257995344, 0.5912736257995344, 0.5912736257995344, 0.5912736257995344, 0.5912736257995344, 0.5912736257995344, 0.5912736257995344, 0.5936796235818705, 0.5936796235818705, 0.5952300903937844, 0.5952300903937844, 0.6058081990724884, 0.6228538676184243, 0.6228538676184243, 0.6228538676184243, 0.6228538676184243, 0.6228538676184243, 0.6266187277823781, 0.6266187277823781, 0.6266187277823781, 0.6266187277823781, 0.6266187277823781, 0.6266187277823781, 0.6723722315641052, 0.6723722315641052]}], \"norm_macro_recall\": [{\"categories\": [\"0\", \"1\", \"2\", \"3\", \"4\", \"5\", \"6\", \"7\", \"8\", \"9\", \"10\", \"11\", \"12\", \"13\", \"14\", \"15\", \"16\", \"17\", \"18\", \"19\", \"20\", \"21\", \"22\", \"23\", \"24\", \"25\", \"26\", \"27\", \"28\", \"29\", \"30\", \"31\"], \"mode\": \"markers\", \"name\": \"norm_macro_recall\", \"stepped\": false, \"type\": \"scatter\", \"data\": [0.5972527472527472, 0.5648740148740148, 0.6156829281829282, 0.5922549672549673, 0.4711316461316461, 0.2888916638916639, 0.5596625596625597, 0.5264305139305139, 0.4944000444000444, 0.5363719613719614, 0.5004592629592629, 0.48187784437784437, 0.5382797757797758, 0.35653374403374405, 0.603506216006216, 0.5221916971916971, 0.6117701742701742, 0.5924325674325674, 0.6275141525141525, 0.6473401598401599, 0.5302059052059052, 0.6277500277500279, 0.5227522477522477, 0.4566780441780442, 0.6503149628149628, 0.16800283050283052, 0.5823509823509823, 0.5686771561771562, 0.6063214563214563, 0.5655386280386281, 0.6920745920745921, 0.42777639027639036]}, {\"categories\": [\"0\", \"1\", \"2\", \"3\", \"4\", \"5\", \"6\", \"7\", \"8\", \"9\", \"10\", \"11\", \"12\", \"13\", \"14\", \"15\", \"16\", \"17\", \"18\", \"19\", \"20\", \"21\", \"22\", \"23\", \"24\", \"25\", \"26\", \"27\", \"28\", \"29\", \"30\", \"31\"], \"mode\": \"lines\", \"name\": \"norm_macro_recall_max\", \"stepped\": true, \"type\": \"scatter\", \"data\": [0.5972527472527472, 0.5972527472527472, 0.6156829281829282, 0.6156829281829282, 0.6156829281829282, 0.6156829281829282, 0.6156829281829282, 0.6156829281829282, 0.6156829281829282, 0.6156829281829282, 0.6156829281829282, 0.6156829281829282, 0.6156829281829282, 0.6156829281829282, 0.6156829281829282, 0.6156829281829282, 0.6156829281829282, 0.6156829281829282, 0.6275141525141525, 0.6473401598401599, 0.6473401598401599, 0.6473401598401599, 0.6473401598401599, 0.6473401598401599, 0.6503149628149628, 0.6503149628149628, 0.6503149628149628, 0.6503149628149628, 0.6503149628149628, 0.6503149628149628, 0.6920745920745921, 0.6920745920745921]}], \"average_precision_score_weighted\": [{\"categories\": [\"0\", \"1\", \"2\", \"3\", \"4\", \"5\", \"6\", \"7\", \"8\", \"9\", \"10\", \"11\", \"12\", \"13\", \"14\", \"15\", \"16\", \"17\", \"18\", \"19\", \"20\", \"21\", \"22\", \"23\", \"24\", \"25\", \"26\", \"27\", \"28\", \"29\", \"30\", \"31\"], \"mode\": \"markers\", \"name\": \"average_precision_score_weighted\", \"stepped\": false, \"type\": \"scatter\", \"data\": [0.8771375368214087, 0.9043304469492066, 0.8725056703648518, 0.8782781013007891, 0.8638434505810667, 0.7668828812924692, 0.8913128369791972, 0.8921284554798486, 0.8483057533872647, 0.8892064502082885, 0.8597687657253736, 0.829486773600067, 0.8517832381004788, 0.7827761206962542, 0.8538958389069651, 0.8703088894625757, 0.8745997966225811, 0.8845364309806549, 0.8963513324910384, 0.8881845239437636, 0.8891288609857205, 0.8874284559394854, 0.8579786658291398, 0.8238467929344477, 0.8711337838180911, 0.6255793367064652, 0.8623972658587112, 0.8646778366220123, 0.8796960863729923, 0.8820752274847186, 0.9194900687547746, 0.9077953475242079]}, {\"categories\": [\"0\", \"1\", \"2\", \"3\", \"4\", \"5\", \"6\", \"7\", \"8\", \"9\", \"10\", \"11\", \"12\", \"13\", \"14\", \"15\", \"16\", \"17\", \"18\", \"19\", \"20\", \"21\", \"22\", \"23\", \"24\", \"25\", \"26\", \"27\", \"28\", \"29\", \"30\", \"31\"], \"mode\": \"lines\", \"name\": \"average_precision_score_weighted_max\", \"stepped\": true, \"type\": \"scatter\", \"data\": [0.8771375368214087, 0.9043304469492066, 0.9043304469492066, 0.9043304469492066, 0.9043304469492066, 0.9043304469492066, 0.9043304469492066, 0.9043304469492066, 0.9043304469492066, 0.9043304469492066, 0.9043304469492066, 0.9043304469492066, 0.9043304469492066, 0.9043304469492066, 0.9043304469492066, 0.9043304469492066, 0.9043304469492066, 0.9043304469492066, 0.9043304469492066, 0.9043304469492066, 0.9043304469492066, 0.9043304469492066, 0.9043304469492066, 0.9043304469492066, 0.9043304469492066, 0.9043304469492066, 0.9043304469492066, 0.9043304469492066, 0.9043304469492066, 0.9043304469492066, 0.9194900687547746, 0.9194900687547746]}]}, \"metricName\": null, \"primaryMetricName\": \"AUC_weighted\", \"showLegend\": false}, \"run_metrics\": [{\"name\": \"norm_macro_recall\", \"run_id\": \"AutoML_808d8d01-7318-463f-accb-7df463e309cb\", \"categories\": [0], \"series\": [{\"data\": [0.6920745920745921]}]}, {\"name\": \"average_precision_score_weighted\", \"run_id\": \"AutoML_808d8d01-7318-463f-accb-7df463e309cb\", \"categories\": [0], \"series\": [{\"data\": [0.9194900687547746]}]}, {\"name\": \"recall_score_weighted\", \"run_id\": \"AutoML_808d8d01-7318-463f-accb-7df463e309cb\", \"categories\": [0], \"series\": [{\"data\": [0.8375]}]}, {\"name\": \"precision_score_binary\", \"run_id\": \"AutoML_808d8d01-7318-463f-accb-7df463e309cb\", \"categories\": [0], \"series\": [{\"data\": [0.820661976911977]}]}, {\"name\": \"matthews_correlation\", \"run_id\": \"AutoML_808d8d01-7318-463f-accb-7df463e309cb\", \"categories\": [0], \"series\": [{\"data\": [0.6723722315641052]}]}, {\"name\": \"average_precision_score_micro\", \"run_id\": \"AutoML_808d8d01-7318-463f-accb-7df463e309cb\", \"categories\": [0], \"series\": [{\"data\": [0.875800138945265]}]}, {\"name\": \"f1_score_micro\", \"run_id\": \"AutoML_808d8d01-7318-463f-accb-7df463e309cb\", \"categories\": [0], \"series\": [{\"data\": [0.8375]}]}, {\"name\": \"precision_score_weighted\", \"run_id\": \"AutoML_808d8d01-7318-463f-accb-7df463e309cb\", \"categories\": [0], \"series\": [{\"data\": [0.8599234966422467]}]}, {\"name\": \"accuracy\", \"run_id\": \"AutoML_808d8d01-7318-463f-accb-7df463e309cb\", \"categories\": [0], \"series\": [{\"data\": [0.8375]}]}, {\"name\": \"balanced_accuracy\", \"run_id\": \"AutoML_808d8d01-7318-463f-accb-7df463e309cb\", \"categories\": [0], \"series\": [{\"data\": [0.8460372960372962]}]}, {\"name\": \"f1_score_binary\", \"run_id\": \"AutoML_808d8d01-7318-463f-accb-7df463e309cb\", \"categories\": [0], \"series\": [{\"data\": [0.8240383567957097]}]}, {\"name\": \"f1_score_macro\", \"run_id\": \"AutoML_808d8d01-7318-463f-accb-7df463e309cb\", \"categories\": [0], \"series\": [{\"data\": [0.8276027041715981]}]}, {\"name\": \"average_precision_score_macro\", \"run_id\": \"AutoML_808d8d01-7318-463f-accb-7df463e309cb\", \"categories\": [0], \"series\": [{\"data\": [0.8995133401179255]}]}, {\"name\": \"weighted_accuracy\", \"run_id\": \"AutoML_808d8d01-7318-463f-accb-7df463e309cb\", \"categories\": [0], \"series\": [{\"data\": [0.831290260946373]}]}, {\"name\": \"recall_score_binary\", \"run_id\": \"AutoML_808d8d01-7318-463f-accb-7df463e309cb\", \"categories\": [0], \"series\": [{\"data\": [0.8415750915750917]}]}, {\"name\": \"precision_score_macro\", \"run_id\": \"AutoML_808d8d01-7318-463f-accb-7df463e309cb\", \"categories\": [0], \"series\": [{\"data\": [0.8270713661338661]}]}, {\"name\": \"f1_score_weighted\", \"run_id\": \"AutoML_808d8d01-7318-463f-accb-7df463e309cb\", \"categories\": [0], \"series\": [{\"data\": [0.8410959164834644]}]}, {\"name\": \"precision_score_micro\", \"run_id\": \"AutoML_808d8d01-7318-463f-accb-7df463e309cb\", \"categories\": [0], \"series\": [{\"data\": [0.8375]}]}, {\"name\": \"recall_score_macro\", \"run_id\": \"AutoML_808d8d01-7318-463f-accb-7df463e309cb\", \"categories\": [0], \"series\": [{\"data\": [0.8460372960372962]}]}, {\"name\": \"AUC_binary\", \"run_id\": \"AutoML_808d8d01-7318-463f-accb-7df463e309cb\", \"categories\": [0], \"series\": [{\"data\": [0.905494782994783]}]}, {\"name\": \"average_precision_score_binary\", \"run_id\": \"AutoML_808d8d01-7318-463f-accb-7df463e309cb\", \"categories\": [0], \"series\": [{\"data\": [0.922858791761978]}]}, {\"name\": \"AUC_weighted\", \"run_id\": \"AutoML_808d8d01-7318-463f-accb-7df463e309cb\", \"categories\": [0], \"series\": [{\"data\": [0.9054947829947829]}]}, {\"name\": \"AUC_macro\", \"run_id\": \"AutoML_808d8d01-7318-463f-accb-7df463e309cb\", \"categories\": [0], \"series\": [{\"data\": [0.905494782994783]}]}, {\"name\": \"AUC_micro\", \"run_id\": \"AutoML_808d8d01-7318-463f-accb-7df463e309cb\", \"categories\": [0], \"series\": [{\"data\": [0.8768750000000001]}]}, {\"name\": \"recall_score_micro\", \"run_id\": \"AutoML_808d8d01-7318-463f-accb-7df463e309cb\", \"categories\": [0], \"series\": [{\"data\": [0.8375]}]}, {\"name\": \"log_loss\", \"run_id\": \"AutoML_808d8d01-7318-463f-accb-7df463e309cb\", \"categories\": [0], \"series\": [{\"data\": [0.4611832284612287]}]}], \"run_logs\": \"\\nRun is completed.\", \"graph\": {}, \"widget_settings\": {\"childWidgetDisplay\": \"popup\", \"send_telemetry\": false, \"log_level\": \"INFO\", \"sdk_version\": \"1.34.0\"}, \"loading\": false}"
     },
     "metadata": {},
     "output_type": "display_data"
    }
   ],
   "source": [
    "from azureml.widgets import RunDetails\n",
    "\n",
    "RunDetails(auto_ml_run).show()"
   ]
  },
  {
   "cell_type": "markdown",
   "metadata": {},
   "source": [
    "## Best Model\n",
    "\n",
    "TODO: In the cell below, get the best model from the automl experiments and display all the properties of the model.\n",
    "\n"
   ]
  },
  {
   "cell_type": "code",
   "execution_count": 11,
   "metadata": {
    "gather": {
     "logged": 1598431426111
    },
    "jupyter": {
     "outputs_hidden": false,
     "source_hidden": false
    },
    "nteract": {
     "transient": {
      "deleting": false
     }
    }
   },
   "outputs": [
    {
     "name": "stdout",
     "output_type": "stream",
     "text": [
      "Based on the sampled data provided, the prediction is [1] \n",
      " \n",
      " The best run's details are: \n",
      "  Run(Experiment: auto_ml_experiment,\n",
      "Id: AutoML_808d8d01-7318-463f-accb-7df463e309cb_30,\n",
      "Type: None,\n",
      "Status: Completed) \n",
      " The best models's details are: \n",
      " \n",
      " Pipeline(memory=None,\n",
      "         steps=[('datatransformer',\n",
      "                 DataTransformer(enable_dnn=False, enable_feature_sweeping=True, feature_sweeping_config={}, feature_sweeping_timeout=86400, featurization_config=None, force_text_dnn=False, is_cross_validation=True, is_onnx_compatible=False, observer=None, task='classification', working_dir='/mnt/batch/tasks/shared/LS_root/mount...\n",
      "), random_state=None))], verbose=False)), ('8', Pipeline(memory=None, steps=[('robustscaler', RobustScaler(copy=True, quantile_range=[25, 75], with_centering=False, with_scaling=True)), ('kneighborsclassifier', KNeighborsClassifier(algorithm='auto', leaf_size=30, metric='manhattan', metric_params=None, n_jobs=1, n_neighbors=22, p=2, weights='distance'))], verbose=False))], flatten_transform=None, weights=[0.2, 0.3333333333333333, 0.06666666666666667, 0.06666666666666667, 0.13333333333333333, 0.06666666666666667, 0.06666666666666667, 0.06666666666666667]))],\n",
      "         verbose=False)\n"
     ]
    },
    {
     "data": {
      "text/plain": [
       "['auto-ml-best_run.pkl']"
      ]
     },
     "execution_count": 11,
     "metadata": {},
     "output_type": "execute_result"
    }
   ],
   "source": [
    "#TODO: Save the best model\n",
    "import joblib\n",
    "import pandas as pd\n",
    "\n",
    "best_run,best_model = auto_ml_run.get_output()\n",
    "\n",
    "test_data = {\n",
    "    'danceability':0.273,\n",
    "    'energy':0.163,\n",
    "    'key':7,\n",
    "    'loudness':-15.889,\n",
    "    'mode':1,\n",
    "    'speechiness':0.0306,\n",
    "    'acousticness':0.853,\n",
    "    'instrumentalness':1.01e-06,\n",
    "    'liveness':0.0835,\n",
    "    'valence':0.202,\n",
    "    'tempo':68.994\n",
    "}\n",
    "\n",
    "# Convert data to dataframe and check if model is operational. The track specifications for the above track are ones I like. \n",
    "# Expecting model to output '1'\n",
    "test_data_df=pd.DataFrame([test_data])\n",
    "print(\"Based on the sampled data provided, the prediction is {}\".format(best_model.predict(test_data_df)),'\\n \\n', 'The best run\\'s details are: \\n ',best_run, '\\n','The best models\\'s details are: \\n \\n',best_model)\n",
    "\n",
    "joblib.dump(value=best_model,filename='auto-ml-best_run.pkl')"
   ]
  },
  {
   "cell_type": "markdown",
   "metadata": {},
   "source": [
    "## Model Deployment\n",
    "\n",
    "The first step in deployment requires us to register the model within the Azure Workspace."
   ]
  },
  {
   "cell_type": "code",
   "execution_count": 12,
   "metadata": {
    "gather": {
     "logged": 1598431435189
    },
    "jupyter": {
     "outputs_hidden": false,
     "source_hidden": false
    },
    "nteract": {
     "transient": {
      "deleting": false
     }
    }
   },
   "outputs": [
    {
     "name": "stdout",
     "output_type": "stream",
     "text": [
      "Model ID AutoML808d8d01730\n"
     ]
    }
   ],
   "source": [
    "# Register the model to deploy\n",
    "\n",
    "model_name = best_run.properties['model_name']\n",
    "description = 'AutoML model for predicting track recommendation'\n",
    "tags={'area': \"music\", 'type': \"classification\"}\n",
    "Auto_ML_model = auto_ml_run.register_model(model_name = model_name, \n",
    "                                  description = description, \n",
    "                                  tags = tags)\n",
    "\n",
    "print(\"Model ID\", auto_ml_run.model_id)"
   ]
  },
  {
   "cell_type": "markdown",
   "metadata": {},
   "source": [
    "# Set up environment\n",
    "\n",
    "This step inititates the environment in which the model will be deplyed. Azure has the environment files that contain the specific packages required to set up deployment."
   ]
  },
  {
   "cell_type": "code",
   "execution_count": 13,
   "metadata": {},
   "outputs": [],
   "source": [
    "from azureml.core.environment import Environment\n",
    "from azureml.automl.core.shared import constants\n",
    "\n",
    "best_run.download_file(constants.CONDA_ENV_FILE_PATH, 'AML_test_env.yml') # check if this is the correct file in the child run\n",
    "model_deploy_env = Environment.from_conda_specification(name=\"AML_test_env\", file_path=\"AML_test_env.yml\")"
   ]
  },
  {
   "cell_type": "markdown",
   "metadata": {},
   "source": [
    "Check that model is registered in the Azure workspace by selecting the **models** tab"
   ]
  },
  {
   "cell_type": "markdown",
   "metadata": {},
   "source": [
    "## Deploy model"
   ]
  },
  {
   "cell_type": "code",
   "execution_count": 14,
   "metadata": {},
   "outputs": [],
   "source": [
    "from azureml.core.model import InferenceConfig, Model\n",
    "from azureml.core import Environment\n",
    "from azureml.core.webservice import AciWebservice, Webservice"
   ]
  },
  {
   "cell_type": "markdown",
   "metadata": {},
   "source": [
    "## Instantiate the inference config"
   ]
  },
  {
   "cell_type": "markdown",
   "metadata": {},
   "source": [
    "The inference class requires a `entry_script`. We can obtain this file from the workspace by accessing the running experiment, selecting the most recent run and the most recent child run. In **outputs and logs**, Azure places the trained model, environment dependencies, environment file set-up as well as other useful files associated with the experiment."
   ]
  },
  {
   "cell_type": "code",
   "execution_count": 15,
   "metadata": {},
   "outputs": [],
   "source": [
    "best_run.download_file('outputs/scoring_file_v_1_0_0.py', 'inference/score.py')"
   ]
  },
  {
   "cell_type": "code",
   "execution_count": 16,
   "metadata": {},
   "outputs": [],
   "source": [
    "# Combine scoring script & environment in Inference configuration\n",
    "# Ensure that no duplicate models are registered in workspace\n",
    "\n",
    "inference_config = InferenceConfig(entry_script=\"./inference/score.py\",\n",
    "                                   environment=model_deploy_env)\n",
    "\n",
    "# Set deployment configuration\n",
    "aci_config = AciWebservice.deploy_configuration(cpu_cores = 1, \n",
    "                                               memory_gb = 1, \n",
    "                                               description = 'Spotify tracklist classification service')\n",
    "\n",
    "# Define the model, inference, & deployment configuration and web service name and location to deploy\n",
    "service = Model.deploy(workspace = ws,\n",
    "                       name = \"my-web-service\",\n",
    "                       models = [Auto_ML_model],\n",
    "                       inference_config = inference_config,\n",
    "                       deployment_config = aci_config)"
   ]
  },
  {
   "cell_type": "code",
   "execution_count": 17,
   "metadata": {},
   "outputs": [
    {
     "name": "stdout",
     "output_type": "stream",
     "text": [
      "Tips: You can try get_logs(): https://aka.ms/debugimage#dockerlog or local deployment: https://aka.ms/debugimage#debug-locally to debug if deployment takes longer than 10 minutes.\n",
      "Running\n",
      "2021-10-06 13:42:34+00:00 Creating Container Registry if not exists..\n",
      "2021-10-06 13:52:35+00:00 Registering the environment.\n",
      "2021-10-06 13:52:36+00:00 Building image..\n",
      "2021-10-06 14:03:53+00:00 Generating deployment configuration.\n",
      "2021-10-06 14:03:54+00:00 Submitting deployment to compute..\n",
      "2021-10-06 14:03:59+00:00 Checking the status of deployment my-web-service..\n",
      "2021-10-06 14:07:42+00:00 Checking the status of inference endpoint my-web-service.\n",
      "Succeeded\n",
      "ACI service creation operation finished, operation \"Succeeded\"\n"
     ]
    }
   ],
   "source": [
    "service.wait_for_deployment(True)"
   ]
  },
  {
   "cell_type": "code",
   "execution_count": 18,
   "metadata": {},
   "outputs": [
    {
     "name": "stdout",
     "output_type": "stream",
     "text": [
      "AciWebservice(workspace=Workspace.create(name='quick-starts-ws-160175', subscription_id='3e42d11f-d64d-4173-af9b-12ecaa1030b3', resource_group='aml-quickstarts-160175'), name=my-web-service, image_id=None, compute_type=None, state=ACI, scoring_uri=Healthy, tags=http://fa52c0d3-9bc5-424d-9adb-88cee0d4c9f4.southcentralus.azurecontainer.io/score, properties={}, created_by={'hasInferenceSchema': 'True', 'hasHttps': 'False'})\n"
     ]
    }
   ],
   "source": [
    "print(service)"
   ]
  },
  {
   "cell_type": "markdown",
   "metadata": {
    "collapsed": true,
    "gather": {
     "logged": 1598431657736
    },
    "jupyter": {
     "outputs_hidden": false,
     "source_hidden": false
    },
    "nteract": {
     "transient": {
      "deleting": false
     }
    }
   },
   "source": [
    "TODO: In the cell below, send a request to the web service you deployed to test it."
   ]
  },
  {
   "cell_type": "code",
   "execution_count": 19,
   "metadata": {
    "gather": {
     "logged": 1598432707604
    },
    "jupyter": {
     "outputs_hidden": false,
     "source_hidden": false
    },
    "nteract": {
     "transient": {
      "deleting": false
     }
    }
   },
   "outputs": [
    {
     "name": "stdout",
     "output_type": "stream",
     "text": [
      "\"{\\\"result\\\": [0]}\"\n"
     ]
    }
   ],
   "source": [
    "import requests\n",
    "import json\n",
    "\n",
    "uri = service.scoring_uri\n",
    "key=''\n",
    "\n",
    "data={\n",
    "\"data\": [\n",
    "    {\n",
    "    \"danceability\":0.724,\n",
    "    \"energy\":0.6,\n",
    "    \"key\":1,\n",
    "    \"loudness\":-6.25,\n",
    "    \"mode\":0,\n",
    "    \"speechiness\":0.087,\n",
    "    \"acousticness\":0.28,\n",
    "    \"instrumentalness\":6.83e-05,\n",
    "    \"liveness\":0.108,\n",
    "    \"valence\":0.201,\n",
    "    \"tempo\":164.037\n",
    "    }\n",
    "  ],\n",
    "    \"method\":\"predict\" \n",
    "}\n",
    "\n",
    "input_data = json.dumps(data)\n",
    "\n",
    "headers = {\"Content-Type\": \"application/json\"}\n",
    "headers['Authorization'] = f'Bearer {key}' \n",
    "\n",
    "response = requests.post(uri, data=input_data, headers=headers)\n",
    "\n",
    "print(response.text)"
   ]
  },
  {
   "cell_type": "markdown",
   "metadata": {
    "collapsed": true,
    "gather": {
     "logged": 1598432765711
    },
    "jupyter": {
     "outputs_hidden": false,
     "source_hidden": false
    },
    "nteract": {
     "transient": {
      "deleting": false
     }
    }
   },
   "source": [
    "TODO: In the cell below, print the logs of the web service and delete the service"
   ]
  },
  {
   "cell_type": "code",
   "execution_count": 20,
   "metadata": {
    "jupyter": {
     "outputs_hidden": false,
     "source_hidden": false
    },
    "nteract": {
     "transient": {
      "deleting": false
     }
    }
   },
   "outputs": [
    {
     "name": "stdout",
     "output_type": "stream",
     "text": [
      "2021-10-06T14:07:34,400764600+00:00 - iot-server/run \n",
      "2021-10-06T14:07:34,413791800+00:00 - rsyslog/run \n",
      "2021-10-06T14:07:34,426981300+00:00 - nginx/run \n",
      "2021-10-06T14:07:34,425476300+00:00 - gunicorn/run \n",
      "Dynamic Python package installation is disabled.\n",
      "Starting HTTP server\n",
      "rsyslogd: /azureml-envs/azureml_09394784cb739a2b6e5ee3d577bc034d/lib/libuuid.so.1: no version information available (required by rsyslogd)\n",
      "EdgeHubConnectionString and IOTEDGE_IOTHUBHOSTNAME are not set. Exiting...\n",
      "2021-10-06T14:07:34,941420200+00:00 - iot-server/finish 1 0\n",
      "2021-10-06T14:07:34,943406900+00:00 - Exit code 1 is normal. Not restarting iot-server.\n",
      "Starting gunicorn 20.1.0\n",
      "Listening at: http://127.0.0.1:31311 (68)\n",
      "Using worker: sync\n",
      "worker timeout is set to 300\n",
      "Booting worker with pid: 99\n",
      "SPARK_HOME not set. Skipping PySpark Initialization.\n",
      "Generating new fontManager, this may take some time...\n",
      "Initializing logger\n",
      "2021-10-06 14:07:37,826 | root | INFO | Starting up app insights client\n",
      "logging socket was found. logging is available.\n",
      "logging socket was found. logging is available.\n",
      "2021-10-06 14:07:37,828 | root | INFO | Starting up request id generator\n",
      "2021-10-06 14:07:37,828 | root | INFO | Starting up app insight hooks\n",
      "2021-10-06 14:07:37,829 | root | INFO | Invoking user's init function\n",
      "2021-10-06 14:07:42,576 | azureml.core | WARNING | Failure while loading azureml_run_type_providers. Failed to load entrypoint automl = azureml.train.automl.run:AutoMLRun._from_run_dto with exception (cloudpickle 2.0.0 (/azureml-envs/azureml_09394784cb739a2b6e5ee3d577bc034d/lib/python3.6/site-packages), Requirement.parse('cloudpickle<2.0.0,>=1.1.0'), {'azureml-dataprep'}).\n",
      "Failure while loading azureml_run_type_providers. Failed to load entrypoint automl = azureml.train.automl.run:AutoMLRun._from_run_dto with exception (cloudpickle 2.0.0 (/azureml-envs/azureml_09394784cb739a2b6e5ee3d577bc034d/lib/python3.6/site-packages), Requirement.parse('cloudpickle<2.0.0,>=1.1.0'), {'azureml-dataprep'}).\n",
      "2021-10-06 14:07:43,170 | root | INFO | Users's init has completed successfully\n",
      "2021-10-06 14:07:43,178 | root | INFO | Skipping middleware: dbg_model_info as it's not enabled.\n",
      "2021-10-06 14:07:43,179 | root | INFO | Skipping middleware: dbg_resource_usage as it's not enabled.\n",
      "Generating swagger file: /tmp/tmpvjkpna9e\n",
      "2021-10-06 14:07:43,181 | root | INFO | Scoring timeout is found from os.environ: 60000 ms\n",
      "2021-10-06 14:07:43,218 | root | INFO | 200\n",
      "127.0.0.1 - - [06/Oct/2021:14:07:43 +0000] \"GET /swagger.json HTTP/1.0\" 200 2928 \"-\" \"Go-http-client/1.1\"\n",
      "2021-10-06 14:07:47,592 | root | INFO | 200\n",
      "127.0.0.1 - - [06/Oct/2021:14:07:47 +0000] \"GET /swagger.json HTTP/1.0\" 200 2928 \"-\" \"Go-http-client/1.1\"\n",
      "2021-10-06 14:10:23,005 | root | INFO | Validation Request Content-Type\n",
      "2021-10-06 14:10:23,006 | root | INFO | Scoring Timer is set to 60.0 seconds\n",
      "2021-10-06 14:10:23,372 | root | INFO | 200\n",
      "127.0.0.1 - - [06/Oct/2021:14:10:23 +0000] \"POST /score HTTP/1.0\" 200 19 \"-\" \"python-requests/2.26.0\"\n",
      "\n"
     ]
    }
   ],
   "source": [
    "print(service.get_logs())"
   ]
  },
  {
   "cell_type": "code",
   "execution_count": 22,
   "metadata": {},
   "outputs": [
    {
     "name": "stdout",
     "output_type": "stream",
     "text": [
      "No service with name my-web-service found to delete.\n"
     ]
    }
   ],
   "source": [
    "service.delete()"
   ]
  }
 ],
 "metadata": {
  "kernel_info": {
   "name": "python3-azureml"
  },
  "kernelspec": {
   "display_name": "Python 3",
   "language": "python",
   "name": "python3"
  },
  "language_info": {
   "codemirror_mode": {
    "name": "ipython",
    "version": 3
   },
   "file_extension": ".py",
   "mimetype": "text/x-python",
   "name": "python",
   "nbconvert_exporter": "python",
   "pygments_lexer": "ipython3",
   "version": "3.6.9"
  },
  "nteract": {
   "version": "nteract-front-end@1.0.0"
  }
 },
 "nbformat": 4,
 "nbformat_minor": 2
}
