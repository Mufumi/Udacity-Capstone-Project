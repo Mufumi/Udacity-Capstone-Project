{
 "cells": [
  {
   "cell_type": "markdown",
   "metadata": {},
   "source": [
    "# Automated ML\n",
    "\n",
    "TODO: Import Dependencies. In the cell below, import all the dependencies that you will need to complete the project."
   ]
  },
  {
   "cell_type": "code",
   "execution_count": 130,
   "metadata": {
    "gather": {
     "logged": 1598423888013
    },
    "jupyter": {
     "outputs_hidden": false,
     "source_hidden": false
    },
    "nteract": {
     "transient": {
      "deleting": false
     }
    }
   },
   "outputs": [],
   "source": [
    "from azureml.core import Workspace,Experiment\n",
    "import pandas as pd\n",
    "import os\n",
    "import sklearn"
   ]
  },
  {
   "cell_type": "markdown",
   "metadata": {},
   "source": [
    "## Dataset\n",
    "\n",
    "### Overview\n",
    "TODO: In this markdown cell, give an overview of the dataset you are using. Also mention the task you will be performing.\n",
    "\n",
    "\n",
    "TODO: Get data. In the cell below, write code to access the data you will be using in this project. Remember that the dataset needs to be external."
   ]
  },
  {
   "cell_type": "code",
   "execution_count": 2,
   "metadata": {},
   "outputs": [],
   "source": [
    "from azureml.data.dataset_factory import TabularDatasetFactory\n",
    "from azureml.train.automl import AutoMLConfig\n",
    "\n",
    "# This experiment is run on custom Spotify data that includes a list of 'liked' tracks as well as disliked tracks. The Spotify API featurizes tracks according to \"danceability\",\"energy\",\"key\",\"loudness\",\"mode\",\"speechiness\",\"acousticness\",\"instrumentalness\",\"liveness\",\"valence\",\"tempo\"\n",
    "# A TabularDataset is then created using TabularDatasetFactory using the 'from_delimited_files()' method to pass a csv into a data structure Azure can work with\n",
    "\n",
    "auto_ml_url_path='https://raw.githubusercontent.com/Mufumi/Udacity-Capstone-Project/main/Spotify_playlist/spotify_playlist.csv'\n",
    "auto_ml_ds = TabularDatasetFactory.from_delimited_files(path=auto_ml_url_path)"
   ]
  },
  {
   "cell_type": "code",
   "execution_count": 3,
   "metadata": {},
   "outputs": [],
   "source": [
    "# TODO: Put your automl settings here\n",
    "# automl_settings = {}\n",
    "\n",
    "# TODO: Put your automl config here\n",
    "\n",
    "# Set parameters for AutoMLConfig\n",
    "# NOTE: DO NOT CHANGE THE experiment_timeout_minutes PARAMETER OR YOUR INSTANCE WILL TIME OUT.\n",
    "# If you wish to run the experiment longer, you will need to run this notebook in your own\n",
    "# Azure tenant, which will incur personal costs.\n",
    "automl_config = AutoMLConfig(\n",
    "    experiment_timeout_minutes=30,\n",
    "    task=\"classification\",\n",
    "    primary_metric=\"accuracy\",\n",
    "    training_data=auto_ml_ds,\n",
    "    label_column_name=\"liked\",\n",
    "    n_cross_validations=8)"
   ]
  },
  {
   "cell_type": "code",
   "execution_count": 4,
   "metadata": {
    "gather": {
     "logged": 1598423890461
    },
    "jupyter": {
     "outputs_hidden": false,
     "source_hidden": false
    },
    "nteract": {
     "transient": {
      "deleting": false
     }
    }
   },
   "outputs": [
    {
     "name": "stdout",
     "output_type": "stream",
     "text": [
      "No run_configuration provided, running on local with default configuration\n",
      "Running in the active local environment.\n"
     ]
    },
    {
     "data": {
      "text/html": [
       "<table style=\"width:100%\"><tr><th>Experiment</th><th>Id</th><th>Type</th><th>Status</th><th>Details Page</th><th>Docs Page</th></tr><tr><td>auto_ml_experiment</td><td>AutoML_19b2c7bc-4f1a-47b9-8e97-63d12892f11f</td><td>automl</td><td>Preparing</td><td><a href=\"https://ml.azure.com/runs/AutoML_19b2c7bc-4f1a-47b9-8e97-63d12892f11f?wsid=/subscriptions/9a7511b8-150f-4a58-8528-3e7d50216c31/resourcegroups/aml-quickstarts-159285/workspaces/quick-starts-ws-159285&amp;tid=660b3398-b80e-49d2-bc5b-ac1dc93b5254\" target=\"_blank\" rel=\"noopener\">Link to Azure Machine Learning studio</a></td><td><a href=\"https://docs.microsoft.com/en-us/python/api/overview/azure/ml/intro?view=azure-ml-py\" target=\"_blank\" rel=\"noopener\">Link to Documentation</a></td></tr></table>"
      ],
      "text/plain": [
       "<IPython.core.display.HTML object>"
      ]
     },
     "metadata": {},
     "output_type": "display_data"
    },
    {
     "name": "stdout",
     "output_type": "stream",
     "text": [
      "Current status: DatasetEvaluation. Gathering dataset statistics.\n",
      "Current status: FeaturesGeneration. Generating features for the dataset.\n",
      "Current status: DatasetFeaturization. Beginning to fit featurizers and featurize the dataset.\n",
      "Current status: DatasetFeaturizationCompleted. Completed fit featurizers and featurizing the dataset.\n",
      "Current status: DatasetCrossValidationSplit. Generating individually featurized CV splits.\n",
      "\n",
      "****************************************************************************************************\n",
      "DATA GUARDRAILS: \n",
      "\n",
      "TYPE:         Class balancing detection\n",
      "STATUS:       PASSED\n",
      "DESCRIPTION:  Your inputs were analyzed, and all classes are balanced in your training data.\n",
      "              Learn more about imbalanced data: https://aka.ms/AutomatedMLImbalancedData\n",
      "\n",
      "****************************************************************************************************\n",
      "\n",
      "TYPE:         Missing feature values imputation\n",
      "STATUS:       PASSED\n",
      "DESCRIPTION:  No feature missing values were detected in the training data.\n",
      "              Learn more about missing value imputation: https://aka.ms/AutomatedMLFeaturization\n",
      "\n",
      "****************************************************************************************************\n",
      "\n",
      "TYPE:         High cardinality feature detection\n",
      "STATUS:       PASSED\n",
      "DESCRIPTION:  Your inputs were analyzed, and no high cardinality features were detected.\n",
      "              Learn more about high cardinality feature handling: https://aka.ms/AutomatedMLFeaturization\n",
      "\n",
      "****************************************************************************************************\n",
      "Current status: ModelSelection. Beginning model selection.\n",
      "\n",
      "****************************************************************************************************\n",
      "ITERATION: The iteration being evaluated.\n",
      "PIPELINE: A summary description of the pipeline being evaluated.\n",
      "DURATION: Time taken for the current iteration.\n",
      "METRIC: The result of computing score on the fitted pipeline.\n",
      "BEST: The best observed score thus far.\n",
      "****************************************************************************************************\n",
      "\n",
      " ITERATION   PIPELINE                                       DURATION      METRIC      BEST\n",
      "         0   MaxAbsScaler LightGBM                          0:00:26       0.8000    0.8000\n",
      "         1   MaxAbsScaler XGBoostClassifier                 0:00:25       0.8050    0.8050\n",
      "         2   MaxAbsScaler ExtremeRandomTrees                0:00:27       0.7950    0.8050\n",
      "         3   SparseNormalizer XGBoostClassifier             0:00:24       0.7450    0.8050\n",
      "         4   StandardScalerWrapper KNN                      0:00:25       0.6900    0.8050\n",
      "         5   MaxAbsScaler LightGBM                          0:00:25       0.7600    0.8050\n",
      "         6   RobustScaler LogisticRegression                0:00:25       0.7750    0.8050\n",
      "         7   MaxAbsScaler LightGBM                          0:00:24       0.7950    0.8050\n",
      "         8   StandardScalerWrapper KNN                      0:00:25       0.6650    0.8050\n",
      "         9   StandardScalerWrapper SVM                      0:00:24       0.7900    0.8050\n",
      "        10   StandardScalerWrapper XGBoostClassifier        0:00:25       0.7700    0.8050\n",
      "        11   MinMaxScaler RandomForest                      0:00:29       0.7950    0.8050\n",
      "        12   StandardScalerWrapper LogisticRegression       0:00:25       0.7750    0.8050\n",
      "        13   StandardScalerWrapper KNN                      0:00:25       0.7850    0.8050\n",
      "        14   RobustScaler KNN                               0:00:25       0.7150    0.8050\n",
      "        15   MinMaxScaler KNN                               0:00:25       0.7400    0.8050\n",
      "        16   SparseNormalizer KNN                           0:00:24       0.7400    0.8050\n",
      "        17   MaxAbsScaler LogisticRegression                0:00:24       0.7700    0.8050\n",
      "        18   StandardScalerWrapper XGBoostClassifier        0:00:24       0.7800    0.8050\n",
      "        19   StandardScalerWrapper XGBoostClassifier        0:00:25       0.7750    0.8050\n",
      "        20   MaxAbsScaler LogisticRegression                0:00:26       0.7750    0.8050\n",
      "        21   StandardScalerWrapper XGBoostClassifier        0:00:25       0.7750    0.8050\n",
      "        22   RobustScaler RandomForest                      0:00:27       0.8000    0.8050\n",
      "        23   SparseNormalizer XGBoostClassifier             0:00:25       0.8100    0.8100\n",
      "        24   StandardScalerWrapper LightGBM                 0:00:26       0.7800    0.8100\n",
      "        25   TruncatedSVDWrapper XGBoostClassifier          0:00:25       0.4550    0.8100\n",
      "        26   MinMaxScaler LightGBM                          0:00:25       0.8000    0.8100\n",
      "        27   StandardScalerWrapper ExtremeRandomTrees       0:00:26       0.7750    0.8100\n",
      "        28   StandardScalerWrapper XGBoostClassifier        0:00:25       0.8350    0.8350\n",
      "        29   SparseNormalizer XGBoostClassifier             0:00:25       0.7950    0.8350\n",
      "        30   TruncatedSVDWrapper XGBoostClassifier          0:00:25       0.7000    0.8350\n",
      "        31   SparseNormalizer XGBoostClassifier             0:00:25       0.7750    0.8350\n",
      "        32   StandardScalerWrapper XGBoostClassifier        0:00:25       0.8000    0.8350\n",
      "        33   MaxAbsScaler RandomForest                      0:00:33       0.7600    0.8350\n",
      "        34   SparseNormalizer XGBoostClassifier             0:00:25       0.7700    0.8350\n",
      "        35   SparseNormalizer XGBoostClassifier             0:00:25       0.7300    0.8350\n",
      "        36   RobustScaler LightGBM                          0:00:24       0.8100    0.8350\n",
      "        37   MinMaxScaler LightGBM                          0:00:25       0.7750    0.8350\n",
      "        38   StandardScalerWrapper ExtremeRandomTrees       0:00:27       0.8100    0.8350\n",
      "        39   VotingEnsemble                                 0:00:29       0.8400    0.8400\n",
      "        40   StackEnsemble                                  0:00:32       0.8250    0.8400\n",
      "Stopping criteria reached at iteration 41. Ending experiment.\n",
      "****************************************************************************************************\n",
      "Current status: BestRunExplainModel. Best run model explanations started\n",
      "Current status: ModelExplanationDataSetSetup. Model explanations data setup completed\n",
      "Current status: PickSurrogateModel. Choosing LightGBM as the surrogate model for explanations\n",
      "Current status: EngineeredFeatureExplanations. Computation of engineered features started\n",
      "Current status: EngineeredFeatureExplanations. Computation of engineered features completed\n",
      "Current status: RawFeaturesExplanations. Computation of raw features started\n",
      "Current status: RawFeaturesExplanations. Computation of raw features completed\n",
      "Current status: BestRunExplainModel. Best run model explanations completed\n",
      "****************************************************************************************************\n"
     ]
    }
   ],
   "source": [
    "ws = Workspace.from_config()\n",
    "\n",
    "# TODO: Submit your experiment\n",
    "auto_ml_experiment=Experiment(ws,\"auto_ml_experiment\")\n",
    "\n",
    "# Submit your automl run\n",
    "auto_ml_run=auto_ml_experiment.submit(config=automl_config,show_output=True)"
   ]
  },
  {
   "cell_type": "markdown",
   "metadata": {},
   "source": [
    "## AutoML Configuration\n",
    "\n",
    "TODO: Explain why you chose the automl settings and cofiguration you used below.\n",
    "\n"
   ]
  },
  {
   "cell_type": "markdown",
   "metadata": {},
   "source": [
    "## Run Details\n",
    "\n",
    "OPTIONAL: Write about the different models trained and their performance. Why do you think some models did better than others?\n",
    "\n",
    "TODO: In the cell below, use the `RunDetails` widget to show the different experiments."
   ]
  },
  {
   "cell_type": "code",
   "execution_count": 5,
   "metadata": {
    "gather": {
     "logged": 1598431121770
    },
    "jupyter": {
     "outputs_hidden": false,
     "source_hidden": false
    },
    "nteract": {
     "transient": {
      "deleting": false
     }
    }
   },
   "outputs": [
    {
     "data": {
      "application/vnd.jupyter.widget-view+json": {
       "model_id": "0dd75b61c2c44c28a6bbaf869363e391",
       "version_major": 2,
       "version_minor": 0
      },
      "text/plain": [
       "_AutoMLWidget(widget_settings={'childWidgetDisplay': 'popup', 'send_telemetry': False, 'log_level': 'INFO', 's…"
      ]
     },
     "metadata": {},
     "output_type": "display_data"
    },
    {
     "data": {
      "application/aml.mini.widget.v1": "{\"status\": \"Completed\", \"workbench_run_details_uri\": \"https://ml.azure.com/runs/AutoML_19b2c7bc-4f1a-47b9-8e97-63d12892f11f?wsid=/subscriptions/9a7511b8-150f-4a58-8528-3e7d50216c31/resourcegroups/aml-quickstarts-159285/workspaces/quick-starts-ws-159285&tid=660b3398-b80e-49d2-bc5b-ac1dc93b5254\", \"run_id\": \"AutoML_19b2c7bc-4f1a-47b9-8e97-63d12892f11f\", \"run_properties\": {\"run_id\": \"AutoML_19b2c7bc-4f1a-47b9-8e97-63d12892f11f\", \"created_utc\": \"2021-09-25T19:22:00.785238Z\", \"properties\": {\"num_iterations\": \"1000\", \"training_type\": \"TrainFull\", \"acquisition_function\": \"EI\", \"primary_metric\": \"accuracy\", \"train_split\": \"0\", \"acquisition_parameter\": \"0\", \"num_cross_validation\": \"8\", \"target\": \"local\", \"AMLSettingsJsonString\": \"{\\\"path\\\":null,\\\"name\\\":\\\"auto_ml_experiment\\\",\\\"subscription_id\\\":\\\"9a7511b8-150f-4a58-8528-3e7d50216c31\\\",\\\"resource_group\\\":\\\"aml-quickstarts-159285\\\",\\\"workspace_name\\\":\\\"quick-starts-ws-159285\\\",\\\"region\\\":\\\"southcentralus\\\",\\\"compute_target\\\":\\\"local\\\",\\\"spark_service\\\":null,\\\"azure_service\\\":\\\"Microsoft.AzureNotebookVM\\\",\\\"many_models\\\":false,\\\"pipeline_fetch_max_batch_size\\\":1,\\\"enable_batch_run\\\":false,\\\"enable_run_restructure\\\":false,\\\"start_auxiliary_runs_before_parent_complete\\\":false,\\\"enable_code_generation\\\":false,\\\"iterations\\\":1000,\\\"primary_metric\\\":\\\"accuracy\\\",\\\"task_type\\\":\\\"classification\\\",\\\"data_script\\\":null,\\\"test_size\\\":0.0,\\\"validation_size\\\":0.0,\\\"n_cross_validations\\\":8,\\\"y_min\\\":null,\\\"y_max\\\":null,\\\"num_classes\\\":null,\\\"featurization\\\":\\\"auto\\\",\\\"_ignore_package_version_incompatibilities\\\":false,\\\"is_timeseries\\\":false,\\\"max_cores_per_iteration\\\":1,\\\"max_concurrent_iterations\\\":1,\\\"iteration_timeout_minutes\\\":null,\\\"mem_in_mb\\\":null,\\\"enforce_time_on_windows\\\":false,\\\"experiment_timeout_minutes\\\":30,\\\"experiment_exit_score\\\":null,\\\"whitelist_models\\\":null,\\\"blacklist_algos\\\":[\\\"TensorFlowLinearClassifier\\\",\\\"TensorFlowDNN\\\"],\\\"supported_models\\\":[\\\"GradientBoosting\\\",\\\"TensorFlowDNN\\\",\\\"TensorFlowLinearClassifier\\\",\\\"MultinomialNaiveBayes\\\",\\\"BernoulliNaiveBayes\\\",\\\"DecisionTree\\\",\\\"AveragedPerceptronClassifier\\\",\\\"LinearSVM\\\",\\\"XGBoostClassifier\\\",\\\"ExtremeRandomTrees\\\",\\\"LightGBM\\\",\\\"SGD\\\",\\\"KNN\\\",\\\"SVM\\\",\\\"RandomForest\\\",\\\"LogisticRegression\\\"],\\\"private_models\\\":[],\\\"auto_blacklist\\\":true,\\\"blacklist_samples_reached\\\":false,\\\"exclude_nan_labels\\\":true,\\\"verbosity\\\":20,\\\"_debug_log\\\":\\\"automl.log\\\",\\\"show_warnings\\\":false,\\\"model_explainability\\\":true,\\\"service_url\\\":null,\\\"sdk_url\\\":null,\\\"sdk_packages\\\":null,\\\"enable_onnx_compatible_models\\\":false,\\\"enable_split_onnx_featurizer_estimator_models\\\":false,\\\"vm_type\\\":null,\\\"telemetry_verbosity\\\":20,\\\"send_telemetry\\\":true,\\\"enable_dnn\\\":false,\\\"scenario\\\":\\\"SDK-1.13.0\\\",\\\"environment_label\\\":null,\\\"save_mlflow\\\":false,\\\"force_text_dnn\\\":false,\\\"enable_feature_sweeping\\\":true,\\\"enable_early_stopping\\\":true,\\\"early_stopping_n_iters\\\":10,\\\"metrics\\\":null,\\\"enable_metric_confidence\\\":false,\\\"enable_ensembling\\\":true,\\\"enable_stack_ensembling\\\":true,\\\"ensemble_iterations\\\":15,\\\"enable_tf\\\":false,\\\"enable_subsampling\\\":null,\\\"subsample_seed\\\":null,\\\"enable_nimbusml\\\":false,\\\"enable_streaming\\\":false,\\\"force_streaming\\\":false,\\\"track_child_runs\\\":true,\\\"allowed_private_models\\\":[],\\\"label_column_name\\\":\\\"liked\\\",\\\"weight_column_name\\\":null,\\\"cv_split_column_names\\\":null,\\\"enable_local_managed\\\":false,\\\"_local_managed_run_id\\\":null,\\\"cost_mode\\\":1,\\\"lag_length\\\":0,\\\"metric_operation\\\":\\\"maximize\\\",\\\"preprocess\\\":true}\", \"DataPrepJsonString\": \"{\\\\\\\"training_data\\\\\\\": {\\\\\\\"datasetId\\\\\\\": \\\\\\\"66324bbb-a389-418e-981e-2f3e1d6869fa\\\\\\\"}, \\\\\\\"datasets\\\\\\\": 0}\", \"EnableSubsampling\": null, \"runTemplate\": \"AutoML\", \"azureml.runsource\": \"automl\", \"display_task_type\": \"classification\", \"dependencies_versions\": \"{\\\"azureml-widgets\\\": \\\"1.33.0\\\", \\\"azureml-train\\\": \\\"1.33.0\\\", \\\"azureml-train-restclients-hyperdrive\\\": \\\"1.33.0\\\", \\\"azureml-train-core\\\": \\\"1.33.0\\\", \\\"azureml-train-automl\\\": \\\"1.33.0\\\", \\\"azureml-train-automl-runtime\\\": \\\"1.33.0\\\", \\\"azureml-train-automl-client\\\": \\\"1.33.0\\\", \\\"azureml-tensorboard\\\": \\\"1.33.0\\\", \\\"azureml-telemetry\\\": \\\"1.33.0\\\", \\\"azureml-sdk\\\": \\\"1.33.0\\\", \\\"azureml-samples\\\": \\\"0+unknown\\\", \\\"azureml-responsibleai\\\": \\\"1.33.0\\\", \\\"azureml-pipeline\\\": \\\"1.33.0\\\", \\\"azureml-pipeline-steps\\\": \\\"1.33.0\\\", \\\"azureml-pipeline-core\\\": \\\"1.33.0\\\", \\\"azureml-opendatasets\\\": \\\"1.33.0\\\", \\\"azureml-mlflow\\\": \\\"1.33.0\\\", \\\"azureml-interpret\\\": \\\"1.33.0\\\", \\\"azureml-explain-model\\\": \\\"1.33.0\\\", \\\"azureml-defaults\\\": \\\"1.33.0\\\", \\\"azureml-dataset-runtime\\\": \\\"1.33.0\\\", \\\"azureml-dataprep\\\": \\\"2.20.1\\\", \\\"azureml-dataprep-rslex\\\": \\\"1.18.0\\\", \\\"azureml-dataprep-native\\\": \\\"38.0.0\\\", \\\"azureml-datadrift\\\": \\\"1.33.0\\\", \\\"azureml-core\\\": \\\"1.33.0\\\", \\\"azureml-contrib-services\\\": \\\"1.33.0\\\", \\\"azureml-contrib-server\\\": \\\"1.33.0\\\", \\\"azureml-contrib-reinforcementlearning\\\": \\\"1.33.0\\\", \\\"azureml-contrib-pipeline-steps\\\": \\\"1.33.0\\\", \\\"azureml-contrib-notebook\\\": \\\"1.33.0\\\", \\\"azureml-contrib-fairness\\\": \\\"1.33.0\\\", \\\"azureml-contrib-dataset\\\": \\\"1.33.0\\\", \\\"azureml-cli-common\\\": \\\"1.33.0\\\", \\\"azureml-automl-runtime\\\": \\\"1.33.0\\\", \\\"azureml-automl-dnn-nlp\\\": \\\"1.33.0\\\", \\\"azureml-automl-core\\\": \\\"1.33.0\\\", \\\"azureml-accel-models\\\": \\\"1.33.0\\\"}\", \"_aml_system_scenario_identification\": \"Local.Parent\", \"ClientSdkVersion\": \"1.33.0\", \"ClientType\": \"SDK\", \"environment_cpu_name\": \"AzureML-AutoML\", \"environment_cpu_label\": \"prod\", \"environment_gpu_name\": \"AzureML-AutoML-GPU\", \"environment_gpu_label\": \"prod\", \"root_attribution\": \"automl\", \"attribution\": \"AutoML\", \"Orchestrator\": \"AutoML\", \"_azureml.ComputeTargetType\": \"local\", \"ProblemInfoJsonString\": \"{\\\"dataset_num_categorical\\\": 0, \\\"is_sparse\\\": false, \\\"subsampling\\\": false, \\\"has_extra_col\\\": true, \\\"dataset_classes\\\": 2, \\\"dataset_features\\\": 11, \\\"dataset_samples\\\": 200, \\\"single_frequency_class_detected\\\": false}\"}, \"tags\": {\"model_explain_run\": \"best_run\", \"best_score\": \"0.8400000000000001\", \"best_pipeline\": \"VotingEnsemble\", \"automl_best_child_run_id\": \"AutoML_19b2c7bc-4f1a-47b9-8e97-63d12892f11f_39\", \"model_explain_best_run_child_id\": \"AutoML_19b2c7bc-4f1a-47b9-8e97-63d12892f11f_39\"}, \"end_time_utc\": \"2021-09-25T19:41:04.803553Z\", \"status\": \"Completed\", \"log_files\": {}, \"log_groups\": [], \"run_duration\": \"0:19:04\", \"run_number\": \"1\", \"run_queued_details\": {\"status\": \"Completed\", \"details\": null}}, \"child_runs\": [{\"run_id\": \"AutoML_19b2c7bc-4f1a-47b9-8e97-63d12892f11f_0\", \"run_number\": 2, \"metric\": null, \"status\": \"Completed\", \"run_type\": null, \"training_percent\": \"100\", \"start_time\": \"2021-09-25T19:22:19.121215Z\", \"end_time\": \"2021-09-25T19:22:45.503983Z\", \"created_time\": \"2021-09-25T19:22:18.9973Z\", \"created_time_dt\": \"2021-09-25T19:22:18.9973Z\", \"duration\": \"0:00:26\", \"iteration\": \"0\", \"goal\": \"accuracy_max\", \"run_name\": \"MaxAbsScaler, LightGBM\", \"run_properties\": \"copy=True\", \"primary_metric\": 0.8, \"best_metric\": 0.8}, {\"run_id\": \"AutoML_19b2c7bc-4f1a-47b9-8e97-63d12892f11f_1\", \"run_number\": 3, \"metric\": null, \"status\": \"Completed\", \"run_type\": null, \"training_percent\": \"100\", \"start_time\": \"2021-09-25T19:22:45.858376Z\", \"end_time\": \"2021-09-25T19:23:11.133548Z\", \"created_time\": \"2021-09-25T19:22:45.741535Z\", \"created_time_dt\": \"2021-09-25T19:22:45.741535Z\", \"duration\": \"0:00:25\", \"iteration\": \"1\", \"goal\": \"accuracy_max\", \"run_name\": \"MaxAbsScaler, XGBoostClassifier\", \"run_properties\": \"copy=True\", \"primary_metric\": 0.805, \"best_metric\": 0.805}, {\"run_id\": \"AutoML_19b2c7bc-4f1a-47b9-8e97-63d12892f11f_2\", \"run_number\": 4, \"metric\": null, \"status\": \"Completed\", \"run_type\": null, \"training_percent\": \"100\", \"start_time\": \"2021-09-25T19:23:11.94626Z\", \"end_time\": \"2021-09-25T19:23:38.978735Z\", \"created_time\": \"2021-09-25T19:23:11.830108Z\", \"created_time_dt\": \"2021-09-25T19:23:11.830108Z\", \"duration\": \"0:00:27\", \"iteration\": \"2\", \"goal\": \"accuracy_max\", \"run_name\": \"MaxAbsScaler, ExtremeRandomTrees\", \"run_properties\": \"copy=True\", \"primary_metric\": 0.795, \"best_metric\": 0.805}, {\"run_id\": \"AutoML_19b2c7bc-4f1a-47b9-8e97-63d12892f11f_3\", \"run_number\": 5, \"metric\": null, \"status\": \"Completed\", \"run_type\": null, \"training_percent\": \"100\", \"start_time\": \"2021-09-25T19:23:40.468917Z\", \"end_time\": \"2021-09-25T19:24:05.276905Z\", \"created_time\": \"2021-09-25T19:23:40.340906Z\", \"created_time_dt\": \"2021-09-25T19:23:40.340906Z\", \"duration\": \"0:00:24\", \"iteration\": \"3\", \"goal\": \"accuracy_max\", \"run_name\": \"SparseNormalizer, XGBoostClassifier\", \"run_properties\": \"copy=True, norm='l2'\", \"primary_metric\": 0.745, \"best_metric\": 0.805}, {\"run_id\": \"AutoML_19b2c7bc-4f1a-47b9-8e97-63d12892f11f_4\", \"run_number\": 6, \"metric\": null, \"status\": \"Completed\", \"run_type\": null, \"training_percent\": \"100\", \"start_time\": \"2021-09-25T19:24:06.614889Z\", \"end_time\": \"2021-09-25T19:24:31.563011Z\", \"created_time\": \"2021-09-25T19:24:06.499946Z\", \"created_time_dt\": \"2021-09-25T19:24:06.499946Z\", \"duration\": \"0:00:25\", \"iteration\": \"4\", \"goal\": \"accuracy_max\", \"run_name\": \"StandardScalerWrapper, KNN\", \"run_properties\": \"\\n    copy=True,\\n    with_mean=False,\\n    with_std=False\\n\", \"primary_metric\": 0.69, \"best_metric\": 0.805}, {\"run_id\": \"AutoML_19b2c7bc-4f1a-47b9-8e97-63d12892f11f_5\", \"run_number\": 7, \"metric\": null, \"status\": \"Completed\", \"run_type\": null, \"training_percent\": \"100\", \"start_time\": \"2021-09-25T19:24:32.999249Z\", \"end_time\": \"2021-09-25T19:24:58.402805Z\", \"created_time\": \"2021-09-25T19:24:32.860143Z\", \"created_time_dt\": \"2021-09-25T19:24:32.860143Z\", \"duration\": \"0:00:25\", \"iteration\": \"5\", \"goal\": \"accuracy_max\", \"run_name\": \"MaxAbsScaler, LightGBM\", \"run_properties\": \"copy=True\", \"primary_metric\": 0.76, \"best_metric\": 0.805}, {\"run_id\": \"AutoML_19b2c7bc-4f1a-47b9-8e97-63d12892f11f_6\", \"run_number\": 8, \"metric\": null, \"status\": \"Completed\", \"run_type\": null, \"training_percent\": \"100\", \"start_time\": \"2021-09-25T19:24:59.959248Z\", \"end_time\": \"2021-09-25T19:25:25.560609Z\", \"created_time\": \"2021-09-25T19:24:59.847611Z\", \"created_time_dt\": \"2021-09-25T19:24:59.847611Z\", \"duration\": \"0:00:25\", \"iteration\": \"6\", \"goal\": \"accuracy_max\", \"run_name\": \"RobustScaler, LogisticRegression\", \"run_properties\": \"copy=True, quantile_range=[10, 90], with_centering=True,\\n             with_scaling=True\", \"primary_metric\": 0.775, \"best_metric\": 0.805}, {\"run_id\": \"AutoML_19b2c7bc-4f1a-47b9-8e97-63d12892f11f_7\", \"run_number\": 9, \"metric\": null, \"status\": \"Completed\", \"run_type\": null, \"training_percent\": \"100\", \"start_time\": \"2021-09-25T19:25:27.173772Z\", \"end_time\": \"2021-09-25T19:25:51.966982Z\", \"created_time\": \"2021-09-25T19:25:27.043527Z\", \"created_time_dt\": \"2021-09-25T19:25:27.043527Z\", \"duration\": \"0:00:24\", \"iteration\": \"7\", \"goal\": \"accuracy_max\", \"run_name\": \"MaxAbsScaler, LightGBM\", \"run_properties\": \"copy=True\", \"primary_metric\": 0.795, \"best_metric\": 0.805}, {\"run_id\": \"AutoML_19b2c7bc-4f1a-47b9-8e97-63d12892f11f_8\", \"run_number\": 10, \"metric\": null, \"status\": \"Completed\", \"run_type\": null, \"training_percent\": \"100\", \"start_time\": \"2021-09-25T19:25:53.474406Z\", \"end_time\": \"2021-09-25T19:26:18.498205Z\", \"created_time\": \"2021-09-25T19:25:53.352752Z\", \"created_time_dt\": \"2021-09-25T19:25:53.352752Z\", \"duration\": \"0:00:25\", \"iteration\": \"8\", \"goal\": \"accuracy_max\", \"run_name\": \"StandardScalerWrapper, KNN\", \"run_properties\": \"\\n    copy=True,\\n    with_mean=False,\\n    with_std=False\\n\", \"primary_metric\": 0.665, \"best_metric\": 0.805}, {\"run_id\": \"AutoML_19b2c7bc-4f1a-47b9-8e97-63d12892f11f_9\", \"run_number\": 11, \"metric\": null, \"status\": \"Completed\", \"run_type\": null, \"training_percent\": \"100\", \"start_time\": \"2021-09-25T19:26:20.031225Z\", \"end_time\": \"2021-09-25T19:26:44.935587Z\", \"created_time\": \"2021-09-25T19:26:19.90197Z\", \"created_time_dt\": \"2021-09-25T19:26:19.90197Z\", \"duration\": \"0:00:25\", \"iteration\": \"9\", \"goal\": \"accuracy_max\", \"run_name\": \"StandardScalerWrapper, SVM\", \"run_properties\": \"\\n    copy=True,\\n    with_mean=True,\\n    with_std=True\\n\", \"primary_metric\": 0.79, \"best_metric\": 0.805}, {\"run_id\": \"AutoML_19b2c7bc-4f1a-47b9-8e97-63d12892f11f_10\", \"run_number\": 12, \"metric\": null, \"status\": \"Completed\", \"run_type\": null, \"training_percent\": \"100\", \"start_time\": \"2021-09-25T19:26:46.335994Z\", \"end_time\": \"2021-09-25T19:27:11.327125Z\", \"created_time\": \"2021-09-25T19:26:46.22268Z\", \"created_time_dt\": \"2021-09-25T19:26:46.22268Z\", \"duration\": \"0:00:25\", \"iteration\": \"10\", \"goal\": \"accuracy_max\", \"run_name\": \"StandardScalerWrapper, XGBoostClassifier\", \"run_properties\": \"\\n    copy=True,\\n    with_mean=False,\\n    with_std=False\\n\", \"primary_metric\": 0.77, \"best_metric\": 0.805}, {\"run_id\": \"AutoML_19b2c7bc-4f1a-47b9-8e97-63d12892f11f_11\", \"run_number\": 13, \"metric\": null, \"status\": \"Completed\", \"run_type\": null, \"training_percent\": \"100\", \"start_time\": \"2021-09-25T19:27:13.618625Z\", \"end_time\": \"2021-09-25T19:27:43.075652Z\", \"created_time\": \"2021-09-25T19:27:13.500172Z\", \"created_time_dt\": \"2021-09-25T19:27:13.500172Z\", \"duration\": \"0:00:29\", \"iteration\": \"11\", \"goal\": \"accuracy_max\", \"run_name\": \"MinMaxScaler, RandomForest\", \"run_properties\": \"copy=True, feature_range=(0, 1\", \"primary_metric\": 0.795, \"best_metric\": 0.805}, {\"run_id\": \"AutoML_19b2c7bc-4f1a-47b9-8e97-63d12892f11f_12\", \"run_number\": 14, \"metric\": null, \"status\": \"Completed\", \"run_type\": null, \"training_percent\": \"100\", \"start_time\": \"2021-09-25T19:27:44.580842Z\", \"end_time\": \"2021-09-25T19:28:09.509773Z\", \"created_time\": \"2021-09-25T19:27:44.421601Z\", \"created_time_dt\": \"2021-09-25T19:27:44.421601Z\", \"duration\": \"0:00:25\", \"iteration\": \"12\", \"goal\": \"accuracy_max\", \"run_name\": \"StandardScalerWrapper, LogisticRegression\", \"run_properties\": \"\\n    copy=True,\\n    with_mean=True,\\n    with_std=False\\n\", \"primary_metric\": 0.775, \"best_metric\": 0.805}, {\"run_id\": \"AutoML_19b2c7bc-4f1a-47b9-8e97-63d12892f11f_13\", \"run_number\": 15, \"metric\": null, \"status\": \"Completed\", \"run_type\": null, \"training_percent\": \"100\", \"start_time\": \"2021-09-25T19:28:11.171308Z\", \"end_time\": \"2021-09-25T19:28:36.092159Z\", \"created_time\": \"2021-09-25T19:28:11.047498Z\", \"created_time_dt\": \"2021-09-25T19:28:11.047498Z\", \"duration\": \"0:00:25\", \"iteration\": \"13\", \"goal\": \"accuracy_max\", \"run_name\": \"StandardScalerWrapper, KNN\", \"run_properties\": \"\\n    copy=True,\\n    with_mean=False,\\n    with_std=True\\n\", \"primary_metric\": 0.785, \"best_metric\": 0.805}, {\"run_id\": \"AutoML_19b2c7bc-4f1a-47b9-8e97-63d12892f11f_14\", \"run_number\": 16, \"metric\": null, \"status\": \"Completed\", \"run_type\": null, \"training_percent\": \"100\", \"start_time\": \"2021-09-25T19:28:37.626071Z\", \"end_time\": \"2021-09-25T19:29:02.587144Z\", \"created_time\": \"2021-09-25T19:28:37.449956Z\", \"created_time_dt\": \"2021-09-25T19:28:37.449956Z\", \"duration\": \"0:00:25\", \"iteration\": \"14\", \"goal\": \"accuracy_max\", \"run_name\": \"RobustScaler, KNN\", \"run_properties\": \"copy=True, quantile_range=[10, 90], with_centering=False,\\n             with_scaling=True\", \"primary_metric\": 0.715, \"best_metric\": 0.805}, {\"run_id\": \"AutoML_19b2c7bc-4f1a-47b9-8e97-63d12892f11f_15\", \"run_number\": 17, \"metric\": null, \"status\": \"Completed\", \"run_type\": null, \"training_percent\": \"100\", \"start_time\": \"2021-09-25T19:29:04.085846Z\", \"end_time\": \"2021-09-25T19:29:29.10487Z\", \"created_time\": \"2021-09-25T19:29:03.959335Z\", \"created_time_dt\": \"2021-09-25T19:29:03.959335Z\", \"duration\": \"0:00:25\", \"iteration\": \"15\", \"goal\": \"accuracy_max\", \"run_name\": \"MinMaxScaler, KNN\", \"run_properties\": \"copy=True, feature_range=(0, 1\", \"primary_metric\": 0.74, \"best_metric\": 0.805}, {\"run_id\": \"AutoML_19b2c7bc-4f1a-47b9-8e97-63d12892f11f_16\", \"run_number\": 18, \"metric\": null, \"status\": \"Completed\", \"run_type\": null, \"training_percent\": \"100\", \"start_time\": \"2021-09-25T19:29:30.502265Z\", \"end_time\": \"2021-09-25T19:29:55.280594Z\", \"created_time\": \"2021-09-25T19:29:30.383093Z\", \"created_time_dt\": \"2021-09-25T19:29:30.383093Z\", \"duration\": \"0:00:24\", \"iteration\": \"16\", \"goal\": \"accuracy_max\", \"run_name\": \"SparseNormalizer, KNN\", \"run_properties\": \"copy=True, norm='max'\", \"primary_metric\": 0.74, \"best_metric\": 0.805}, {\"run_id\": \"AutoML_19b2c7bc-4f1a-47b9-8e97-63d12892f11f_17\", \"run_number\": 19, \"metric\": null, \"status\": \"Completed\", \"run_type\": null, \"training_percent\": \"100\", \"start_time\": \"2021-09-25T19:29:56.680335Z\", \"end_time\": \"2021-09-25T19:30:21.360907Z\", \"created_time\": \"2021-09-25T19:29:56.554973Z\", \"created_time_dt\": \"2021-09-25T19:29:56.554973Z\", \"duration\": \"0:00:24\", \"iteration\": \"17\", \"goal\": \"accuracy_max\", \"run_name\": \"MaxAbsScaler, LogisticRegression\", \"run_properties\": \"copy=True\", \"primary_metric\": 0.77, \"best_metric\": 0.805}, {\"run_id\": \"AutoML_19b2c7bc-4f1a-47b9-8e97-63d12892f11f_18\", \"run_number\": 20, \"metric\": null, \"status\": \"Completed\", \"run_type\": null, \"training_percent\": \"100\", \"start_time\": \"2021-09-25T19:30:23.065894Z\", \"end_time\": \"2021-09-25T19:30:47.896927Z\", \"created_time\": \"2021-09-25T19:30:22.885063Z\", \"created_time_dt\": \"2021-09-25T19:30:22.885063Z\", \"duration\": \"0:00:25\", \"iteration\": \"18\", \"goal\": \"accuracy_max\", \"run_name\": \"StandardScalerWrapper, XGBoostClassifier\", \"run_properties\": \"\\n    copy=True,\\n    with_mean=False,\\n    with_std=False\\n\", \"primary_metric\": 0.78, \"best_metric\": 0.805}, {\"run_id\": \"AutoML_19b2c7bc-4f1a-47b9-8e97-63d12892f11f_19\", \"run_number\": 21, \"metric\": null, \"status\": \"Completed\", \"run_type\": null, \"training_percent\": \"100\", \"start_time\": \"2021-09-25T19:30:49.302552Z\", \"end_time\": \"2021-09-25T19:31:14.801123Z\", \"created_time\": \"2021-09-25T19:30:49.173938Z\", \"created_time_dt\": \"2021-09-25T19:30:49.173938Z\", \"duration\": \"0:00:25\", \"iteration\": \"19\", \"goal\": \"accuracy_max\", \"run_name\": \"StandardScalerWrapper, XGBoostClassifier\", \"run_properties\": \"\\n    copy=True,\\n    with_mean=False,\\n    with_std=False\\n\", \"primary_metric\": 0.775, \"best_metric\": 0.805}, {\"run_id\": \"AutoML_19b2c7bc-4f1a-47b9-8e97-63d12892f11f_20\", \"run_number\": 22, \"metric\": null, \"status\": \"Completed\", \"run_type\": null, \"training_percent\": \"100\", \"start_time\": \"2021-09-25T19:31:17.476743Z\", \"end_time\": \"2021-09-25T19:31:43.693063Z\", \"created_time\": \"2021-09-25T19:31:16.105692Z\", \"created_time_dt\": \"2021-09-25T19:31:16.105692Z\", \"duration\": \"0:00:27\", \"iteration\": \"20\", \"goal\": \"accuracy_max\", \"run_name\": \"MaxAbsScaler, LogisticRegression\", \"run_properties\": \"copy=True\", \"primary_metric\": 0.775, \"best_metric\": 0.805}, {\"run_id\": \"AutoML_19b2c7bc-4f1a-47b9-8e97-63d12892f11f_21\", \"run_number\": 23, \"metric\": null, \"status\": \"Completed\", \"run_type\": null, \"training_percent\": \"100\", \"start_time\": \"2021-09-25T19:31:45.120456Z\", \"end_time\": \"2021-09-25T19:32:10.982971Z\", \"created_time\": \"2021-09-25T19:31:44.996523Z\", \"created_time_dt\": \"2021-09-25T19:31:44.996523Z\", \"duration\": \"0:00:25\", \"iteration\": \"21\", \"goal\": \"accuracy_max\", \"run_name\": \"StandardScalerWrapper, XGBoostClassifier\", \"run_properties\": \"\\n    copy=True,\\n    with_mean=False,\\n    with_std=False\\n\", \"primary_metric\": 0.775, \"best_metric\": 0.805}, {\"run_id\": \"AutoML_19b2c7bc-4f1a-47b9-8e97-63d12892f11f_22\", \"run_number\": 24, \"metric\": null, \"status\": \"Completed\", \"run_type\": null, \"training_percent\": \"100\", \"start_time\": \"2021-09-25T19:32:12.562751Z\", \"end_time\": \"2021-09-25T19:32:39.641763Z\", \"created_time\": \"2021-09-25T19:32:12.43851Z\", \"created_time_dt\": \"2021-09-25T19:32:12.43851Z\", \"duration\": \"0:00:27\", \"iteration\": \"22\", \"goal\": \"accuracy_max\", \"run_name\": \"RobustScaler, RandomForest\", \"run_properties\": \"copy=True, quantile_range=[25, 75], with_centering=True,\\n             with_scaling=True\", \"primary_metric\": 0.8, \"best_metric\": 0.805}, {\"run_id\": \"AutoML_19b2c7bc-4f1a-47b9-8e97-63d12892f11f_23\", \"run_number\": 25, \"metric\": null, \"status\": \"Completed\", \"run_type\": null, \"training_percent\": \"100\", \"start_time\": \"2021-09-25T19:32:41.021846Z\", \"end_time\": \"2021-09-25T19:33:06.371203Z\", \"created_time\": \"2021-09-25T19:32:40.902686Z\", \"created_time_dt\": \"2021-09-25T19:32:40.902686Z\", \"duration\": \"0:00:25\", \"iteration\": \"23\", \"goal\": \"accuracy_max\", \"run_name\": \"SparseNormalizer, XGBoostClassifier\", \"run_properties\": \"copy=True, norm='l1'\", \"primary_metric\": 0.81, \"best_metric\": 0.81}, {\"run_id\": \"AutoML_19b2c7bc-4f1a-47b9-8e97-63d12892f11f_24\", \"run_number\": 26, \"metric\": null, \"status\": \"Completed\", \"run_type\": null, \"training_percent\": \"100\", \"start_time\": \"2021-09-25T19:33:07.81509Z\", \"end_time\": \"2021-09-25T19:33:34.290552Z\", \"created_time\": \"2021-09-25T19:33:07.682055Z\", \"created_time_dt\": \"2021-09-25T19:33:07.682055Z\", \"duration\": \"0:00:26\", \"iteration\": \"24\", \"goal\": \"accuracy_max\", \"run_name\": \"StandardScalerWrapper, LightGBM\", \"run_properties\": \"\\n    copy=True,\\n    with_mean=True,\\n    with_std=False\\n\", \"primary_metric\": 0.78, \"best_metric\": 0.81}, {\"run_id\": \"AutoML_19b2c7bc-4f1a-47b9-8e97-63d12892f11f_25\", \"run_number\": 27, \"metric\": null, \"status\": \"Completed\", \"run_type\": null, \"training_percent\": \"100\", \"start_time\": \"2021-09-25T19:33:37.066229Z\", \"end_time\": \"2021-09-25T19:34:02.392916Z\", \"created_time\": \"2021-09-25T19:33:36.920923Z\", \"created_time_dt\": \"2021-09-25T19:33:36.920923Z\", \"duration\": \"0:00:25\", \"iteration\": \"25\", \"goal\": \"accuracy_max\", \"run_name\": \"TruncatedSVDWrapper, XGBoostClassifier\", \"run_properties\": \"n_components=0.8510526315789474, random_state=None\", \"primary_metric\": 0.455, \"best_metric\": 0.81}, {\"run_id\": \"AutoML_19b2c7bc-4f1a-47b9-8e97-63d12892f11f_26\", \"run_number\": 28, \"metric\": null, \"status\": \"Completed\", \"run_type\": null, \"training_percent\": \"100\", \"start_time\": \"2021-09-25T19:34:03.722625Z\", \"end_time\": \"2021-09-25T19:34:29.266967Z\", \"created_time\": \"2021-09-25T19:34:03.603933Z\", \"created_time_dt\": \"2021-09-25T19:34:03.603933Z\", \"duration\": \"0:00:25\", \"iteration\": \"26\", \"goal\": \"accuracy_max\", \"run_name\": \"MinMaxScaler, LightGBM\", \"run_properties\": \"copy=True, feature_range=(0, 1\", \"primary_metric\": 0.8, \"best_metric\": 0.81}, {\"run_id\": \"AutoML_19b2c7bc-4f1a-47b9-8e97-63d12892f11f_27\", \"run_number\": 29, \"metric\": null, \"status\": \"Completed\", \"run_type\": null, \"training_percent\": \"100\", \"start_time\": \"2021-09-25T19:34:30.690932Z\", \"end_time\": \"2021-09-25T19:34:57.161893Z\", \"created_time\": \"2021-09-25T19:34:30.566408Z\", \"created_time_dt\": \"2021-09-25T19:34:30.566408Z\", \"duration\": \"0:00:26\", \"iteration\": \"27\", \"goal\": \"accuracy_max\", \"run_name\": \"StandardScalerWrapper, ExtremeRandomTrees\", \"run_properties\": \"\\n    copy=True,\\n    with_mean=False,\\n    with_std=False\\n\", \"primary_metric\": 0.775, \"best_metric\": 0.81}, {\"run_id\": \"AutoML_19b2c7bc-4f1a-47b9-8e97-63d12892f11f_28\", \"run_number\": 30, \"metric\": null, \"status\": \"Completed\", \"run_type\": null, \"training_percent\": \"100\", \"start_time\": \"2021-09-25T19:34:58.546428Z\", \"end_time\": \"2021-09-25T19:35:23.693001Z\", \"created_time\": \"2021-09-25T19:34:58.413783Z\", \"created_time_dt\": \"2021-09-25T19:34:58.413783Z\", \"duration\": \"0:00:25\", \"iteration\": \"28\", \"goal\": \"accuracy_max\", \"run_name\": \"StandardScalerWrapper, XGBoostClassifier\", \"run_properties\": \"\\n    copy=True,\\n    with_mean=False,\\n    with_std=False\\n\", \"primary_metric\": 0.835, \"best_metric\": 0.835}, {\"run_id\": \"AutoML_19b2c7bc-4f1a-47b9-8e97-63d12892f11f_29\", \"run_number\": 31, \"metric\": null, \"status\": \"Completed\", \"run_type\": null, \"training_percent\": \"100\", \"start_time\": \"2021-09-25T19:35:24.990124Z\", \"end_time\": \"2021-09-25T19:35:50.042603Z\", \"created_time\": \"2021-09-25T19:35:24.874582Z\", \"created_time_dt\": \"2021-09-25T19:35:24.874582Z\", \"duration\": \"0:00:25\", \"iteration\": \"29\", \"goal\": \"accuracy_max\", \"run_name\": \"SparseNormalizer, XGBoostClassifier\", \"run_properties\": \"copy=True, norm='max'\", \"primary_metric\": 0.795, \"best_metric\": 0.835}, {\"run_id\": \"AutoML_19b2c7bc-4f1a-47b9-8e97-63d12892f11f_30\", \"run_number\": 32, \"metric\": null, \"status\": \"Completed\", \"run_type\": null, \"training_percent\": \"100\", \"start_time\": \"2021-09-25T19:35:52.830657Z\", \"end_time\": \"2021-09-25T19:36:17.904294Z\", \"created_time\": \"2021-09-25T19:35:52.697579Z\", \"created_time_dt\": \"2021-09-25T19:35:52.697579Z\", \"duration\": \"0:00:25\", \"iteration\": \"30\", \"goal\": \"accuracy_max\", \"run_name\": \"TruncatedSVDWrapper, XGBoostClassifier\", \"run_properties\": \"n_components=0.5542105263157895, random_state=None\", \"primary_metric\": 0.7, \"best_metric\": 0.835}, {\"run_id\": \"AutoML_19b2c7bc-4f1a-47b9-8e97-63d12892f11f_31\", \"run_number\": 33, \"metric\": null, \"status\": \"Completed\", \"run_type\": null, \"training_percent\": \"100\", \"start_time\": \"2021-09-25T19:36:19.312708Z\", \"end_time\": \"2021-09-25T19:36:45.006733Z\", \"created_time\": \"2021-09-25T19:36:19.187641Z\", \"created_time_dt\": \"2021-09-25T19:36:19.187641Z\", \"duration\": \"0:00:25\", \"iteration\": \"31\", \"goal\": \"accuracy_max\", \"run_name\": \"SparseNormalizer, XGBoostClassifier\", \"run_properties\": \"copy=True, norm='max'\", \"primary_metric\": 0.775, \"best_metric\": 0.835}, {\"run_id\": \"AutoML_19b2c7bc-4f1a-47b9-8e97-63d12892f11f_32\", \"run_number\": 34, \"metric\": null, \"status\": \"Completed\", \"run_type\": null, \"training_percent\": \"100\", \"start_time\": \"2021-09-25T19:36:46.480207Z\", \"end_time\": \"2021-09-25T19:37:11.689291Z\", \"created_time\": \"2021-09-25T19:36:46.370191Z\", \"created_time_dt\": \"2021-09-25T19:36:46.370191Z\", \"duration\": \"0:00:25\", \"iteration\": \"32\", \"goal\": \"accuracy_max\", \"run_name\": \"StandardScalerWrapper, XGBoostClassifier\", \"run_properties\": \"\\n    copy=True,\\n    with_mean=False,\\n    with_std=False\\n\", \"primary_metric\": 0.8, \"best_metric\": 0.835}, {\"run_id\": \"AutoML_19b2c7bc-4f1a-47b9-8e97-63d12892f11f_33\", \"run_number\": 35, \"metric\": null, \"status\": \"Completed\", \"run_type\": null, \"training_percent\": \"100\", \"start_time\": \"2021-09-25T19:37:13.54335Z\", \"end_time\": \"2021-09-25T19:37:46.888363Z\", \"created_time\": \"2021-09-25T19:37:13.40539Z\", \"created_time_dt\": \"2021-09-25T19:37:13.40539Z\", \"duration\": \"0:00:33\", \"iteration\": \"33\", \"goal\": \"accuracy_max\", \"run_name\": \"MaxAbsScaler, RandomForest\", \"run_properties\": \"copy=True\", \"primary_metric\": 0.76, \"best_metric\": 0.835}, {\"run_id\": \"AutoML_19b2c7bc-4f1a-47b9-8e97-63d12892f11f_34\", \"run_number\": 36, \"metric\": null, \"status\": \"Completed\", \"run_type\": null, \"training_percent\": \"100\", \"start_time\": \"2021-09-25T19:37:48.300044Z\", \"end_time\": \"2021-09-25T19:38:13.348067Z\", \"created_time\": \"2021-09-25T19:37:48.174333Z\", \"created_time_dt\": \"2021-09-25T19:37:48.174333Z\", \"duration\": \"0:00:25\", \"iteration\": \"34\", \"goal\": \"accuracy_max\", \"run_name\": \"SparseNormalizer, XGBoostClassifier\", \"run_properties\": \"copy=True, norm='l1'\", \"primary_metric\": 0.77, \"best_metric\": 0.835}, {\"run_id\": \"AutoML_19b2c7bc-4f1a-47b9-8e97-63d12892f11f_35\", \"run_number\": 37, \"metric\": null, \"status\": \"Completed\", \"run_type\": null, \"training_percent\": \"100\", \"start_time\": \"2021-09-25T19:38:15.763728Z\", \"end_time\": \"2021-09-25T19:38:41.099923Z\", \"created_time\": \"2021-09-25T19:38:15.603888Z\", \"created_time_dt\": \"2021-09-25T19:38:15.603888Z\", \"duration\": \"0:00:25\", \"iteration\": \"35\", \"goal\": \"accuracy_max\", \"run_name\": \"SparseNormalizer, XGBoostClassifier\", \"run_properties\": \"copy=True, norm='l1'\", \"primary_metric\": 0.73, \"best_metric\": 0.835}, {\"run_id\": \"AutoML_19b2c7bc-4f1a-47b9-8e97-63d12892f11f_36\", \"run_number\": 38, \"metric\": null, \"status\": \"Completed\", \"run_type\": null, \"training_percent\": \"100\", \"start_time\": \"2021-09-25T19:38:42.57236Z\", \"end_time\": \"2021-09-25T19:39:07.39399Z\", \"created_time\": \"2021-09-25T19:38:42.444322Z\", \"created_time_dt\": \"2021-09-25T19:38:42.444322Z\", \"duration\": \"0:00:24\", \"iteration\": \"36\", \"goal\": \"accuracy_max\", \"run_name\": \"RobustScaler, LightGBM\", \"run_properties\": \"copy=True, quantile_range=[25, 75], with_centering=True,\\n             with_scaling=False\", \"primary_metric\": 0.81, \"best_metric\": 0.835}, {\"run_id\": \"AutoML_19b2c7bc-4f1a-47b9-8e97-63d12892f11f_37\", \"run_number\": 39, \"metric\": null, \"status\": \"Completed\", \"run_type\": null, \"training_percent\": \"100\", \"start_time\": \"2021-09-25T19:39:08.800247Z\", \"end_time\": \"2021-09-25T19:39:34.133688Z\", \"created_time\": \"2021-09-25T19:39:08.661404Z\", \"created_time_dt\": \"2021-09-25T19:39:08.661404Z\", \"duration\": \"0:00:25\", \"iteration\": \"37\", \"goal\": \"accuracy_max\", \"run_name\": \"MinMaxScaler, LightGBM\", \"run_properties\": \"copy=True, feature_range=(0, 1\", \"primary_metric\": 0.775, \"best_metric\": 0.835}, {\"run_id\": \"AutoML_19b2c7bc-4f1a-47b9-8e97-63d12892f11f_38\", \"run_number\": 40, \"metric\": null, \"status\": \"Completed\", \"run_type\": null, \"training_percent\": \"100\", \"start_time\": \"2021-09-25T19:39:35.556789Z\", \"end_time\": \"2021-09-25T19:40:02.543398Z\", \"created_time\": \"2021-09-25T19:39:35.420409Z\", \"created_time_dt\": \"2021-09-25T19:39:35.420409Z\", \"duration\": \"0:00:27\", \"iteration\": \"38\", \"goal\": \"accuracy_max\", \"run_name\": \"StandardScalerWrapper, ExtremeRandomTrees\", \"run_properties\": \"\\n    copy=True,\\n    with_mean=False,\\n    with_std=False\\n\", \"primary_metric\": 0.81, \"best_metric\": 0.835}, {\"run_id\": \"AutoML_19b2c7bc-4f1a-47b9-8e97-63d12892f11f_39\", \"run_number\": 41, \"metric\": null, \"status\": \"Completed\", \"run_type\": null, \"training_percent\": \"100\", \"start_time\": \"2021-09-25T19:40:02.930353Z\", \"end_time\": \"2021-09-25T19:40:31.852985Z\", \"created_time\": \"2021-09-25T19:40:02.811567Z\", \"created_time_dt\": \"2021-09-25T19:40:02.811567Z\", \"duration\": \"0:00:29\", \"iteration\": \"39\", \"goal\": \"accuracy_max\", \"run_name\": \"VotingEnsemble\", \"run_properties\": \"\\n    estimators=[('28', Pipeline(\\n        memory=None,\\n        steps=[('standardscalerwrapper', StandardScalerWrapper(\\n            copy=True,\\n            with_mean=False,\\n            with_std=False\\n        \", \"primary_metric\": 0.84, \"best_metric\": 0.84}, {\"run_id\": \"AutoML_19b2c7bc-4f1a-47b9-8e97-63d12892f11f_40\", \"run_number\": 42, \"metric\": null, \"status\": \"Completed\", \"run_type\": null, \"training_percent\": \"100\", \"start_time\": \"2021-09-25T19:40:32.241974Z\", \"end_time\": \"2021-09-25T19:41:04.431334Z\", \"created_time\": \"2021-09-25T19:40:32.121028Z\", \"created_time_dt\": \"2021-09-25T19:40:32.121028Z\", \"duration\": \"0:00:32\", \"iteration\": \"40\", \"goal\": \"accuracy_max\", \"run_name\": \"StackEnsemble\", \"run_properties\": \"\\n    base_learners=[('28', Pipeline(\\n        memory=None,\\n        steps=[('standardscalerwrapper', StandardScalerWrapper(\\n            copy=True,\\n            with_mean=False,\\n            with_std=False\\n        \", \"primary_metric\": 0.825, \"best_metric\": 0.84}], \"children_metrics\": {\"categories\": [0], \"series\": {\"AUC_micro\": [{\"categories\": [\"0\", \"1\", \"2\", \"3\", \"4\", \"5\", \"6\", \"7\", \"8\", \"9\", \"10\", \"11\", \"12\", \"13\", \"14\", \"15\", \"16\", \"17\", \"18\", \"19\", \"20\", \"21\", \"22\", \"23\", \"24\", \"25\", \"26\", \"27\", \"28\", \"29\", \"30\", \"31\", \"32\", \"33\", \"34\", \"35\", \"36\", \"37\", \"38\", \"39\", \"40\"], \"mode\": \"markers\", \"name\": \"AUC_micro\", \"stepped\": false, \"type\": \"scatter\", \"data\": [0.8815999999999999, 0.8886000000000001, 0.8714, 0.84, 0.7518, 0.8604, 0.8542, 0.8814, 0.7552000000000001, 0.8528, 0.8572, 0.8674, 0.861, 0.8562, 0.7996000000000001, 0.839, 0.7908, 0.8528, 0.8563999999999999, 0.8548, 0.8562000000000001, 0.871, 0.8868, 0.8815999999999999, 0.8728, 0.45499999999999996, 0.8804000000000001, 0.855, 0.8974, 0.8613999999999999, 0.7712, 0.8705999999999999, 0.8754, 0.868, 0.86, 0.8278, 0.8828, 0.859, 0.878, 0.9096, 0.8978]}, {\"categories\": [\"0\", \"1\", \"2\", \"3\", \"4\", \"5\", \"6\", \"7\", \"8\", \"9\", \"10\", \"11\", \"12\", \"13\", \"14\", \"15\", \"16\", \"17\", \"18\", \"19\", \"20\", \"21\", \"22\", \"23\", \"24\", \"25\", \"26\", \"27\", \"28\", \"29\", \"30\", \"31\", \"32\", \"33\", \"34\", \"35\", \"36\", \"37\", \"38\", \"39\", \"40\"], \"mode\": \"lines\", \"name\": \"AUC_micro_max\", \"stepped\": true, \"type\": \"scatter\", \"data\": [0.8815999999999999, 0.8886000000000001, 0.8886000000000001, 0.8886000000000001, 0.8886000000000001, 0.8886000000000001, 0.8886000000000001, 0.8886000000000001, 0.8886000000000001, 0.8886000000000001, 0.8886000000000001, 0.8886000000000001, 0.8886000000000001, 0.8886000000000001, 0.8886000000000001, 0.8886000000000001, 0.8886000000000001, 0.8886000000000001, 0.8886000000000001, 0.8886000000000001, 0.8886000000000001, 0.8886000000000001, 0.8886000000000001, 0.8886000000000001, 0.8886000000000001, 0.8886000000000001, 0.8886000000000001, 0.8886000000000001, 0.8974, 0.8974, 0.8974, 0.8974, 0.8974, 0.8974, 0.8974, 0.8974, 0.8974, 0.8974, 0.8974, 0.9096, 0.9096]}], \"precision_score_micro\": [{\"categories\": [\"0\", \"1\", \"2\", \"3\", \"4\", \"5\", \"6\", \"7\", \"8\", \"9\", \"10\", \"11\", \"12\", \"13\", \"14\", \"15\", \"16\", \"17\", \"18\", \"19\", \"20\", \"21\", \"22\", \"23\", \"24\", \"25\", \"26\", \"27\", \"28\", \"29\", \"30\", \"31\", \"32\", \"33\", \"34\", \"35\", \"36\", \"37\", \"38\", \"39\", \"40\"], \"mode\": \"markers\", \"name\": \"precision_score_micro\", \"stepped\": false, \"type\": \"scatter\", \"data\": [0.8, 0.805, 0.795, 0.745, 0.6900000000000001, 0.76, 0.775, 0.795, 0.6649999999999999, 0.79, 0.77, 0.795, 0.775, 0.785, 0.715, 0.74, 0.74, 0.77, 0.78, 0.775, 0.775, 0.775, 0.8, 0.81, 0.78, 0.45499999999999996, 0.8, 0.775, 0.8350000000000001, 0.795, 0.7, 0.775, 0.8, 0.76, 0.77, 0.73, 0.81, 0.775, 0.81, 0.8400000000000001, 0.8250000000000001]}, {\"categories\": [\"0\", \"1\", \"2\", \"3\", \"4\", \"5\", \"6\", \"7\", \"8\", \"9\", \"10\", \"11\", \"12\", \"13\", \"14\", \"15\", \"16\", \"17\", \"18\", \"19\", \"20\", \"21\", \"22\", \"23\", \"24\", \"25\", \"26\", \"27\", \"28\", \"29\", \"30\", \"31\", \"32\", \"33\", \"34\", \"35\", \"36\", \"37\", \"38\", \"39\", \"40\"], \"mode\": \"lines\", \"name\": \"precision_score_micro_max\", \"stepped\": true, \"type\": \"scatter\", \"data\": [0.8, 0.805, 0.805, 0.805, 0.805, 0.805, 0.805, 0.805, 0.805, 0.805, 0.805, 0.805, 0.805, 0.805, 0.805, 0.805, 0.805, 0.805, 0.805, 0.805, 0.805, 0.805, 0.805, 0.81, 0.81, 0.81, 0.81, 0.81, 0.8350000000000001, 0.8350000000000001, 0.8350000000000001, 0.8350000000000001, 0.8350000000000001, 0.8350000000000001, 0.8350000000000001, 0.8350000000000001, 0.8350000000000001, 0.8350000000000001, 0.8350000000000001, 0.8400000000000001, 0.8400000000000001]}], \"precision_score_weighted\": [{\"categories\": [\"0\", \"1\", \"2\", \"3\", \"4\", \"5\", \"6\", \"7\", \"8\", \"9\", \"10\", \"11\", \"12\", \"13\", \"14\", \"15\", \"16\", \"17\", \"18\", \"19\", \"20\", \"21\", \"22\", \"23\", \"24\", \"25\", \"26\", \"27\", \"28\", \"29\", \"30\", \"31\", \"32\", \"33\", \"34\", \"35\", \"36\", \"37\", \"38\", \"39\", \"40\"], \"mode\": \"markers\", \"name\": \"precision_score_weighted\", \"stepped\": false, \"type\": \"scatter\", \"data\": [0.8055433439109909, 0.8103712341579988, 0.8151841989709636, 0.7546479154015919, 0.7026181314600433, 0.7719154619889914, 0.7881486013986013, 0.8074249427043545, 0.6814831698229531, 0.7952920241523183, 0.7742947493682788, 0.8108313794049089, 0.7925091183326478, 0.8204487097869451, 0.7213050454447514, 0.7597160319255907, 0.7676327035537561, 0.7852490450725744, 0.8024392135642135, 0.7945621575062365, 0.7898024475524474, 0.7905013944388944, 0.8111029847345637, 0.818430617993118, 0.7925218991534781, 0.2098, 0.8062970362970363, 0.8039183537051184, 0.8462856016532487, 0.8090463849875613, 0.7227911255411256, 0.7824420995670995, 0.8142479199721847, 0.7756984290219584, 0.788266527590057, 0.7481675677263913, 0.8183268197231045, 0.7881663679457798, 0.8231262401813872, 0.8484050043094161, 0.8344524862392508]}, {\"categories\": [\"0\", \"1\", \"2\", \"3\", \"4\", \"5\", \"6\", \"7\", \"8\", \"9\", \"10\", \"11\", \"12\", \"13\", \"14\", \"15\", \"16\", \"17\", \"18\", \"19\", \"20\", \"21\", \"22\", \"23\", \"24\", \"25\", \"26\", \"27\", \"28\", \"29\", \"30\", \"31\", \"32\", \"33\", \"34\", \"35\", \"36\", \"37\", \"38\", \"39\", \"40\"], \"mode\": \"lines\", \"name\": \"precision_score_weighted_max\", \"stepped\": true, \"type\": \"scatter\", \"data\": [0.8055433439109909, 0.8103712341579988, 0.8151841989709636, 0.8151841989709636, 0.8151841989709636, 0.8151841989709636, 0.8151841989709636, 0.8151841989709636, 0.8151841989709636, 0.8151841989709636, 0.8151841989709636, 0.8151841989709636, 0.8151841989709636, 0.8204487097869451, 0.8204487097869451, 0.8204487097869451, 0.8204487097869451, 0.8204487097869451, 0.8204487097869451, 0.8204487097869451, 0.8204487097869451, 0.8204487097869451, 0.8204487097869451, 0.8204487097869451, 0.8204487097869451, 0.8204487097869451, 0.8204487097869451, 0.8204487097869451, 0.8462856016532487, 0.8462856016532487, 0.8462856016532487, 0.8462856016532487, 0.8462856016532487, 0.8462856016532487, 0.8462856016532487, 0.8462856016532487, 0.8462856016532487, 0.8462856016532487, 0.8462856016532487, 0.8484050043094161, 0.8484050043094161]}], \"log_loss\": [{\"categories\": [\"0\", \"1\", \"2\", \"3\", \"4\", \"5\", \"6\", \"7\", \"8\", \"9\", \"10\", \"11\", \"12\", \"13\", \"14\", \"15\", \"16\", \"17\", \"18\", \"19\", \"20\", \"21\", \"22\", \"23\", \"24\", \"25\", \"26\", \"27\", \"28\", \"29\", \"30\", \"31\", \"32\", \"33\", \"34\", \"35\", \"36\", \"37\", \"38\", \"39\", \"40\"], \"mode\": \"markers\", \"name\": \"log_loss\", \"stepped\": false, \"type\": \"scatter\", \"data\": [0.5044214144889438, 0.4244899351387016, 0.521824018340988, 0.5505636700187422, 1.3879395968660204, 0.48666108291706767, 0.5080234757990773, 0.5408333715975512, 0.9107402937550038, 0.4877490370184171, 0.5224705290677825, 0.5153145909517665, 0.48581818344279404, 0.4966637508943609, 1.64091348363558, 1.2807796717622366, 0.7146460347542648, 0.4787331149991323, 0.5504888696595254, 0.5329790261308048, 0.5064393576975275, 0.5296413577566974, 0.45139279399773624, 0.4369897317366187, 0.4549528691175424, 0.694882199759422, 0.43212541474840704, 0.5053581126665503, 0.5143102374373382, 0.45346598354734724, 0.5732877321740597, 0.471504934927168, 0.4982561920909135, 0.4810514512980677, 0.5315420629127403, 0.530290610508549, 0.42446134680814934, 0.573147176590563, 0.476654390928293, 0.4121275382112558, 0.6034932811325437]}, {\"categories\": [\"0\", \"1\", \"2\", \"3\", \"4\", \"5\", \"6\", \"7\", \"8\", \"9\", \"10\", \"11\", \"12\", \"13\", \"14\", \"15\", \"16\", \"17\", \"18\", \"19\", \"20\", \"21\", \"22\", \"23\", \"24\", \"25\", \"26\", \"27\", \"28\", \"29\", \"30\", \"31\", \"32\", \"33\", \"34\", \"35\", \"36\", \"37\", \"38\", \"39\", \"40\"], \"mode\": \"lines\", \"name\": \"log_loss_min\", \"stepped\": true, \"type\": \"scatter\", \"data\": [0.5044214144889438, 0.4244899351387016, 0.4244899351387016, 0.4244899351387016, 0.4244899351387016, 0.4244899351387016, 0.4244899351387016, 0.4244899351387016, 0.4244899351387016, 0.4244899351387016, 0.4244899351387016, 0.4244899351387016, 0.4244899351387016, 0.4244899351387016, 0.4244899351387016, 0.4244899351387016, 0.4244899351387016, 0.4244899351387016, 0.4244899351387016, 0.4244899351387016, 0.4244899351387016, 0.4244899351387016, 0.4244899351387016, 0.4244899351387016, 0.4244899351387016, 0.4244899351387016, 0.4244899351387016, 0.4244899351387016, 0.4244899351387016, 0.4244899351387016, 0.4244899351387016, 0.4244899351387016, 0.4244899351387016, 0.4244899351387016, 0.4244899351387016, 0.4244899351387016, 0.42446134680814934, 0.42446134680814934, 0.42446134680814934, 0.4121275382112558, 0.4121275382112558]}], \"f1_score_micro\": [{\"categories\": [\"0\", \"1\", \"2\", \"3\", \"4\", \"5\", \"6\", \"7\", \"8\", \"9\", \"10\", \"11\", \"12\", \"13\", \"14\", \"15\", \"16\", \"17\", \"18\", \"19\", \"20\", \"21\", \"22\", \"23\", \"24\", \"25\", \"26\", \"27\", \"28\", \"29\", \"30\", \"31\", \"32\", \"33\", \"34\", \"35\", \"36\", \"37\", \"38\", \"39\", \"40\"], \"mode\": \"markers\", \"name\": \"f1_score_micro\", \"stepped\": false, \"type\": \"scatter\", \"data\": [0.8, 0.805, 0.795, 0.745, 0.6900000000000001, 0.76, 0.775, 0.7949999999999999, 0.6649999999999999, 0.7899999999999999, 0.77, 0.795, 0.775, 0.7849999999999999, 0.715, 0.74, 0.74, 0.77, 0.78, 0.775, 0.7750000000000001, 0.775, 0.8, 0.81, 0.78, 0.45499999999999996, 0.8, 0.7749999999999999, 0.835, 0.795, 0.7, 0.775, 0.8, 0.76, 0.77, 0.73, 0.8099999999999999, 0.775, 0.81, 0.8399999999999999, 0.825]}, {\"categories\": [\"0\", \"1\", \"2\", \"3\", \"4\", \"5\", \"6\", \"7\", \"8\", \"9\", \"10\", \"11\", \"12\", \"13\", \"14\", \"15\", \"16\", \"17\", \"18\", \"19\", \"20\", \"21\", \"22\", \"23\", \"24\", \"25\", \"26\", \"27\", \"28\", \"29\", \"30\", \"31\", \"32\", \"33\", \"34\", \"35\", \"36\", \"37\", \"38\", \"39\", \"40\"], \"mode\": \"lines\", \"name\": \"f1_score_micro_max\", \"stepped\": true, \"type\": \"scatter\", \"data\": [0.8, 0.805, 0.805, 0.805, 0.805, 0.805, 0.805, 0.805, 0.805, 0.805, 0.805, 0.805, 0.805, 0.805, 0.805, 0.805, 0.805, 0.805, 0.805, 0.805, 0.805, 0.805, 0.805, 0.81, 0.81, 0.81, 0.81, 0.81, 0.835, 0.835, 0.835, 0.835, 0.835, 0.835, 0.835, 0.835, 0.835, 0.835, 0.835, 0.8399999999999999, 0.8399999999999999]}], \"matthews_correlation\": [{\"categories\": [\"0\", \"1\", \"2\", \"3\", \"4\", \"5\", \"6\", \"7\", \"8\", \"9\", \"10\", \"11\", \"12\", \"13\", \"14\", \"15\", \"16\", \"17\", \"18\", \"19\", \"20\", \"21\", \"22\", \"23\", \"24\", \"25\", \"26\", \"27\", \"28\", \"29\", \"30\", \"31\", \"32\", \"33\", \"34\", \"35\", \"36\", \"37\", \"38\", \"39\", \"40\"], \"mode\": \"markers\", \"name\": \"matthews_correlation\", \"stepped\": false, \"type\": \"scatter\", \"data\": [0.5960724554640766, 0.6044881170373388, 0.6007055401426391, 0.49282917245210844, 0.3815958014011345, 0.5198605384168467, 0.5509851801968595, 0.592754361793556, 0.3347127068461385, 0.5739406801006913, 0.533254335264758, 0.5990699934285342, 0.5554495191664499, 0.5956639923956681, 0.4212871429374491, 0.4889830101889914, 0.5017785038099043, 0.5441848046921952, 0.5756624999983508, 0.5610334743041097, 0.5534139640259677, 0.5572136636628073, 0.5992259175815077, 0.6208329014180192, 0.5590852797053703, 0.0, 0.5955043452406801, 0.5656652775035058, 0.6736133109454061, 0.5958300292957466, 0.4169079367276423, 0.5493865311530399, 0.6027382716832295, 0.524463558622331, 0.5507823725378634, 0.47482166783398627, 0.6138660987460691, 0.5565538091115251, 0.6237257729304412, 0.678921049181875, 0.6490474110750133]}, {\"categories\": [\"0\", \"1\", \"2\", \"3\", \"4\", \"5\", \"6\", \"7\", \"8\", \"9\", \"10\", \"11\", \"12\", \"13\", \"14\", \"15\", \"16\", \"17\", \"18\", \"19\", \"20\", \"21\", \"22\", \"23\", \"24\", \"25\", \"26\", \"27\", \"28\", \"29\", \"30\", \"31\", \"32\", \"33\", \"34\", \"35\", \"36\", \"37\", \"38\", \"39\", \"40\"], \"mode\": \"lines\", \"name\": \"matthews_correlation_max\", \"stepped\": true, \"type\": \"scatter\", \"data\": [0.5960724554640766, 0.6044881170373388, 0.6044881170373388, 0.6044881170373388, 0.6044881170373388, 0.6044881170373388, 0.6044881170373388, 0.6044881170373388, 0.6044881170373388, 0.6044881170373388, 0.6044881170373388, 0.6044881170373388, 0.6044881170373388, 0.6044881170373388, 0.6044881170373388, 0.6044881170373388, 0.6044881170373388, 0.6044881170373388, 0.6044881170373388, 0.6044881170373388, 0.6044881170373388, 0.6044881170373388, 0.6044881170373388, 0.6208329014180192, 0.6208329014180192, 0.6208329014180192, 0.6208329014180192, 0.6208329014180192, 0.6736133109454061, 0.6736133109454061, 0.6736133109454061, 0.6736133109454061, 0.6736133109454061, 0.6736133109454061, 0.6736133109454061, 0.6736133109454061, 0.6736133109454061, 0.6736133109454061, 0.6736133109454061, 0.678921049181875, 0.678921049181875]}], \"AUC_macro\": [{\"categories\": [\"0\", \"1\", \"2\", \"3\", \"4\", \"5\", \"6\", \"7\", \"8\", \"9\", \"10\", \"11\", \"12\", \"13\", \"14\", \"15\", \"16\", \"17\", \"18\", \"19\", \"20\", \"21\", \"22\", \"23\", \"24\", \"25\", \"26\", \"27\", \"28\", \"29\", \"30\", \"31\", \"32\", \"33\", \"34\", \"35\", \"36\", \"37\", \"38\", \"39\", \"40\"], \"mode\": \"markers\", \"name\": \"AUC_macro\", \"stepped\": false, \"type\": \"scatter\", \"data\": [0.8705898615273615, 0.8812588800088801, 0.8791744366744367, 0.8486544705294705, 0.7572733863358864, 0.8663498307248307, 0.8569717435342435, 0.8846116383616385, 0.7648671467421467, 0.8505519133644134, 0.8619695235320235, 0.8708027042402042, 0.8666738816738817, 0.8662265512265512, 0.7884047896547897, 0.835975135975136, 0.796762647075147, 0.862624007936508, 0.8628453837828838, 0.8605809815184815, 0.8593755896880897, 0.8824279713342214, 0.8803486444111445, 0.8893203324453325, 0.8623691586191586, 0.5, 0.8720340076590076, 0.8675099900099901, 0.8854145854145854, 0.8638153513153513, 0.7821253052503052, 0.8820376151626153, 0.8718719648407149, 0.869344925907426, 0.8627030261405262, 0.840686951936952, 0.873491785991786, 0.8629546495171496, 0.880366681929182, 0.9060370879120878, 0.9020523226773227]}, {\"categories\": [\"0\", \"1\", \"2\", \"3\", \"4\", \"5\", \"6\", \"7\", \"8\", \"9\", \"10\", \"11\", \"12\", \"13\", \"14\", \"15\", \"16\", \"17\", \"18\", \"19\", \"20\", \"21\", \"22\", \"23\", \"24\", \"25\", \"26\", \"27\", \"28\", \"29\", \"30\", \"31\", \"32\", \"33\", \"34\", \"35\", \"36\", \"37\", \"38\", \"39\", \"40\"], \"mode\": \"lines\", \"name\": \"AUC_macro_max\", \"stepped\": true, \"type\": \"scatter\", \"data\": [0.8705898615273615, 0.8812588800088801, 0.8812588800088801, 0.8812588800088801, 0.8812588800088801, 0.8812588800088801, 0.8812588800088801, 0.8846116383616385, 0.8846116383616385, 0.8846116383616385, 0.8846116383616385, 0.8846116383616385, 0.8846116383616385, 0.8846116383616385, 0.8846116383616385, 0.8846116383616385, 0.8846116383616385, 0.8846116383616385, 0.8846116383616385, 0.8846116383616385, 0.8846116383616385, 0.8846116383616385, 0.8846116383616385, 0.8893203324453325, 0.8893203324453325, 0.8893203324453325, 0.8893203324453325, 0.8893203324453325, 0.8893203324453325, 0.8893203324453325, 0.8893203324453325, 0.8893203324453325, 0.8893203324453325, 0.8893203324453325, 0.8893203324453325, 0.8893203324453325, 0.8893203324453325, 0.8893203324453325, 0.8893203324453325, 0.9060370879120878, 0.9060370879120878]}], \"accuracy\": [{\"categories\": [\"0\", \"1\", \"2\", \"3\", \"4\", \"5\", \"6\", \"7\", \"8\", \"9\", \"10\", \"11\", \"12\", \"13\", \"14\", \"15\", \"16\", \"17\", \"18\", \"19\", \"20\", \"21\", \"22\", \"23\", \"24\", \"25\", \"26\", \"27\", \"28\", \"29\", \"30\", \"31\", \"32\", \"33\", \"34\", \"35\", \"36\", \"37\", \"38\", \"39\", \"40\"], \"mode\": \"markers\", \"name\": \"accuracy\", \"stepped\": false, \"type\": \"scatter\", \"data\": [0.8, 0.805, 0.795, 0.745, 0.6900000000000001, 0.76, 0.775, 0.795, 0.6649999999999999, 0.79, 0.77, 0.795, 0.775, 0.785, 0.715, 0.74, 0.74, 0.77, 0.78, 0.775, 0.775, 0.775, 0.8, 0.81, 0.78, 0.45499999999999996, 0.8, 0.775, 0.8350000000000001, 0.795, 0.7, 0.775, 0.8, 0.76, 0.77, 0.73, 0.81, 0.775, 0.81, 0.8400000000000001, 0.8250000000000001]}, {\"categories\": [\"0\", \"1\", \"2\", \"3\", \"4\", \"5\", \"6\", \"7\", \"8\", \"9\", \"10\", \"11\", \"12\", \"13\", \"14\", \"15\", \"16\", \"17\", \"18\", \"19\", \"20\", \"21\", \"22\", \"23\", \"24\", \"25\", \"26\", \"27\", \"28\", \"29\", \"30\", \"31\", \"32\", \"33\", \"34\", \"35\", \"36\", \"37\", \"38\", \"39\", \"40\"], \"mode\": \"lines\", \"name\": \"accuracy_max\", \"stepped\": true, \"type\": \"scatter\", \"data\": [0.8, 0.805, 0.805, 0.805, 0.805, 0.805, 0.805, 0.805, 0.805, 0.805, 0.805, 0.805, 0.805, 0.805, 0.805, 0.805, 0.805, 0.805, 0.805, 0.805, 0.805, 0.805, 0.805, 0.81, 0.81, 0.81, 0.81, 0.81, 0.8350000000000001, 0.8350000000000001, 0.8350000000000001, 0.8350000000000001, 0.8350000000000001, 0.8350000000000001, 0.8350000000000001, 0.8350000000000001, 0.8350000000000001, 0.8350000000000001, 0.8350000000000001, 0.8400000000000001, 0.8400000000000001]}], \"recall_score_micro\": [{\"categories\": [\"0\", \"1\", \"2\", \"3\", \"4\", \"5\", \"6\", \"7\", \"8\", \"9\", \"10\", \"11\", \"12\", \"13\", \"14\", \"15\", \"16\", \"17\", \"18\", \"19\", \"20\", \"21\", \"22\", \"23\", \"24\", \"25\", \"26\", \"27\", \"28\", \"29\", \"30\", \"31\", \"32\", \"33\", \"34\", \"35\", \"36\", \"37\", \"38\", \"39\", \"40\"], \"mode\": \"markers\", \"name\": \"recall_score_micro\", \"stepped\": false, \"type\": \"scatter\", \"data\": [0.8, 0.805, 0.795, 0.745, 0.6900000000000001, 0.76, 0.775, 0.795, 0.6649999999999999, 0.79, 0.77, 0.795, 0.775, 0.785, 0.715, 0.74, 0.74, 0.77, 0.78, 0.775, 0.775, 0.775, 0.8, 0.81, 0.78, 0.45499999999999996, 0.8, 0.775, 0.8350000000000001, 0.795, 0.7, 0.775, 0.8, 0.76, 0.77, 0.73, 0.81, 0.775, 0.81, 0.8400000000000001, 0.8250000000000001]}, {\"categories\": [\"0\", \"1\", \"2\", \"3\", \"4\", \"5\", \"6\", \"7\", \"8\", \"9\", \"10\", \"11\", \"12\", \"13\", \"14\", \"15\", \"16\", \"17\", \"18\", \"19\", \"20\", \"21\", \"22\", \"23\", \"24\", \"25\", \"26\", \"27\", \"28\", \"29\", \"30\", \"31\", \"32\", \"33\", \"34\", \"35\", \"36\", \"37\", \"38\", \"39\", \"40\"], \"mode\": \"lines\", \"name\": \"recall_score_micro_max\", \"stepped\": true, \"type\": \"scatter\", \"data\": [0.8, 0.805, 0.805, 0.805, 0.805, 0.805, 0.805, 0.805, 0.805, 0.805, 0.805, 0.805, 0.805, 0.805, 0.805, 0.805, 0.805, 0.805, 0.805, 0.805, 0.805, 0.805, 0.805, 0.81, 0.81, 0.81, 0.81, 0.81, 0.8350000000000001, 0.8350000000000001, 0.8350000000000001, 0.8350000000000001, 0.8350000000000001, 0.8350000000000001, 0.8350000000000001, 0.8350000000000001, 0.8350000000000001, 0.8350000000000001, 0.8350000000000001, 0.8400000000000001, 0.8400000000000001]}], \"average_precision_score_micro\": [{\"categories\": [\"0\", \"1\", \"2\", \"3\", \"4\", \"5\", \"6\", \"7\", \"8\", \"9\", \"10\", \"11\", \"12\", \"13\", \"14\", \"15\", \"16\", \"17\", \"18\", \"19\", \"20\", \"21\", \"22\", \"23\", \"24\", \"25\", \"26\", \"27\", \"28\", \"29\", \"30\", \"31\", \"32\", \"33\", \"34\", \"35\", \"36\", \"37\", \"38\", \"39\", \"40\"], \"mode\": \"markers\", \"name\": \"average_precision_score_micro\", \"stepped\": false, \"type\": \"scatter\", \"data\": [0.886554003559269, 0.8949592619767202, 0.8766420933852711, 0.8458643111693841, 0.7435600194909919, 0.8684256202184941, 0.8591175526603958, 0.887914350743348, 0.760024466589197, 0.8463084104569376, 0.8654511010086922, 0.8707775042813977, 0.8654262922626077, 0.8550916048910894, 0.7982687472038024, 0.8323247672839007, 0.7924335232757176, 0.8584363223848609, 0.8621021101982744, 0.8533963635141558, 0.861245279288736, 0.8772856579609791, 0.8889412612879439, 0.8877825289927495, 0.8753911413676035, 0.48229999999999995, 0.8873230561666771, 0.8557567255912061, 0.897405624894765, 0.8669728099353243, 0.7813253212295779, 0.8712454469769584, 0.8746569906580863, 0.874080897307913, 0.8709606088083695, 0.8400218858157789, 0.8896556095107471, 0.8645278912576454, 0.8798769548026277, 0.9133527301332683, 0.9012965244391083]}, {\"categories\": [\"0\", \"1\", \"2\", \"3\", \"4\", \"5\", \"6\", \"7\", \"8\", \"9\", \"10\", \"11\", \"12\", \"13\", \"14\", \"15\", \"16\", \"17\", \"18\", \"19\", \"20\", \"21\", \"22\", \"23\", \"24\", \"25\", \"26\", \"27\", \"28\", \"29\", \"30\", \"31\", \"32\", \"33\", \"34\", \"35\", \"36\", \"37\", \"38\", \"39\", \"40\"], \"mode\": \"lines\", \"name\": \"average_precision_score_micro_max\", \"stepped\": true, \"type\": \"scatter\", \"data\": [0.886554003559269, 0.8949592619767202, 0.8949592619767202, 0.8949592619767202, 0.8949592619767202, 0.8949592619767202, 0.8949592619767202, 0.8949592619767202, 0.8949592619767202, 0.8949592619767202, 0.8949592619767202, 0.8949592619767202, 0.8949592619767202, 0.8949592619767202, 0.8949592619767202, 0.8949592619767202, 0.8949592619767202, 0.8949592619767202, 0.8949592619767202, 0.8949592619767202, 0.8949592619767202, 0.8949592619767202, 0.8949592619767202, 0.8949592619767202, 0.8949592619767202, 0.8949592619767202, 0.8949592619767202, 0.8949592619767202, 0.897405624894765, 0.897405624894765, 0.897405624894765, 0.897405624894765, 0.897405624894765, 0.897405624894765, 0.897405624894765, 0.897405624894765, 0.897405624894765, 0.897405624894765, 0.897405624894765, 0.9133527301332683, 0.9133527301332683]}], \"average_precision_score_weighted\": [{\"categories\": [\"0\", \"1\", \"2\", \"3\", \"4\", \"5\", \"6\", \"7\", \"8\", \"9\", \"10\", \"11\", \"12\", \"13\", \"14\", \"15\", \"16\", \"17\", \"18\", \"19\", \"20\", \"21\", \"22\", \"23\", \"24\", \"25\", \"26\", \"27\", \"28\", \"29\", \"30\", \"31\", \"32\", \"33\", \"34\", \"35\", \"36\", \"37\", \"38\", \"39\", \"40\"], \"mode\": \"markers\", \"name\": \"average_precision_score_weighted\", \"stepped\": false, \"type\": \"scatter\", \"data\": [0.881660058642282, 0.8923485319168873, 0.8915291922559724, 0.8610725440409264, 0.7700779983447401, 0.8785489427517711, 0.8722710079777164, 0.8960596201903493, 0.7835302707748646, 0.8640527710731709, 0.8745694794074623, 0.8785421231675101, 0.8812242678241651, 0.8723327845829781, 0.8030307025713103, 0.8491368952197276, 0.8125612750137047, 0.8815001034182536, 0.8749562226445201, 0.8629375720329685, 0.8748015684475183, 0.8909837336796853, 0.8916169866070424, 0.9013961503463035, 0.8773190931738801, 0.5096, 0.8836015140839477, 0.8755632545484309, 0.891658689461553, 0.8744061173901478, 0.8044800747376717, 0.8904193967132014, 0.868409083716832, 0.8810284433675535, 0.8798641731598892, 0.8576273926209146, 0.8857390065159112, 0.8743928980419307, 0.8920243262882329, 0.9168649303912461, 0.9125233214497919]}, {\"categories\": [\"0\", \"1\", \"2\", \"3\", \"4\", \"5\", \"6\", \"7\", \"8\", \"9\", \"10\", \"11\", \"12\", \"13\", \"14\", \"15\", \"16\", \"17\", \"18\", \"19\", \"20\", \"21\", \"22\", \"23\", \"24\", \"25\", \"26\", \"27\", \"28\", \"29\", \"30\", \"31\", \"32\", \"33\", \"34\", \"35\", \"36\", \"37\", \"38\", \"39\", \"40\"], \"mode\": \"lines\", \"name\": \"average_precision_score_weighted_max\", \"stepped\": true, \"type\": \"scatter\", \"data\": [0.881660058642282, 0.8923485319168873, 0.8923485319168873, 0.8923485319168873, 0.8923485319168873, 0.8923485319168873, 0.8923485319168873, 0.8960596201903493, 0.8960596201903493, 0.8960596201903493, 0.8960596201903493, 0.8960596201903493, 0.8960596201903493, 0.8960596201903493, 0.8960596201903493, 0.8960596201903493, 0.8960596201903493, 0.8960596201903493, 0.8960596201903493, 0.8960596201903493, 0.8960596201903493, 0.8960596201903493, 0.8960596201903493, 0.9013961503463035, 0.9013961503463035, 0.9013961503463035, 0.9013961503463035, 0.9013961503463035, 0.9013961503463035, 0.9013961503463035, 0.9013961503463035, 0.9013961503463035, 0.9013961503463035, 0.9013961503463035, 0.9013961503463035, 0.9013961503463035, 0.9013961503463035, 0.9013961503463035, 0.9013961503463035, 0.9168649303912461, 0.9168649303912461]}], \"recall_score_weighted\": [{\"categories\": [\"0\", \"1\", \"2\", \"3\", \"4\", \"5\", \"6\", \"7\", \"8\", \"9\", \"10\", \"11\", \"12\", \"13\", \"14\", \"15\", \"16\", \"17\", \"18\", \"19\", \"20\", \"21\", \"22\", \"23\", \"24\", \"25\", \"26\", \"27\", \"28\", \"29\", \"30\", \"31\", \"32\", \"33\", \"34\", \"35\", \"36\", \"37\", \"38\", \"39\", \"40\"], \"mode\": \"markers\", \"name\": \"recall_score_weighted\", \"stepped\": false, \"type\": \"scatter\", \"data\": [0.8, 0.805, 0.795, 0.745, 0.6900000000000001, 0.76, 0.775, 0.795, 0.6649999999999999, 0.79, 0.77, 0.795, 0.775, 0.785, 0.715, 0.74, 0.74, 0.77, 0.78, 0.775, 0.775, 0.775, 0.8, 0.81, 0.78, 0.45499999999999996, 0.8, 0.775, 0.8350000000000001, 0.795, 0.7, 0.775, 0.8, 0.76, 0.77, 0.73, 0.81, 0.775, 0.81, 0.8400000000000001, 0.8250000000000001]}, {\"categories\": [\"0\", \"1\", \"2\", \"3\", \"4\", \"5\", \"6\", \"7\", \"8\", \"9\", \"10\", \"11\", \"12\", \"13\", \"14\", \"15\", \"16\", \"17\", \"18\", \"19\", \"20\", \"21\", \"22\", \"23\", \"24\", \"25\", \"26\", \"27\", \"28\", \"29\", \"30\", \"31\", \"32\", \"33\", \"34\", \"35\", \"36\", \"37\", \"38\", \"39\", \"40\"], \"mode\": \"lines\", \"name\": \"recall_score_weighted_max\", \"stepped\": true, \"type\": \"scatter\", \"data\": [0.8, 0.805, 0.805, 0.805, 0.805, 0.805, 0.805, 0.805, 0.805, 0.805, 0.805, 0.805, 0.805, 0.805, 0.805, 0.805, 0.805, 0.805, 0.805, 0.805, 0.805, 0.805, 0.805, 0.81, 0.81, 0.81, 0.81, 0.81, 0.8350000000000001, 0.8350000000000001, 0.8350000000000001, 0.8350000000000001, 0.8350000000000001, 0.8350000000000001, 0.8350000000000001, 0.8350000000000001, 0.8350000000000001, 0.8350000000000001, 0.8350000000000001, 0.8400000000000001, 0.8400000000000001]}], \"weighted_accuracy\": [{\"categories\": [\"0\", \"1\", \"2\", \"3\", \"4\", \"5\", \"6\", \"7\", \"8\", \"9\", \"10\", \"11\", \"12\", \"13\", \"14\", \"15\", \"16\", \"17\", \"18\", \"19\", \"20\", \"21\", \"22\", \"23\", \"24\", \"25\", \"26\", \"27\", \"28\", \"29\", \"30\", \"31\", \"32\", \"33\", \"34\", \"35\", \"36\", \"37\", \"38\", \"39\", \"40\"], \"mode\": \"markers\", \"name\": \"weighted_accuracy\", \"stepped\": false, \"type\": \"scatter\", \"data\": [0.8028750026964793, 0.8105140417971497, 0.7972179653617176, 0.7442689467983667, 0.6949412341335535, 0.764606202311441, 0.7794024353502876, 0.7958135427709545, 0.6699945100292936, 0.7954889579323041, 0.774105141354277, 0.7952197097816092, 0.7786037133055592, 0.7845856036028077, 0.721812904551105, 0.7416225337630771, 0.7338718021628615, 0.7744092992054762, 0.77804043211293, 0.7757664797795599, 0.7782600495177681, 0.774322849282604, 0.8047973296549856, 0.8104728988788423, 0.7860507971340063, 0.41393191635518156, 0.8051046661136912, 0.7780884657908296, 0.836812371834707, 0.7955844593639185, 0.6964094199888807, 0.7761470135855231, 0.8034510402458341, 0.7630090236427274, 0.7712875176189049, 0.7255476971704073, 0.8177623030589299, 0.7724163528454108, 0.8120348445110994, 0.8430587574396974, 0.8288997665933118]}, {\"categories\": [\"0\", \"1\", \"2\", \"3\", \"4\", \"5\", \"6\", \"7\", \"8\", \"9\", \"10\", \"11\", \"12\", \"13\", \"14\", \"15\", \"16\", \"17\", \"18\", \"19\", \"20\", \"21\", \"22\", \"23\", \"24\", \"25\", \"26\", \"27\", \"28\", \"29\", \"30\", \"31\", \"32\", \"33\", \"34\", \"35\", \"36\", \"37\", \"38\", \"39\", \"40\"], \"mode\": \"lines\", \"name\": \"weighted_accuracy_max\", \"stepped\": true, \"type\": \"scatter\", \"data\": [0.8028750026964793, 0.8105140417971497, 0.8105140417971497, 0.8105140417971497, 0.8105140417971497, 0.8105140417971497, 0.8105140417971497, 0.8105140417971497, 0.8105140417971497, 0.8105140417971497, 0.8105140417971497, 0.8105140417971497, 0.8105140417971497, 0.8105140417971497, 0.8105140417971497, 0.8105140417971497, 0.8105140417971497, 0.8105140417971497, 0.8105140417971497, 0.8105140417971497, 0.8105140417971497, 0.8105140417971497, 0.8105140417971497, 0.8105140417971497, 0.8105140417971497, 0.8105140417971497, 0.8105140417971497, 0.8105140417971497, 0.836812371834707, 0.836812371834707, 0.836812371834707, 0.836812371834707, 0.836812371834707, 0.836812371834707, 0.836812371834707, 0.836812371834707, 0.836812371834707, 0.836812371834707, 0.836812371834707, 0.8430587574396974, 0.8430587574396974]}], \"average_precision_score_macro\": [{\"categories\": [\"0\", \"1\", \"2\", \"3\", \"4\", \"5\", \"6\", \"7\", \"8\", \"9\", \"10\", \"11\", \"12\", \"13\", \"14\", \"15\", \"16\", \"17\", \"18\", \"19\", \"20\", \"21\", \"22\", \"23\", \"24\", \"25\", \"26\", \"27\", \"28\", \"29\", \"30\", \"31\", \"32\", \"33\", \"34\", \"35\", \"36\", \"37\", \"38\", \"39\", \"40\"], \"mode\": \"markers\", \"name\": \"average_precision_score_macro\", \"stepped\": false, \"type\": \"scatter\", \"data\": [0.8763811945033624, 0.8873888748889305, 0.8880686464492467, 0.855066751553053, 0.7658099879553186, 0.8735319674633819, 0.8663447939910225, 0.8921590781826261, 0.778749386958574, 0.8621489877750386, 0.871031697780908, 0.8738748235585249, 0.8756921431242998, 0.8682147704629197, 0.7992691793446557, 0.8455324143889118, 0.8069342927072058, 0.8778344986376047, 0.8703041349993567, 0.8572128873362279, 0.8688410751311214, 0.8857544051555906, 0.8873215944893579, 0.8982725846031134, 0.8727591121044895, 0.5, 0.8780868341819728, 0.8698712143122378, 0.8893486648604729, 0.8671579548523025, 0.7994409730528269, 0.8854161418106092, 0.8623502317028323, 0.8757814160306627, 0.8757917635365994, 0.8553967551275212, 0.8808369640518983, 0.8679024192163334, 0.8883041989871926, 0.9139658015715378, 0.9088836383114729]}, {\"categories\": [\"0\", \"1\", \"2\", \"3\", \"4\", \"5\", \"6\", \"7\", \"8\", \"9\", \"10\", \"11\", \"12\", \"13\", \"14\", \"15\", \"16\", \"17\", \"18\", \"19\", \"20\", \"21\", \"22\", \"23\", \"24\", \"25\", \"26\", \"27\", \"28\", \"29\", \"30\", \"31\", \"32\", \"33\", \"34\", \"35\", \"36\", \"37\", \"38\", \"39\", \"40\"], \"mode\": \"lines\", \"name\": \"average_precision_score_macro_max\", \"stepped\": true, \"type\": \"scatter\", \"data\": [0.8763811945033624, 0.8873888748889305, 0.8880686464492467, 0.8880686464492467, 0.8880686464492467, 0.8880686464492467, 0.8880686464492467, 0.8921590781826261, 0.8921590781826261, 0.8921590781826261, 0.8921590781826261, 0.8921590781826261, 0.8921590781826261, 0.8921590781826261, 0.8921590781826261, 0.8921590781826261, 0.8921590781826261, 0.8921590781826261, 0.8921590781826261, 0.8921590781826261, 0.8921590781826261, 0.8921590781826261, 0.8921590781826261, 0.8982725846031134, 0.8982725846031134, 0.8982725846031134, 0.8982725846031134, 0.8982725846031134, 0.8982725846031134, 0.8982725846031134, 0.8982725846031134, 0.8982725846031134, 0.8982725846031134, 0.8982725846031134, 0.8982725846031134, 0.8982725846031134, 0.8982725846031134, 0.8982725846031134, 0.8982725846031134, 0.9139658015715378, 0.9139658015715378]}], \"balanced_accuracy\": [{\"categories\": [\"0\", \"1\", \"2\", \"3\", \"4\", \"5\", \"6\", \"7\", \"8\", \"9\", \"10\", \"11\", \"12\", \"13\", \"14\", \"15\", \"16\", \"17\", \"18\", \"19\", \"20\", \"21\", \"22\", \"23\", \"24\", \"25\", \"26\", \"27\", \"28\", \"29\", \"30\", \"31\", \"32\", \"33\", \"34\", \"35\", \"36\", \"37\", \"38\", \"39\", \"40\"], \"mode\": \"markers\", \"name\": \"balanced_accuracy\", \"stepped\": false, \"type\": \"scatter\", \"data\": [0.796600188006438, 0.7985789384226885, 0.7919397442834943, 0.7456036151348652, 0.6844371774059275, 0.7546346015096015, 0.7697423236485736, 0.793803071928072, 0.6592838585026084, 0.7836521984959486, 0.7651927933177933, 0.7946380008880009, 0.7705436056998557, 0.7847154581529582, 0.7072107579920079, 0.7377295447607948, 0.7463239017926517, 0.7648223304473304, 0.7821574259074259, 0.7740316974691974, 0.771044406981907, 0.7756686022311021, 0.7943750693750694, 0.8090948114385614, 0.7731350246975247, 0.5, 0.7941419691419691, 0.7710491765179266, 0.8326795600233101, 0.7939830135142636, 0.7038190108502609, 0.7735327172827172, 0.7956755917693418, 0.7564101696914197, 0.7683912441724943, 0.7348953997391496, 0.8011096542346543, 0.7780263139638139, 0.8073485542235542, 0.8361517822455322, 0.8202291631979133]}, {\"categories\": [\"0\", \"1\", \"2\", \"3\", \"4\", \"5\", \"6\", \"7\", \"8\", \"9\", \"10\", \"11\", \"12\", \"13\", \"14\", \"15\", \"16\", \"17\", \"18\", \"19\", \"20\", \"21\", \"22\", \"23\", \"24\", \"25\", \"26\", \"27\", \"28\", \"29\", \"30\", \"31\", \"32\", \"33\", \"34\", \"35\", \"36\", \"37\", \"38\", \"39\", \"40\"], \"mode\": \"lines\", \"name\": \"balanced_accuracy_max\", \"stepped\": true, \"type\": \"scatter\", \"data\": [0.796600188006438, 0.7985789384226885, 0.7985789384226885, 0.7985789384226885, 0.7985789384226885, 0.7985789384226885, 0.7985789384226885, 0.7985789384226885, 0.7985789384226885, 0.7985789384226885, 0.7985789384226885, 0.7985789384226885, 0.7985789384226885, 0.7985789384226885, 0.7985789384226885, 0.7985789384226885, 0.7985789384226885, 0.7985789384226885, 0.7985789384226885, 0.7985789384226885, 0.7985789384226885, 0.7985789384226885, 0.7985789384226885, 0.8090948114385614, 0.8090948114385614, 0.8090948114385614, 0.8090948114385614, 0.8090948114385614, 0.8326795600233101, 0.8326795600233101, 0.8326795600233101, 0.8326795600233101, 0.8326795600233101, 0.8326795600233101, 0.8326795600233101, 0.8326795600233101, 0.8326795600233101, 0.8326795600233101, 0.8326795600233101, 0.8361517822455322, 0.8361517822455322]}], \"recall_score_macro\": [{\"categories\": [\"0\", \"1\", \"2\", \"3\", \"4\", \"5\", \"6\", \"7\", \"8\", \"9\", \"10\", \"11\", \"12\", \"13\", \"14\", \"15\", \"16\", \"17\", \"18\", \"19\", \"20\", \"21\", \"22\", \"23\", \"24\", \"25\", \"26\", \"27\", \"28\", \"29\", \"30\", \"31\", \"32\", \"33\", \"34\", \"35\", \"36\", \"37\", \"38\", \"39\", \"40\"], \"mode\": \"markers\", \"name\": \"recall_score_macro\", \"stepped\": false, \"type\": \"scatter\", \"data\": [0.796600188006438, 0.7985789384226885, 0.7919397442834943, 0.7456036151348652, 0.6844371774059275, 0.7546346015096015, 0.7697423236485736, 0.793803071928072, 0.6592838585026084, 0.7836521984959486, 0.7651927933177933, 0.7946380008880009, 0.7705436056998557, 0.7847154581529582, 0.7072107579920079, 0.7377295447607948, 0.7463239017926517, 0.7648223304473304, 0.7821574259074259, 0.7740316974691974, 0.771044406981907, 0.7756686022311021, 0.7943750693750694, 0.8090948114385614, 0.7731350246975247, 0.5, 0.7941419691419691, 0.7710491765179266, 0.8326795600233101, 0.7939830135142636, 0.7038190108502609, 0.7735327172827172, 0.7956755917693418, 0.7564101696914197, 0.7683912441724943, 0.7348953997391496, 0.8011096542346543, 0.7780263139638139, 0.8073485542235542, 0.8361517822455322, 0.8202291631979133]}, {\"categories\": [\"0\", \"1\", \"2\", \"3\", \"4\", \"5\", \"6\", \"7\", \"8\", \"9\", \"10\", \"11\", \"12\", \"13\", \"14\", \"15\", \"16\", \"17\", \"18\", \"19\", \"20\", \"21\", \"22\", \"23\", \"24\", \"25\", \"26\", \"27\", \"28\", \"29\", \"30\", \"31\", \"32\", \"33\", \"34\", \"35\", \"36\", \"37\", \"38\", \"39\", \"40\"], \"mode\": \"lines\", \"name\": \"recall_score_macro_max\", \"stepped\": true, \"type\": \"scatter\", \"data\": [0.796600188006438, 0.7985789384226885, 0.7985789384226885, 0.7985789384226885, 0.7985789384226885, 0.7985789384226885, 0.7985789384226885, 0.7985789384226885, 0.7985789384226885, 0.7985789384226885, 0.7985789384226885, 0.7985789384226885, 0.7985789384226885, 0.7985789384226885, 0.7985789384226885, 0.7985789384226885, 0.7985789384226885, 0.7985789384226885, 0.7985789384226885, 0.7985789384226885, 0.7985789384226885, 0.7985789384226885, 0.7985789384226885, 0.8090948114385614, 0.8090948114385614, 0.8090948114385614, 0.8090948114385614, 0.8090948114385614, 0.8326795600233101, 0.8326795600233101, 0.8326795600233101, 0.8326795600233101, 0.8326795600233101, 0.8326795600233101, 0.8326795600233101, 0.8326795600233101, 0.8326795600233101, 0.8326795600233101, 0.8326795600233101, 0.8361517822455322, 0.8361517822455322]}], \"norm_macro_recall\": [{\"categories\": [\"0\", \"1\", \"2\", \"3\", \"4\", \"5\", \"6\", \"7\", \"8\", \"9\", \"10\", \"11\", \"12\", \"13\", \"14\", \"15\", \"16\", \"17\", \"18\", \"19\", \"20\", \"21\", \"22\", \"23\", \"24\", \"25\", \"26\", \"27\", \"28\", \"29\", \"30\", \"31\", \"32\", \"33\", \"34\", \"35\", \"36\", \"37\", \"38\", \"39\", \"40\"], \"mode\": \"markers\", \"name\": \"norm_macro_recall\", \"stepped\": false, \"type\": \"scatter\", \"data\": [0.593200376012876, 0.5971578768453768, 0.5838794885669886, 0.49120723026973023, 0.3688743548118548, 0.509269203019203, 0.5394846472971473, 0.5876061438561438, 0.31856771700521697, 0.567304396991897, 0.5303855866355867, 0.5892760017760017, 0.5410872113997114, 0.5694309163059164, 0.414421515984016, 0.47545908952158944, 0.4926478035853036, 0.5296446608946609, 0.5643148518148519, 0.5480633949383948, 0.542088813963814, 0.5513372044622045, 0.5887501387501387, 0.6181896228771229, 0.5462700493950494, 0.0, 0.5882839382839382, 0.542098353035853, 0.66535912004662, 0.5879660270285271, 0.40850607725607724, 0.5470654345654347, 0.5913511835386835, 0.5128203393828394, 0.5367824883449883, 0.4697907994782995, 0.6022193084693085, 0.5560526279276279, 0.6146971084471085, 0.6723035644910645, 0.6404583263958263]}, {\"categories\": [\"0\", \"1\", \"2\", \"3\", \"4\", \"5\", \"6\", \"7\", \"8\", \"9\", \"10\", \"11\", \"12\", \"13\", \"14\", \"15\", \"16\", \"17\", \"18\", \"19\", \"20\", \"21\", \"22\", \"23\", \"24\", \"25\", \"26\", \"27\", \"28\", \"29\", \"30\", \"31\", \"32\", \"33\", \"34\", \"35\", \"36\", \"37\", \"38\", \"39\", \"40\"], \"mode\": \"lines\", \"name\": \"norm_macro_recall_max\", \"stepped\": true, \"type\": \"scatter\", \"data\": [0.593200376012876, 0.5971578768453768, 0.5971578768453768, 0.5971578768453768, 0.5971578768453768, 0.5971578768453768, 0.5971578768453768, 0.5971578768453768, 0.5971578768453768, 0.5971578768453768, 0.5971578768453768, 0.5971578768453768, 0.5971578768453768, 0.5971578768453768, 0.5971578768453768, 0.5971578768453768, 0.5971578768453768, 0.5971578768453768, 0.5971578768453768, 0.5971578768453768, 0.5971578768453768, 0.5971578768453768, 0.5971578768453768, 0.6181896228771229, 0.6181896228771229, 0.6181896228771229, 0.6181896228771229, 0.6181896228771229, 0.66535912004662, 0.66535912004662, 0.66535912004662, 0.66535912004662, 0.66535912004662, 0.66535912004662, 0.66535912004662, 0.66535912004662, 0.66535912004662, 0.66535912004662, 0.66535912004662, 0.6723035644910645, 0.6723035644910645]}], \"AUC_weighted\": [{\"categories\": [\"0\", \"1\", \"2\", \"3\", \"4\", \"5\", \"6\", \"7\", \"8\", \"9\", \"10\", \"11\", \"12\", \"13\", \"14\", \"15\", \"16\", \"17\", \"18\", \"19\", \"20\", \"21\", \"22\", \"23\", \"24\", \"25\", \"26\", \"27\", \"28\", \"29\", \"30\", \"31\", \"32\", \"33\", \"34\", \"35\", \"36\", \"37\", \"38\", \"39\", \"40\"], \"mode\": \"markers\", \"name\": \"AUC_weighted\", \"stepped\": false, \"type\": \"scatter\", \"data\": [0.8705898615273615, 0.8812588800088801, 0.8791744366744367, 0.8486544705294705, 0.7572733863358864, 0.8663498307248307, 0.8569717435342435, 0.8846116383616384, 0.7648671467421467, 0.8505519133644133, 0.8619695235320236, 0.8708027042402042, 0.8666738816738816, 0.8662265512265512, 0.7884047896547897, 0.835975135975136, 0.7967626470751471, 0.862624007936508, 0.8628453837828838, 0.8605809815184815, 0.8593755896880897, 0.8824279713342214, 0.8803486444111444, 0.8893203324453325, 0.8623691586191586, 0.5, 0.8720340076590076, 0.8675099900099901, 0.8854145854145854, 0.8638153513153513, 0.7821253052503052, 0.8820376151626153, 0.8718719648407149, 0.8693449259074257, 0.8627030261405262, 0.840686951936952, 0.873491785991786, 0.8629546495171496, 0.880366681929182, 0.9060370879120879, 0.9020523226773227]}, {\"categories\": [\"0\", \"1\", \"2\", \"3\", \"4\", \"5\", \"6\", \"7\", \"8\", \"9\", \"10\", \"11\", \"12\", \"13\", \"14\", \"15\", \"16\", \"17\", \"18\", \"19\", \"20\", \"21\", \"22\", \"23\", \"24\", \"25\", \"26\", \"27\", \"28\", \"29\", \"30\", \"31\", \"32\", \"33\", \"34\", \"35\", \"36\", \"37\", \"38\", \"39\", \"40\"], \"mode\": \"lines\", \"name\": \"AUC_weighted_max\", \"stepped\": true, \"type\": \"scatter\", \"data\": [0.8705898615273615, 0.8812588800088801, 0.8812588800088801, 0.8812588800088801, 0.8812588800088801, 0.8812588800088801, 0.8812588800088801, 0.8846116383616384, 0.8846116383616384, 0.8846116383616384, 0.8846116383616384, 0.8846116383616384, 0.8846116383616384, 0.8846116383616384, 0.8846116383616384, 0.8846116383616384, 0.8846116383616384, 0.8846116383616384, 0.8846116383616384, 0.8846116383616384, 0.8846116383616384, 0.8846116383616384, 0.8846116383616384, 0.8893203324453325, 0.8893203324453325, 0.8893203324453325, 0.8893203324453325, 0.8893203324453325, 0.8893203324453325, 0.8893203324453325, 0.8893203324453325, 0.8893203324453325, 0.8893203324453325, 0.8893203324453325, 0.8893203324453325, 0.8893203324453325, 0.8893203324453325, 0.8893203324453325, 0.8893203324453325, 0.9060370879120879, 0.9060370879120879]}], \"f1_score_macro\": [{\"categories\": [\"0\", \"1\", \"2\", \"3\", \"4\", \"5\", \"6\", \"7\", \"8\", \"9\", \"10\", \"11\", \"12\", \"13\", \"14\", \"15\", \"16\", \"17\", \"18\", \"19\", \"20\", \"21\", \"22\", \"23\", \"24\", \"25\", \"26\", \"27\", \"28\", \"29\", \"30\", \"31\", \"32\", \"33\", \"34\", \"35\", \"36\", \"37\", \"38\", \"39\", \"40\"], \"mode\": \"markers\", \"name\": \"f1_score_macro\", \"stepped\": false, \"type\": \"scatter\", \"data\": [0.795274976579901, 0.7978978957719367, 0.7863104682971405, 0.740737177949153, 0.6814101993739079, 0.7509766488827142, 0.7669163764109168, 0.7889895133634522, 0.6539170847534819, 0.7826283734647705, 0.7637078262417936, 0.7896018578962951, 0.7666744434244186, 0.773400663970889, 0.7057014309220191, 0.7314414430309948, 0.7358656142707867, 0.7622136076116806, 0.7748123617289219, 0.7686671881572501, 0.7678562956750614, 0.770675574678449, 0.7916118705640764, 0.8058397748791954, 0.7711996252355673, 0.311798806767847, 0.7933588537185083, 0.7616093911150656, 0.8303111881576555, 0.7897384830814511, 0.6930465789172975, 0.7703302916172924, 0.7914488423743539, 0.7516431396448904, 0.7640456508183491, 0.7270210521161609, 0.7997854390861104, 0.7711149046203394, 0.8042520206243033, 0.8341615104666575, 0.8180589263677499]}, {\"categories\": [\"0\", \"1\", \"2\", \"3\", \"4\", \"5\", \"6\", \"7\", \"8\", \"9\", \"10\", \"11\", \"12\", \"13\", \"14\", \"15\", \"16\", \"17\", \"18\", \"19\", \"20\", \"21\", \"22\", \"23\", \"24\", \"25\", \"26\", \"27\", \"28\", \"29\", \"30\", \"31\", \"32\", \"33\", \"34\", \"35\", \"36\", \"37\", \"38\", \"39\", \"40\"], \"mode\": \"lines\", \"name\": \"f1_score_macro_max\", \"stepped\": true, \"type\": \"scatter\", \"data\": [0.795274976579901, 0.7978978957719367, 0.7978978957719367, 0.7978978957719367, 0.7978978957719367, 0.7978978957719367, 0.7978978957719367, 0.7978978957719367, 0.7978978957719367, 0.7978978957719367, 0.7978978957719367, 0.7978978957719367, 0.7978978957719367, 0.7978978957719367, 0.7978978957719367, 0.7978978957719367, 0.7978978957719367, 0.7978978957719367, 0.7978978957719367, 0.7978978957719367, 0.7978978957719367, 0.7978978957719367, 0.7978978957719367, 0.8058397748791954, 0.8058397748791954, 0.8058397748791954, 0.8058397748791954, 0.8058397748791954, 0.8303111881576555, 0.8303111881576555, 0.8303111881576555, 0.8303111881576555, 0.8303111881576555, 0.8303111881576555, 0.8303111881576555, 0.8303111881576555, 0.8303111881576555, 0.8303111881576555, 0.8303111881576555, 0.8341615104666575, 0.8341615104666575]}], \"f1_score_weighted\": [{\"categories\": [\"0\", \"1\", \"2\", \"3\", \"4\", \"5\", \"6\", \"7\", \"8\", \"9\", \"10\", \"11\", \"12\", \"13\", \"14\", \"15\", \"16\", \"17\", \"18\", \"19\", \"20\", \"21\", \"22\", \"23\", \"24\", \"25\", \"26\", \"27\", \"28\", \"29\", \"30\", \"31\", \"32\", \"33\", \"34\", \"35\", \"36\", \"37\", \"38\", \"39\", \"40\"], \"mode\": \"markers\", \"name\": \"f1_score_weighted\", \"stepped\": false, \"type\": \"scatter\", \"data\": [0.8000528082614983, 0.8034149598152156, 0.790714838014644, 0.7440636801923064, 0.6867373867039814, 0.7568734379096845, 0.7730040168599566, 0.7938048937009038, 0.6593781598303656, 0.78834881417602, 0.7692551947850861, 0.7929048752469469, 0.7725786816032869, 0.7761422833565604, 0.7131594092182327, 0.7364105938844225, 0.7380274667860875, 0.7676261964877584, 0.7782278077610558, 0.7729781292378304, 0.7735642885068157, 0.7747865949786656, 0.7976263442439913, 0.8096171259414044, 0.7779908816733769, 0.28640238646430605, 0.7988174501921306, 0.7661970488129375, 0.834143663301272, 0.7937068434372727, 0.6952129349398117, 0.7743131273268942, 0.79714977312164, 0.7571368819524708, 0.7676819399696637, 0.7286969723111028, 0.8070821904485587, 0.7745751269664314, 0.8088694568314134, 0.8389186263083321, 0.8233031674208144]}, {\"categories\": [\"0\", \"1\", \"2\", \"3\", \"4\", \"5\", \"6\", \"7\", \"8\", \"9\", \"10\", \"11\", \"12\", \"13\", \"14\", \"15\", \"16\", \"17\", \"18\", \"19\", \"20\", \"21\", \"22\", \"23\", \"24\", \"25\", \"26\", \"27\", \"28\", \"29\", \"30\", \"31\", \"32\", \"33\", \"34\", \"35\", \"36\", \"37\", \"38\", \"39\", \"40\"], \"mode\": \"lines\", \"name\": \"f1_score_weighted_max\", \"stepped\": true, \"type\": \"scatter\", \"data\": [0.8000528082614983, 0.8034149598152156, 0.8034149598152156, 0.8034149598152156, 0.8034149598152156, 0.8034149598152156, 0.8034149598152156, 0.8034149598152156, 0.8034149598152156, 0.8034149598152156, 0.8034149598152156, 0.8034149598152156, 0.8034149598152156, 0.8034149598152156, 0.8034149598152156, 0.8034149598152156, 0.8034149598152156, 0.8034149598152156, 0.8034149598152156, 0.8034149598152156, 0.8034149598152156, 0.8034149598152156, 0.8034149598152156, 0.8096171259414044, 0.8096171259414044, 0.8096171259414044, 0.8096171259414044, 0.8096171259414044, 0.834143663301272, 0.834143663301272, 0.834143663301272, 0.834143663301272, 0.834143663301272, 0.834143663301272, 0.834143663301272, 0.834143663301272, 0.834143663301272, 0.834143663301272, 0.834143663301272, 0.8389186263083321, 0.8389186263083321]}], \"precision_score_macro\": [{\"categories\": [\"0\", \"1\", \"2\", \"3\", \"4\", \"5\", \"6\", \"7\", \"8\", \"9\", \"10\", \"11\", \"12\", \"13\", \"14\", \"15\", \"16\", \"17\", \"18\", \"19\", \"20\", \"21\", \"22\", \"23\", \"24\", \"25\", \"26\", \"27\", \"28\", \"29\", \"30\", \"31\", \"32\", \"33\", \"34\", \"35\", \"36\", \"37\", \"38\", \"39\", \"40\"], \"mode\": \"markers\", \"name\": \"precision_score_macro\", \"stepped\": false, \"type\": \"scatter\", \"data\": [0.7995834129106187, 0.8062084463738876, 0.8093872120526533, 0.7473292893789217, 0.6976994818906583, 0.7655853643905115, 0.7816054605117104, 0.7990413691700456, 0.676442453476606, 0.790415803559186, 0.768138009865951, 0.8048693442994913, 0.7854023172497437, 0.8135860003966622, 0.7142962123660653, 0.751739477842419, 0.7562432313665866, 0.7798569077980844, 0.7937883297258297, 0.7877306584132242, 0.7827339327339328, 0.7816665105727606, 0.8054533003546162, 0.811760982073482, 0.7865891783654941, 0.22749999999999998, 0.8016462703962703, 0.7971501435655848, 0.8410687504897064, 0.8020620923194453, 0.7138236763236763, 0.7759044774669774, 0.807343335790027, 0.768435985991133, 0.782882477000124, 0.7401142056472938, 0.8133804018478941, 0.778614920618597, 0.8165476119060677, 0.8429002370178841, 0.8291219911624323]}, {\"categories\": [\"0\", \"1\", \"2\", \"3\", \"4\", \"5\", \"6\", \"7\", \"8\", \"9\", \"10\", \"11\", \"12\", \"13\", \"14\", \"15\", \"16\", \"17\", \"18\", \"19\", \"20\", \"21\", \"22\", \"23\", \"24\", \"25\", \"26\", \"27\", \"28\", \"29\", \"30\", \"31\", \"32\", \"33\", \"34\", \"35\", \"36\", \"37\", \"38\", \"39\", \"40\"], \"mode\": \"lines\", \"name\": \"precision_score_macro_max\", \"stepped\": true, \"type\": \"scatter\", \"data\": [0.7995834129106187, 0.8062084463738876, 0.8093872120526533, 0.8093872120526533, 0.8093872120526533, 0.8093872120526533, 0.8093872120526533, 0.8093872120526533, 0.8093872120526533, 0.8093872120526533, 0.8093872120526533, 0.8093872120526533, 0.8093872120526533, 0.8135860003966622, 0.8135860003966622, 0.8135860003966622, 0.8135860003966622, 0.8135860003966622, 0.8135860003966622, 0.8135860003966622, 0.8135860003966622, 0.8135860003966622, 0.8135860003966622, 0.8135860003966622, 0.8135860003966622, 0.8135860003966622, 0.8135860003966622, 0.8135860003966622, 0.8410687504897064, 0.8410687504897064, 0.8410687504897064, 0.8410687504897064, 0.8410687504897064, 0.8410687504897064, 0.8410687504897064, 0.8410687504897064, 0.8410687504897064, 0.8410687504897064, 0.8410687504897064, 0.8429002370178841, 0.8429002370178841]}]}, \"metricName\": null, \"primaryMetricName\": \"accuracy\", \"showLegend\": false}, \"run_metrics\": [{\"name\": \"recall_score_macro\", \"run_id\": \"AutoML_19b2c7bc-4f1a-47b9-8e97-63d12892f11f\", \"categories\": [0], \"series\": [{\"data\": [0.8361517822455322]}]}, {\"name\": \"recall_score_micro\", \"run_id\": \"AutoML_19b2c7bc-4f1a-47b9-8e97-63d12892f11f\", \"categories\": [0], \"series\": [{\"data\": [0.8400000000000001]}]}, {\"name\": \"f1_score_weighted\", \"run_id\": \"AutoML_19b2c7bc-4f1a-47b9-8e97-63d12892f11f\", \"categories\": [0], \"series\": [{\"data\": [0.8389186263083321]}]}, {\"name\": \"precision_score_weighted\", \"run_id\": \"AutoML_19b2c7bc-4f1a-47b9-8e97-63d12892f11f\", \"categories\": [0], \"series\": [{\"data\": [0.8484050043094161]}]}, {\"name\": \"matthews_correlation\", \"run_id\": \"AutoML_19b2c7bc-4f1a-47b9-8e97-63d12892f11f\", \"categories\": [0], \"series\": [{\"data\": [0.678921049181875]}]}, {\"name\": \"AUC_macro\", \"run_id\": \"AutoML_19b2c7bc-4f1a-47b9-8e97-63d12892f11f\", \"categories\": [0], \"series\": [{\"data\": [0.9060370879120878]}]}, {\"name\": \"f1_score_micro\", \"run_id\": \"AutoML_19b2c7bc-4f1a-47b9-8e97-63d12892f11f\", \"categories\": [0], \"series\": [{\"data\": [0.8399999999999999]}]}, {\"name\": \"AUC_weighted\", \"run_id\": \"AutoML_19b2c7bc-4f1a-47b9-8e97-63d12892f11f\", \"categories\": [0], \"series\": [{\"data\": [0.9060370879120879]}]}, {\"name\": \"AUC_micro\", \"run_id\": \"AutoML_19b2c7bc-4f1a-47b9-8e97-63d12892f11f\", \"categories\": [0], \"series\": [{\"data\": [0.9096]}]}, {\"name\": \"average_precision_score_weighted\", \"run_id\": \"AutoML_19b2c7bc-4f1a-47b9-8e97-63d12892f11f\", \"categories\": [0], \"series\": [{\"data\": [0.9168649303912461]}]}, {\"name\": \"f1_score_macro\", \"run_id\": \"AutoML_19b2c7bc-4f1a-47b9-8e97-63d12892f11f\", \"categories\": [0], \"series\": [{\"data\": [0.8341615104666575]}]}, {\"name\": \"log_loss\", \"run_id\": \"AutoML_19b2c7bc-4f1a-47b9-8e97-63d12892f11f\", \"categories\": [0], \"series\": [{\"data\": [0.4121275382112558]}]}, {\"name\": \"average_precision_score_macro\", \"run_id\": \"AutoML_19b2c7bc-4f1a-47b9-8e97-63d12892f11f\", \"categories\": [0], \"series\": [{\"data\": [0.9139658015715378]}]}, {\"name\": \"norm_macro_recall\", \"run_id\": \"AutoML_19b2c7bc-4f1a-47b9-8e97-63d12892f11f\", \"categories\": [0], \"series\": [{\"data\": [0.6723035644910645]}]}, {\"name\": \"average_precision_score_micro\", \"run_id\": \"AutoML_19b2c7bc-4f1a-47b9-8e97-63d12892f11f\", \"categories\": [0], \"series\": [{\"data\": [0.9133527301332683]}]}, {\"name\": \"precision_score_micro\", \"run_id\": \"AutoML_19b2c7bc-4f1a-47b9-8e97-63d12892f11f\", \"categories\": [0], \"series\": [{\"data\": [0.8400000000000001]}]}, {\"name\": \"recall_score_weighted\", \"run_id\": \"AutoML_19b2c7bc-4f1a-47b9-8e97-63d12892f11f\", \"categories\": [0], \"series\": [{\"data\": [0.8400000000000001]}]}, {\"name\": \"accuracy\", \"run_id\": \"AutoML_19b2c7bc-4f1a-47b9-8e97-63d12892f11f\", \"categories\": [0], \"series\": [{\"data\": [0.8400000000000001]}]}, {\"name\": \"weighted_accuracy\", \"run_id\": \"AutoML_19b2c7bc-4f1a-47b9-8e97-63d12892f11f\", \"categories\": [0], \"series\": [{\"data\": [0.8430587574396974]}]}, {\"name\": \"precision_score_macro\", \"run_id\": \"AutoML_19b2c7bc-4f1a-47b9-8e97-63d12892f11f\", \"categories\": [0], \"series\": [{\"data\": [0.8429002370178841]}]}, {\"name\": \"balanced_accuracy\", \"run_id\": \"AutoML_19b2c7bc-4f1a-47b9-8e97-63d12892f11f\", \"categories\": [0], \"series\": [{\"data\": [0.8361517822455322]}]}], \"run_logs\": \"\\nRun is completed.\", \"graph\": {}, \"widget_settings\": {\"childWidgetDisplay\": \"popup\", \"send_telemetry\": false, \"log_level\": \"INFO\", \"sdk_version\": \"1.33.0\"}, \"loading\": false}"
     },
     "metadata": {},
     "output_type": "display_data"
    },
    {
     "data": {
      "application/vnd.jupyter.widget-view+json": {
       "model_id": "",
       "version_major": 2,
       "version_minor": 0
      },
      "text/plain": [
       "_UserRunWidget(widget_settings={'childWidgetDisplay': 'popup', 'send_telemetry': False, 'log_level': 'INFO', '…"
      ]
     },
     "metadata": {},
     "output_type": "display_data"
    },
    {
     "data": {
      "application/aml.mini.widget.v1": "{\"loading\": true}"
     },
     "metadata": {},
     "output_type": "display_data"
    },
    {
     "data": {
      "application/vnd.jupyter.widget-view+json": {
       "model_id": "c0c7d3d34d9b4edcb27cb5ac7bc6b0fa",
       "version_major": 2,
       "version_minor": 0
      },
      "text/plain": [
       "_UserRunWidget(widget_settings={'childWidgetDisplay': 'popup', 'send_telemetry': False, 'log_level': 'INFO', '…"
      ]
     },
     "metadata": {},
     "output_type": "display_data"
    },
    {
     "data": {
      "application/aml.mini.widget.v1": "{\"loading\": true}"
     },
     "metadata": {},
     "output_type": "display_data"
    }
   ],
   "source": [
    "from azureml.widgets import RunDetails\n",
    "\n",
    "RunDetails(auto_ml_run).show()"
   ]
  },
  {
   "cell_type": "markdown",
   "metadata": {},
   "source": [
    "## Best Model\n",
    "\n",
    "TODO: In the cell below, get the best model from the automl experiments and display all the properties of the model.\n",
    "\n"
   ]
  },
  {
   "cell_type": "code",
   "execution_count": 96,
   "metadata": {
    "gather": {
     "logged": 1598431426111
    },
    "jupyter": {
     "outputs_hidden": false,
     "source_hidden": false
    },
    "nteract": {
     "transient": {
      "deleting": false
     }
    }
   },
   "outputs": [
    {
     "name": "stdout",
     "output_type": "stream",
     "text": [
      "[1]\n"
     ]
    },
    {
     "data": {
      "text/plain": [
       "['auto-ml-best_run.pkl']"
      ]
     },
     "execution_count": 96,
     "metadata": {},
     "output_type": "execute_result"
    }
   ],
   "source": [
    "#TODO: Save the best model\n",
    "import joblib\n",
    "\n",
    "best_run,best_model = auto_ml_run.get_output()\n",
    "\n",
    "test_data = {\n",
    "    'danceability':0.273,\n",
    "    'energy':0.163,\n",
    "    'key':7,\n",
    "    'loudness':-15.889,\n",
    "    'mode':1,\n",
    "    'speechiness':0.0306,\n",
    "    'acousticness':0.853,\n",
    "    'instrumentalness':1.01e-06,\n",
    "    'liveness':0.0835,\n",
    "    'valence':0.202,\n",
    "    'tempo':68.994\n",
    "}\n",
    "\n",
    "# Convert data to dataframe and check if model is operational. The track specifications for the above track are ones I like. \n",
    "# Expecting model to output '1'\n",
    "test_data_df=pd.DataFrame([test_data])\n",
    "print(best_model.predict(test_data_df))\n",
    "\n",
    "joblib.dump(value=best_model,filename='auto-ml-best_run.pkl')"
   ]
  },
  {
   "cell_type": "markdown",
   "metadata": {},
   "source": [
    "## Model Deployment\n",
    "\n",
    "Remember you have to deploy only one of the two models you trained.. Perform the steps in the rest of this notebook only if you wish to deploy this model.\n",
    "\n",
    "TODO: In the cell below, register the model, create an inference config and deploy the model as a web service."
   ]
  },
  {
   "cell_type": "code",
   "execution_count": 120,
   "metadata": {
    "gather": {
     "logged": 1598431435189
    },
    "jupyter": {
     "outputs_hidden": false,
     "source_hidden": false
    },
    "nteract": {
     "transient": {
      "deleting": false
     }
    }
   },
   "outputs": [
    {
     "name": "stdout",
     "output_type": "stream",
     "text": [
      "Registering model AutoML19b2c7bc439\n"
     ]
    },
    {
     "name": "stderr",
     "output_type": "stream",
     "text": [
      "INFO:interpret_community.common.explanation_utils:Using default datastore for uploads\n",
      "INFO:interpret_community.common.explanation_utils:Using default datastore for uploads\n"
     ]
    }
   ],
   "source": [
    "from azureml.core.model import InferenceConfig, Model\n",
    "from azureml.core import Environment\n",
    "from azureml.core.webservice import AciWebservice, Webservice\n",
    "from azureml.core.webservice import LocalWebservice\n",
    "\n",
    "# Register the model to deploy\n",
    "model_name = best_run.properties['model_name']\n",
    "description = 'AutoML model for predicting track recommendation'\n",
    "tags={'area': \"music\", 'type': \"classification\"}\n",
    "Auto_ML_model = Model.register(model_name = model_name, \n",
    "                                  description = description, \n",
    "                                  tags = tags,model_path='auto-ml-best_run.pkl',workspace=ws)"
   ]
  },
  {
   "cell_type": "code",
   "execution_count": 121,
   "metadata": {},
   "outputs": [],
   "source": [
    "# Managing directories and dependencies\n",
    "\n",
    "source_directory = \"source_directory\"\n",
    "\n",
    "os.makedirs(source_directory, exist_ok=True)\n",
    "os.makedirs(os.path.join(source_directory, \"dependencies/target\"), exist_ok=True)\n",
    "os.makedirs(os.path.join(source_directory, \"env\"), exist_ok=True)\n",
    "os.makedirs(os.path.join(source_directory, \"dockerstep\"), exist_ok=True)"
   ]
  },
  {
   "cell_type": "markdown",
   "metadata": {},
   "source": [
    "## Instantiate test data\n",
    "\n",
    "Magic line method '%%writefile' must be first entry of cell"
   ]
  },
  {
   "cell_type": "code",
   "execution_count": 122,
   "metadata": {},
   "outputs": [
    {
     "name": "stdout",
     "output_type": "stream",
     "text": [
      "Overwriting source_directory/testdata.json\n"
     ]
    }
   ],
   "source": [
    "%%writefile source_directory/testdata.json\n",
    "\n",
    "{\n",
    "    \"danceability\":0.724,\n",
    "    \"energy\":0.6,\n",
    "    \"key\":1,\n",
    "    \"loudness\":-6.25,\n",
    "    \"mode\":0,\n",
    "    \"speechiness\":0.087,\n",
    "    \"acousticness\":0.28,\n",
    "    \"instrumentalness\":6.83e-05,\n",
    "    \"liveness\":0.108,\n",
    "    \"valence\":0.201,\n",
    "    \"tempo\":164.037\n",
    "}"
   ]
  },
  {
   "cell_type": "markdown",
   "metadata": {},
   "source": [
    "## Instantiate scoring script\n",
    "\n",
    "Magic line method '%%writefile' must be first entry of cell"
   ]
  },
  {
   "cell_type": "code",
   "execution_count": 123,
   "metadata": {
    "scrolled": true
   },
   "outputs": [
    {
     "name": "stdout",
     "output_type": "stream",
     "text": [
      "Requirement already satisfied: inference-schema in /anaconda/envs/azureml_py36/lib/python3.6/site-packages (1.3.0)\r\n",
      "Requirement already satisfied: wrapt<=1.12.1,>=1.11.1 in /anaconda/envs/azureml_py36/lib/python3.6/site-packages (from inference-schema) (1.12.1)\r\n",
      "Requirement already satisfied: python-dateutil>=2.5.3 in /anaconda/envs/azureml_py36/lib/python3.6/site-packages (from inference-schema) (2.8.2)\r\n",
      "Requirement already satisfied: pytz>=2017.2 in /anaconda/envs/azureml_py36/lib/python3.6/site-packages (from inference-schema) (2021.1)\r\n",
      "Requirement already satisfied: six>=1.5 in /anaconda/envs/azureml_py36/lib/python3.6/site-packages (from python-dateutil>=2.5.3->inference-schema) (1.16.0)\r\n"
     ]
    }
   ],
   "source": [
    "!pip install inference-schema"
   ]
  },
  {
   "cell_type": "markdown",
   "metadata": {},
   "source": [
    "# Testing if saved model responds to predicting data\n",
    "\n",
    "`import joblib\n",
    "import json`\n",
    "\n",
    "`model_path = './auto-ml-best_run.pkl\n",
    "model = joblib.load(model_path)`\n",
    "\n",
    "**Check if model is working**\n",
    "\n",
    "`with open ('./source_directory/testdata.json','r') as f:\n",
    "    loaded_data = json.loads(f.read())`\n",
    "\n",
    "`loaded_data_df=pd.DataFrame([loaded_data])`\n",
    "\n",
    "**Check if model can predict loaded data**\n",
    " \n",
    " `print(model.predict(loaded_data_df))`"
   ]
  },
  {
   "cell_type": "code",
   "execution_count": 137,
   "metadata": {},
   "outputs": [
    {
     "name": "stdout",
     "output_type": "stream",
     "text": [
      "Writing ./source_directory/dependencies/target/score.py\n"
     ]
    }
   ],
   "source": [
    "%%writefile ./source_directory/dependencies/target/score.py\n",
    "import joblib\n",
    "import json\n",
    "import numpy as np\n",
    "\n",
    "from inference_schema.schema_decorators import input_schema, output_schema\n",
    "from inference_schema.parameter_types.numpy_parameter_type import NumpyParameterType\n",
    "\n",
    "def init():\n",
    "    global model\n",
    "    # AZUREML_MODEL_DIR is an environment variable created during deployment. Join this path with the filename of the model file.\n",
    "    # It holds the path to the directory that contains the deployed model (./azureml-models/$MODEL_NAME/$VERSION)\n",
    "    # If there are multiple models, this value is the path to the directory containing all deployed models (./azureml-models)\n",
    "    model_path = './auto-ml-best_run.pkl'#os.path.join(os.getenv('AZUREML_MODEL_DIR'), 'best_run_hd.pkl')\n",
    "    # Deserialize the model file back into a sklearn model.\n",
    "    model = joblib.load(model_path)\n",
    "\n",
    "    # Note here, the entire source directory from inference config gets added into image.\n",
    "    # Below is an example of how you can use any extra files in image.\n",
    "    with open('./source_directory/testdata.json') as json_file:\n",
    "        loaded_data = json.load(json_file)\n",
    "\n",
    "input_sample = {\n",
    "    \"danceability\":0.724,\n",
    "    \"energy\":0.6,\n",
    "    \"key\":1,\n",
    "    \"loudness\":-6.25,\n",
    "    \"mode\":0,\n",
    "    \"speechiness\":0.087,\n",
    "    \"acousticness\":0.28,\n",
    "    \"instrumentalness\":6.83e-05,\n",
    "    \"liveness\":0.108,\n",
    "    \"valence\":0.201,\n",
    "    \"tempo\":164.037\n",
    "}\n",
    "output_sample = 0\n",
    "\n",
    "@input_schema('data', NumpyParameterType(input_sample))\n",
    "@output_schema(NumpyParameterType(output_sample))\n",
    "def run(loaded_data):\n",
    "    try:\n",
    "        loaded_data_df=pd.DataFrame([loaded_data])\n",
    "        result = model.predict(loaded_data_df)\n",
    "        prediction = 'Disliked'\n",
    "        if result==0:\n",
    "            prediction=prediction\n",
    "        else:\n",
    "            prediction='Liked'\n",
    "        # You can return any JSON-serializable object.\n",
    "        return \"The track has features that you \" + prediction\n",
    "    except Exception as e:\n",
    "        error = str(e)\n",
    "        return error"
   ]
  },
  {
   "cell_type": "code",
   "execution_count": 127,
   "metadata": {},
   "outputs": [
    {
     "name": "stdout",
     "output_type": "stream",
     "text": [
      "<class 'azureml.core.model.Model'>\n"
     ]
    }
   ],
   "source": [
    "print(type(Auto_ML_model))"
   ]
  },
  {
   "cell_type": "code",
   "execution_count": 138,
   "metadata": {},
   "outputs": [
    {
     "name": "stdout",
     "output_type": "stream",
     "text": [
      "Downloading model AutoML19b2c7bc439:2 to /tmp/azureml_lgwqd7n9/AutoML19b2c7bc439/2\n",
      "Generating Docker build context.\n"
     ]
    },
    {
     "name": "stderr",
     "output_type": "stream",
     "text": [
      "INFO:interpret_community.common.explanation_utils:Using default datastore for uploads\n",
      "INFO:interpret_community.common.explanation_utils:Using default datastore for uploads\n"
     ]
    },
    {
     "name": "stdout",
     "output_type": "stream",
     "text": [
      "Package creation Succeeded\n",
      "Logging into Docker registry 158808ea80d846478b54f6e9925056b8.azurecr.io\n",
      "Logging into Docker registry 158808ea80d846478b54f6e9925056b8.azurecr.io\n",
      "Building Docker image from Dockerfile...\n",
      "Step 1/5 : FROM 158808ea80d846478b54f6e9925056b8.azurecr.io/azureml/azureml_3e92eb2a869925c317eb4b6ed4b5e2a4\n",
      " ---> 5b6aad60a70f\n",
      "Step 2/5 : COPY azureml-app /var/azureml-app\n",
      " ---> dc2a81abb381\n",
      "Step 3/5 : RUN mkdir -p '/var/azureml-app' && echo eyJhY2NvdW50Q29udGV4dCI6eyJzdWJzY3JpcHRpb25JZCI6IjlhNzUxMWI4LTE1MGYtNGE1OC04NTI4LTNlN2Q1MDIxNmMzMSIsInJlc291cmNlR3JvdXBOYW1lIjoiYW1sLXF1aWNrc3RhcnRzLTE1OTI4NSIsImFjY291bnROYW1lIjoicXVpY2stc3RhcnRzLXdzLTE1OTI4NSIsIndvcmtzcGFjZUlkIjoiMTU4ODA4ZWEtODBkOC00NjQ3LThiNTQtZjZlOTkyNTA1NmI4In0sIm1vZGVscyI6e30sIm1vZGVsc0luZm8iOnt9fQ== | base64 --decode > /var/azureml-app/model_config_map.json\n",
      " ---> Running in e37a789d70cb\n",
      " ---> 083282a7ab5d\n",
      "Step 4/5 : RUN mv '/var/azureml-app/tmp3f_74o0w.py' /var/azureml-app/main.py\n",
      " ---> Running in 4f63fe492603\n",
      " ---> 20f4b84c0a1d\n",
      "Step 5/5 : CMD [\"runsvdir\",\"/var/runit\"]\n",
      " ---> Running in ffad3a9d4349\n",
      " ---> 27d4fe110dc2\n",
      "Successfully built 27d4fe110dc2\n",
      "Successfully tagged my-web-service:latest\n",
      "Container (name:priceless_mendeleev, id:3f0e9f45e9d91c609a4eec591f84ec1a7694d5988adf307a7582c0452eb82eb3) cannot be killed.\n",
      "Container has been successfully cleaned up.\n",
      "Image sha256:ed140f95fa3908ac307e15f32007ab563c5b6b5ca07c28ceb4e7c15db46a4476 successfully removed.\n",
      "Starting Docker container...\n",
      "Docker container running.\n"
     ]
    }
   ],
   "source": [
    "# Combine scoring script & environment in Inference configuration\n",
    "\n",
    "AML_test_env = Environment(name=\"project-environment\")\n",
    "\n",
    "AML_test_env.python.conda_dependencies.add_pip_package(\"inference-schema[numpy-support]\")\n",
    "AML_test_env.python.conda_dependencies.add_pip_package(\"joblib\")\n",
    "AML_test_env.python.conda_dependencies.add_pip_package(\"scikit-learn=={}\".format(sklearn.__version__))\n",
    "\n",
    "# explicitly set base_image to None when setting base_dockerfile\n",
    "AML_test_env.docker.base_image = None\n",
    "AML_test_env.docker.base_dockerfile = \"FROM mcr.microsoft.com/azureml/base:intelmpi2018.3-ubuntu16.04\\nRUN echo \\\"this is test\\\"\"\n",
    "AML_test_env.inferencing_stack_version = \"latest\"\n",
    "\n",
    "inference_config = InferenceConfig(entry_script=\"./source_directory/dependencies/target/score.py\",\n",
    "                                   environment=AML_test_env)\n",
    "\n",
    "# Set deployment configuration\n",
    "deployment_config = LocalWebservice.deploy_configuration(port=6789)\n",
    "\n",
    "# Define the model, inference, & deployment configuration and web service name and location to deploy\n",
    "service = Model.deploy(workspace = ws,\n",
    "                       name = \"my-web-service\",\n",
    "                       models = [Auto_ML_model],\n",
    "                       inference_config = inference_config,\n",
    "                       deployment_config = deployment_config)"
   ]
  },
  {
   "cell_type": "code",
   "execution_count": 139,
   "metadata": {},
   "outputs": [
    {
     "name": "stdout",
     "output_type": "stream",
     "text": [
      "LocalWebservice(workspace=Workspace.create(name='quick-starts-ws-159285', subscription_id='9a7511b8-150f-4a58-8528-3e7d50216c31', resource_group='aml-quickstarts-159285'), name=my-web-service, image_id=None, compute_type=None, state=Local, scoring_uri=deploying, tags=http://localhost:6789/score, properties=None, created_by=None)\n"
     ]
    }
   ],
   "source": [
    "print(service)"
   ]
  },
  {
   "cell_type": "markdown",
   "metadata": {
    "collapsed": true,
    "gather": {
     "logged": 1598431657736
    },
    "jupyter": {
     "outputs_hidden": false,
     "source_hidden": false
    },
    "nteract": {
     "transient": {
      "deleting": false
     }
    }
   },
   "source": [
    "TODO: In the cell below, send a request to the web service you deployed to test it."
   ]
  },
  {
   "cell_type": "code",
   "execution_count": 140,
   "metadata": {
    "gather": {
     "logged": 1598432707604
    },
    "jupyter": {
     "outputs_hidden": false,
     "source_hidden": false
    },
    "nteract": {
     "transient": {
      "deleting": false
     }
    }
   },
   "outputs": [
    {
     "ename": "ConnectionError",
     "evalue": "HTTPConnectionPool(host='localhost', port=6789): Max retries exceeded with url: / (Caused by NewConnectionError('<urllib3.connection.HTTPConnection object at 0x7f0ec7a90470>: Failed to establish a new connection: [Errno 111] Connection refused',))",
     "output_type": "error",
     "traceback": [
      "\u001b[0;31m---------------------------------------------------------------------------\u001b[0m",
      "\u001b[0;31mConnectionRefusedError\u001b[0m                    Traceback (most recent call last)",
      "\u001b[0;32m/anaconda/envs/azureml_py36/lib/python3.6/site-packages/urllib3/connection.py\u001b[0m in \u001b[0;36m_new_conn\u001b[0;34m(self)\u001b[0m\n\u001b[1;32m    159\u001b[0m             conn = connection.create_connection(\n\u001b[0;32m--> 160\u001b[0;31m                 \u001b[0;34m(\u001b[0m\u001b[0mself\u001b[0m\u001b[0;34m.\u001b[0m\u001b[0m_dns_host\u001b[0m\u001b[0;34m,\u001b[0m \u001b[0mself\u001b[0m\u001b[0;34m.\u001b[0m\u001b[0mport\u001b[0m\u001b[0;34m)\u001b[0m\u001b[0;34m,\u001b[0m \u001b[0mself\u001b[0m\u001b[0;34m.\u001b[0m\u001b[0mtimeout\u001b[0m\u001b[0;34m,\u001b[0m \u001b[0;34m**\u001b[0m\u001b[0mextra_kw\u001b[0m\u001b[0;34m\u001b[0m\u001b[0;34m\u001b[0m\u001b[0m\n\u001b[0m\u001b[1;32m    161\u001b[0m             )\n",
      "\u001b[0;32m/anaconda/envs/azureml_py36/lib/python3.6/site-packages/urllib3/util/connection.py\u001b[0m in \u001b[0;36mcreate_connection\u001b[0;34m(address, timeout, source_address, socket_options)\u001b[0m\n\u001b[1;32m     83\u001b[0m     \u001b[0;32mif\u001b[0m \u001b[0merr\u001b[0m \u001b[0;32mis\u001b[0m \u001b[0;32mnot\u001b[0m \u001b[0;32mNone\u001b[0m\u001b[0;34m:\u001b[0m\u001b[0;34m\u001b[0m\u001b[0;34m\u001b[0m\u001b[0m\n\u001b[0;32m---> 84\u001b[0;31m         \u001b[0;32mraise\u001b[0m \u001b[0merr\u001b[0m\u001b[0;34m\u001b[0m\u001b[0;34m\u001b[0m\u001b[0m\n\u001b[0m\u001b[1;32m     85\u001b[0m \u001b[0;34m\u001b[0m\u001b[0m\n",
      "\u001b[0;32m/anaconda/envs/azureml_py36/lib/python3.6/site-packages/urllib3/util/connection.py\u001b[0m in \u001b[0;36mcreate_connection\u001b[0;34m(address, timeout, source_address, socket_options)\u001b[0m\n\u001b[1;32m     73\u001b[0m                 \u001b[0msock\u001b[0m\u001b[0;34m.\u001b[0m\u001b[0mbind\u001b[0m\u001b[0;34m(\u001b[0m\u001b[0msource_address\u001b[0m\u001b[0;34m)\u001b[0m\u001b[0;34m\u001b[0m\u001b[0;34m\u001b[0m\u001b[0m\n\u001b[0;32m---> 74\u001b[0;31m             \u001b[0msock\u001b[0m\u001b[0;34m.\u001b[0m\u001b[0mconnect\u001b[0m\u001b[0;34m(\u001b[0m\u001b[0msa\u001b[0m\u001b[0;34m)\u001b[0m\u001b[0;34m\u001b[0m\u001b[0;34m\u001b[0m\u001b[0m\n\u001b[0m\u001b[1;32m     75\u001b[0m             \u001b[0;32mreturn\u001b[0m \u001b[0msock\u001b[0m\u001b[0;34m\u001b[0m\u001b[0;34m\u001b[0m\u001b[0m\n",
      "\u001b[0;31mConnectionRefusedError\u001b[0m: [Errno 111] Connection refused",
      "\nDuring handling of the above exception, another exception occurred:\n",
      "\u001b[0;31mNewConnectionError\u001b[0m                        Traceback (most recent call last)",
      "\u001b[0;32m/anaconda/envs/azureml_py36/lib/python3.6/site-packages/urllib3/connectionpool.py\u001b[0m in \u001b[0;36murlopen\u001b[0;34m(self, method, url, body, headers, retries, redirect, assert_same_host, timeout, pool_timeout, release_conn, chunked, body_pos, **response_kw)\u001b[0m\n\u001b[1;32m    676\u001b[0m                 \u001b[0mheaders\u001b[0m\u001b[0;34m=\u001b[0m\u001b[0mheaders\u001b[0m\u001b[0;34m,\u001b[0m\u001b[0;34m\u001b[0m\u001b[0;34m\u001b[0m\u001b[0m\n\u001b[0;32m--> 677\u001b[0;31m                 \u001b[0mchunked\u001b[0m\u001b[0;34m=\u001b[0m\u001b[0mchunked\u001b[0m\u001b[0;34m,\u001b[0m\u001b[0;34m\u001b[0m\u001b[0;34m\u001b[0m\u001b[0m\n\u001b[0m\u001b[1;32m    678\u001b[0m             )\n",
      "\u001b[0;32m/anaconda/envs/azureml_py36/lib/python3.6/site-packages/urllib3/connectionpool.py\u001b[0m in \u001b[0;36m_make_request\u001b[0;34m(self, conn, method, url, timeout, chunked, **httplib_request_kw)\u001b[0m\n\u001b[1;32m    391\u001b[0m         \u001b[0;32melse\u001b[0m\u001b[0;34m:\u001b[0m\u001b[0;34m\u001b[0m\u001b[0;34m\u001b[0m\u001b[0m\n\u001b[0;32m--> 392\u001b[0;31m             \u001b[0mconn\u001b[0m\u001b[0;34m.\u001b[0m\u001b[0mrequest\u001b[0m\u001b[0;34m(\u001b[0m\u001b[0mmethod\u001b[0m\u001b[0;34m,\u001b[0m \u001b[0murl\u001b[0m\u001b[0;34m,\u001b[0m \u001b[0;34m**\u001b[0m\u001b[0mhttplib_request_kw\u001b[0m\u001b[0;34m)\u001b[0m\u001b[0;34m\u001b[0m\u001b[0;34m\u001b[0m\u001b[0m\n\u001b[0m\u001b[1;32m    393\u001b[0m \u001b[0;34m\u001b[0m\u001b[0m\n",
      "\u001b[0;32m/anaconda/envs/azureml_py36/lib/python3.6/http/client.py\u001b[0m in \u001b[0;36mrequest\u001b[0;34m(self, method, url, body, headers, encode_chunked)\u001b[0m\n\u001b[1;32m   1253\u001b[0m         \u001b[0;34m\"\"\"Send a complete request to the server.\"\"\"\u001b[0m\u001b[0;34m\u001b[0m\u001b[0;34m\u001b[0m\u001b[0m\n\u001b[0;32m-> 1254\u001b[0;31m         \u001b[0mself\u001b[0m\u001b[0;34m.\u001b[0m\u001b[0m_send_request\u001b[0m\u001b[0;34m(\u001b[0m\u001b[0mmethod\u001b[0m\u001b[0;34m,\u001b[0m \u001b[0murl\u001b[0m\u001b[0;34m,\u001b[0m \u001b[0mbody\u001b[0m\u001b[0;34m,\u001b[0m \u001b[0mheaders\u001b[0m\u001b[0;34m,\u001b[0m \u001b[0mencode_chunked\u001b[0m\u001b[0;34m)\u001b[0m\u001b[0;34m\u001b[0m\u001b[0;34m\u001b[0m\u001b[0m\n\u001b[0m\u001b[1;32m   1255\u001b[0m \u001b[0;34m\u001b[0m\u001b[0m\n",
      "\u001b[0;32m/anaconda/envs/azureml_py36/lib/python3.6/http/client.py\u001b[0m in \u001b[0;36m_send_request\u001b[0;34m(self, method, url, body, headers, encode_chunked)\u001b[0m\n\u001b[1;32m   1299\u001b[0m             \u001b[0mbody\u001b[0m \u001b[0;34m=\u001b[0m \u001b[0m_encode\u001b[0m\u001b[0;34m(\u001b[0m\u001b[0mbody\u001b[0m\u001b[0;34m,\u001b[0m \u001b[0;34m'body'\u001b[0m\u001b[0;34m)\u001b[0m\u001b[0;34m\u001b[0m\u001b[0;34m\u001b[0m\u001b[0m\n\u001b[0;32m-> 1300\u001b[0;31m         \u001b[0mself\u001b[0m\u001b[0;34m.\u001b[0m\u001b[0mendheaders\u001b[0m\u001b[0;34m(\u001b[0m\u001b[0mbody\u001b[0m\u001b[0;34m,\u001b[0m \u001b[0mencode_chunked\u001b[0m\u001b[0;34m=\u001b[0m\u001b[0mencode_chunked\u001b[0m\u001b[0;34m)\u001b[0m\u001b[0;34m\u001b[0m\u001b[0;34m\u001b[0m\u001b[0m\n\u001b[0m\u001b[1;32m   1301\u001b[0m \u001b[0;34m\u001b[0m\u001b[0m\n",
      "\u001b[0;32m/anaconda/envs/azureml_py36/lib/python3.6/http/client.py\u001b[0m in \u001b[0;36mendheaders\u001b[0;34m(self, message_body, encode_chunked)\u001b[0m\n\u001b[1;32m   1248\u001b[0m             \u001b[0;32mraise\u001b[0m \u001b[0mCannotSendHeader\u001b[0m\u001b[0;34m(\u001b[0m\u001b[0;34m)\u001b[0m\u001b[0;34m\u001b[0m\u001b[0;34m\u001b[0m\u001b[0m\n\u001b[0;32m-> 1249\u001b[0;31m         \u001b[0mself\u001b[0m\u001b[0;34m.\u001b[0m\u001b[0m_send_output\u001b[0m\u001b[0;34m(\u001b[0m\u001b[0mmessage_body\u001b[0m\u001b[0;34m,\u001b[0m \u001b[0mencode_chunked\u001b[0m\u001b[0;34m=\u001b[0m\u001b[0mencode_chunked\u001b[0m\u001b[0;34m)\u001b[0m\u001b[0;34m\u001b[0m\u001b[0;34m\u001b[0m\u001b[0m\n\u001b[0m\u001b[1;32m   1250\u001b[0m \u001b[0;34m\u001b[0m\u001b[0m\n",
      "\u001b[0;32m/anaconda/envs/azureml_py36/lib/python3.6/http/client.py\u001b[0m in \u001b[0;36m_send_output\u001b[0;34m(self, message_body, encode_chunked)\u001b[0m\n\u001b[1;32m   1035\u001b[0m         \u001b[0;32mdel\u001b[0m \u001b[0mself\u001b[0m\u001b[0;34m.\u001b[0m\u001b[0m_buffer\u001b[0m\u001b[0;34m[\u001b[0m\u001b[0;34m:\u001b[0m\u001b[0;34m]\u001b[0m\u001b[0;34m\u001b[0m\u001b[0;34m\u001b[0m\u001b[0m\n\u001b[0;32m-> 1036\u001b[0;31m         \u001b[0mself\u001b[0m\u001b[0;34m.\u001b[0m\u001b[0msend\u001b[0m\u001b[0;34m(\u001b[0m\u001b[0mmsg\u001b[0m\u001b[0;34m)\u001b[0m\u001b[0;34m\u001b[0m\u001b[0;34m\u001b[0m\u001b[0m\n\u001b[0m\u001b[1;32m   1037\u001b[0m \u001b[0;34m\u001b[0m\u001b[0m\n",
      "\u001b[0;32m/anaconda/envs/azureml_py36/lib/python3.6/http/client.py\u001b[0m in \u001b[0;36msend\u001b[0;34m(self, data)\u001b[0m\n\u001b[1;32m    973\u001b[0m             \u001b[0;32mif\u001b[0m \u001b[0mself\u001b[0m\u001b[0;34m.\u001b[0m\u001b[0mauto_open\u001b[0m\u001b[0;34m:\u001b[0m\u001b[0;34m\u001b[0m\u001b[0;34m\u001b[0m\u001b[0m\n\u001b[0;32m--> 974\u001b[0;31m                 \u001b[0mself\u001b[0m\u001b[0;34m.\u001b[0m\u001b[0mconnect\u001b[0m\u001b[0;34m(\u001b[0m\u001b[0;34m)\u001b[0m\u001b[0;34m\u001b[0m\u001b[0;34m\u001b[0m\u001b[0m\n\u001b[0m\u001b[1;32m    975\u001b[0m             \u001b[0;32melse\u001b[0m\u001b[0;34m:\u001b[0m\u001b[0;34m\u001b[0m\u001b[0;34m\u001b[0m\u001b[0m\n",
      "\u001b[0;32m/anaconda/envs/azureml_py36/lib/python3.6/site-packages/urllib3/connection.py\u001b[0m in \u001b[0;36mconnect\u001b[0;34m(self)\u001b[0m\n\u001b[1;32m    186\u001b[0m     \u001b[0;32mdef\u001b[0m \u001b[0mconnect\u001b[0m\u001b[0;34m(\u001b[0m\u001b[0mself\u001b[0m\u001b[0;34m)\u001b[0m\u001b[0;34m:\u001b[0m\u001b[0;34m\u001b[0m\u001b[0;34m\u001b[0m\u001b[0m\n\u001b[0;32m--> 187\u001b[0;31m         \u001b[0mconn\u001b[0m \u001b[0;34m=\u001b[0m \u001b[0mself\u001b[0m\u001b[0;34m.\u001b[0m\u001b[0m_new_conn\u001b[0m\u001b[0;34m(\u001b[0m\u001b[0;34m)\u001b[0m\u001b[0;34m\u001b[0m\u001b[0;34m\u001b[0m\u001b[0m\n\u001b[0m\u001b[1;32m    188\u001b[0m         \u001b[0mself\u001b[0m\u001b[0;34m.\u001b[0m\u001b[0m_prepare_conn\u001b[0m\u001b[0;34m(\u001b[0m\u001b[0mconn\u001b[0m\u001b[0;34m)\u001b[0m\u001b[0;34m\u001b[0m\u001b[0;34m\u001b[0m\u001b[0m\n",
      "\u001b[0;32m/anaconda/envs/azureml_py36/lib/python3.6/site-packages/urllib3/connection.py\u001b[0m in \u001b[0;36m_new_conn\u001b[0;34m(self)\u001b[0m\n\u001b[1;32m    171\u001b[0m             raise NewConnectionError(\n\u001b[0;32m--> 172\u001b[0;31m                 \u001b[0mself\u001b[0m\u001b[0;34m,\u001b[0m \u001b[0;34m\"Failed to establish a new connection: %s\"\u001b[0m \u001b[0;34m%\u001b[0m \u001b[0me\u001b[0m\u001b[0;34m\u001b[0m\u001b[0;34m\u001b[0m\u001b[0m\n\u001b[0m\u001b[1;32m    173\u001b[0m             )\n",
      "\u001b[0;31mNewConnectionError\u001b[0m: <urllib3.connection.HTTPConnection object at 0x7f0ec7a90470>: Failed to establish a new connection: [Errno 111] Connection refused",
      "\nDuring handling of the above exception, another exception occurred:\n",
      "\u001b[0;31mMaxRetryError\u001b[0m                             Traceback (most recent call last)",
      "\u001b[0;32m/anaconda/envs/azureml_py36/lib/python3.6/site-packages/requests/adapters.py\u001b[0m in \u001b[0;36msend\u001b[0;34m(self, request, stream, timeout, verify, cert, proxies)\u001b[0m\n\u001b[1;32m    448\u001b[0m                     \u001b[0mretries\u001b[0m\u001b[0;34m=\u001b[0m\u001b[0mself\u001b[0m\u001b[0;34m.\u001b[0m\u001b[0mmax_retries\u001b[0m\u001b[0;34m,\u001b[0m\u001b[0;34m\u001b[0m\u001b[0;34m\u001b[0m\u001b[0m\n\u001b[0;32m--> 449\u001b[0;31m                     \u001b[0mtimeout\u001b[0m\u001b[0;34m=\u001b[0m\u001b[0mtimeout\u001b[0m\u001b[0;34m\u001b[0m\u001b[0;34m\u001b[0m\u001b[0m\n\u001b[0m\u001b[1;32m    450\u001b[0m                 )\n",
      "\u001b[0;32m/anaconda/envs/azureml_py36/lib/python3.6/site-packages/urllib3/connectionpool.py\u001b[0m in \u001b[0;36murlopen\u001b[0;34m(self, method, url, body, headers, retries, redirect, assert_same_host, timeout, pool_timeout, release_conn, chunked, body_pos, **response_kw)\u001b[0m\n\u001b[1;32m    726\u001b[0m             retries = retries.increment(\n\u001b[0;32m--> 727\u001b[0;31m                 \u001b[0mmethod\u001b[0m\u001b[0;34m,\u001b[0m \u001b[0murl\u001b[0m\u001b[0;34m,\u001b[0m \u001b[0merror\u001b[0m\u001b[0;34m=\u001b[0m\u001b[0me\u001b[0m\u001b[0;34m,\u001b[0m \u001b[0m_pool\u001b[0m\u001b[0;34m=\u001b[0m\u001b[0mself\u001b[0m\u001b[0;34m,\u001b[0m \u001b[0m_stacktrace\u001b[0m\u001b[0;34m=\u001b[0m\u001b[0msys\u001b[0m\u001b[0;34m.\u001b[0m\u001b[0mexc_info\u001b[0m\u001b[0;34m(\u001b[0m\u001b[0;34m)\u001b[0m\u001b[0;34m[\u001b[0m\u001b[0;36m2\u001b[0m\u001b[0;34m]\u001b[0m\u001b[0;34m\u001b[0m\u001b[0;34m\u001b[0m\u001b[0m\n\u001b[0m\u001b[1;32m    728\u001b[0m             )\n",
      "\u001b[0;32m/anaconda/envs/azureml_py36/lib/python3.6/site-packages/urllib3/util/retry.py\u001b[0m in \u001b[0;36mincrement\u001b[0;34m(self, method, url, response, error, _pool, _stacktrace)\u001b[0m\n\u001b[1;32m    445\u001b[0m         \u001b[0;32mif\u001b[0m \u001b[0mnew_retry\u001b[0m\u001b[0;34m.\u001b[0m\u001b[0mis_exhausted\u001b[0m\u001b[0;34m(\u001b[0m\u001b[0;34m)\u001b[0m\u001b[0;34m:\u001b[0m\u001b[0;34m\u001b[0m\u001b[0;34m\u001b[0m\u001b[0m\n\u001b[0;32m--> 446\u001b[0;31m             \u001b[0;32mraise\u001b[0m \u001b[0mMaxRetryError\u001b[0m\u001b[0;34m(\u001b[0m\u001b[0m_pool\u001b[0m\u001b[0;34m,\u001b[0m \u001b[0murl\u001b[0m\u001b[0;34m,\u001b[0m \u001b[0merror\u001b[0m \u001b[0;32mor\u001b[0m \u001b[0mResponseError\u001b[0m\u001b[0;34m(\u001b[0m\u001b[0mcause\u001b[0m\u001b[0;34m)\u001b[0m\u001b[0;34m)\u001b[0m\u001b[0;34m\u001b[0m\u001b[0;34m\u001b[0m\u001b[0m\n\u001b[0m\u001b[1;32m    447\u001b[0m \u001b[0;34m\u001b[0m\u001b[0m\n",
      "\u001b[0;31mMaxRetryError\u001b[0m: HTTPConnectionPool(host='localhost', port=6789): Max retries exceeded with url: / (Caused by NewConnectionError('<urllib3.connection.HTTPConnection object at 0x7f0ec7a90470>: Failed to establish a new connection: [Errno 111] Connection refused',))",
      "\nDuring handling of the above exception, another exception occurred:\n",
      "\u001b[0;31mConnectionError\u001b[0m                           Traceback (most recent call last)",
      "\u001b[0;32m<ipython-input-140-812f67c9383b>\u001b[0m in \u001b[0;36m<module>\u001b[0;34m\u001b[0m\n\u001b[1;32m      3\u001b[0m \u001b[0;34m\u001b[0m\u001b[0m\n\u001b[1;32m      4\u001b[0m \u001b[0muri\u001b[0m \u001b[0;34m=\u001b[0m \u001b[0mservice\u001b[0m\u001b[0;34m.\u001b[0m\u001b[0mscoring_uri\u001b[0m\u001b[0;34m\u001b[0m\u001b[0;34m\u001b[0m\u001b[0m\n\u001b[0;32m----> 5\u001b[0;31m \u001b[0mrequests\u001b[0m\u001b[0;34m.\u001b[0m\u001b[0mget\u001b[0m\u001b[0;34m(\u001b[0m\u001b[0;34m\"http://localhost:6789\"\u001b[0m\u001b[0;34m)\u001b[0m\u001b[0;34m\u001b[0m\u001b[0;34m\u001b[0m\u001b[0m\n\u001b[0m\u001b[1;32m      6\u001b[0m \u001b[0mheaders\u001b[0m \u001b[0;34m=\u001b[0m \u001b[0;34m{\u001b[0m\u001b[0;34m\"Content-Type\"\u001b[0m\u001b[0;34m:\u001b[0m \u001b[0;34m\"application/json\"\u001b[0m\u001b[0;34m}\u001b[0m\u001b[0;34m\u001b[0m\u001b[0;34m\u001b[0m\u001b[0m\n\u001b[1;32m      7\u001b[0m data = {\n",
      "\u001b[0;32m/anaconda/envs/azureml_py36/lib/python3.6/site-packages/requests/api.py\u001b[0m in \u001b[0;36mget\u001b[0;34m(url, params, **kwargs)\u001b[0m\n\u001b[1;32m     73\u001b[0m     \"\"\"\n\u001b[1;32m     74\u001b[0m \u001b[0;34m\u001b[0m\u001b[0m\n\u001b[0;32m---> 75\u001b[0;31m     \u001b[0;32mreturn\u001b[0m \u001b[0mrequest\u001b[0m\u001b[0;34m(\u001b[0m\u001b[0;34m'get'\u001b[0m\u001b[0;34m,\u001b[0m \u001b[0murl\u001b[0m\u001b[0;34m,\u001b[0m \u001b[0mparams\u001b[0m\u001b[0;34m=\u001b[0m\u001b[0mparams\u001b[0m\u001b[0;34m,\u001b[0m \u001b[0;34m**\u001b[0m\u001b[0mkwargs\u001b[0m\u001b[0;34m)\u001b[0m\u001b[0;34m\u001b[0m\u001b[0;34m\u001b[0m\u001b[0m\n\u001b[0m\u001b[1;32m     76\u001b[0m \u001b[0;34m\u001b[0m\u001b[0m\n\u001b[1;32m     77\u001b[0m \u001b[0;34m\u001b[0m\u001b[0m\n",
      "\u001b[0;32m/anaconda/envs/azureml_py36/lib/python3.6/site-packages/requests/api.py\u001b[0m in \u001b[0;36mrequest\u001b[0;34m(method, url, **kwargs)\u001b[0m\n\u001b[1;32m     59\u001b[0m     \u001b[0;31m# cases, and look like a memory leak in others.\u001b[0m\u001b[0;34m\u001b[0m\u001b[0;34m\u001b[0m\u001b[0;34m\u001b[0m\u001b[0m\n\u001b[1;32m     60\u001b[0m     \u001b[0;32mwith\u001b[0m \u001b[0msessions\u001b[0m\u001b[0;34m.\u001b[0m\u001b[0mSession\u001b[0m\u001b[0;34m(\u001b[0m\u001b[0;34m)\u001b[0m \u001b[0;32mas\u001b[0m \u001b[0msession\u001b[0m\u001b[0;34m:\u001b[0m\u001b[0;34m\u001b[0m\u001b[0;34m\u001b[0m\u001b[0m\n\u001b[0;32m---> 61\u001b[0;31m         \u001b[0;32mreturn\u001b[0m \u001b[0msession\u001b[0m\u001b[0;34m.\u001b[0m\u001b[0mrequest\u001b[0m\u001b[0;34m(\u001b[0m\u001b[0mmethod\u001b[0m\u001b[0;34m=\u001b[0m\u001b[0mmethod\u001b[0m\u001b[0;34m,\u001b[0m \u001b[0murl\u001b[0m\u001b[0;34m=\u001b[0m\u001b[0murl\u001b[0m\u001b[0;34m,\u001b[0m \u001b[0;34m**\u001b[0m\u001b[0mkwargs\u001b[0m\u001b[0;34m)\u001b[0m\u001b[0;34m\u001b[0m\u001b[0;34m\u001b[0m\u001b[0m\n\u001b[0m\u001b[1;32m     62\u001b[0m \u001b[0;34m\u001b[0m\u001b[0m\n\u001b[1;32m     63\u001b[0m \u001b[0;34m\u001b[0m\u001b[0m\n",
      "\u001b[0;32m/anaconda/envs/azureml_py36/lib/python3.6/site-packages/requests/sessions.py\u001b[0m in \u001b[0;36mrequest\u001b[0;34m(self, method, url, params, data, headers, cookies, files, auth, timeout, allow_redirects, proxies, hooks, stream, verify, cert, json)\u001b[0m\n\u001b[1;32m    540\u001b[0m         }\n\u001b[1;32m    541\u001b[0m         \u001b[0msend_kwargs\u001b[0m\u001b[0;34m.\u001b[0m\u001b[0mupdate\u001b[0m\u001b[0;34m(\u001b[0m\u001b[0msettings\u001b[0m\u001b[0;34m)\u001b[0m\u001b[0;34m\u001b[0m\u001b[0;34m\u001b[0m\u001b[0m\n\u001b[0;32m--> 542\u001b[0;31m         \u001b[0mresp\u001b[0m \u001b[0;34m=\u001b[0m \u001b[0mself\u001b[0m\u001b[0;34m.\u001b[0m\u001b[0msend\u001b[0m\u001b[0;34m(\u001b[0m\u001b[0mprep\u001b[0m\u001b[0;34m,\u001b[0m \u001b[0;34m**\u001b[0m\u001b[0msend_kwargs\u001b[0m\u001b[0;34m)\u001b[0m\u001b[0;34m\u001b[0m\u001b[0;34m\u001b[0m\u001b[0m\n\u001b[0m\u001b[1;32m    543\u001b[0m \u001b[0;34m\u001b[0m\u001b[0m\n\u001b[1;32m    544\u001b[0m         \u001b[0;32mreturn\u001b[0m \u001b[0mresp\u001b[0m\u001b[0;34m\u001b[0m\u001b[0;34m\u001b[0m\u001b[0m\n",
      "\u001b[0;32m/anaconda/envs/azureml_py36/lib/python3.6/site-packages/requests/sessions.py\u001b[0m in \u001b[0;36msend\u001b[0;34m(self, request, **kwargs)\u001b[0m\n\u001b[1;32m    653\u001b[0m \u001b[0;34m\u001b[0m\u001b[0m\n\u001b[1;32m    654\u001b[0m         \u001b[0;31m# Send the request\u001b[0m\u001b[0;34m\u001b[0m\u001b[0;34m\u001b[0m\u001b[0;34m\u001b[0m\u001b[0m\n\u001b[0;32m--> 655\u001b[0;31m         \u001b[0mr\u001b[0m \u001b[0;34m=\u001b[0m \u001b[0madapter\u001b[0m\u001b[0;34m.\u001b[0m\u001b[0msend\u001b[0m\u001b[0;34m(\u001b[0m\u001b[0mrequest\u001b[0m\u001b[0;34m,\u001b[0m \u001b[0;34m**\u001b[0m\u001b[0mkwargs\u001b[0m\u001b[0;34m)\u001b[0m\u001b[0;34m\u001b[0m\u001b[0;34m\u001b[0m\u001b[0m\n\u001b[0m\u001b[1;32m    656\u001b[0m \u001b[0;34m\u001b[0m\u001b[0m\n\u001b[1;32m    657\u001b[0m         \u001b[0;31m# Total elapsed time of the request (approximately)\u001b[0m\u001b[0;34m\u001b[0m\u001b[0;34m\u001b[0m\u001b[0;34m\u001b[0m\u001b[0m\n",
      "\u001b[0;32m/anaconda/envs/azureml_py36/lib/python3.6/site-packages/requests/adapters.py\u001b[0m in \u001b[0;36msend\u001b[0;34m(self, request, stream, timeout, verify, cert, proxies)\u001b[0m\n\u001b[1;32m    514\u001b[0m                 \u001b[0;32mraise\u001b[0m \u001b[0mSSLError\u001b[0m\u001b[0;34m(\u001b[0m\u001b[0me\u001b[0m\u001b[0;34m,\u001b[0m \u001b[0mrequest\u001b[0m\u001b[0;34m=\u001b[0m\u001b[0mrequest\u001b[0m\u001b[0;34m)\u001b[0m\u001b[0;34m\u001b[0m\u001b[0;34m\u001b[0m\u001b[0m\n\u001b[1;32m    515\u001b[0m \u001b[0;34m\u001b[0m\u001b[0m\n\u001b[0;32m--> 516\u001b[0;31m             \u001b[0;32mraise\u001b[0m \u001b[0mConnectionError\u001b[0m\u001b[0;34m(\u001b[0m\u001b[0me\u001b[0m\u001b[0;34m,\u001b[0m \u001b[0mrequest\u001b[0m\u001b[0;34m=\u001b[0m\u001b[0mrequest\u001b[0m\u001b[0;34m)\u001b[0m\u001b[0;34m\u001b[0m\u001b[0;34m\u001b[0m\u001b[0m\n\u001b[0m\u001b[1;32m    517\u001b[0m \u001b[0;34m\u001b[0m\u001b[0m\n\u001b[1;32m    518\u001b[0m         \u001b[0;32mexcept\u001b[0m \u001b[0mClosedPoolError\u001b[0m \u001b[0;32mas\u001b[0m \u001b[0me\u001b[0m\u001b[0;34m:\u001b[0m\u001b[0;34m\u001b[0m\u001b[0;34m\u001b[0m\u001b[0m\n",
      "\u001b[0;31mConnectionError\u001b[0m: HTTPConnectionPool(host='localhost', port=6789): Max retries exceeded with url: / (Caused by NewConnectionError('<urllib3.connection.HTTPConnection object at 0x7f0ec7a90470>: Failed to establish a new connection: [Errno 111] Connection refused',))"
     ]
    },
    {
     "name": "stderr",
     "output_type": "stream",
     "text": [
      "INFO:interpret_community.common.explanation_utils:Using default datastore for uploads\n",
      "INFO:interpret_community.common.explanation_utils:Using default datastore for uploads\n"
     ]
    }
   ],
   "source": [
    "import requests\n",
    "import json\n",
    "\n",
    "uri = service.scoring_uri\n",
    "requests.get(\"http://localhost:6789\")\n",
    "headers = {\"Content-Type\": \"application/json\"}\n",
    "data = {\n",
    "    \n",
    "    \"danceability\":0.724,\n",
    "    \"energy\":0.6,\n",
    "    \"key\":1,\n",
    "    \"loudness\":-6.25,\n",
    "    \"mode\":0,\n",
    "    \"speechiness\":0.087,\n",
    "    \"acousticness\":0.28,\n",
    "    \"instrumentalness\":6.83e-05,\n",
    "    \"liveness\":0.108,\n",
    "    \"valence\":0.201,\n",
    "    \"tempo\":164.037\n",
    "}\n",
    "data = json.dumps(data)\n",
    "response = requests.post(uri, data=data, headers=headers)\n",
    "\n",
    "print(response.json())"
   ]
  },
  {
   "cell_type": "markdown",
   "metadata": {
    "collapsed": true,
    "gather": {
     "logged": 1598432765711
    },
    "jupyter": {
     "outputs_hidden": false,
     "source_hidden": false
    },
    "nteract": {
     "transient": {
      "deleting": false
     }
    }
   },
   "source": [
    "TODO: In the cell below, print the logs of the web service and delete the service"
   ]
  },
  {
   "cell_type": "code",
   "execution_count": 21,
   "metadata": {
    "jupyter": {
     "outputs_hidden": false,
     "source_hidden": false
    },
    "nteract": {
     "transient": {
      "deleting": false
     }
    }
   },
   "outputs": [
    {
     "name": "stdout",
     "output_type": "stream",
     "text": [
      "2021-09-17T13:53:38,963495688+00:00 - gunicorn/run \n",
      "Dynamic Python package installation is disabled.\n",
      "Starting HTTP server\n",
      "2021-09-17T13:53:38,964705385+00:00 - rsyslog/run \n",
      "2021-09-17T13:53:38,967305078+00:00 - nginx/run \n",
      "2021-09-17T13:53:38,970254370+00:00 - iot-server/run \n",
      "EdgeHubConnectionString and IOTEDGE_IOTHUBHOSTNAME are not set. Exiting...\n",
      "2021-09-17T13:53:39,065720959+00:00 - iot-server/finish 1 0\n",
      "2021-09-17T13:53:39,067174461+00:00 - Exit code 1 is normal. Not restarting iot-server.\n",
      "Starting gunicorn 20.1.0\n",
      "Listening at: http://127.0.0.1:31311 (12)\n",
      "Using worker: sync\n",
      "worker timeout is set to 300\n",
      "Booting worker with pid: 41\n",
      "SPARK_HOME not set. Skipping PySpark Initialization.\n",
      "Initializing logger\n",
      "2021-09-17 13:53:39,438 | root | INFO | Starting up app insights client\n",
      "logging socket was found. logging is available.\n",
      "logging socket was found. logging is available.\n",
      "2021-09-17 13:53:39,438 | root | INFO | Starting up request id generator\n",
      "2021-09-17 13:53:39,438 | root | INFO | Starting up app insight hooks\n",
      "2021-09-17 13:53:39,438 | root | INFO | Invoking user's init function\n",
      "This is init\n",
      "no request id,This is init\n",
      "\n",
      "2021-09-17 13:53:39,438 | root | INFO | Users's init has completed successfully\n",
      "2021-09-17 13:53:39,440 | root | INFO | Skipping middleware: dbg_model_info as it's not enabled.\n",
      "2021-09-17 13:53:39,441 | root | INFO | Skipping middleware: dbg_resource_usage as it's not enabled.\n",
      "2021-09-17 13:53:39,442 | root | INFO | Scoring timeout setting is not found. Use default timeout: 3600000 ms\n",
      "2021-09-17 13:55:48,186 | root | INFO | Scoring Timer is set to 3600.0 seconds\n",
      "received data {'query': 'What color is the fox', 'context': 'The quick brown fox jumped over the lazy dog.'}\n",
      "a73adc72-a954-4ddc-b0d1-297d7a29def3,received data {'query': 'What color is the fox', 'context': 'The quick brown fox jumped over the lazy dog.'}\n",
      "\n",
      "2021-09-17 13:55:48,186 | root | INFO | 200\n",
      "127.0.0.1 - - [17/Sep/2021:13:55:48 +0000] \"POST /score HTTP/1.0\" 200 104 \"-\" \"python-requests/2.26.0\"\n",
      "2021-09-17 14:01:24,916 | root | INFO | Scoring Timer is set to 3600.0 seconds\n",
      "received data {'danceability': 0.724, 'energy': 0.6, 'key': 1, 'loudness': -6.25, 'mode': 0, 'speechiness': 0.087, 'acousticness': 0.28, 'instrumentalness': 6.83e-05, 'liveness': 0.108, 'valence': 0.201, 'tempo': 164.037}\n",
      "c8a82968-4fba-4891-9c9e-dbace06c5317,received data {'danceability': 0.724, 'energy': 0.6, 'key': 1, 'loudness': -6.25, 'mode': 0, 'speechiness': 0.087, 'acousticness': 0.28, 'instrumentalness': 6.83e-05, 'liveness': 0.108, 'valence': 0.201, 'tempo': 164.037}\n",
      "\n",
      "2021-09-17 14:01:24,916 | root | INFO | 200\n",
      "127.0.0.1 - - [17/Sep/2021:14:01:24 +0000] \"POST /score HTTP/1.0\" 200 217 \"-\" \"python-requests/2.26.0\"\n",
      "2021-09-17 14:05:40,363 | root | INFO | Scoring Timer is set to 3600.0 seconds\n",
      "received data {'danceability': 0.724, 'energy': 0.6, 'key': 1, 'loudness': -6.25, 'mode': 0, 'speechiness': 0.087, 'acousticness': 0.28, 'instrumentalness': 6.83e-05, 'liveness': 0.108, 'valence': 0.201, 'tempo': 164.037}\n",
      "d269ac17-937f-4bc2-ade8-be5ee16d5c2c,received data {'danceability': 0.724, 'energy': 0.6, 'key': 1, 'loudness': -6.25, 'mode': 0, 'speechiness': 0.087, 'acousticness': 0.28, 'instrumentalness': 6.83e-05, 'liveness': 0.108, 'valence': 0.201, 'tempo': 164.037}\n",
      "\n",
      "2021-09-17 14:05:40,364 | root | INFO | 200\n",
      "127.0.0.1 - - [17/Sep/2021:14:05:40 +0000] \"POST /score HTTP/1.0\" 200 217 \"-\" \"python-requests/2.26.0\"\n",
      "\n"
     ]
    }
   ],
   "source": [
    "print(service.get_logs())"
   ]
  },
  {
   "cell_type": "code",
   "execution_count": null,
   "metadata": {},
   "outputs": [],
   "source": [
    "service.delete()\n",
    "model.delete()"
   ]
  }
 ],
 "metadata": {
  "kernel_info": {
   "name": "python3-azureml"
  },
  "kernelspec": {
   "display_name": "Python 3",
   "language": "python",
   "name": "python3"
  },
  "language_info": {
   "codemirror_mode": {
    "name": "ipython",
    "version": 3
   },
   "file_extension": ".py",
   "mimetype": "text/x-python",
   "name": "python",
   "nbconvert_exporter": "python",
   "pygments_lexer": "ipython3",
   "version": "3.6.9"
  },
  "nteract": {
   "version": "nteract-front-end@1.0.0"
  }
 },
 "nbformat": 4,
 "nbformat_minor": 2
}
