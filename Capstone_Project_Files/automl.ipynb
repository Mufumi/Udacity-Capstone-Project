{
 "cells": [
  {
   "cell_type": "markdown",
   "metadata": {},
   "source": [
    "# Automated ML\n",
    "\n",
    "TODO: Import Dependencies. In the cell below, import all the dependencies that you will need to complete the project."
   ]
  },
  {
   "cell_type": "code",
   "execution_count": 2,
   "metadata": {
    "gather": {
     "logged": 1598423888013
    },
    "jupyter": {
     "outputs_hidden": false,
     "source_hidden": false
    },
    "nteract": {
     "transient": {
      "deleting": false
     }
    }
   },
   "outputs": [],
   "source": [
    "from azureml.core import Workspace,Experiment"
   ]
  },
  {
   "cell_type": "markdown",
   "metadata": {},
   "source": [
    "## Dataset\n",
    "\n",
    "### Overview\n",
    "TODO: In this markdown cell, give an overview of the dataset you are using. Also mention the task you will be performing.\n",
    "\n",
    "\n",
    "TODO: Get data. In the cell below, write code to access the data you will be using in this project. Remember that the dataset needs to be external."
   ]
  },
  {
   "cell_type": "code",
   "execution_count": 3,
   "metadata": {},
   "outputs": [],
   "source": [
    "from azureml.data.dataset_factory import TabularDatasetFactory\n",
    "from azureml.train.automl import AutoMLConfig\n",
    "\n",
    "# Create TabularDataset using TabularDatasetFactory\n",
    "# Data is available at: \n",
    "# \"https://automlsamplenotebookdata.blob.core.windows.net/automl-sample-notebook-data/bankmarketing_train.csv\"\n",
    "\n",
    "auto_ml_url_path='https://raw.githubusercontent.com/Mufumi/Udacity-Capstone-Project/main/Spotify_playlist/spotify_playlist.csv'\n",
    "auto_ml_ds = TabularDatasetFactory.from_delimited_files(path=auto_ml_url_path)"
   ]
  },
  {
   "cell_type": "code",
   "execution_count": 4,
   "metadata": {},
   "outputs": [],
   "source": [
    "# TODO: Put your automl settings here\n",
    "# automl_settings = {}\n",
    "\n",
    "# TODO: Put your automl config here\n",
    "\n",
    "# Set parameters for AutoMLConfig\n",
    "# NOTE: DO NOT CHANGE THE experiment_timeout_minutes PARAMETER OR YOUR INSTANCE WILL TIME OUT.\n",
    "# If you wish to run the experiment longer, you will need to run this notebook in your own\n",
    "# Azure tenant, which will incur personal costs.\n",
    "automl_config = AutoMLConfig(\n",
    "    experiment_timeout_minutes=30,\n",
    "    task=\"classification\",\n",
    "    primary_metric=\"accuracy\",\n",
    "    training_data=auto_ml_ds,\n",
    "    label_column_name=\"liked\",\n",
    "    n_cross_validations=8)"
   ]
  },
  {
   "cell_type": "code",
   "execution_count": 5,
   "metadata": {
    "gather": {
     "logged": 1598423890461
    },
    "jupyter": {
     "outputs_hidden": false,
     "source_hidden": false
    },
    "nteract": {
     "transient": {
      "deleting": false
     }
    }
   },
   "outputs": [
    {
     "name": "stdout",
     "output_type": "stream",
     "text": [
      "No run_configuration provided, running on local with default configuration\n",
      "Running in the active local environment.\n"
     ]
    },
    {
     "data": {
      "text/html": [
       "<table style=\"width:100%\"><tr><th>Experiment</th><th>Id</th><th>Type</th><th>Status</th><th>Details Page</th><th>Docs Page</th></tr><tr><td>auto_ml_experiment</td><td>AutoML_bd2c4cc9-fa03-455b-b004-c517c96ea72b</td><td>automl</td><td>Preparing</td><td><a href=\"https://ml.azure.com/runs/AutoML_bd2c4cc9-fa03-455b-b004-c517c96ea72b?wsid=/subscriptions/b968fb36-f06a-4c76-a15f-afab68ae7667/resourcegroups/aml-quickstarts-158553/workspaces/quick-starts-ws-158553&amp;tid=660b3398-b80e-49d2-bc5b-ac1dc93b5254\" target=\"_blank\" rel=\"noopener\">Link to Azure Machine Learning studio</a></td><td><a href=\"https://docs.microsoft.com/en-us/python/api/overview/azure/ml/intro?view=azure-ml-py\" target=\"_blank\" rel=\"noopener\">Link to Documentation</a></td></tr></table>"
      ],
      "text/plain": [
       "<IPython.core.display.HTML object>"
      ]
     },
     "metadata": {},
     "output_type": "display_data"
    },
    {
     "name": "stdout",
     "output_type": "stream",
     "text": [
      "Current status: DatasetEvaluation. Gathering dataset statistics.\n",
      "Current status: FeaturesGeneration. Generating features for the dataset.\n",
      "Current status: DatasetFeaturization. Beginning to fit featurizers and featurize the dataset.\n",
      "Current status: DatasetFeaturizationCompleted. Completed fit featurizers and featurizing the dataset.\n",
      "Current status: DatasetCrossValidationSplit. Generating individually featurized CV splits.\n",
      "\n",
      "****************************************************************************************************\n",
      "DATA GUARDRAILS: \n",
      "\n",
      "TYPE:         Class balancing detection\n",
      "STATUS:       PASSED\n",
      "DESCRIPTION:  Your inputs were analyzed, and all classes are balanced in your training data.\n",
      "              Learn more about imbalanced data: https://aka.ms/AutomatedMLImbalancedData\n",
      "\n",
      "****************************************************************************************************\n",
      "\n",
      "TYPE:         Missing feature values imputation\n",
      "STATUS:       PASSED\n",
      "DESCRIPTION:  No feature missing values were detected in the training data.\n",
      "              Learn more about missing value imputation: https://aka.ms/AutomatedMLFeaturization\n",
      "\n",
      "****************************************************************************************************\n",
      "\n",
      "TYPE:         High cardinality feature detection\n",
      "STATUS:       PASSED\n",
      "DESCRIPTION:  Your inputs were analyzed, and no high cardinality features were detected.\n",
      "              Learn more about high cardinality feature handling: https://aka.ms/AutomatedMLFeaturization\n",
      "\n",
      "****************************************************************************************************\n",
      "Current status: ModelSelection. Beginning model selection.\n",
      "\n",
      "****************************************************************************************************\n",
      "ITERATION: The iteration being evaluated.\n",
      "PIPELINE: A summary description of the pipeline being evaluated.\n",
      "DURATION: Time taken for the current iteration.\n",
      "METRIC: The result of computing score on the fitted pipeline.\n",
      "BEST: The best observed score thus far.\n",
      "****************************************************************************************************\n",
      "\n",
      " ITERATION   PIPELINE                                       DURATION      METRIC      BEST\n",
      "         0   MaxAbsScaler LightGBM                          0:00:25       0.8000    0.8000\n",
      "         1   MaxAbsScaler XGBoostClassifier                 0:00:24       0.8050    0.8050\n",
      "         2   MaxAbsScaler ExtremeRandomTrees                0:00:27       0.7800    0.8050\n",
      "         3   SparseNormalizer XGBoostClassifier             0:00:23       0.7450    0.8050\n",
      "         4   StandardScalerWrapper KNN                      0:00:24       0.6900    0.8050\n",
      "         5   MaxAbsScaler LightGBM                          0:00:23       0.7600    0.8050\n",
      "         6   RobustScaler LogisticRegression                0:00:24       0.7750    0.8050\n",
      "         7   MaxAbsScaler LightGBM                          0:00:24       0.7950    0.8050\n",
      "         8   StandardScalerWrapper KNN                      0:00:23       0.6650    0.8050\n",
      "         9   StandardScalerWrapper SVM                      0:00:24       0.7900    0.8050\n",
      "        10   StandardScalerWrapper XGBoostClassifier        0:00:23       0.7700    0.8050\n",
      "        11   MinMaxScaler RandomForest                      0:00:27       0.7850    0.8050\n",
      "        12   StandardScalerWrapper LogisticRegression       0:00:24       0.7750    0.8050\n",
      "        13   StandardScalerWrapper KNN                      0:00:24       0.7850    0.8050\n",
      "        14   RobustScaler KNN                               0:00:23       0.7150    0.8050\n",
      "        15   MinMaxScaler KNN                               0:00:23       0.7400    0.8050\n",
      "        16   SparseNormalizer KNN                           0:00:23       0.7400    0.8050\n",
      "        17   MaxAbsScaler LogisticRegression                0:00:24       0.7700    0.8050\n",
      "        18   StandardScalerWrapper XGBoostClassifier        0:00:24       0.7800    0.8050\n",
      "        19   StandardScalerWrapper XGBoostClassifier        0:00:23       0.7750    0.8050\n",
      "        20   MaxAbsScaler LogisticRegression                0:00:24       0.7750    0.8050\n",
      "        21   StandardScalerWrapper XGBoostClassifier        0:00:23       0.7750    0.8050\n",
      "        22   SparseNormalizer XGBoostClassifier             0:00:24       0.8150    0.8150\n",
      "        23   MaxAbsScaler LightGBM                          0:00:23       0.7750    0.8150\n",
      "        24   StandardScalerWrapper LightGBM                 0:00:24       0.7800    0.8150\n",
      "        25   SparseNormalizer XGBoostClassifier             0:00:23       0.4600    0.8150\n",
      "        26   StandardScalerWrapper LightGBM                 0:00:24       0.8200    0.8200\n",
      "        27   SparseNormalizer XGBoostClassifier             0:00:24       0.8100    0.8200\n",
      "        28   MaxAbsScaler LightGBM                          0:00:23       0.8050    0.8200\n",
      "        29   MaxAbsScaler RandomForest                      0:00:25       0.7950    0.8200\n",
      "        30   RobustScaler LightGBM                          0:00:24       0.7750    0.8200\n",
      "        31   SparseNormalizer XGBoostClassifier             0:00:27       0.7850    0.8200\n",
      "        32   MaxAbsScaler ExtremeRandomTrees                0:00:32       0.8150    0.8200\n",
      "        33   StandardScalerWrapper XGBoostClassifier        0:00:24       0.8200    0.8200\n",
      "        34   MaxAbsScaler LogisticRegression                0:00:24       0.7700    0.8200\n",
      "        35   MinMaxScaler LightGBM                          0:00:24       0.7550    0.8200\n",
      "        36   StandardScalerWrapper RandomForest             0:00:26       0.8100    0.8200\n",
      "        37   VotingEnsemble                                 0:00:29       0.8500    0.8500\n",
      "        38   StackEnsemble                                  0:00:34       0.8200    0.8500\n",
      "Stopping criteria reached at iteration 39. Ending experiment.\n",
      "****************************************************************************************************\n",
      "Current status: BestRunExplainModel. Best run model explanations started\n",
      "Current status: ModelExplanationDataSetSetup. Model explanations data setup completed\n",
      "Current status: PickSurrogateModel. Choosing LightGBM as the surrogate model for explanations\n",
      "Current status: EngineeredFeatureExplanations. Computation of engineered features started\n",
      "Current status: EngineeredFeatureExplanations. Computation of engineered features completed\n",
      "Current status: RawFeaturesExplanations. Computation of raw features started\n",
      "Current status: RawFeaturesExplanations. Computation of raw features completed\n",
      "Current status: BestRunExplainModel. Best run model explanations completed\n",
      "****************************************************************************************************\n"
     ]
    }
   ],
   "source": [
    "ws = Workspace.from_config()\n",
    "\n",
    "# TODO: Submit your experiment\n",
    "auto_ml_experiment=Experiment(ws,\"auto_ml_experiment\")\n",
    "\n",
    "# Submit your automl run\n",
    "auto_ml_run=auto_ml_experiment.submit(config=automl_config,show_output=True)"
   ]
  },
  {
   "cell_type": "markdown",
   "metadata": {},
   "source": [
    "## AutoML Configuration\n",
    "\n",
    "TODO: Explain why you chose the automl settings and cofiguration you used below."
   ]
  },
  {
   "cell_type": "markdown",
   "metadata": {},
   "source": [
    "## Run Details\n",
    "\n",
    "OPTIONAL: Write about the different models trained and their performance. Why do you think some models did better than others?\n",
    "\n",
    "TODO: In the cell below, use the `RunDetails` widget to show the different experiments."
   ]
  },
  {
   "cell_type": "code",
   "execution_count": 6,
   "metadata": {
    "gather": {
     "logged": 1598431121770
    },
    "jupyter": {
     "outputs_hidden": false,
     "source_hidden": false
    },
    "nteract": {
     "transient": {
      "deleting": false
     }
    }
   },
   "outputs": [
    {
     "data": {
      "application/vnd.jupyter.widget-view+json": {
       "model_id": "393d4e84776349fb8f4bb83b86f9d6d2",
       "version_major": 2,
       "version_minor": 0
      },
      "text/plain": [
       "_AutoMLWidget(widget_settings={'childWidgetDisplay': 'popup', 'send_telemetry': False, 'log_level': 'INFO', 's…"
      ]
     },
     "metadata": {},
     "output_type": "display_data"
    },
    {
     "data": {
      "application/aml.mini.widget.v1": "{\"status\": \"Completed\", \"workbench_run_details_uri\": \"https://ml.azure.com/runs/AutoML_bd2c4cc9-fa03-455b-b004-c517c96ea72b?wsid=/subscriptions/b968fb36-f06a-4c76-a15f-afab68ae7667/resourcegroups/aml-quickstarts-158553/workspaces/quick-starts-ws-158553&tid=660b3398-b80e-49d2-bc5b-ac1dc93b5254\", \"run_id\": \"AutoML_bd2c4cc9-fa03-455b-b004-c517c96ea72b\", \"run_properties\": {\"run_id\": \"AutoML_bd2c4cc9-fa03-455b-b004-c517c96ea72b\", \"created_utc\": \"2021-09-17T11:21:48.615208Z\", \"properties\": {\"num_iterations\": \"1000\", \"training_type\": \"TrainFull\", \"acquisition_function\": \"EI\", \"primary_metric\": \"accuracy\", \"train_split\": \"0\", \"acquisition_parameter\": \"0\", \"num_cross_validation\": \"8\", \"target\": \"local\", \"AMLSettingsJsonString\": \"{\\\"path\\\":null,\\\"name\\\":\\\"auto_ml_experiment\\\",\\\"subscription_id\\\":\\\"b968fb36-f06a-4c76-a15f-afab68ae7667\\\",\\\"resource_group\\\":\\\"aml-quickstarts-158553\\\",\\\"workspace_name\\\":\\\"quick-starts-ws-158553\\\",\\\"region\\\":\\\"southcentralus\\\",\\\"compute_target\\\":\\\"local\\\",\\\"spark_service\\\":null,\\\"azure_service\\\":\\\"Microsoft.AzureNotebookVM\\\",\\\"many_models\\\":false,\\\"pipeline_fetch_max_batch_size\\\":1,\\\"enable_batch_run\\\":false,\\\"enable_run_restructure\\\":false,\\\"start_auxiliary_runs_before_parent_complete\\\":false,\\\"enable_code_generation\\\":false,\\\"iterations\\\":1000,\\\"primary_metric\\\":\\\"accuracy\\\",\\\"task_type\\\":\\\"classification\\\",\\\"data_script\\\":null,\\\"test_size\\\":0.0,\\\"validation_size\\\":0.0,\\\"n_cross_validations\\\":8,\\\"y_min\\\":null,\\\"y_max\\\":null,\\\"num_classes\\\":null,\\\"featurization\\\":\\\"auto\\\",\\\"_ignore_package_version_incompatibilities\\\":false,\\\"is_timeseries\\\":false,\\\"max_cores_per_iteration\\\":1,\\\"max_concurrent_iterations\\\":1,\\\"iteration_timeout_minutes\\\":null,\\\"mem_in_mb\\\":null,\\\"enforce_time_on_windows\\\":false,\\\"experiment_timeout_minutes\\\":30,\\\"experiment_exit_score\\\":null,\\\"whitelist_models\\\":null,\\\"blacklist_algos\\\":[\\\"TensorFlowLinearClassifier\\\",\\\"TensorFlowDNN\\\"],\\\"supported_models\\\":[\\\"ExtremeRandomTrees\\\",\\\"TensorFlowLinearClassifier\\\",\\\"LogisticRegression\\\",\\\"RandomForest\\\",\\\"DecisionTree\\\",\\\"LightGBM\\\",\\\"SGD\\\",\\\"GradientBoosting\\\",\\\"SVM\\\",\\\"LinearSVM\\\",\\\"XGBoostClassifier\\\",\\\"KNN\\\",\\\"MultinomialNaiveBayes\\\",\\\"TensorFlowDNN\\\",\\\"AveragedPerceptronClassifier\\\",\\\"BernoulliNaiveBayes\\\"],\\\"private_models\\\":[],\\\"auto_blacklist\\\":true,\\\"blacklist_samples_reached\\\":false,\\\"exclude_nan_labels\\\":true,\\\"verbosity\\\":20,\\\"_debug_log\\\":\\\"automl.log\\\",\\\"show_warnings\\\":false,\\\"model_explainability\\\":true,\\\"service_url\\\":null,\\\"sdk_url\\\":null,\\\"sdk_packages\\\":null,\\\"enable_onnx_compatible_models\\\":false,\\\"enable_split_onnx_featurizer_estimator_models\\\":false,\\\"vm_type\\\":null,\\\"telemetry_verbosity\\\":20,\\\"send_telemetry\\\":true,\\\"enable_dnn\\\":false,\\\"scenario\\\":\\\"SDK-1.13.0\\\",\\\"environment_label\\\":null,\\\"save_mlflow\\\":false,\\\"force_text_dnn\\\":false,\\\"enable_feature_sweeping\\\":true,\\\"enable_early_stopping\\\":true,\\\"early_stopping_n_iters\\\":10,\\\"metrics\\\":null,\\\"enable_metric_confidence\\\":false,\\\"enable_ensembling\\\":true,\\\"enable_stack_ensembling\\\":true,\\\"ensemble_iterations\\\":15,\\\"enable_tf\\\":false,\\\"enable_subsampling\\\":null,\\\"subsample_seed\\\":null,\\\"enable_nimbusml\\\":false,\\\"enable_streaming\\\":false,\\\"force_streaming\\\":false,\\\"track_child_runs\\\":true,\\\"allowed_private_models\\\":[],\\\"label_column_name\\\":\\\"liked\\\",\\\"weight_column_name\\\":null,\\\"cv_split_column_names\\\":null,\\\"enable_local_managed\\\":false,\\\"_local_managed_run_id\\\":null,\\\"cost_mode\\\":1,\\\"lag_length\\\":0,\\\"metric_operation\\\":\\\"maximize\\\",\\\"preprocess\\\":true}\", \"DataPrepJsonString\": \"{\\\\\\\"training_data\\\\\\\": {\\\\\\\"datasetId\\\\\\\": \\\\\\\"9849e514-0c46-408a-ad4d-eee875d4dcba\\\\\\\"}, \\\\\\\"datasets\\\\\\\": 0}\", \"EnableSubsampling\": null, \"runTemplate\": \"AutoML\", \"azureml.runsource\": \"automl\", \"display_task_type\": \"classification\", \"dependencies_versions\": \"{\\\"azureml-widgets\\\": \\\"1.33.0\\\", \\\"azureml-train\\\": \\\"1.33.0\\\", \\\"azureml-train-restclients-hyperdrive\\\": \\\"1.33.0\\\", \\\"azureml-train-core\\\": \\\"1.33.0\\\", \\\"azureml-train-automl\\\": \\\"1.33.0\\\", \\\"azureml-train-automl-runtime\\\": \\\"1.33.0\\\", \\\"azureml-train-automl-client\\\": \\\"1.33.0\\\", \\\"azureml-tensorboard\\\": \\\"1.33.0\\\", \\\"azureml-telemetry\\\": \\\"1.33.0\\\", \\\"azureml-sdk\\\": \\\"1.33.0\\\", \\\"azureml-samples\\\": \\\"0+unknown\\\", \\\"azureml-responsibleai\\\": \\\"1.33.0\\\", \\\"azureml-pipeline\\\": \\\"1.33.0\\\", \\\"azureml-pipeline-steps\\\": \\\"1.33.0\\\", \\\"azureml-pipeline-core\\\": \\\"1.33.0\\\", \\\"azureml-opendatasets\\\": \\\"1.33.0\\\", \\\"azureml-mlflow\\\": \\\"1.33.0\\\", \\\"azureml-interpret\\\": \\\"1.33.0\\\", \\\"azureml-explain-model\\\": \\\"1.33.0\\\", \\\"azureml-defaults\\\": \\\"1.33.0\\\", \\\"azureml-dataset-runtime\\\": \\\"1.33.0\\\", \\\"azureml-dataprep\\\": \\\"2.20.1\\\", \\\"azureml-dataprep-rslex\\\": \\\"1.18.0\\\", \\\"azureml-dataprep-native\\\": \\\"38.0.0\\\", \\\"azureml-datadrift\\\": \\\"1.33.0\\\", \\\"azureml-core\\\": \\\"1.33.0\\\", \\\"azureml-contrib-services\\\": \\\"1.33.0\\\", \\\"azureml-contrib-server\\\": \\\"1.33.0\\\", \\\"azureml-contrib-reinforcementlearning\\\": \\\"1.33.0\\\", \\\"azureml-contrib-pipeline-steps\\\": \\\"1.33.0\\\", \\\"azureml-contrib-notebook\\\": \\\"1.33.0\\\", \\\"azureml-contrib-fairness\\\": \\\"1.33.0\\\", \\\"azureml-contrib-dataset\\\": \\\"1.33.0\\\", \\\"azureml-cli-common\\\": \\\"1.33.0\\\", \\\"azureml-automl-runtime\\\": \\\"1.33.0\\\", \\\"azureml-automl-dnn-nlp\\\": \\\"1.33.0\\\", \\\"azureml-automl-core\\\": \\\"1.33.0\\\", \\\"azureml-accel-models\\\": \\\"1.33.0\\\"}\", \"_aml_system_scenario_identification\": \"Local.Parent\", \"ClientSdkVersion\": \"1.33.0\", \"ClientType\": \"SDK\", \"environment_cpu_name\": \"AzureML-AutoML\", \"environment_cpu_label\": \"prod\", \"environment_gpu_name\": \"AzureML-AutoML-GPU\", \"environment_gpu_label\": \"prod\", \"root_attribution\": \"automl\", \"attribution\": \"AutoML\", \"Orchestrator\": \"AutoML\", \"_azureml.ComputeTargetType\": \"local\", \"ProblemInfoJsonString\": \"{\\\"dataset_num_categorical\\\": 0, \\\"is_sparse\\\": false, \\\"subsampling\\\": false, \\\"has_extra_col\\\": true, \\\"dataset_classes\\\": 2, \\\"dataset_features\\\": 11, \\\"dataset_samples\\\": 200, \\\"single_frequency_class_detected\\\": false}\"}, \"tags\": {\"model_explain_run\": \"best_run\", \"best_score\": \"0.8500000000000001\", \"best_pipeline\": \"VotingEnsemble\", \"automl_best_child_run_id\": \"AutoML_bd2c4cc9-fa03-455b-b004-c517c96ea72b_37\", \"model_explain_best_run_child_id\": \"AutoML_bd2c4cc9-fa03-455b-b004-c517c96ea72b_37\"}, \"end_time_utc\": \"2021-09-17T11:39:20.423198Z\", \"status\": \"Completed\", \"log_files\": {}, \"log_groups\": [], \"run_duration\": \"0:17:31\", \"run_number\": \"1\", \"run_queued_details\": {\"status\": \"Completed\", \"details\": null}}, \"child_runs\": [{\"run_id\": \"AutoML_bd2c4cc9-fa03-455b-b004-c517c96ea72b_0\", \"run_number\": 2, \"metric\": null, \"status\": \"Completed\", \"run_type\": null, \"training_percent\": \"100\", \"start_time\": \"2021-09-17T11:22:06.603Z\", \"end_time\": \"2021-09-17T11:22:31.595591Z\", \"created_time\": \"2021-09-17T11:22:06.485284Z\", \"created_time_dt\": \"2021-09-17T11:22:06.485284Z\", \"duration\": \"0:00:25\", \"iteration\": \"0\", \"goal\": \"accuracy_max\", \"run_name\": \"MaxAbsScaler, LightGBM\", \"run_properties\": \"copy=True\", \"primary_metric\": 0.8, \"best_metric\": 0.8}, {\"run_id\": \"AutoML_bd2c4cc9-fa03-455b-b004-c517c96ea72b_1\", \"run_number\": 3, \"metric\": null, \"status\": \"Completed\", \"run_type\": null, \"training_percent\": \"100\", \"start_time\": \"2021-09-17T11:22:31.983875Z\", \"end_time\": \"2021-09-17T11:22:55.973037Z\", \"created_time\": \"2021-09-17T11:22:31.864054Z\", \"created_time_dt\": \"2021-09-17T11:22:31.864054Z\", \"duration\": \"0:00:24\", \"iteration\": \"1\", \"goal\": \"accuracy_max\", \"run_name\": \"MaxAbsScaler, XGBoostClassifier\", \"run_properties\": \"copy=True\", \"primary_metric\": 0.805, \"best_metric\": 0.805}, {\"run_id\": \"AutoML_bd2c4cc9-fa03-455b-b004-c517c96ea72b_2\", \"run_number\": 4, \"metric\": null, \"status\": \"Completed\", \"run_type\": null, \"training_percent\": \"100\", \"start_time\": \"2021-09-17T11:22:56.848086Z\", \"end_time\": \"2021-09-17T11:23:24.483835Z\", \"created_time\": \"2021-09-17T11:22:56.721444Z\", \"created_time_dt\": \"2021-09-17T11:22:56.721444Z\", \"duration\": \"0:00:27\", \"iteration\": \"2\", \"goal\": \"accuracy_max\", \"run_name\": \"MaxAbsScaler, ExtremeRandomTrees\", \"run_properties\": \"copy=True\", \"primary_metric\": 0.78, \"best_metric\": 0.805}, {\"run_id\": \"AutoML_bd2c4cc9-fa03-455b-b004-c517c96ea72b_3\", \"run_number\": 5, \"metric\": null, \"status\": \"Completed\", \"run_type\": null, \"training_percent\": \"100\", \"start_time\": \"2021-09-17T11:23:25.933062Z\", \"end_time\": \"2021-09-17T11:23:49.828342Z\", \"created_time\": \"2021-09-17T11:23:25.805115Z\", \"created_time_dt\": \"2021-09-17T11:23:25.805115Z\", \"duration\": \"0:00:24\", \"iteration\": \"3\", \"goal\": \"accuracy_max\", \"run_name\": \"SparseNormalizer, XGBoostClassifier\", \"run_properties\": \"copy=True, norm='l2'\", \"primary_metric\": 0.745, \"best_metric\": 0.805}, {\"run_id\": \"AutoML_bd2c4cc9-fa03-455b-b004-c517c96ea72b_4\", \"run_number\": 6, \"metric\": null, \"status\": \"Completed\", \"run_type\": null, \"training_percent\": \"100\", \"start_time\": \"2021-09-17T11:23:51.495714Z\", \"end_time\": \"2021-09-17T11:24:15.697231Z\", \"created_time\": \"2021-09-17T11:23:51.360364Z\", \"created_time_dt\": \"2021-09-17T11:23:51.360364Z\", \"duration\": \"0:00:24\", \"iteration\": \"4\", \"goal\": \"accuracy_max\", \"run_name\": \"StandardScalerWrapper, KNN\", \"run_properties\": \"\\n    copy=True,\\n    with_mean=False,\\n    with_std=False\\n\", \"primary_metric\": 0.69, \"best_metric\": 0.805}, {\"run_id\": \"AutoML_bd2c4cc9-fa03-455b-b004-c517c96ea72b_5\", \"run_number\": 7, \"metric\": null, \"status\": \"Completed\", \"run_type\": null, \"training_percent\": \"100\", \"start_time\": \"2021-09-17T11:24:17.11539Z\", \"end_time\": \"2021-09-17T11:24:40.998287Z\", \"created_time\": \"2021-09-17T11:24:16.991405Z\", \"created_time_dt\": \"2021-09-17T11:24:16.991405Z\", \"duration\": \"0:00:24\", \"iteration\": \"5\", \"goal\": \"accuracy_max\", \"run_name\": \"MaxAbsScaler, LightGBM\", \"run_properties\": \"copy=True\", \"primary_metric\": 0.76, \"best_metric\": 0.805}, {\"run_id\": \"AutoML_bd2c4cc9-fa03-455b-b004-c517c96ea72b_6\", \"run_number\": 8, \"metric\": null, \"status\": \"Completed\", \"run_type\": null, \"training_percent\": \"100\", \"start_time\": \"2021-09-17T11:24:42.510145Z\", \"end_time\": \"2021-09-17T11:25:06.544388Z\", \"created_time\": \"2021-09-17T11:24:42.380702Z\", \"created_time_dt\": \"2021-09-17T11:24:42.380702Z\", \"duration\": \"0:00:24\", \"iteration\": \"6\", \"goal\": \"accuracy_max\", \"run_name\": \"RobustScaler, LogisticRegression\", \"run_properties\": \"copy=True, quantile_range=[10, 90], with_centering=True,\\n             with_scaling=True\", \"primary_metric\": 0.775, \"best_metric\": 0.805}, {\"run_id\": \"AutoML_bd2c4cc9-fa03-455b-b004-c517c96ea72b_7\", \"run_number\": 9, \"metric\": null, \"status\": \"Completed\", \"run_type\": null, \"training_percent\": \"100\", \"start_time\": \"2021-09-17T11:25:07.953049Z\", \"end_time\": \"2021-09-17T11:25:31.835595Z\", \"created_time\": \"2021-09-17T11:25:07.789107Z\", \"created_time_dt\": \"2021-09-17T11:25:07.789107Z\", \"duration\": \"0:00:24\", \"iteration\": \"7\", \"goal\": \"accuracy_max\", \"run_name\": \"MaxAbsScaler, LightGBM\", \"run_properties\": \"copy=True\", \"primary_metric\": 0.795, \"best_metric\": 0.805}, {\"run_id\": \"AutoML_bd2c4cc9-fa03-455b-b004-c517c96ea72b_8\", \"run_number\": 10, \"metric\": null, \"status\": \"Completed\", \"run_type\": null, \"training_percent\": \"100\", \"start_time\": \"2021-09-17T11:25:33.340722Z\", \"end_time\": \"2021-09-17T11:25:57.115375Z\", \"created_time\": \"2021-09-17T11:25:33.191071Z\", \"created_time_dt\": \"2021-09-17T11:25:33.191071Z\", \"duration\": \"0:00:23\", \"iteration\": \"8\", \"goal\": \"accuracy_max\", \"run_name\": \"StandardScalerWrapper, KNN\", \"run_properties\": \"\\n    copy=True,\\n    with_mean=False,\\n    with_std=False\\n\", \"primary_metric\": 0.665, \"best_metric\": 0.805}, {\"run_id\": \"AutoML_bd2c4cc9-fa03-455b-b004-c517c96ea72b_9\", \"run_number\": 11, \"metric\": null, \"status\": \"Completed\", \"run_type\": null, \"training_percent\": \"100\", \"start_time\": \"2021-09-17T11:25:58.569699Z\", \"end_time\": \"2021-09-17T11:26:22.81741Z\", \"created_time\": \"2021-09-17T11:25:58.429465Z\", \"created_time_dt\": \"2021-09-17T11:25:58.429465Z\", \"duration\": \"0:00:24\", \"iteration\": \"9\", \"goal\": \"accuracy_max\", \"run_name\": \"StandardScalerWrapper, SVM\", \"run_properties\": \"\\n    copy=True,\\n    with_mean=True,\\n    with_std=True\\n\", \"primary_metric\": 0.79, \"best_metric\": 0.805}, {\"run_id\": \"AutoML_bd2c4cc9-fa03-455b-b004-c517c96ea72b_10\", \"run_number\": 12, \"metric\": null, \"status\": \"Completed\", \"run_type\": null, \"training_percent\": \"100\", \"start_time\": \"2021-09-17T11:26:24.519771Z\", \"end_time\": \"2021-09-17T11:26:48.094377Z\", \"created_time\": \"2021-09-17T11:26:24.388759Z\", \"created_time_dt\": \"2021-09-17T11:26:24.388759Z\", \"duration\": \"0:00:23\", \"iteration\": \"10\", \"goal\": \"accuracy_max\", \"run_name\": \"StandardScalerWrapper, XGBoostClassifier\", \"run_properties\": \"\\n    copy=True,\\n    with_mean=False,\\n    with_std=False\\n\", \"primary_metric\": 0.77, \"best_metric\": 0.805}, {\"run_id\": \"AutoML_bd2c4cc9-fa03-455b-b004-c517c96ea72b_11\", \"run_number\": 13, \"metric\": null, \"status\": \"Completed\", \"run_type\": null, \"training_percent\": \"100\", \"start_time\": \"2021-09-17T11:26:49.820326Z\", \"end_time\": \"2021-09-17T11:27:17.574796Z\", \"created_time\": \"2021-09-17T11:26:49.687463Z\", \"created_time_dt\": \"2021-09-17T11:26:49.687463Z\", \"duration\": \"0:00:27\", \"iteration\": \"11\", \"goal\": \"accuracy_max\", \"run_name\": \"MinMaxScaler, RandomForest\", \"run_properties\": \"copy=True, feature_range=(0, 1\", \"primary_metric\": 0.785, \"best_metric\": 0.805}, {\"run_id\": \"AutoML_bd2c4cc9-fa03-455b-b004-c517c96ea72b_12\", \"run_number\": 14, \"metric\": null, \"status\": \"Completed\", \"run_type\": null, \"training_percent\": \"100\", \"start_time\": \"2021-09-17T11:27:19.226912Z\", \"end_time\": \"2021-09-17T11:27:43.695711Z\", \"created_time\": \"2021-09-17T11:27:19.101011Z\", \"created_time_dt\": \"2021-09-17T11:27:19.101011Z\", \"duration\": \"0:00:24\", \"iteration\": \"12\", \"goal\": \"accuracy_max\", \"run_name\": \"StandardScalerWrapper, LogisticRegression\", \"run_properties\": \"\\n    copy=True,\\n    with_mean=True,\\n    with_std=False\\n\", \"primary_metric\": 0.775, \"best_metric\": 0.805}, {\"run_id\": \"AutoML_bd2c4cc9-fa03-455b-b004-c517c96ea72b_13\", \"run_number\": 15, \"metric\": null, \"status\": \"Completed\", \"run_type\": null, \"training_percent\": \"100\", \"start_time\": \"2021-09-17T11:27:45.346212Z\", \"end_time\": \"2021-09-17T11:28:10.065657Z\", \"created_time\": \"2021-09-17T11:27:45.21276Z\", \"created_time_dt\": \"2021-09-17T11:27:45.21276Z\", \"duration\": \"0:00:24\", \"iteration\": \"13\", \"goal\": \"accuracy_max\", \"run_name\": \"StandardScalerWrapper, KNN\", \"run_properties\": \"\\n    copy=True,\\n    with_mean=False,\\n    with_std=True\\n\", \"primary_metric\": 0.785, \"best_metric\": 0.805}, {\"run_id\": \"AutoML_bd2c4cc9-fa03-455b-b004-c517c96ea72b_14\", \"run_number\": 16, \"metric\": null, \"status\": \"Completed\", \"run_type\": null, \"training_percent\": \"100\", \"start_time\": \"2021-09-17T11:28:11.510683Z\", \"end_time\": \"2021-09-17T11:28:35.131294Z\", \"created_time\": \"2021-09-17T11:28:11.390161Z\", \"created_time_dt\": \"2021-09-17T11:28:11.390161Z\", \"duration\": \"0:00:23\", \"iteration\": \"14\", \"goal\": \"accuracy_max\", \"run_name\": \"RobustScaler, KNN\", \"run_properties\": \"copy=True, quantile_range=[10, 90], with_centering=False,\\n             with_scaling=True\", \"primary_metric\": 0.715, \"best_metric\": 0.805}, {\"run_id\": \"AutoML_bd2c4cc9-fa03-455b-b004-c517c96ea72b_15\", \"run_number\": 17, \"metric\": null, \"status\": \"Completed\", \"run_type\": null, \"training_percent\": \"100\", \"start_time\": \"2021-09-17T11:28:36.625238Z\", \"end_time\": \"2021-09-17T11:29:00.141934Z\", \"created_time\": \"2021-09-17T11:28:36.479903Z\", \"created_time_dt\": \"2021-09-17T11:28:36.479903Z\", \"duration\": \"0:00:23\", \"iteration\": \"15\", \"goal\": \"accuracy_max\", \"run_name\": \"MinMaxScaler, KNN\", \"run_properties\": \"copy=True, feature_range=(0, 1\", \"primary_metric\": 0.74, \"best_metric\": 0.805}, {\"run_id\": \"AutoML_bd2c4cc9-fa03-455b-b004-c517c96ea72b_16\", \"run_number\": 18, \"metric\": null, \"status\": \"Completed\", \"run_type\": null, \"training_percent\": \"100\", \"start_time\": \"2021-09-17T11:29:01.815193Z\", \"end_time\": \"2021-09-17T11:29:25.49857Z\", \"created_time\": \"2021-09-17T11:29:01.672128Z\", \"created_time_dt\": \"2021-09-17T11:29:01.672128Z\", \"duration\": \"0:00:23\", \"iteration\": \"16\", \"goal\": \"accuracy_max\", \"run_name\": \"SparseNormalizer, KNN\", \"run_properties\": \"copy=True, norm='max'\", \"primary_metric\": 0.74, \"best_metric\": 0.805}, {\"run_id\": \"AutoML_bd2c4cc9-fa03-455b-b004-c517c96ea72b_17\", \"run_number\": 19, \"metric\": null, \"status\": \"Completed\", \"run_type\": null, \"training_percent\": \"100\", \"start_time\": \"2021-09-17T11:29:27.030967Z\", \"end_time\": \"2021-09-17T11:29:51.137814Z\", \"created_time\": \"2021-09-17T11:29:26.9048Z\", \"created_time_dt\": \"2021-09-17T11:29:26.9048Z\", \"duration\": \"0:00:24\", \"iteration\": \"17\", \"goal\": \"accuracy_max\", \"run_name\": \"MaxAbsScaler, LogisticRegression\", \"run_properties\": \"copy=True\", \"primary_metric\": 0.77, \"best_metric\": 0.805}, {\"run_id\": \"AutoML_bd2c4cc9-fa03-455b-b004-c517c96ea72b_18\", \"run_number\": 20, \"metric\": null, \"status\": \"Completed\", \"run_type\": null, \"training_percent\": \"100\", \"start_time\": \"2021-09-17T11:29:52.815303Z\", \"end_time\": \"2021-09-17T11:30:17.187271Z\", \"created_time\": \"2021-09-17T11:29:52.688139Z\", \"created_time_dt\": \"2021-09-17T11:29:52.688139Z\", \"duration\": \"0:00:24\", \"iteration\": \"18\", \"goal\": \"accuracy_max\", \"run_name\": \"StandardScalerWrapper, XGBoostClassifier\", \"run_properties\": \"\\n    copy=True,\\n    with_mean=False,\\n    with_std=False\\n\", \"primary_metric\": 0.78, \"best_metric\": 0.805}, {\"run_id\": \"AutoML_bd2c4cc9-fa03-455b-b004-c517c96ea72b_19\", \"run_number\": 21, \"metric\": null, \"status\": \"Completed\", \"run_type\": null, \"training_percent\": \"100\", \"start_time\": \"2021-09-17T11:30:18.687589Z\", \"end_time\": \"2021-09-17T11:30:42.552324Z\", \"created_time\": \"2021-09-17T11:30:18.562021Z\", \"created_time_dt\": \"2021-09-17T11:30:18.562021Z\", \"duration\": \"0:00:23\", \"iteration\": \"19\", \"goal\": \"accuracy_max\", \"run_name\": \"StandardScalerWrapper, XGBoostClassifier\", \"run_properties\": \"\\n    copy=True,\\n    with_mean=False,\\n    with_std=False\\n\", \"primary_metric\": 0.775, \"best_metric\": 0.805}, {\"run_id\": \"AutoML_bd2c4cc9-fa03-455b-b004-c517c96ea72b_20\", \"run_number\": 22, \"metric\": null, \"status\": \"Completed\", \"run_type\": null, \"training_percent\": \"100\", \"start_time\": \"2021-09-17T11:30:43.997394Z\", \"end_time\": \"2021-09-17T11:31:08.138073Z\", \"created_time\": \"2021-09-17T11:30:43.872896Z\", \"created_time_dt\": \"2021-09-17T11:30:43.872896Z\", \"duration\": \"0:00:24\", \"iteration\": \"20\", \"goal\": \"accuracy_max\", \"run_name\": \"MaxAbsScaler, LogisticRegression\", \"run_properties\": \"copy=True\", \"primary_metric\": 0.775, \"best_metric\": 0.805}, {\"run_id\": \"AutoML_bd2c4cc9-fa03-455b-b004-c517c96ea72b_21\", \"run_number\": 23, \"metric\": null, \"status\": \"Completed\", \"run_type\": null, \"training_percent\": \"100\", \"start_time\": \"2021-09-17T11:31:09.652967Z\", \"end_time\": \"2021-09-17T11:31:33.383063Z\", \"created_time\": \"2021-09-17T11:31:09.528945Z\", \"created_time_dt\": \"2021-09-17T11:31:09.528945Z\", \"duration\": \"0:00:23\", \"iteration\": \"21\", \"goal\": \"accuracy_max\", \"run_name\": \"StandardScalerWrapper, XGBoostClassifier\", \"run_properties\": \"\\n    copy=True,\\n    with_mean=False,\\n    with_std=False\\n\", \"primary_metric\": 0.775, \"best_metric\": 0.805}, {\"run_id\": \"AutoML_bd2c4cc9-fa03-455b-b004-c517c96ea72b_22\", \"run_number\": 24, \"metric\": null, \"status\": \"Completed\", \"run_type\": null, \"training_percent\": \"100\", \"start_time\": \"2021-09-17T11:31:34.778981Z\", \"end_time\": \"2021-09-17T11:31:58.726949Z\", \"created_time\": \"2021-09-17T11:31:34.653206Z\", \"created_time_dt\": \"2021-09-17T11:31:34.653206Z\", \"duration\": \"0:00:24\", \"iteration\": \"22\", \"goal\": \"accuracy_max\", \"run_name\": \"SparseNormalizer, XGBoostClassifier\", \"run_properties\": \"copy=True, norm='l1'\", \"primary_metric\": 0.815, \"best_metric\": 0.815}, {\"run_id\": \"AutoML_bd2c4cc9-fa03-455b-b004-c517c96ea72b_23\", \"run_number\": 25, \"metric\": null, \"status\": \"Completed\", \"run_type\": null, \"training_percent\": \"100\", \"start_time\": \"2021-09-17T11:32:00.304169Z\", \"end_time\": \"2021-09-17T11:32:23.668955Z\", \"created_time\": \"2021-09-17T11:32:00.172536Z\", \"created_time_dt\": \"2021-09-17T11:32:00.172536Z\", \"duration\": \"0:00:23\", \"iteration\": \"23\", \"goal\": \"accuracy_max\", \"run_name\": \"MaxAbsScaler, LightGBM\", \"run_properties\": \"copy=True\", \"primary_metric\": 0.775, \"best_metric\": 0.815}, {\"run_id\": \"AutoML_bd2c4cc9-fa03-455b-b004-c517c96ea72b_24\", \"run_number\": 26, \"metric\": null, \"status\": \"Completed\", \"run_type\": null, \"training_percent\": \"100\", \"start_time\": \"2021-09-17T11:32:25.0886Z\", \"end_time\": \"2021-09-17T11:32:49.368416Z\", \"created_time\": \"2021-09-17T11:32:24.959909Z\", \"created_time_dt\": \"2021-09-17T11:32:24.959909Z\", \"duration\": \"0:00:24\", \"iteration\": \"24\", \"goal\": \"accuracy_max\", \"run_name\": \"StandardScalerWrapper, LightGBM\", \"run_properties\": \"\\n    copy=True,\\n    with_mean=True,\\n    with_std=False\\n\", \"primary_metric\": 0.78, \"best_metric\": 0.815}, {\"run_id\": \"AutoML_bd2c4cc9-fa03-455b-b004-c517c96ea72b_25\", \"run_number\": 27, \"metric\": null, \"status\": \"Completed\", \"run_type\": null, \"training_percent\": \"100\", \"start_time\": \"2021-09-17T11:32:52.416321Z\", \"end_time\": \"2021-09-17T11:33:16.18127Z\", \"created_time\": \"2021-09-17T11:32:52.27911Z\", \"created_time_dt\": \"2021-09-17T11:32:52.27911Z\", \"duration\": \"0:00:23\", \"iteration\": \"25\", \"goal\": \"accuracy_max\", \"run_name\": \"SparseNormalizer, XGBoostClassifier\", \"run_properties\": \"copy=True, norm='max'\", \"primary_metric\": 0.46, \"best_metric\": 0.815}, {\"run_id\": \"AutoML_bd2c4cc9-fa03-455b-b004-c517c96ea72b_26\", \"run_number\": 28, \"metric\": null, \"status\": \"Completed\", \"run_type\": null, \"training_percent\": \"100\", \"start_time\": \"2021-09-17T11:33:17.645314Z\", \"end_time\": \"2021-09-17T11:33:42.157308Z\", \"created_time\": \"2021-09-17T11:33:17.516268Z\", \"created_time_dt\": \"2021-09-17T11:33:17.516268Z\", \"duration\": \"0:00:24\", \"iteration\": \"26\", \"goal\": \"accuracy_max\", \"run_name\": \"StandardScalerWrapper, LightGBM\", \"run_properties\": \"\\n    copy=True,\\n    with_mean=False,\\n    with_std=False\\n\", \"primary_metric\": 0.82, \"best_metric\": 0.82}, {\"run_id\": \"AutoML_bd2c4cc9-fa03-455b-b004-c517c96ea72b_27\", \"run_number\": 29, \"metric\": null, \"status\": \"Completed\", \"run_type\": null, \"training_percent\": \"100\", \"start_time\": \"2021-09-17T11:33:44.015258Z\", \"end_time\": \"2021-09-17T11:34:08.118115Z\", \"created_time\": \"2021-09-17T11:33:43.89016Z\", \"created_time_dt\": \"2021-09-17T11:33:43.89016Z\", \"duration\": \"0:00:24\", \"iteration\": \"27\", \"goal\": \"accuracy_max\", \"run_name\": \"SparseNormalizer, XGBoostClassifier\", \"run_properties\": \"copy=True, norm='l1'\", \"primary_metric\": 0.81, \"best_metric\": 0.82}, {\"run_id\": \"AutoML_bd2c4cc9-fa03-455b-b004-c517c96ea72b_28\", \"run_number\": 30, \"metric\": null, \"status\": \"Completed\", \"run_type\": null, \"training_percent\": \"100\", \"start_time\": \"2021-09-17T11:34:09.526947Z\", \"end_time\": \"2021-09-17T11:34:32.971591Z\", \"created_time\": \"2021-09-17T11:34:09.39963Z\", \"created_time_dt\": \"2021-09-17T11:34:09.39963Z\", \"duration\": \"0:00:23\", \"iteration\": \"28\", \"goal\": \"accuracy_max\", \"run_name\": \"MaxAbsScaler, LightGBM\", \"run_properties\": \"copy=True\", \"primary_metric\": 0.805, \"best_metric\": 0.82}, {\"run_id\": \"AutoML_bd2c4cc9-fa03-455b-b004-c517c96ea72b_29\", \"run_number\": 31, \"metric\": null, \"status\": \"Completed\", \"run_type\": null, \"training_percent\": \"100\", \"start_time\": \"2021-09-17T11:34:34.875454Z\", \"end_time\": \"2021-09-17T11:35:00.433058Z\", \"created_time\": \"2021-09-17T11:34:34.679798Z\", \"created_time_dt\": \"2021-09-17T11:34:34.679798Z\", \"duration\": \"0:00:25\", \"iteration\": \"29\", \"goal\": \"accuracy_max\", \"run_name\": \"MaxAbsScaler, RandomForest\", \"run_properties\": \"copy=True\", \"primary_metric\": 0.795, \"best_metric\": 0.82}, {\"run_id\": \"AutoML_bd2c4cc9-fa03-455b-b004-c517c96ea72b_30\", \"run_number\": 32, \"metric\": null, \"status\": \"Completed\", \"run_type\": null, \"training_percent\": \"100\", \"start_time\": \"2021-09-17T11:35:02.84289Z\", \"end_time\": \"2021-09-17T11:35:26.742551Z\", \"created_time\": \"2021-09-17T11:35:02.695669Z\", \"created_time_dt\": \"2021-09-17T11:35:02.695669Z\", \"duration\": \"0:00:24\", \"iteration\": \"30\", \"goal\": \"accuracy_max\", \"run_name\": \"RobustScaler, LightGBM\", \"run_properties\": \"copy=True, quantile_range=[25, 75], with_centering=False,\\n             with_scaling=True\", \"primary_metric\": 0.775, \"best_metric\": 0.82}, {\"run_id\": \"AutoML_bd2c4cc9-fa03-455b-b004-c517c96ea72b_31\", \"run_number\": 33, \"metric\": null, \"status\": \"Completed\", \"run_type\": null, \"training_percent\": \"100\", \"start_time\": \"2021-09-17T11:35:28.32594Z\", \"end_time\": \"2021-09-17T11:35:55.28012Z\", \"created_time\": \"2021-09-17T11:35:28.197727Z\", \"created_time_dt\": \"2021-09-17T11:35:28.197727Z\", \"duration\": \"0:00:27\", \"iteration\": \"31\", \"goal\": \"accuracy_max\", \"run_name\": \"SparseNormalizer, XGBoostClassifier\", \"run_properties\": \"copy=True, norm='max'\", \"primary_metric\": 0.785, \"best_metric\": 0.82}, {\"run_id\": \"AutoML_bd2c4cc9-fa03-455b-b004-c517c96ea72b_32\", \"run_number\": 34, \"metric\": null, \"status\": \"Completed\", \"run_type\": null, \"training_percent\": \"100\", \"start_time\": \"2021-09-17T11:35:56.662961Z\", \"end_time\": \"2021-09-17T11:36:29.106519Z\", \"created_time\": \"2021-09-17T11:35:56.527031Z\", \"created_time_dt\": \"2021-09-17T11:35:56.527031Z\", \"duration\": \"0:00:32\", \"iteration\": \"32\", \"goal\": \"accuracy_max\", \"run_name\": \"MaxAbsScaler, ExtremeRandomTrees\", \"run_properties\": \"copy=True\", \"primary_metric\": 0.815, \"best_metric\": 0.82}, {\"run_id\": \"AutoML_bd2c4cc9-fa03-455b-b004-c517c96ea72b_33\", \"run_number\": 35, \"metric\": null, \"status\": \"Completed\", \"run_type\": null, \"training_percent\": \"100\", \"start_time\": \"2021-09-17T11:36:30.596051Z\", \"end_time\": \"2021-09-17T11:36:55.254042Z\", \"created_time\": \"2021-09-17T11:36:30.457734Z\", \"created_time_dt\": \"2021-09-17T11:36:30.457734Z\", \"duration\": \"0:00:24\", \"iteration\": \"33\", \"goal\": \"accuracy_max\", \"run_name\": \"StandardScalerWrapper, XGBoostClassifier\", \"run_properties\": \"\\n    copy=True,\\n    with_mean=False,\\n    with_std=False\\n\", \"primary_metric\": 0.82, \"best_metric\": 0.82}, {\"run_id\": \"AutoML_bd2c4cc9-fa03-455b-b004-c517c96ea72b_34\", \"run_number\": 36, \"metric\": null, \"status\": \"Completed\", \"run_type\": null, \"training_percent\": \"100\", \"start_time\": \"2021-09-17T11:36:56.651639Z\", \"end_time\": \"2021-09-17T11:37:20.894485Z\", \"created_time\": \"2021-09-17T11:36:56.501194Z\", \"created_time_dt\": \"2021-09-17T11:36:56.501194Z\", \"duration\": \"0:00:24\", \"iteration\": \"34\", \"goal\": \"accuracy_max\", \"run_name\": \"MaxAbsScaler, LogisticRegression\", \"run_properties\": \"copy=True\", \"primary_metric\": 0.77, \"best_metric\": 0.82}, {\"run_id\": \"AutoML_bd2c4cc9-fa03-455b-b004-c517c96ea72b_35\", \"run_number\": 37, \"metric\": null, \"status\": \"Completed\", \"run_type\": null, \"training_percent\": \"100\", \"start_time\": \"2021-09-17T11:37:23.474086Z\", \"end_time\": \"2021-09-17T11:37:47.599527Z\", \"created_time\": \"2021-09-17T11:37:23.320473Z\", \"created_time_dt\": \"2021-09-17T11:37:23.320473Z\", \"duration\": \"0:00:24\", \"iteration\": \"35\", \"goal\": \"accuracy_max\", \"run_name\": \"MinMaxScaler, LightGBM\", \"run_properties\": \"copy=True, feature_range=(0, 1\", \"primary_metric\": 0.755, \"best_metric\": 0.82}, {\"run_id\": \"AutoML_bd2c4cc9-fa03-455b-b004-c517c96ea72b_36\", \"run_number\": 38, \"metric\": null, \"status\": \"Completed\", \"run_type\": null, \"training_percent\": \"100\", \"start_time\": \"2021-09-17T11:37:49.056497Z\", \"end_time\": \"2021-09-17T11:38:15.596264Z\", \"created_time\": \"2021-09-17T11:37:48.920548Z\", \"created_time_dt\": \"2021-09-17T11:37:48.920548Z\", \"duration\": \"0:00:26\", \"iteration\": \"36\", \"goal\": \"accuracy_max\", \"run_name\": \"StandardScalerWrapper, RandomForest\", \"run_properties\": \"\\n    copy=True,\\n    with_mean=False,\\n    with_std=True\\n\", \"primary_metric\": 0.81, \"best_metric\": 0.82}, {\"run_id\": \"AutoML_bd2c4cc9-fa03-455b-b004-c517c96ea72b_37\", \"run_number\": 39, \"metric\": null, \"status\": \"Completed\", \"run_type\": null, \"training_percent\": \"100\", \"start_time\": \"2021-09-17T11:38:16.000041Z\", \"end_time\": \"2021-09-17T11:38:45.500339Z\", \"created_time\": \"2021-09-17T11:38:15.873006Z\", \"created_time_dt\": \"2021-09-17T11:38:15.873006Z\", \"duration\": \"0:00:29\", \"iteration\": \"37\", \"goal\": \"accuracy_max\", \"run_name\": \"VotingEnsemble\", \"run_properties\": \"\\n    estimators=[('33', Pipeline(\\n        memory=None,\\n        steps=[('standardscalerwrapper', StandardScalerWrapper(\\n            copy=True,\\n            with_mean=False,\\n            with_std=False\\n        \", \"primary_metric\": 0.85, \"best_metric\": 0.85}, {\"run_id\": \"AutoML_bd2c4cc9-fa03-455b-b004-c517c96ea72b_38\", \"run_number\": 40, \"metric\": null, \"status\": \"Completed\", \"run_type\": null, \"training_percent\": \"100\", \"start_time\": \"2021-09-17T11:38:45.875034Z\", \"end_time\": \"2021-09-17T11:39:20.032115Z\", \"created_time\": \"2021-09-17T11:38:45.741189Z\", \"created_time_dt\": \"2021-09-17T11:38:45.741189Z\", \"duration\": \"0:00:34\", \"iteration\": \"38\", \"goal\": \"accuracy_max\", \"run_name\": \"StackEnsemble\", \"run_properties\": \"\\n    base_learners=[('33', Pipeline(\\n        memory=None,\\n        steps=[('standardscalerwrapper', StandardScalerWrapper(\\n            copy=True,\\n            with_mean=False,\\n            with_std=False\\n        \", \"primary_metric\": 0.82, \"best_metric\": 0.85}], \"children_metrics\": {\"categories\": [0], \"series\": {\"recall_score_micro\": [{\"categories\": [\"0\", \"1\", \"2\", \"3\", \"4\", \"5\", \"6\", \"7\", \"8\", \"9\", \"10\", \"11\", \"12\", \"13\", \"14\", \"15\", \"16\", \"17\", \"18\", \"19\", \"20\", \"21\", \"22\", \"23\", \"24\", \"25\", \"26\", \"27\", \"28\", \"29\", \"30\", \"31\", \"32\", \"33\", \"34\", \"35\", \"36\", \"37\", \"38\"], \"mode\": \"markers\", \"name\": \"recall_score_micro\", \"stepped\": false, \"type\": \"scatter\", \"data\": [0.8, 0.805, 0.78, 0.745, 0.6900000000000001, 0.76, 0.775, 0.795, 0.6649999999999999, 0.79, 0.77, 0.785, 0.775, 0.785, 0.715, 0.74, 0.74, 0.77, 0.78, 0.775, 0.775, 0.775, 0.8150000000000001, 0.775, 0.78, 0.45999999999999996, 0.8200000000000001, 0.81, 0.805, 0.795, 0.775, 0.785, 0.8150000000000001, 0.8200000000000001, 0.77, 0.755, 0.81, 0.8500000000000001, 0.8200000000000001]}, {\"categories\": [\"0\", \"1\", \"2\", \"3\", \"4\", \"5\", \"6\", \"7\", \"8\", \"9\", \"10\", \"11\", \"12\", \"13\", \"14\", \"15\", \"16\", \"17\", \"18\", \"19\", \"20\", \"21\", \"22\", \"23\", \"24\", \"25\", \"26\", \"27\", \"28\", \"29\", \"30\", \"31\", \"32\", \"33\", \"34\", \"35\", \"36\", \"37\", \"38\"], \"mode\": \"lines\", \"name\": \"recall_score_micro_max\", \"stepped\": true, \"type\": \"scatter\", \"data\": [0.8, 0.805, 0.805, 0.805, 0.805, 0.805, 0.805, 0.805, 0.805, 0.805, 0.805, 0.805, 0.805, 0.805, 0.805, 0.805, 0.805, 0.805, 0.805, 0.805, 0.805, 0.805, 0.8150000000000001, 0.8150000000000001, 0.8150000000000001, 0.8150000000000001, 0.8200000000000001, 0.8200000000000001, 0.8200000000000001, 0.8200000000000001, 0.8200000000000001, 0.8200000000000001, 0.8200000000000001, 0.8200000000000001, 0.8200000000000001, 0.8200000000000001, 0.8200000000000001, 0.8500000000000001, 0.8500000000000001]}], \"precision_score_weighted\": [{\"categories\": [\"0\", \"1\", \"2\", \"3\", \"4\", \"5\", \"6\", \"7\", \"8\", \"9\", \"10\", \"11\", \"12\", \"13\", \"14\", \"15\", \"16\", \"17\", \"18\", \"19\", \"20\", \"21\", \"22\", \"23\", \"24\", \"25\", \"26\", \"27\", \"28\", \"29\", \"30\", \"31\", \"32\", \"33\", \"34\", \"35\", \"36\", \"37\", \"38\"], \"mode\": \"markers\", \"name\": \"precision_score_weighted\", \"stepped\": false, \"type\": \"scatter\", \"data\": [0.8055433439109909, 0.8103712341579988, 0.7996814296814296, 0.7546479154015919, 0.7026181314600433, 0.7719154619889914, 0.7881486013986013, 0.8074249427043545, 0.6814831698229531, 0.7952920241523183, 0.7742947493682788, 0.8070594171909962, 0.7925091183326478, 0.8204487097869451, 0.7213050454447514, 0.7597160319255907, 0.7676327035537561, 0.7852490450725744, 0.8024392135642135, 0.7945621575062365, 0.7898024475524474, 0.7905013944388944, 0.8269196024563672, 0.7847199266162115, 0.7925218991534781, 0.2148, 0.8353475734791524, 0.8301288462569423, 0.8161715828031617, 0.8019732811048601, 0.7858023504273504, 0.7989816780441781, 0.8305631949749597, 0.8320643566959356, 0.7831939726939727, 0.7880193209568209, 0.8255340659082919, 0.8589525401069518, 0.8374810520361992]}, {\"categories\": [\"0\", \"1\", \"2\", \"3\", \"4\", \"5\", \"6\", \"7\", \"8\", \"9\", \"10\", \"11\", \"12\", \"13\", \"14\", \"15\", \"16\", \"17\", \"18\", \"19\", \"20\", \"21\", \"22\", \"23\", \"24\", \"25\", \"26\", \"27\", \"28\", \"29\", \"30\", \"31\", \"32\", \"33\", \"34\", \"35\", \"36\", \"37\", \"38\"], \"mode\": \"lines\", \"name\": \"precision_score_weighted_max\", \"stepped\": true, \"type\": \"scatter\", \"data\": [0.8055433439109909, 0.8103712341579988, 0.8103712341579988, 0.8103712341579988, 0.8103712341579988, 0.8103712341579988, 0.8103712341579988, 0.8103712341579988, 0.8103712341579988, 0.8103712341579988, 0.8103712341579988, 0.8103712341579988, 0.8103712341579988, 0.8204487097869451, 0.8204487097869451, 0.8204487097869451, 0.8204487097869451, 0.8204487097869451, 0.8204487097869451, 0.8204487097869451, 0.8204487097869451, 0.8204487097869451, 0.8269196024563672, 0.8269196024563672, 0.8269196024563672, 0.8269196024563672, 0.8353475734791524, 0.8353475734791524, 0.8353475734791524, 0.8353475734791524, 0.8353475734791524, 0.8353475734791524, 0.8353475734791524, 0.8353475734791524, 0.8353475734791524, 0.8353475734791524, 0.8353475734791524, 0.8589525401069518, 0.8589525401069518]}], \"log_loss\": [{\"categories\": [\"0\", \"1\", \"2\", \"3\", \"4\", \"5\", \"6\", \"7\", \"8\", \"9\", \"10\", \"11\", \"12\", \"13\", \"14\", \"15\", \"16\", \"17\", \"18\", \"19\", \"20\", \"21\", \"22\", \"23\", \"24\", \"25\", \"26\", \"27\", \"28\", \"29\", \"30\", \"31\", \"32\", \"33\", \"34\", \"35\", \"36\", \"37\", \"38\"], \"mode\": \"markers\", \"name\": \"log_loss\", \"stepped\": false, \"type\": \"scatter\", \"data\": [0.5044214144889438, 0.4244899351387016, 0.5258387569290808, 0.5505636700187422, 1.3879395968660204, 0.48666108291706767, 0.5080234757990773, 0.5408333715975512, 0.9107402937550038, 0.4878259737393534, 0.5224705290677825, 0.5142754648779908, 0.48581818344279404, 0.4966637508943609, 1.64091348363558, 1.2807796717622366, 0.7146460347542648, 0.4787331149991323, 0.5504888696595254, 0.5329790261308048, 0.5064393576975275, 0.5296413577566974, 0.414055762074589, 0.4648072829628885, 0.4549528691175424, 0.696430945344789, 0.4382916165750923, 0.43777638253012296, 0.4879372551616177, 0.4668086373371957, 0.5157612108148231, 0.47629695545939493, 0.47645051254111676, 0.43694618076402736, 0.49588210254718096, 0.6647812438966051, 0.46495603111801354, 0.42308283966705296, 0.5321614876521739]}, {\"categories\": [\"0\", \"1\", \"2\", \"3\", \"4\", \"5\", \"6\", \"7\", \"8\", \"9\", \"10\", \"11\", \"12\", \"13\", \"14\", \"15\", \"16\", \"17\", \"18\", \"19\", \"20\", \"21\", \"22\", \"23\", \"24\", \"25\", \"26\", \"27\", \"28\", \"29\", \"30\", \"31\", \"32\", \"33\", \"34\", \"35\", \"36\", \"37\", \"38\"], \"mode\": \"lines\", \"name\": \"log_loss_min\", \"stepped\": true, \"type\": \"scatter\", \"data\": [0.5044214144889438, 0.4244899351387016, 0.4244899351387016, 0.4244899351387016, 0.4244899351387016, 0.4244899351387016, 0.4244899351387016, 0.4244899351387016, 0.4244899351387016, 0.4244899351387016, 0.4244899351387016, 0.4244899351387016, 0.4244899351387016, 0.4244899351387016, 0.4244899351387016, 0.4244899351387016, 0.4244899351387016, 0.4244899351387016, 0.4244899351387016, 0.4244899351387016, 0.4244899351387016, 0.4244899351387016, 0.414055762074589, 0.414055762074589, 0.414055762074589, 0.414055762074589, 0.414055762074589, 0.414055762074589, 0.414055762074589, 0.414055762074589, 0.414055762074589, 0.414055762074589, 0.414055762074589, 0.414055762074589, 0.414055762074589, 0.414055762074589, 0.414055762074589, 0.414055762074589, 0.414055762074589]}], \"average_precision_score_micro\": [{\"categories\": [\"0\", \"1\", \"2\", \"3\", \"4\", \"5\", \"6\", \"7\", \"8\", \"9\", \"10\", \"11\", \"12\", \"13\", \"14\", \"15\", \"16\", \"17\", \"18\", \"19\", \"20\", \"21\", \"22\", \"23\", \"24\", \"25\", \"26\", \"27\", \"28\", \"29\", \"30\", \"31\", \"32\", \"33\", \"34\", \"35\", \"36\", \"37\", \"38\"], \"mode\": \"markers\", \"name\": \"average_precision_score_micro\", \"stepped\": false, \"type\": \"scatter\", \"data\": [0.886554003559269, 0.8949592619767202, 0.8570278398044026, 0.8458643111693841, 0.7435600194909919, 0.8684256202184941, 0.8591175526603958, 0.887914350743348, 0.760024466589197, 0.850608291984593, 0.8654511010086922, 0.8737898640920174, 0.8654262922626077, 0.8550916048910894, 0.7982687472038024, 0.8323247672839007, 0.7924335232757176, 0.8584363223848609, 0.8621021101982744, 0.8533963635141558, 0.861245279288736, 0.8772856579609791, 0.9002861889362023, 0.8797309060707921, 0.8753911413676035, 0.4848, 0.8825431069431151, 0.8893629666054963, 0.8804619075804785, 0.8690549586323255, 0.8657351271221667, 0.8621726623700904, 0.877206827486896, 0.886473239926556, 0.8640850880525973, 0.8286002859297263, 0.8831835590998791, 0.9091890703087274, 0.8939691818131473]}, {\"categories\": [\"0\", \"1\", \"2\", \"3\", \"4\", \"5\", \"6\", \"7\", \"8\", \"9\", \"10\", \"11\", \"12\", \"13\", \"14\", \"15\", \"16\", \"17\", \"18\", \"19\", \"20\", \"21\", \"22\", \"23\", \"24\", \"25\", \"26\", \"27\", \"28\", \"29\", \"30\", \"31\", \"32\", \"33\", \"34\", \"35\", \"36\", \"37\", \"38\"], \"mode\": \"lines\", \"name\": \"average_precision_score_micro_max\", \"stepped\": true, \"type\": \"scatter\", \"data\": [0.886554003559269, 0.8949592619767202, 0.8949592619767202, 0.8949592619767202, 0.8949592619767202, 0.8949592619767202, 0.8949592619767202, 0.8949592619767202, 0.8949592619767202, 0.8949592619767202, 0.8949592619767202, 0.8949592619767202, 0.8949592619767202, 0.8949592619767202, 0.8949592619767202, 0.8949592619767202, 0.8949592619767202, 0.8949592619767202, 0.8949592619767202, 0.8949592619767202, 0.8949592619767202, 0.8949592619767202, 0.9002861889362023, 0.9002861889362023, 0.9002861889362023, 0.9002861889362023, 0.9002861889362023, 0.9002861889362023, 0.9002861889362023, 0.9002861889362023, 0.9002861889362023, 0.9002861889362023, 0.9002861889362023, 0.9002861889362023, 0.9002861889362023, 0.9002861889362023, 0.9002861889362023, 0.9091890703087274, 0.9091890703087274]}], \"balanced_accuracy\": [{\"categories\": [\"0\", \"1\", \"2\", \"3\", \"4\", \"5\", \"6\", \"7\", \"8\", \"9\", \"10\", \"11\", \"12\", \"13\", \"14\", \"15\", \"16\", \"17\", \"18\", \"19\", \"20\", \"21\", \"22\", \"23\", \"24\", \"25\", \"26\", \"27\", \"28\", \"29\", \"30\", \"31\", \"32\", \"33\", \"34\", \"35\", \"36\", \"37\", \"38\"], \"mode\": \"markers\", \"name\": \"balanced_accuracy\", \"stepped\": false, \"type\": \"scatter\", \"data\": [0.796600188006438, 0.7985789384226885, 0.7776168276168276, 0.7456036151348652, 0.6844371774059275, 0.7546346015096015, 0.7697423236485736, 0.793803071928072, 0.6592838585026084, 0.7836521984959486, 0.7651927933177933, 0.7840537934287934, 0.7705436056998557, 0.7847154581529582, 0.7072107579920079, 0.7377295447607948, 0.7463239017926517, 0.7648223304473304, 0.7821574259074259, 0.7740316974691974, 0.771044406981907, 0.7756686022311021, 0.8132080593018094, 0.7653225246975246, 0.7731350246975247, 0.5, 0.816182688838939, 0.8086792547730048, 0.7990969100344101, 0.7874184842934843, 0.7710122342934842, 0.7844506188256188, 0.8109571851759352, 0.8149079219391719, 0.7644611464923965, 0.7653422965922966, 0.8030317772505273, 0.8461678078865579, 0.8201547584360085]}, {\"categories\": [\"0\", \"1\", \"2\", \"3\", \"4\", \"5\", \"6\", \"7\", \"8\", \"9\", \"10\", \"11\", \"12\", \"13\", \"14\", \"15\", \"16\", \"17\", \"18\", \"19\", \"20\", \"21\", \"22\", \"23\", \"24\", \"25\", \"26\", \"27\", \"28\", \"29\", \"30\", \"31\", \"32\", \"33\", \"34\", \"35\", \"36\", \"37\", \"38\"], \"mode\": \"lines\", \"name\": \"balanced_accuracy_max\", \"stepped\": true, \"type\": \"scatter\", \"data\": [0.796600188006438, 0.7985789384226885, 0.7985789384226885, 0.7985789384226885, 0.7985789384226885, 0.7985789384226885, 0.7985789384226885, 0.7985789384226885, 0.7985789384226885, 0.7985789384226885, 0.7985789384226885, 0.7985789384226885, 0.7985789384226885, 0.7985789384226885, 0.7985789384226885, 0.7985789384226885, 0.7985789384226885, 0.7985789384226885, 0.7985789384226885, 0.7985789384226885, 0.7985789384226885, 0.7985789384226885, 0.8132080593018094, 0.8132080593018094, 0.8132080593018094, 0.8132080593018094, 0.816182688838939, 0.816182688838939, 0.816182688838939, 0.816182688838939, 0.816182688838939, 0.816182688838939, 0.816182688838939, 0.816182688838939, 0.816182688838939, 0.816182688838939, 0.816182688838939, 0.8461678078865579, 0.8461678078865579]}], \"norm_macro_recall\": [{\"categories\": [\"0\", \"1\", \"2\", \"3\", \"4\", \"5\", \"6\", \"7\", \"8\", \"9\", \"10\", \"11\", \"12\", \"13\", \"14\", \"15\", \"16\", \"17\", \"18\", \"19\", \"20\", \"21\", \"22\", \"23\", \"24\", \"25\", \"26\", \"27\", \"28\", \"29\", \"30\", \"31\", \"32\", \"33\", \"34\", \"35\", \"36\", \"37\", \"38\"], \"mode\": \"markers\", \"name\": \"norm_macro_recall\", \"stepped\": false, \"type\": \"scatter\", \"data\": [0.593200376012876, 0.5971578768453768, 0.5552336552336552, 0.49120723026973023, 0.3688743548118548, 0.509269203019203, 0.5394846472971473, 0.5876061438561438, 0.31856771700521697, 0.567304396991897, 0.5303855866355867, 0.5681075868575869, 0.5410872113997114, 0.5694309163059164, 0.414421515984016, 0.47545908952158944, 0.4926478035853036, 0.5296446608946609, 0.5643148518148519, 0.5480633949383948, 0.542088813963814, 0.5513372044622045, 0.6264161186036187, 0.5306450493950494, 0.5462700493950494, 0.0, 0.6323653776778777, 0.6173585095460095, 0.59819382006882, 0.5748369685869685, 0.5420244685869686, 0.5689012376512377, 0.6219143703518704, 0.6298158438783439, 0.528922292984793, 0.5306845931845932, 0.6060635545010545, 0.6923356157731158, 0.6403095168720169]}, {\"categories\": [\"0\", \"1\", \"2\", \"3\", \"4\", \"5\", \"6\", \"7\", \"8\", \"9\", \"10\", \"11\", \"12\", \"13\", \"14\", \"15\", \"16\", \"17\", \"18\", \"19\", \"20\", \"21\", \"22\", \"23\", \"24\", \"25\", \"26\", \"27\", \"28\", \"29\", \"30\", \"31\", \"32\", \"33\", \"34\", \"35\", \"36\", \"37\", \"38\"], \"mode\": \"lines\", \"name\": \"norm_macro_recall_max\", \"stepped\": true, \"type\": \"scatter\", \"data\": [0.593200376012876, 0.5971578768453768, 0.5971578768453768, 0.5971578768453768, 0.5971578768453768, 0.5971578768453768, 0.5971578768453768, 0.5971578768453768, 0.5971578768453768, 0.5971578768453768, 0.5971578768453768, 0.5971578768453768, 0.5971578768453768, 0.5971578768453768, 0.5971578768453768, 0.5971578768453768, 0.5971578768453768, 0.5971578768453768, 0.5971578768453768, 0.5971578768453768, 0.5971578768453768, 0.5971578768453768, 0.6264161186036187, 0.6264161186036187, 0.6264161186036187, 0.6264161186036187, 0.6323653776778777, 0.6323653776778777, 0.6323653776778777, 0.6323653776778777, 0.6323653776778777, 0.6323653776778777, 0.6323653776778777, 0.6323653776778777, 0.6323653776778777, 0.6323653776778777, 0.6323653776778777, 0.6923356157731158, 0.6923356157731158]}], \"recall_score_macro\": [{\"categories\": [\"0\", \"1\", \"2\", \"3\", \"4\", \"5\", \"6\", \"7\", \"8\", \"9\", \"10\", \"11\", \"12\", \"13\", \"14\", \"15\", \"16\", \"17\", \"18\", \"19\", \"20\", \"21\", \"22\", \"23\", \"24\", \"25\", \"26\", \"27\", \"28\", \"29\", \"30\", \"31\", \"32\", \"33\", \"34\", \"35\", \"36\", \"37\", \"38\"], \"mode\": \"markers\", \"name\": \"recall_score_macro\", \"stepped\": false, \"type\": \"scatter\", \"data\": [0.796600188006438, 0.7985789384226885, 0.7776168276168276, 0.7456036151348652, 0.6844371774059275, 0.7546346015096015, 0.7697423236485736, 0.793803071928072, 0.6592838585026084, 0.7836521984959486, 0.7651927933177933, 0.7840537934287934, 0.7705436056998557, 0.7847154581529582, 0.7072107579920079, 0.7377295447607948, 0.7463239017926517, 0.7648223304473304, 0.7821574259074259, 0.7740316974691974, 0.771044406981907, 0.7756686022311021, 0.8132080593018094, 0.7653225246975246, 0.7731350246975247, 0.5, 0.816182688838939, 0.8086792547730048, 0.7990969100344101, 0.7874184842934843, 0.7710122342934842, 0.7844506188256188, 0.8109571851759352, 0.8149079219391719, 0.7644611464923965, 0.7653422965922966, 0.8030317772505273, 0.8461678078865579, 0.8201547584360085]}, {\"categories\": [\"0\", \"1\", \"2\", \"3\", \"4\", \"5\", \"6\", \"7\", \"8\", \"9\", \"10\", \"11\", \"12\", \"13\", \"14\", \"15\", \"16\", \"17\", \"18\", \"19\", \"20\", \"21\", \"22\", \"23\", \"24\", \"25\", \"26\", \"27\", \"28\", \"29\", \"30\", \"31\", \"32\", \"33\", \"34\", \"35\", \"36\", \"37\", \"38\"], \"mode\": \"lines\", \"name\": \"recall_score_macro_max\", \"stepped\": true, \"type\": \"scatter\", \"data\": [0.796600188006438, 0.7985789384226885, 0.7985789384226885, 0.7985789384226885, 0.7985789384226885, 0.7985789384226885, 0.7985789384226885, 0.7985789384226885, 0.7985789384226885, 0.7985789384226885, 0.7985789384226885, 0.7985789384226885, 0.7985789384226885, 0.7985789384226885, 0.7985789384226885, 0.7985789384226885, 0.7985789384226885, 0.7985789384226885, 0.7985789384226885, 0.7985789384226885, 0.7985789384226885, 0.7985789384226885, 0.8132080593018094, 0.8132080593018094, 0.8132080593018094, 0.8132080593018094, 0.816182688838939, 0.816182688838939, 0.816182688838939, 0.816182688838939, 0.816182688838939, 0.816182688838939, 0.816182688838939, 0.816182688838939, 0.816182688838939, 0.816182688838939, 0.816182688838939, 0.8461678078865579, 0.8461678078865579]}], \"f1_score_macro\": [{\"categories\": [\"0\", \"1\", \"2\", \"3\", \"4\", \"5\", \"6\", \"7\", \"8\", \"9\", \"10\", \"11\", \"12\", \"13\", \"14\", \"15\", \"16\", \"17\", \"18\", \"19\", \"20\", \"21\", \"22\", \"23\", \"24\", \"25\", \"26\", \"27\", \"28\", \"29\", \"30\", \"31\", \"32\", \"33\", \"34\", \"35\", \"36\", \"37\", \"38\"], \"mode\": \"markers\", \"name\": \"f1_score_macro\", \"stepped\": false, \"type\": \"scatter\", \"data\": [0.795274976579901, 0.7978978957719367, 0.7719329213508594, 0.740737177949153, 0.6814101993739079, 0.7509766488827142, 0.7669163764109168, 0.7889895133634522, 0.6539170847534819, 0.7826283734647705, 0.7637078262417936, 0.77752084903771, 0.7666744434244186, 0.773400663970889, 0.7057014309220191, 0.7314414430309948, 0.7358656142707867, 0.7622136076116806, 0.7748123617289219, 0.7686671881572501, 0.7678562956750614, 0.770675574678449, 0.8093402357789099, 0.764005641290758, 0.7711996252355673, 0.31402142412204337, 0.8125243804037934, 0.801753453547731, 0.7973400117382445, 0.7865804537120075, 0.7681329731142165, 0.7787746083057362, 0.807476708665967, 0.8124117364052799, 0.7617873970971549, 0.751555796048862, 0.8003083835684539, 0.8441450203142978, 0.8152104095044646]}, {\"categories\": [\"0\", \"1\", \"2\", \"3\", \"4\", \"5\", \"6\", \"7\", \"8\", \"9\", \"10\", \"11\", \"12\", \"13\", \"14\", \"15\", \"16\", \"17\", \"18\", \"19\", \"20\", \"21\", \"22\", \"23\", \"24\", \"25\", \"26\", \"27\", \"28\", \"29\", \"30\", \"31\", \"32\", \"33\", \"34\", \"35\", \"36\", \"37\", \"38\"], \"mode\": \"lines\", \"name\": \"f1_score_macro_max\", \"stepped\": true, \"type\": \"scatter\", \"data\": [0.795274976579901, 0.7978978957719367, 0.7978978957719367, 0.7978978957719367, 0.7978978957719367, 0.7978978957719367, 0.7978978957719367, 0.7978978957719367, 0.7978978957719367, 0.7978978957719367, 0.7978978957719367, 0.7978978957719367, 0.7978978957719367, 0.7978978957719367, 0.7978978957719367, 0.7978978957719367, 0.7978978957719367, 0.7978978957719367, 0.7978978957719367, 0.7978978957719367, 0.7978978957719367, 0.7978978957719367, 0.8093402357789099, 0.8093402357789099, 0.8093402357789099, 0.8093402357789099, 0.8125243804037934, 0.8125243804037934, 0.8125243804037934, 0.8125243804037934, 0.8125243804037934, 0.8125243804037934, 0.8125243804037934, 0.8125243804037934, 0.8125243804037934, 0.8125243804037934, 0.8125243804037934, 0.8441450203142978, 0.8441450203142978]}], \"matthews_correlation\": [{\"categories\": [\"0\", \"1\", \"2\", \"3\", \"4\", \"5\", \"6\", \"7\", \"8\", \"9\", \"10\", \"11\", \"12\", \"13\", \"14\", \"15\", \"16\", \"17\", \"18\", \"19\", \"20\", \"21\", \"22\", \"23\", \"24\", \"25\", \"26\", \"27\", \"28\", \"29\", \"30\", \"31\", \"32\", \"33\", \"34\", \"35\", \"36\", \"37\", \"38\"], \"mode\": \"markers\", \"name\": \"matthews_correlation\", \"stepped\": false, \"type\": \"scatter\", \"data\": [0.5960724554640766, 0.6044881170373388, 0.5702556565071326, 0.49282917245210844, 0.3815958014011345, 0.5198605384168467, 0.5509851801968595, 0.592754361793556, 0.3347127068461385, 0.5739406801006913, 0.533254335264758, 0.583555374349299, 0.5554495191664499, 0.5956639923956681, 0.4212871429374491, 0.4889830101889914, 0.5017785038099043, 0.5441848046921952, 0.5756624999983508, 0.5610334743041097, 0.5534139640259677, 0.5572136636628073, 0.6333093542491396, 0.5449086823871924, 0.5590852797053703, 0.0, 0.6442033859387317, 0.6320791076311982, 0.6095867545999109, 0.5845964603147482, 0.5497394735970305, 0.5755581976477273, 0.6355170101124157, 0.6407539297540301, 0.5409211850403424, 0.5399929218480268, 0.623346053577892, 0.699548611340127, 0.6492320730822482]}, {\"categories\": [\"0\", \"1\", \"2\", \"3\", \"4\", \"5\", \"6\", \"7\", \"8\", \"9\", \"10\", \"11\", \"12\", \"13\", \"14\", \"15\", \"16\", \"17\", \"18\", \"19\", \"20\", \"21\", \"22\", \"23\", \"24\", \"25\", \"26\", \"27\", \"28\", \"29\", \"30\", \"31\", \"32\", \"33\", \"34\", \"35\", \"36\", \"37\", \"38\"], \"mode\": \"lines\", \"name\": \"matthews_correlation_max\", \"stepped\": true, \"type\": \"scatter\", \"data\": [0.5960724554640766, 0.6044881170373388, 0.6044881170373388, 0.6044881170373388, 0.6044881170373388, 0.6044881170373388, 0.6044881170373388, 0.6044881170373388, 0.6044881170373388, 0.6044881170373388, 0.6044881170373388, 0.6044881170373388, 0.6044881170373388, 0.6044881170373388, 0.6044881170373388, 0.6044881170373388, 0.6044881170373388, 0.6044881170373388, 0.6044881170373388, 0.6044881170373388, 0.6044881170373388, 0.6044881170373388, 0.6333093542491396, 0.6333093542491396, 0.6333093542491396, 0.6333093542491396, 0.6442033859387317, 0.6442033859387317, 0.6442033859387317, 0.6442033859387317, 0.6442033859387317, 0.6442033859387317, 0.6442033859387317, 0.6442033859387317, 0.6442033859387317, 0.6442033859387317, 0.6442033859387317, 0.699548611340127, 0.699548611340127]}], \"AUC_micro\": [{\"categories\": [\"0\", \"1\", \"2\", \"3\", \"4\", \"5\", \"6\", \"7\", \"8\", \"9\", \"10\", \"11\", \"12\", \"13\", \"14\", \"15\", \"16\", \"17\", \"18\", \"19\", \"20\", \"21\", \"22\", \"23\", \"24\", \"25\", \"26\", \"27\", \"28\", \"29\", \"30\", \"31\", \"32\", \"33\", \"34\", \"35\", \"36\", \"37\", \"38\"], \"mode\": \"markers\", \"name\": \"AUC_micro\", \"stepped\": false, \"type\": \"scatter\", \"data\": [0.8815999999999999, 0.8886000000000001, 0.8528, 0.84, 0.7518, 0.8604, 0.8542, 0.8814, 0.7552000000000001, 0.8540000000000001, 0.8572, 0.871, 0.861, 0.8562, 0.7996000000000001, 0.839, 0.7908, 0.8528, 0.8563999999999999, 0.8548, 0.8562000000000001, 0.871, 0.8922, 0.8706, 0.8728, 0.45999999999999996, 0.8872, 0.8795999999999999, 0.8758, 0.8625999999999999, 0.8593999999999999, 0.8566, 0.8746, 0.8828, 0.8588, 0.829, 0.8784, 0.9056, 0.8939999999999999]}, {\"categories\": [\"0\", \"1\", \"2\", \"3\", \"4\", \"5\", \"6\", \"7\", \"8\", \"9\", \"10\", \"11\", \"12\", \"13\", \"14\", \"15\", \"16\", \"17\", \"18\", \"19\", \"20\", \"21\", \"22\", \"23\", \"24\", \"25\", \"26\", \"27\", \"28\", \"29\", \"30\", \"31\", \"32\", \"33\", \"34\", \"35\", \"36\", \"37\", \"38\"], \"mode\": \"lines\", \"name\": \"AUC_micro_max\", \"stepped\": true, \"type\": \"scatter\", \"data\": [0.8815999999999999, 0.8886000000000001, 0.8886000000000001, 0.8886000000000001, 0.8886000000000001, 0.8886000000000001, 0.8886000000000001, 0.8886000000000001, 0.8886000000000001, 0.8886000000000001, 0.8886000000000001, 0.8886000000000001, 0.8886000000000001, 0.8886000000000001, 0.8886000000000001, 0.8886000000000001, 0.8886000000000001, 0.8886000000000001, 0.8886000000000001, 0.8886000000000001, 0.8886000000000001, 0.8886000000000001, 0.8922, 0.8922, 0.8922, 0.8922, 0.8922, 0.8922, 0.8922, 0.8922, 0.8922, 0.8922, 0.8922, 0.8922, 0.8922, 0.8922, 0.8922, 0.9056, 0.9056]}], \"precision_score_micro\": [{\"categories\": [\"0\", \"1\", \"2\", \"3\", \"4\", \"5\", \"6\", \"7\", \"8\", \"9\", \"10\", \"11\", \"12\", \"13\", \"14\", \"15\", \"16\", \"17\", \"18\", \"19\", \"20\", \"21\", \"22\", \"23\", \"24\", \"25\", \"26\", \"27\", \"28\", \"29\", \"30\", \"31\", \"32\", \"33\", \"34\", \"35\", \"36\", \"37\", \"38\"], \"mode\": \"markers\", \"name\": \"precision_score_micro\", \"stepped\": false, \"type\": \"scatter\", \"data\": [0.8, 0.805, 0.78, 0.745, 0.6900000000000001, 0.76, 0.775, 0.795, 0.6649999999999999, 0.79, 0.77, 0.785, 0.775, 0.785, 0.715, 0.74, 0.74, 0.77, 0.78, 0.775, 0.775, 0.775, 0.8150000000000001, 0.775, 0.78, 0.45999999999999996, 0.8200000000000001, 0.81, 0.805, 0.795, 0.775, 0.785, 0.8150000000000001, 0.8200000000000001, 0.77, 0.755, 0.81, 0.8500000000000001, 0.8200000000000001]}, {\"categories\": [\"0\", \"1\", \"2\", \"3\", \"4\", \"5\", \"6\", \"7\", \"8\", \"9\", \"10\", \"11\", \"12\", \"13\", \"14\", \"15\", \"16\", \"17\", \"18\", \"19\", \"20\", \"21\", \"22\", \"23\", \"24\", \"25\", \"26\", \"27\", \"28\", \"29\", \"30\", \"31\", \"32\", \"33\", \"34\", \"35\", \"36\", \"37\", \"38\"], \"mode\": \"lines\", \"name\": \"precision_score_micro_max\", \"stepped\": true, \"type\": \"scatter\", \"data\": [0.8, 0.805, 0.805, 0.805, 0.805, 0.805, 0.805, 0.805, 0.805, 0.805, 0.805, 0.805, 0.805, 0.805, 0.805, 0.805, 0.805, 0.805, 0.805, 0.805, 0.805, 0.805, 0.8150000000000001, 0.8150000000000001, 0.8150000000000001, 0.8150000000000001, 0.8200000000000001, 0.8200000000000001, 0.8200000000000001, 0.8200000000000001, 0.8200000000000001, 0.8200000000000001, 0.8200000000000001, 0.8200000000000001, 0.8200000000000001, 0.8200000000000001, 0.8200000000000001, 0.8500000000000001, 0.8500000000000001]}], \"AUC_macro\": [{\"categories\": [\"0\", \"1\", \"2\", \"3\", \"4\", \"5\", \"6\", \"7\", \"8\", \"9\", \"10\", \"11\", \"12\", \"13\", \"14\", \"15\", \"16\", \"17\", \"18\", \"19\", \"20\", \"21\", \"22\", \"23\", \"24\", \"25\", \"26\", \"27\", \"28\", \"29\", \"30\", \"31\", \"32\", \"33\", \"34\", \"35\", \"36\", \"37\", \"38\"], \"mode\": \"markers\", \"name\": \"AUC_macro\", \"stepped\": false, \"type\": \"scatter\", \"data\": [0.8705898615273615, 0.8812588800088801, 0.8583585164835165, 0.8486544705294705, 0.7572733863358864, 0.8663498307248307, 0.8569717435342435, 0.8846116383616385, 0.7648671467421467, 0.8505519133644134, 0.8619695235320235, 0.8820275557775558, 0.8666738816738817, 0.8662265512265512, 0.7884047896547897, 0.835975135975136, 0.796762647075147, 0.862624007936508, 0.8628453837828838, 0.8605809815184815, 0.8593755896880897, 0.8824279713342214, 0.8924759962259963, 0.8747770632145633, 0.8623691586191586, 0.5, 0.8832152916527917, 0.8885433663558664, 0.8755955502830503, 0.8598588564213565, 0.8679081335331335, 0.867333707958708, 0.8771113608613609, 0.8773141788766788, 0.8618886668886669, 0.855750378094128, 0.876551295926296, 0.9074913628038628, 0.903485785048285]}, {\"categories\": [\"0\", \"1\", \"2\", \"3\", \"4\", \"5\", \"6\", \"7\", \"8\", \"9\", \"10\", \"11\", \"12\", \"13\", \"14\", \"15\", \"16\", \"17\", \"18\", \"19\", \"20\", \"21\", \"22\", \"23\", \"24\", \"25\", \"26\", \"27\", \"28\", \"29\", \"30\", \"31\", \"32\", \"33\", \"34\", \"35\", \"36\", \"37\", \"38\"], \"mode\": \"lines\", \"name\": \"AUC_macro_max\", \"stepped\": true, \"type\": \"scatter\", \"data\": [0.8705898615273615, 0.8812588800088801, 0.8812588800088801, 0.8812588800088801, 0.8812588800088801, 0.8812588800088801, 0.8812588800088801, 0.8846116383616385, 0.8846116383616385, 0.8846116383616385, 0.8846116383616385, 0.8846116383616385, 0.8846116383616385, 0.8846116383616385, 0.8846116383616385, 0.8846116383616385, 0.8846116383616385, 0.8846116383616385, 0.8846116383616385, 0.8846116383616385, 0.8846116383616385, 0.8846116383616385, 0.8924759962259963, 0.8924759962259963, 0.8924759962259963, 0.8924759962259963, 0.8924759962259963, 0.8924759962259963, 0.8924759962259963, 0.8924759962259963, 0.8924759962259963, 0.8924759962259963, 0.8924759962259963, 0.8924759962259963, 0.8924759962259963, 0.8924759962259963, 0.8924759962259963, 0.9074913628038628, 0.9074913628038628]}], \"average_precision_score_macro\": [{\"categories\": [\"0\", \"1\", \"2\", \"3\", \"4\", \"5\", \"6\", \"7\", \"8\", \"9\", \"10\", \"11\", \"12\", \"13\", \"14\", \"15\", \"16\", \"17\", \"18\", \"19\", \"20\", \"21\", \"22\", \"23\", \"24\", \"25\", \"26\", \"27\", \"28\", \"29\", \"30\", \"31\", \"32\", \"33\", \"34\", \"35\", \"36\", \"37\", \"38\"], \"mode\": \"markers\", \"name\": \"average_precision_score_macro\", \"stepped\": false, \"type\": \"scatter\", \"data\": [0.8763811945033624, 0.8873888748889305, 0.865408645829544, 0.855066751553053, 0.7658099879553186, 0.8735319674633819, 0.8663447939910225, 0.8921590781826261, 0.778749386958574, 0.8621489877750386, 0.871031697780908, 0.8858519357827547, 0.8756921431242998, 0.8682147704629197, 0.7992691793446557, 0.8455324143889118, 0.8069342927072058, 0.8778344986376047, 0.8703041349993567, 0.8572128873362279, 0.8688410751311214, 0.8857544051555906, 0.9047515340265181, 0.8845701650907041, 0.8727591121044895, 0.5, 0.8879603708348953, 0.8995757860259108, 0.8841338589925906, 0.8690829900763231, 0.8744762670372461, 0.8776747497299142, 0.8847345354423888, 0.8858989981910721, 0.8716537182581624, 0.8576913233208692, 0.8851309271135626, 0.9170088296797347, 0.9122569451062308]}, {\"categories\": [\"0\", \"1\", \"2\", \"3\", \"4\", \"5\", \"6\", \"7\", \"8\", \"9\", \"10\", \"11\", \"12\", \"13\", \"14\", \"15\", \"16\", \"17\", \"18\", \"19\", \"20\", \"21\", \"22\", \"23\", \"24\", \"25\", \"26\", \"27\", \"28\", \"29\", \"30\", \"31\", \"32\", \"33\", \"34\", \"35\", \"36\", \"37\", \"38\"], \"mode\": \"lines\", \"name\": \"average_precision_score_macro_max\", \"stepped\": true, \"type\": \"scatter\", \"data\": [0.8763811945033624, 0.8873888748889305, 0.8873888748889305, 0.8873888748889305, 0.8873888748889305, 0.8873888748889305, 0.8873888748889305, 0.8921590781826261, 0.8921590781826261, 0.8921590781826261, 0.8921590781826261, 0.8921590781826261, 0.8921590781826261, 0.8921590781826261, 0.8921590781826261, 0.8921590781826261, 0.8921590781826261, 0.8921590781826261, 0.8921590781826261, 0.8921590781826261, 0.8921590781826261, 0.8921590781826261, 0.9047515340265181, 0.9047515340265181, 0.9047515340265181, 0.9047515340265181, 0.9047515340265181, 0.9047515340265181, 0.9047515340265181, 0.9047515340265181, 0.9047515340265181, 0.9047515340265181, 0.9047515340265181, 0.9047515340265181, 0.9047515340265181, 0.9047515340265181, 0.9047515340265181, 0.9170088296797347, 0.9170088296797347]}], \"AUC_weighted\": [{\"categories\": [\"0\", \"1\", \"2\", \"3\", \"4\", \"5\", \"6\", \"7\", \"8\", \"9\", \"10\", \"11\", \"12\", \"13\", \"14\", \"15\", \"16\", \"17\", \"18\", \"19\", \"20\", \"21\", \"22\", \"23\", \"24\", \"25\", \"26\", \"27\", \"28\", \"29\", \"30\", \"31\", \"32\", \"33\", \"34\", \"35\", \"36\", \"37\", \"38\"], \"mode\": \"markers\", \"name\": \"AUC_weighted\", \"stepped\": false, \"type\": \"scatter\", \"data\": [0.8705898615273615, 0.8812588800088801, 0.8583585164835165, 0.8486544705294705, 0.7572733863358864, 0.8663498307248307, 0.8569717435342435, 0.8846116383616384, 0.7648671467421467, 0.8505519133644133, 0.8619695235320236, 0.8820275557775556, 0.8666738816738816, 0.8662265512265512, 0.7884047896547897, 0.835975135975136, 0.7967626470751471, 0.862624007936508, 0.8628453837828838, 0.8605809815184815, 0.8593755896880897, 0.8824279713342214, 0.8924759962259963, 0.8747770632145633, 0.8623691586191586, 0.5, 0.8832152916527916, 0.8885433663558664, 0.8755955502830504, 0.8598588564213564, 0.8679081335331335, 0.867333707958708, 0.8771113608613609, 0.8773141788766788, 0.8618886668886669, 0.8557503780941281, 0.876551295926296, 0.9074913628038628, 0.903485785048285]}, {\"categories\": [\"0\", \"1\", \"2\", \"3\", \"4\", \"5\", \"6\", \"7\", \"8\", \"9\", \"10\", \"11\", \"12\", \"13\", \"14\", \"15\", \"16\", \"17\", \"18\", \"19\", \"20\", \"21\", \"22\", \"23\", \"24\", \"25\", \"26\", \"27\", \"28\", \"29\", \"30\", \"31\", \"32\", \"33\", \"34\", \"35\", \"36\", \"37\", \"38\"], \"mode\": \"lines\", \"name\": \"AUC_weighted_max\", \"stepped\": true, \"type\": \"scatter\", \"data\": [0.8705898615273615, 0.8812588800088801, 0.8812588800088801, 0.8812588800088801, 0.8812588800088801, 0.8812588800088801, 0.8812588800088801, 0.8846116383616384, 0.8846116383616384, 0.8846116383616384, 0.8846116383616384, 0.8846116383616384, 0.8846116383616384, 0.8846116383616384, 0.8846116383616384, 0.8846116383616384, 0.8846116383616384, 0.8846116383616384, 0.8846116383616384, 0.8846116383616384, 0.8846116383616384, 0.8846116383616384, 0.8924759962259963, 0.8924759962259963, 0.8924759962259963, 0.8924759962259963, 0.8924759962259963, 0.8924759962259963, 0.8924759962259963, 0.8924759962259963, 0.8924759962259963, 0.8924759962259963, 0.8924759962259963, 0.8924759962259963, 0.8924759962259963, 0.8924759962259963, 0.8924759962259963, 0.9074913628038628, 0.9074913628038628]}], \"f1_score_micro\": [{\"categories\": [\"0\", \"1\", \"2\", \"3\", \"4\", \"5\", \"6\", \"7\", \"8\", \"9\", \"10\", \"11\", \"12\", \"13\", \"14\", \"15\", \"16\", \"17\", \"18\", \"19\", \"20\", \"21\", \"22\", \"23\", \"24\", \"25\", \"26\", \"27\", \"28\", \"29\", \"30\", \"31\", \"32\", \"33\", \"34\", \"35\", \"36\", \"37\", \"38\"], \"mode\": \"markers\", \"name\": \"f1_score_micro\", \"stepped\": false, \"type\": \"scatter\", \"data\": [0.8, 0.805, 0.78, 0.745, 0.6900000000000001, 0.76, 0.775, 0.7949999999999999, 0.6649999999999999, 0.7899999999999999, 0.77, 0.7849999999999999, 0.775, 0.7849999999999999, 0.715, 0.74, 0.74, 0.77, 0.78, 0.775, 0.7750000000000001, 0.775, 0.8150000000000001, 0.775, 0.78, 0.45999999999999996, 0.82, 0.8099999999999999, 0.8049999999999999, 0.795, 0.775, 0.785, 0.815, 0.8200000000000001, 0.77, 0.755, 0.81, 0.8500000000000001, 0.8200000000000001]}, {\"categories\": [\"0\", \"1\", \"2\", \"3\", \"4\", \"5\", \"6\", \"7\", \"8\", \"9\", \"10\", \"11\", \"12\", \"13\", \"14\", \"15\", \"16\", \"17\", \"18\", \"19\", \"20\", \"21\", \"22\", \"23\", \"24\", \"25\", \"26\", \"27\", \"28\", \"29\", \"30\", \"31\", \"32\", \"33\", \"34\", \"35\", \"36\", \"37\", \"38\"], \"mode\": \"lines\", \"name\": \"f1_score_micro_max\", \"stepped\": true, \"type\": \"scatter\", \"data\": [0.8, 0.805, 0.805, 0.805, 0.805, 0.805, 0.805, 0.805, 0.805, 0.805, 0.805, 0.805, 0.805, 0.805, 0.805, 0.805, 0.805, 0.805, 0.805, 0.805, 0.805, 0.805, 0.8150000000000001, 0.8150000000000001, 0.8150000000000001, 0.8150000000000001, 0.82, 0.82, 0.82, 0.82, 0.82, 0.82, 0.82, 0.8200000000000001, 0.8200000000000001, 0.8200000000000001, 0.8200000000000001, 0.8500000000000001, 0.8500000000000001]}], \"accuracy\": [{\"categories\": [\"0\", \"1\", \"2\", \"3\", \"4\", \"5\", \"6\", \"7\", \"8\", \"9\", \"10\", \"11\", \"12\", \"13\", \"14\", \"15\", \"16\", \"17\", \"18\", \"19\", \"20\", \"21\", \"22\", \"23\", \"24\", \"25\", \"26\", \"27\", \"28\", \"29\", \"30\", \"31\", \"32\", \"33\", \"34\", \"35\", \"36\", \"37\", \"38\"], \"mode\": \"markers\", \"name\": \"accuracy\", \"stepped\": false, \"type\": \"scatter\", \"data\": [0.8, 0.805, 0.78, 0.745, 0.6900000000000001, 0.76, 0.775, 0.795, 0.6649999999999999, 0.79, 0.77, 0.785, 0.775, 0.785, 0.715, 0.74, 0.74, 0.77, 0.78, 0.775, 0.775, 0.775, 0.8150000000000001, 0.775, 0.78, 0.45999999999999996, 0.8200000000000001, 0.81, 0.805, 0.795, 0.775, 0.785, 0.8150000000000001, 0.8200000000000001, 0.77, 0.755, 0.81, 0.8500000000000001, 0.8200000000000001]}, {\"categories\": [\"0\", \"1\", \"2\", \"3\", \"4\", \"5\", \"6\", \"7\", \"8\", \"9\", \"10\", \"11\", \"12\", \"13\", \"14\", \"15\", \"16\", \"17\", \"18\", \"19\", \"20\", \"21\", \"22\", \"23\", \"24\", \"25\", \"26\", \"27\", \"28\", \"29\", \"30\", \"31\", \"32\", \"33\", \"34\", \"35\", \"36\", \"37\", \"38\"], \"mode\": \"lines\", \"name\": \"accuracy_max\", \"stepped\": true, \"type\": \"scatter\", \"data\": [0.8, 0.805, 0.805, 0.805, 0.805, 0.805, 0.805, 0.805, 0.805, 0.805, 0.805, 0.805, 0.805, 0.805, 0.805, 0.805, 0.805, 0.805, 0.805, 0.805, 0.805, 0.805, 0.8150000000000001, 0.8150000000000001, 0.8150000000000001, 0.8150000000000001, 0.8200000000000001, 0.8200000000000001, 0.8200000000000001, 0.8200000000000001, 0.8200000000000001, 0.8200000000000001, 0.8200000000000001, 0.8200000000000001, 0.8200000000000001, 0.8200000000000001, 0.8200000000000001, 0.8500000000000001, 0.8500000000000001]}], \"f1_score_weighted\": [{\"categories\": [\"0\", \"1\", \"2\", \"3\", \"4\", \"5\", \"6\", \"7\", \"8\", \"9\", \"10\", \"11\", \"12\", \"13\", \"14\", \"15\", \"16\", \"17\", \"18\", \"19\", \"20\", \"21\", \"22\", \"23\", \"24\", \"25\", \"26\", \"27\", \"28\", \"29\", \"30\", \"31\", \"32\", \"33\", \"34\", \"35\", \"36\", \"37\", \"38\"], \"mode\": \"markers\", \"name\": \"f1_score_weighted\", \"stepped\": false, \"type\": \"scatter\", \"data\": [0.8000528082614983, 0.8034149598152156, 0.7763110296178688, 0.7440636801923064, 0.6867373867039814, 0.7568734379096845, 0.7730040168599566, 0.7938048937009038, 0.6593781598303656, 0.78834881417602, 0.7692551947850861, 0.7814505487750923, 0.7725786816032869, 0.7761422833565604, 0.7131594092182327, 0.7364105938844225, 0.7380274667860875, 0.7676261964877584, 0.7782278077610558, 0.7729781292378304, 0.7735642885068157, 0.7747865949786656, 0.8136069426355166, 0.7714839268236834, 0.7779908816733769, 0.2919571517559134, 0.8181513483852942, 0.8052114759707469, 0.8032405191329037, 0.7928521068067105, 0.7735892382446843, 0.7826602624927869, 0.8124298458953191, 0.8181350904886016, 0.7679242757476068, 0.7526874757065912, 0.8062657761155203, 0.8488698526182541, 0.8192324812455192]}, {\"categories\": [\"0\", \"1\", \"2\", \"3\", \"4\", \"5\", \"6\", \"7\", \"8\", \"9\", \"10\", \"11\", \"12\", \"13\", \"14\", \"15\", \"16\", \"17\", \"18\", \"19\", \"20\", \"21\", \"22\", \"23\", \"24\", \"25\", \"26\", \"27\", \"28\", \"29\", \"30\", \"31\", \"32\", \"33\", \"34\", \"35\", \"36\", \"37\", \"38\"], \"mode\": \"lines\", \"name\": \"f1_score_weighted_max\", \"stepped\": true, \"type\": \"scatter\", \"data\": [0.8000528082614983, 0.8034149598152156, 0.8034149598152156, 0.8034149598152156, 0.8034149598152156, 0.8034149598152156, 0.8034149598152156, 0.8034149598152156, 0.8034149598152156, 0.8034149598152156, 0.8034149598152156, 0.8034149598152156, 0.8034149598152156, 0.8034149598152156, 0.8034149598152156, 0.8034149598152156, 0.8034149598152156, 0.8034149598152156, 0.8034149598152156, 0.8034149598152156, 0.8034149598152156, 0.8034149598152156, 0.8136069426355166, 0.8136069426355166, 0.8136069426355166, 0.8136069426355166, 0.8181513483852942, 0.8181513483852942, 0.8181513483852942, 0.8181513483852942, 0.8181513483852942, 0.8181513483852942, 0.8181513483852942, 0.8181513483852942, 0.8181513483852942, 0.8181513483852942, 0.8181513483852942, 0.8488698526182541, 0.8488698526182541]}], \"recall_score_weighted\": [{\"categories\": [\"0\", \"1\", \"2\", \"3\", \"4\", \"5\", \"6\", \"7\", \"8\", \"9\", \"10\", \"11\", \"12\", \"13\", \"14\", \"15\", \"16\", \"17\", \"18\", \"19\", \"20\", \"21\", \"22\", \"23\", \"24\", \"25\", \"26\", \"27\", \"28\", \"29\", \"30\", \"31\", \"32\", \"33\", \"34\", \"35\", \"36\", \"37\", \"38\"], \"mode\": \"markers\", \"name\": \"recall_score_weighted\", \"stepped\": false, \"type\": \"scatter\", \"data\": [0.8, 0.805, 0.78, 0.745, 0.6900000000000001, 0.76, 0.775, 0.795, 0.6649999999999999, 0.79, 0.77, 0.785, 0.775, 0.785, 0.715, 0.74, 0.74, 0.77, 0.78, 0.775, 0.775, 0.775, 0.8150000000000001, 0.775, 0.78, 0.45999999999999996, 0.8200000000000001, 0.81, 0.805, 0.795, 0.775, 0.785, 0.8150000000000001, 0.8200000000000001, 0.77, 0.755, 0.81, 0.8500000000000001, 0.8200000000000001]}, {\"categories\": [\"0\", \"1\", \"2\", \"3\", \"4\", \"5\", \"6\", \"7\", \"8\", \"9\", \"10\", \"11\", \"12\", \"13\", \"14\", \"15\", \"16\", \"17\", \"18\", \"19\", \"20\", \"21\", \"22\", \"23\", \"24\", \"25\", \"26\", \"27\", \"28\", \"29\", \"30\", \"31\", \"32\", \"33\", \"34\", \"35\", \"36\", \"37\", \"38\"], \"mode\": \"lines\", \"name\": \"recall_score_weighted_max\", \"stepped\": true, \"type\": \"scatter\", \"data\": [0.8, 0.805, 0.805, 0.805, 0.805, 0.805, 0.805, 0.805, 0.805, 0.805, 0.805, 0.805, 0.805, 0.805, 0.805, 0.805, 0.805, 0.805, 0.805, 0.805, 0.805, 0.805, 0.8150000000000001, 0.8150000000000001, 0.8150000000000001, 0.8150000000000001, 0.8200000000000001, 0.8200000000000001, 0.8200000000000001, 0.8200000000000001, 0.8200000000000001, 0.8200000000000001, 0.8200000000000001, 0.8200000000000001, 0.8200000000000001, 0.8200000000000001, 0.8200000000000001, 0.8500000000000001, 0.8500000000000001]}], \"precision_score_macro\": [{\"categories\": [\"0\", \"1\", \"2\", \"3\", \"4\", \"5\", \"6\", \"7\", \"8\", \"9\", \"10\", \"11\", \"12\", \"13\", \"14\", \"15\", \"16\", \"17\", \"18\", \"19\", \"20\", \"21\", \"22\", \"23\", \"24\", \"25\", \"26\", \"27\", \"28\", \"29\", \"30\", \"31\", \"32\", \"33\", \"34\", \"35\", \"36\", \"37\", \"38\"], \"mode\": \"markers\", \"name\": \"precision_score_macro\", \"stepped\": false, \"type\": \"scatter\", \"data\": [0.7995834129106187, 0.8062084463738876, 0.7932293401043401, 0.7473292893789217, 0.6976994818906583, 0.7655853643905115, 0.7816054605117104, 0.7990413691700456, 0.676442453476606, 0.790415803559186, 0.768138009865951, 0.8005037360300518, 0.7854023172497437, 0.8135860003966622, 0.7142962123660653, 0.751739477842419, 0.7562432313665866, 0.7798569077980844, 0.7937883297258297, 0.7877306584132242, 0.7827339327339328, 0.7816665105727606, 0.8202052134956546, 0.7803065312740236, 0.7865891783654941, 0.22999999999999998, 0.828645039171355, 0.8240352752252906, 0.8111715404478563, 0.7977838864352023, 0.7788595085470085, 0.7913601155788657, 0.8249648635678047, 0.8264701307464466, 0.7768237838550338, 0.7749614101176601, 0.8211026734488422, 0.8535187851364322, 0.8292550433634992]}, {\"categories\": [\"0\", \"1\", \"2\", \"3\", \"4\", \"5\", \"6\", \"7\", \"8\", \"9\", \"10\", \"11\", \"12\", \"13\", \"14\", \"15\", \"16\", \"17\", \"18\", \"19\", \"20\", \"21\", \"22\", \"23\", \"24\", \"25\", \"26\", \"27\", \"28\", \"29\", \"30\", \"31\", \"32\", \"33\", \"34\", \"35\", \"36\", \"37\", \"38\"], \"mode\": \"lines\", \"name\": \"precision_score_macro_max\", \"stepped\": true, \"type\": \"scatter\", \"data\": [0.7995834129106187, 0.8062084463738876, 0.8062084463738876, 0.8062084463738876, 0.8062084463738876, 0.8062084463738876, 0.8062084463738876, 0.8062084463738876, 0.8062084463738876, 0.8062084463738876, 0.8062084463738876, 0.8062084463738876, 0.8062084463738876, 0.8135860003966622, 0.8135860003966622, 0.8135860003966622, 0.8135860003966622, 0.8135860003966622, 0.8135860003966622, 0.8135860003966622, 0.8135860003966622, 0.8135860003966622, 0.8202052134956546, 0.8202052134956546, 0.8202052134956546, 0.8202052134956546, 0.828645039171355, 0.828645039171355, 0.828645039171355, 0.828645039171355, 0.828645039171355, 0.828645039171355, 0.828645039171355, 0.828645039171355, 0.828645039171355, 0.828645039171355, 0.828645039171355, 0.8535187851364322, 0.8535187851364322]}], \"average_precision_score_weighted\": [{\"categories\": [\"0\", \"1\", \"2\", \"3\", \"4\", \"5\", \"6\", \"7\", \"8\", \"9\", \"10\", \"11\", \"12\", \"13\", \"14\", \"15\", \"16\", \"17\", \"18\", \"19\", \"20\", \"21\", \"22\", \"23\", \"24\", \"25\", \"26\", \"27\", \"28\", \"29\", \"30\", \"31\", \"32\", \"33\", \"34\", \"35\", \"36\", \"37\", \"38\"], \"mode\": \"markers\", \"name\": \"average_precision_score_weighted\", \"stepped\": false, \"type\": \"scatter\", \"data\": [0.881660058642282, 0.8923485319168873, 0.8696106734598539, 0.8610725440409264, 0.7700779983447401, 0.8785489427517711, 0.8722710079777164, 0.8960596201903493, 0.7835302707748646, 0.8640527710731709, 0.8745694794074623, 0.8906956694191601, 0.8812242678241651, 0.8723327845829781, 0.8030307025713103, 0.8491368952197276, 0.8125612750137047, 0.8815001034182536, 0.8749562226445201, 0.8629375720329685, 0.8748015684475183, 0.8909837336796853, 0.9077510727361734, 0.8883202157179728, 0.8773190931738801, 0.5096, 0.8919231000976559, 0.9034642632694103, 0.8877328929950413, 0.873575101798786, 0.8803126873724532, 0.8811903537694862, 0.8887277677966953, 0.8906532209779198, 0.8773807246714115, 0.8620040246568614, 0.8888621797262428, 0.9194456008994893, 0.914530943465196]}, {\"categories\": [\"0\", \"1\", \"2\", \"3\", \"4\", \"5\", \"6\", \"7\", \"8\", \"9\", \"10\", \"11\", \"12\", \"13\", \"14\", \"15\", \"16\", \"17\", \"18\", \"19\", \"20\", \"21\", \"22\", \"23\", \"24\", \"25\", \"26\", \"27\", \"28\", \"29\", \"30\", \"31\", \"32\", \"33\", \"34\", \"35\", \"36\", \"37\", \"38\"], \"mode\": \"lines\", \"name\": \"average_precision_score_weighted_max\", \"stepped\": true, \"type\": \"scatter\", \"data\": [0.881660058642282, 0.8923485319168873, 0.8923485319168873, 0.8923485319168873, 0.8923485319168873, 0.8923485319168873, 0.8923485319168873, 0.8960596201903493, 0.8960596201903493, 0.8960596201903493, 0.8960596201903493, 0.8960596201903493, 0.8960596201903493, 0.8960596201903493, 0.8960596201903493, 0.8960596201903493, 0.8960596201903493, 0.8960596201903493, 0.8960596201903493, 0.8960596201903493, 0.8960596201903493, 0.8960596201903493, 0.9077510727361734, 0.9077510727361734, 0.9077510727361734, 0.9077510727361734, 0.9077510727361734, 0.9077510727361734, 0.9077510727361734, 0.9077510727361734, 0.9077510727361734, 0.9077510727361734, 0.9077510727361734, 0.9077510727361734, 0.9077510727361734, 0.9077510727361734, 0.9077510727361734, 0.9194456008994893, 0.9194456008994893]}], \"weighted_accuracy\": [{\"categories\": [\"0\", \"1\", \"2\", \"3\", \"4\", \"5\", \"6\", \"7\", \"8\", \"9\", \"10\", \"11\", \"12\", \"13\", \"14\", \"15\", \"16\", \"17\", \"18\", \"19\", \"20\", \"21\", \"22\", \"23\", \"24\", \"25\", \"26\", \"27\", \"28\", \"29\", \"30\", \"31\", \"32\", \"33\", \"34\", \"35\", \"36\", \"37\", \"38\"], \"mode\": \"markers\", \"name\": \"weighted_accuracy\", \"stepped\": false, \"type\": \"scatter\", \"data\": [0.8028750026964793, 0.8105140417971497, 0.7816985827240861, 0.7442689467983667, 0.6949412341335535, 0.764606202311441, 0.7794024353502876, 0.7958135427709545, 0.6699945100292936, 0.7954889579323041, 0.774105141354277, 0.7857270698085266, 0.7786037133055592, 0.7845856036028077, 0.721812904551105, 0.7416225337630771, 0.7338718021628615, 0.7744092992054762, 0.77804043211293, 0.7757664797795599, 0.7782600495177681, 0.774322849282604, 0.8161724670839802, 0.7835432365306749, 0.7860507971340063, 0.423915941914287, 0.823168202104483, 0.810593351930783, 0.810358679274755, 0.8017133051037313, 0.7785016147737922, 0.785037748672982, 0.8181875685707158, 0.8244217169854053, 0.7746655348957467, 0.7454174381131594, 0.8159942906278486, 0.8530427829988028, 0.8194201393107039]}, {\"categories\": [\"0\", \"1\", \"2\", \"3\", \"4\", \"5\", \"6\", \"7\", \"8\", \"9\", \"10\", \"11\", \"12\", \"13\", \"14\", \"15\", \"16\", \"17\", \"18\", \"19\", \"20\", \"21\", \"22\", \"23\", \"24\", \"25\", \"26\", \"27\", \"28\", \"29\", \"30\", \"31\", \"32\", \"33\", \"34\", \"35\", \"36\", \"37\", \"38\"], \"mode\": \"lines\", \"name\": \"weighted_accuracy_max\", \"stepped\": true, \"type\": \"scatter\", \"data\": [0.8028750026964793, 0.8105140417971497, 0.8105140417971497, 0.8105140417971497, 0.8105140417971497, 0.8105140417971497, 0.8105140417971497, 0.8105140417971497, 0.8105140417971497, 0.8105140417971497, 0.8105140417971497, 0.8105140417971497, 0.8105140417971497, 0.8105140417971497, 0.8105140417971497, 0.8105140417971497, 0.8105140417971497, 0.8105140417971497, 0.8105140417971497, 0.8105140417971497, 0.8105140417971497, 0.8105140417971497, 0.8161724670839802, 0.8161724670839802, 0.8161724670839802, 0.8161724670839802, 0.823168202104483, 0.823168202104483, 0.823168202104483, 0.823168202104483, 0.823168202104483, 0.823168202104483, 0.823168202104483, 0.8244217169854053, 0.8244217169854053, 0.8244217169854053, 0.8244217169854053, 0.8530427829988028, 0.8530427829988028]}]}, \"metricName\": null, \"primaryMetricName\": \"accuracy\", \"showLegend\": false}, \"run_metrics\": [{\"name\": \"matthews_correlation\", \"run_id\": \"AutoML_bd2c4cc9-fa03-455b-b004-c517c96ea72b\", \"categories\": [0], \"series\": [{\"data\": [0.699548611340127]}]}, {\"name\": \"norm_macro_recall\", \"run_id\": \"AutoML_bd2c4cc9-fa03-455b-b004-c517c96ea72b\", \"categories\": [0], \"series\": [{\"data\": [0.6923356157731158]}]}, {\"name\": \"average_precision_score_micro\", \"run_id\": \"AutoML_bd2c4cc9-fa03-455b-b004-c517c96ea72b\", \"categories\": [0], \"series\": [{\"data\": [0.9091890703087274]}]}, {\"name\": \"AUC_macro\", \"run_id\": \"AutoML_bd2c4cc9-fa03-455b-b004-c517c96ea72b\", \"categories\": [0], \"series\": [{\"data\": [0.9074913628038628]}]}, {\"name\": \"precision_score_macro\", \"run_id\": \"AutoML_bd2c4cc9-fa03-455b-b004-c517c96ea72b\", \"categories\": [0], \"series\": [{\"data\": [0.8535187851364322]}]}, {\"name\": \"average_precision_score_weighted\", \"run_id\": \"AutoML_bd2c4cc9-fa03-455b-b004-c517c96ea72b\", \"categories\": [0], \"series\": [{\"data\": [0.9194456008994893]}]}, {\"name\": \"recall_score_macro\", \"run_id\": \"AutoML_bd2c4cc9-fa03-455b-b004-c517c96ea72b\", \"categories\": [0], \"series\": [{\"data\": [0.8461678078865579]}]}, {\"name\": \"f1_score_macro\", \"run_id\": \"AutoML_bd2c4cc9-fa03-455b-b004-c517c96ea72b\", \"categories\": [0], \"series\": [{\"data\": [0.8441450203142978]}]}, {\"name\": \"recall_score_weighted\", \"run_id\": \"AutoML_bd2c4cc9-fa03-455b-b004-c517c96ea72b\", \"categories\": [0], \"series\": [{\"data\": [0.8500000000000001]}]}, {\"name\": \"recall_score_micro\", \"run_id\": \"AutoML_bd2c4cc9-fa03-455b-b004-c517c96ea72b\", \"categories\": [0], \"series\": [{\"data\": [0.8500000000000001]}]}, {\"name\": \"weighted_accuracy\", \"run_id\": \"AutoML_bd2c4cc9-fa03-455b-b004-c517c96ea72b\", \"categories\": [0], \"series\": [{\"data\": [0.8530427829988028]}]}, {\"name\": \"accuracy\", \"run_id\": \"AutoML_bd2c4cc9-fa03-455b-b004-c517c96ea72b\", \"categories\": [0], \"series\": [{\"data\": [0.8500000000000001]}]}, {\"name\": \"average_precision_score_macro\", \"run_id\": \"AutoML_bd2c4cc9-fa03-455b-b004-c517c96ea72b\", \"categories\": [0], \"series\": [{\"data\": [0.9170088296797347]}]}, {\"name\": \"log_loss\", \"run_id\": \"AutoML_bd2c4cc9-fa03-455b-b004-c517c96ea72b\", \"categories\": [0], \"series\": [{\"data\": [0.42308283966705296]}]}, {\"name\": \"balanced_accuracy\", \"run_id\": \"AutoML_bd2c4cc9-fa03-455b-b004-c517c96ea72b\", \"categories\": [0], \"series\": [{\"data\": [0.8461678078865579]}]}, {\"name\": \"precision_score_micro\", \"run_id\": \"AutoML_bd2c4cc9-fa03-455b-b004-c517c96ea72b\", \"categories\": [0], \"series\": [{\"data\": [0.8500000000000001]}]}, {\"name\": \"AUC_weighted\", \"run_id\": \"AutoML_bd2c4cc9-fa03-455b-b004-c517c96ea72b\", \"categories\": [0], \"series\": [{\"data\": [0.9074913628038628]}]}, {\"name\": \"AUC_micro\", \"run_id\": \"AutoML_bd2c4cc9-fa03-455b-b004-c517c96ea72b\", \"categories\": [0], \"series\": [{\"data\": [0.9056]}]}, {\"name\": \"f1_score_micro\", \"run_id\": \"AutoML_bd2c4cc9-fa03-455b-b004-c517c96ea72b\", \"categories\": [0], \"series\": [{\"data\": [0.8500000000000001]}]}, {\"name\": \"precision_score_weighted\", \"run_id\": \"AutoML_bd2c4cc9-fa03-455b-b004-c517c96ea72b\", \"categories\": [0], \"series\": [{\"data\": [0.8589525401069518]}]}, {\"name\": \"f1_score_weighted\", \"run_id\": \"AutoML_bd2c4cc9-fa03-455b-b004-c517c96ea72b\", \"categories\": [0], \"series\": [{\"data\": [0.8488698526182541]}]}], \"run_logs\": \"\\nRun is completed.\", \"graph\": {}, \"widget_settings\": {\"childWidgetDisplay\": \"popup\", \"send_telemetry\": false, \"log_level\": \"INFO\", \"sdk_version\": \"1.33.0\"}, \"loading\": false}"
     },
     "metadata": {},
     "output_type": "display_data"
    }
   ],
   "source": [
    "from azureml.widgets import RunDetails\n",
    "\n",
    "RunDetails(auto_ml_run).show()"
   ]
  },
  {
   "cell_type": "markdown",
   "metadata": {},
   "source": [
    "## Best Model\n",
    "\n",
    "TODO: In the cell below, get the best model from the automl experiments and display all the properties of the model.\n",
    "\n"
   ]
  },
  {
   "cell_type": "code",
   "execution_count": 7,
   "metadata": {
    "gather": {
     "logged": 1598431426111
    },
    "jupyter": {
     "outputs_hidden": false,
     "source_hidden": false
    },
    "nteract": {
     "transient": {
      "deleting": false
     }
    }
   },
   "outputs": [
    {
     "data": {
      "text/plain": [
       "['auto-ml-best_run.pkl']"
      ]
     },
     "execution_count": 7,
     "metadata": {},
     "output_type": "execute_result"
    }
   ],
   "source": [
    "#TODO: Save the best model\n",
    "import joblib\n",
    "\n",
    "best_run,best_model = auto_ml_run.get_output()\n",
    "\n",
    "joblib.dump(value=best_model,filename='auto-ml-best_run.pkl')"
   ]
  },
  {
   "cell_type": "markdown",
   "metadata": {},
   "source": [
    "## Model Deployment\n",
    "\n",
    "Remember you have to deploy only one of the two models you trained.. Perform the steps in the rest of this notebook only if you wish to deploy this model.\n",
    "\n",
    "TODO: In the cell below, register the model, create an inference config and deploy the model as a web service."
   ]
  },
  {
   "cell_type": "code",
   "execution_count": 15,
   "metadata": {
    "gather": {
     "logged": 1598431435189
    },
    "jupyter": {
     "outputs_hidden": false,
     "source_hidden": false
    },
    "nteract": {
     "transient": {
      "deleting": false
     }
    }
   },
   "outputs": [],
   "source": [
    "from azureml.core.model import InferenceConfig, Model\n",
    "from azureml.core import Environment\n",
    "from azureml.core.webservice import AciWebservice, Webservice\n",
    "from azureml.core.webservice import LocalWebservice\n",
    "\n",
    "# Register the model to deploy\n",
    "model_name = best_run.properties['model_name']\n",
    "description = 'AutoML model for predicting track recommendation'\n",
    "tags={'area': \"music\", 'type': \"classification\"}\n",
    "model = auto_ml_run.register_model(model_name = model_name, \n",
    "                                  description = description, \n",
    "                                  tags = tags)"
   ]
  },
  {
   "cell_type": "code",
   "execution_count": 16,
   "metadata": {},
   "outputs": [
    {
     "name": "stdout",
     "output_type": "stream",
     "text": [
      "Downloading model AutoMLbd2c4cc9f37:3 to /tmp/azureml_r595wx4i/AutoMLbd2c4cc9f37/3\n",
      "Generating Docker build context.\n",
      "Package creation Succeeded\n",
      "Logging into Docker registry 3977cd3874564d8082e4b29d18b76dee.azurecr.io\n",
      "Logging into Docker registry 3977cd3874564d8082e4b29d18b76dee.azurecr.io\n",
      "Building Docker image from Dockerfile...\n",
      "Step 1/5 : FROM 3977cd3874564d8082e4b29d18b76dee.azurecr.io/azureml/azureml_caedc30a6bda9fb9f54dc89c7082e270\n",
      " ---> f955cd5fb5cb\n",
      "Step 2/5 : COPY azureml-app /var/azureml-app\n",
      " ---> e8074fe24437\n",
      "Step 3/5 : RUN mkdir -p '/var/azureml-app' && echo eyJhY2NvdW50Q29udGV4dCI6eyJzdWJzY3JpcHRpb25JZCI6ImI5NjhmYjM2LWYwNmEtNGM3Ni1hMTVmLWFmYWI2OGFlNzY2NyIsInJlc291cmNlR3JvdXBOYW1lIjoiYW1sLXF1aWNrc3RhcnRzLTE1ODU1MyIsImFjY291bnROYW1lIjoicXVpY2stc3RhcnRzLXdzLTE1ODU1MyIsIndvcmtzcGFjZUlkIjoiMzk3N2NkMzgtNzQ1Ni00ZDgwLTgyZTQtYjI5ZDE4Yjc2ZGVlIn0sIm1vZGVscyI6e30sIm1vZGVsc0luZm8iOnt9fQ== | base64 --decode > /var/azureml-app/model_config_map.json\n",
      " ---> Running in 9b89391c2409\n",
      " ---> 266f0dae1cf6\n",
      "Step 4/5 : RUN mv '/var/azureml-app/tmpfnckhxxu.py' /var/azureml-app/main.py\n",
      " ---> Running in ac9b1b1c973c\n",
      " ---> bb40bb5181e4\n",
      "Step 5/5 : CMD [\"runsvdir\",\"/var/runit\"]\n",
      " ---> Running in 425f8b835376\n",
      " ---> 1af16370054d\n",
      "Successfully built 1af16370054d\n",
      "Successfully tagged my-web-service:latest\n",
      "Starting Docker container...\n",
      "Docker container running.\n"
     ]
    }
   ],
   "source": [
    "# Combine scoring script & environment in Inference configuration\n",
    "aml_test_env = Environment(name=\"project-environment\")\n",
    "inference_config = InferenceConfig(entry_script=\"score.py\",\n",
    "                                   environment=aml_test_env)\n",
    "\n",
    "# Set deployment configuration\n",
    "deployment_config = LocalWebservice.deploy_configuration(port=6789)\n",
    "\n",
    "# Define the model, inference, & deployment configuration and web service name and location to deploy\n",
    "service = Model.deploy(workspace = ws,\n",
    "                       name = \"my-web-service\",\n",
    "                       models = [model],\n",
    "                       inference_config = inference_config,\n",
    "                       deployment_config = deployment_config)"
   ]
  },
  {
   "cell_type": "markdown",
   "metadata": {
    "collapsed": true,
    "gather": {
     "logged": 1598431657736
    },
    "jupyter": {
     "outputs_hidden": false,
     "source_hidden": false
    },
    "nteract": {
     "transient": {
      "deleting": false
     }
    }
   },
   "source": [
    "TODO: In the cell below, send a request to the web service you deployed to test it."
   ]
  },
  {
   "cell_type": "code",
   "execution_count": 20,
   "metadata": {
    "gather": {
     "logged": 1598432707604
    },
    "jupyter": {
     "outputs_hidden": false,
     "source_hidden": false
    },
    "nteract": {
     "transient": {
      "deleting": false
     }
    }
   },
   "outputs": [
    {
     "name": "stdout",
     "output_type": "stream",
     "text": [
      "test is {'danceability': 0.724, 'energy': 0.6, 'key': 1, 'loudness': -6.25, 'mode': 0, 'speechiness': 0.087, 'acousticness': 0.28, 'instrumentalness': 6.83e-05, 'liveness': 0.108, 'valence': 0.201, 'tempo': 164.037}\n"
     ]
    }
   ],
   "source": [
    "import requests\n",
    "import json\n",
    "\n",
    "uri = service.scoring_uri\n",
    "requests.get(\"http://localhost:6789\")\n",
    "headers = {\"Content-Type\": \"application/json\"}\n",
    "data = {\n",
    "    \n",
    "    \"danceability\":0.724,\n",
    "    \"energy\":0.6,\n",
    "    \"key\":1,\n",
    "    \"loudness\":-6.25,\n",
    "    \"mode\":0,\n",
    "    \"speechiness\":0.087,\n",
    "    \"acousticness\":0.28,\n",
    "    \"instrumentalness\":6.83e-05,\n",
    "    \"liveness\":0.108,\n",
    "    \"valence\":0.201,\n",
    "    \"tempo\":164.037\n",
    "}\n",
    "data = json.dumps(data)\n",
    "response = requests.post(uri, data=data, headers=headers)\n",
    "\n",
    "print(response.json())"
   ]
  },
  {
   "cell_type": "markdown",
   "metadata": {
    "collapsed": true,
    "gather": {
     "logged": 1598432765711
    },
    "jupyter": {
     "outputs_hidden": false,
     "source_hidden": false
    },
    "nteract": {
     "transient": {
      "deleting": false
     }
    }
   },
   "source": [
    "TODO: In the cell below, print the logs of the web service and delete the service"
   ]
  },
  {
   "cell_type": "code",
   "execution_count": 21,
   "metadata": {
    "jupyter": {
     "outputs_hidden": false,
     "source_hidden": false
    },
    "nteract": {
     "transient": {
      "deleting": false
     }
    }
   },
   "outputs": [
    {
     "name": "stdout",
     "output_type": "stream",
     "text": [
      "2021-09-17T13:53:38,963495688+00:00 - gunicorn/run \n",
      "Dynamic Python package installation is disabled.\n",
      "Starting HTTP server\n",
      "2021-09-17T13:53:38,964705385+00:00 - rsyslog/run \n",
      "2021-09-17T13:53:38,967305078+00:00 - nginx/run \n",
      "2021-09-17T13:53:38,970254370+00:00 - iot-server/run \n",
      "EdgeHubConnectionString and IOTEDGE_IOTHUBHOSTNAME are not set. Exiting...\n",
      "2021-09-17T13:53:39,065720959+00:00 - iot-server/finish 1 0\n",
      "2021-09-17T13:53:39,067174461+00:00 - Exit code 1 is normal. Not restarting iot-server.\n",
      "Starting gunicorn 20.1.0\n",
      "Listening at: http://127.0.0.1:31311 (12)\n",
      "Using worker: sync\n",
      "worker timeout is set to 300\n",
      "Booting worker with pid: 41\n",
      "SPARK_HOME not set. Skipping PySpark Initialization.\n",
      "Initializing logger\n",
      "2021-09-17 13:53:39,438 | root | INFO | Starting up app insights client\n",
      "logging socket was found. logging is available.\n",
      "logging socket was found. logging is available.\n",
      "2021-09-17 13:53:39,438 | root | INFO | Starting up request id generator\n",
      "2021-09-17 13:53:39,438 | root | INFO | Starting up app insight hooks\n",
      "2021-09-17 13:53:39,438 | root | INFO | Invoking user's init function\n",
      "This is init\n",
      "no request id,This is init\n",
      "\n",
      "2021-09-17 13:53:39,438 | root | INFO | Users's init has completed successfully\n",
      "2021-09-17 13:53:39,440 | root | INFO | Skipping middleware: dbg_model_info as it's not enabled.\n",
      "2021-09-17 13:53:39,441 | root | INFO | Skipping middleware: dbg_resource_usage as it's not enabled.\n",
      "2021-09-17 13:53:39,442 | root | INFO | Scoring timeout setting is not found. Use default timeout: 3600000 ms\n",
      "2021-09-17 13:55:48,186 | root | INFO | Scoring Timer is set to 3600.0 seconds\n",
      "received data {'query': 'What color is the fox', 'context': 'The quick brown fox jumped over the lazy dog.'}\n",
      "a73adc72-a954-4ddc-b0d1-297d7a29def3,received data {'query': 'What color is the fox', 'context': 'The quick brown fox jumped over the lazy dog.'}\n",
      "\n",
      "2021-09-17 13:55:48,186 | root | INFO | 200\n",
      "127.0.0.1 - - [17/Sep/2021:13:55:48 +0000] \"POST /score HTTP/1.0\" 200 104 \"-\" \"python-requests/2.26.0\"\n",
      "2021-09-17 14:01:24,916 | root | INFO | Scoring Timer is set to 3600.0 seconds\n",
      "received data {'danceability': 0.724, 'energy': 0.6, 'key': 1, 'loudness': -6.25, 'mode': 0, 'speechiness': 0.087, 'acousticness': 0.28, 'instrumentalness': 6.83e-05, 'liveness': 0.108, 'valence': 0.201, 'tempo': 164.037}\n",
      "c8a82968-4fba-4891-9c9e-dbace06c5317,received data {'danceability': 0.724, 'energy': 0.6, 'key': 1, 'loudness': -6.25, 'mode': 0, 'speechiness': 0.087, 'acousticness': 0.28, 'instrumentalness': 6.83e-05, 'liveness': 0.108, 'valence': 0.201, 'tempo': 164.037}\n",
      "\n",
      "2021-09-17 14:01:24,916 | root | INFO | 200\n",
      "127.0.0.1 - - [17/Sep/2021:14:01:24 +0000] \"POST /score HTTP/1.0\" 200 217 \"-\" \"python-requests/2.26.0\"\n",
      "2021-09-17 14:05:40,363 | root | INFO | Scoring Timer is set to 3600.0 seconds\n",
      "received data {'danceability': 0.724, 'energy': 0.6, 'key': 1, 'loudness': -6.25, 'mode': 0, 'speechiness': 0.087, 'acousticness': 0.28, 'instrumentalness': 6.83e-05, 'liveness': 0.108, 'valence': 0.201, 'tempo': 164.037}\n",
      "d269ac17-937f-4bc2-ade8-be5ee16d5c2c,received data {'danceability': 0.724, 'energy': 0.6, 'key': 1, 'loudness': -6.25, 'mode': 0, 'speechiness': 0.087, 'acousticness': 0.28, 'instrumentalness': 6.83e-05, 'liveness': 0.108, 'valence': 0.201, 'tempo': 164.037}\n",
      "\n",
      "2021-09-17 14:05:40,364 | root | INFO | 200\n",
      "127.0.0.1 - - [17/Sep/2021:14:05:40 +0000] \"POST /score HTTP/1.0\" 200 217 \"-\" \"python-requests/2.26.0\"\n",
      "\n"
     ]
    }
   ],
   "source": [
    "print(service.get_logs())"
   ]
  },
  {
   "cell_type": "code",
   "execution_count": null,
   "metadata": {},
   "outputs": [],
   "source": [
    "service.delete()\n",
    "model.delete()"
   ]
  }
 ],
 "metadata": {
  "kernel_info": {
   "name": "python3-azureml"
  },
  "kernelspec": {
   "display_name": "Python 3",
   "language": "python",
   "name": "python3"
  },
  "language_info": {
   "codemirror_mode": {
    "name": "ipython",
    "version": 3
   },
   "file_extension": ".py",
   "mimetype": "text/x-python",
   "name": "python",
   "nbconvert_exporter": "python",
   "pygments_lexer": "ipython3",
   "version": "3.6.9"
  },
  "nteract": {
   "version": "nteract-front-end@1.0.0"
  }
 },
 "nbformat": 4,
 "nbformat_minor": 2
}
