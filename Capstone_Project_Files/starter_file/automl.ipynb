{
 "cells": [
  {
   "cell_type": "markdown",
   "metadata": {},
   "source": [
    "# Automated ML\n",
    "\n",
    "TODO: Import Dependencies. In the cell below, import all the dependencies that you will need to complete the project."
   ]
  },
  {
   "cell_type": "code",
   "execution_count": 6,
   "metadata": {
    "gather": {
     "logged": 1598423888013
    },
    "jupyter": {
     "outputs_hidden": false,
     "source_hidden": false
    },
    "nteract": {
     "transient": {
      "deleting": false
     }
    }
   },
   "outputs": [],
   "source": [
    "from azureml.core import Workspace,Experiment"
   ]
  },
  {
   "cell_type": "markdown",
   "metadata": {},
   "source": [
    "## Dataset\n",
    "\n",
    "### Overview\n",
    "TODO: In this markdown cell, give an overview of the dataset you are using. Also mention the task you will be performing.\n",
    "\n",
    "\n",
    "TODO: Get data. In the cell below, write code to access the data you will be using in this project. Remember that the dataset needs to be external."
   ]
  },
  {
   "cell_type": "code",
   "execution_count": 1,
   "metadata": {},
   "outputs": [],
   "source": [
    "from azureml.data.dataset_factory import TabularDatasetFactory\n",
    "\n",
    "# Create TabularDataset using TabularDatasetFactory\n",
    "# Data is available at: \n",
    "# \"https://automlsamplenotebookdata.blob.core.windows.net/automl-sample-notebook-data/bankmarketing_train.csv\"\n",
    "\n",
    "auto_ml_url_path='https://raw.githubusercontent.com/Mufumi/Udacity-Capstone-Project/main/Spotify_playlist/spotify_playlist.csv'\n",
    "auto_ml_ds = TabularDatasetFactory.from_delimited_files(path=auto_ml_url_path)"
   ]
  },
  {
   "cell_type": "code",
   "execution_count": 2,
   "metadata": {},
   "outputs": [],
   "source": []
  },
  {
   "cell_type": "code",
   "execution_count": 7,
   "metadata": {
    "gather": {
     "logged": 1598423890461
    },
    "jupyter": {
     "outputs_hidden": false,
     "source_hidden": false
    },
    "nteract": {
     "transient": {
      "deleting": false
     }
    }
   },
   "outputs": [
    {
     "name": "stdout",
     "output_type": "stream",
     "text": [
      "No run_configuration provided, running on local with default configuration\n",
      "Running in the active local environment.\n"
     ]
    },
    {
     "data": {
      "text/html": [
       "<table style=\"width:100%\"><tr><th>Experiment</th><th>Id</th><th>Type</th><th>Status</th><th>Details Page</th><th>Docs Page</th></tr><tr><td>auto_ml_experiment</td><td>AutoML_1b1d6a52-6a22-41c2-8546-a488a7a5260a</td><td>automl</td><td>Preparing</td><td><a href=\"https://ml.azure.com/runs/AutoML_1b1d6a52-6a22-41c2-8546-a488a7a5260a?wsid=/subscriptions/2c48c51c-bd47-40d4-abbe-fb8eabd19c8c/resourcegroups/aml-quickstarts-158537/workspaces/quick-starts-ws-158537&amp;tid=660b3398-b80e-49d2-bc5b-ac1dc93b5254\" target=\"_blank\" rel=\"noopener\">Link to Azure Machine Learning studio</a></td><td><a href=\"https://docs.microsoft.com/en-us/python/api/overview/azure/ml/intro?view=azure-ml-py\" target=\"_blank\" rel=\"noopener\">Link to Documentation</a></td></tr></table>"
      ],
      "text/plain": [
       "<IPython.core.display.HTML object>"
      ]
     },
     "metadata": {},
     "output_type": "display_data"
    },
    {
     "name": "stdout",
     "output_type": "stream",
     "text": [
      "Current status: DatasetEvaluation. Gathering dataset statistics.\n",
      "Current status: FeaturesGeneration. Generating features for the dataset.\n",
      "Current status: DatasetFeaturization. Beginning to fit featurizers and featurize the dataset.\n",
      "Current status: DatasetFeaturizationCompleted. Completed fit featurizers and featurizing the dataset.\n",
      "Current status: DatasetCrossValidationSplit. Generating individually featurized CV splits.\n",
      "\n",
      "****************************************************************************************************\n",
      "DATA GUARDRAILS: \n",
      "\n",
      "TYPE:         Class balancing detection\n",
      "STATUS:       PASSED\n",
      "DESCRIPTION:  Your inputs were analyzed, and all classes are balanced in your training data.\n",
      "              Learn more about imbalanced data: https://aka.ms/AutomatedMLImbalancedData\n",
      "\n",
      "****************************************************************************************************\n",
      "\n",
      "TYPE:         Missing feature values imputation\n",
      "STATUS:       PASSED\n",
      "DESCRIPTION:  No feature missing values were detected in the training data.\n",
      "              Learn more about missing value imputation: https://aka.ms/AutomatedMLFeaturization\n",
      "\n",
      "****************************************************************************************************\n",
      "\n",
      "TYPE:         High cardinality feature detection\n",
      "STATUS:       PASSED\n",
      "DESCRIPTION:  Your inputs were analyzed, and no high cardinality features were detected.\n",
      "              Learn more about high cardinality feature handling: https://aka.ms/AutomatedMLFeaturization\n",
      "\n",
      "****************************************************************************************************\n",
      "Current status: ModelSelection. Beginning model selection.\n",
      "\n",
      "****************************************************************************************************\n",
      "ITERATION: The iteration being evaluated.\n",
      "PIPELINE: A summary description of the pipeline being evaluated.\n",
      "DURATION: Time taken for the current iteration.\n",
      "METRIC: The result of computing score on the fitted pipeline.\n",
      "BEST: The best observed score thus far.\n",
      "****************************************************************************************************\n",
      "\n",
      " ITERATION   PIPELINE                                       DURATION      METRIC      BEST\n",
      "         0   MaxAbsScaler LightGBM                          0:00:27       0.8000    0.8000\n",
      "         1   MaxAbsScaler XGBoostClassifier                 0:00:24       0.8050    0.8050\n",
      "         2   MaxAbsScaler ExtremeRandomTrees                0:00:26       0.7650    0.8050\n",
      "         3   SparseNormalizer XGBoostClassifier             0:00:23       0.7450    0.8050\n",
      "         4   StandardScalerWrapper KNN                      0:00:25       0.6900    0.8050\n",
      "         5   MaxAbsScaler LightGBM                          0:00:25       0.7600    0.8050\n",
      "         6   RobustScaler LogisticRegression                0:00:27       0.7750    0.8050\n",
      "         7   MaxAbsScaler LightGBM                          0:00:25       0.7950    0.8050\n",
      "         8   StandardScalerWrapper KNN                      0:00:25       0.6650    0.8050\n",
      "         9   StandardScalerWrapper SVM                      0:00:25       0.7900    0.8050\n",
      "        10   StandardScalerWrapper XGBoostClassifier        0:00:28       0.7700    0.8050\n",
      "        11   MinMaxScaler RandomForest                      0:00:30       0.7850    0.8050\n",
      "        12   StandardScalerWrapper LogisticRegression       0:00:25       0.7750    0.8050\n",
      "        13   StandardScalerWrapper KNN                      0:00:26       0.7850    0.8050\n",
      "        14   RobustScaler KNN                               0:00:24       0.7150    0.8050\n",
      "        15   MinMaxScaler KNN                               0:00:24       0.7400    0.8050\n",
      "        16   SparseNormalizer KNN                           0:00:24       0.7400    0.8050\n",
      "        17   MaxAbsScaler LogisticRegression                0:00:27       0.7700    0.8050\n",
      "        18   StandardScalerWrapper XGBoostClassifier        0:00:24       0.7800    0.8050\n",
      "        19   StandardScalerWrapper XGBoostClassifier        0:00:23       0.7750    0.8050\n",
      "        20   MaxAbsScaler LogisticRegression                0:00:32       0.7750    0.8050\n",
      "        21   StandardScalerWrapper XGBoostClassifier        0:00:23       0.7750    0.8050\n",
      "        22   RobustScaler RandomForest                      0:00:25       0.8100    0.8100\n",
      "        23   SparseNormalizer XGBoostClassifier             0:00:25       0.8100    0.8100\n",
      "        24   StandardScalerWrapper LightGBM                 0:00:26       0.7800    0.8100\n",
      "        25   RobustScaler RandomForest                      0:00:29       0.6300    0.8100\n",
      "        26   SparseNormalizer XGBoostClassifier             0:00:25       0.8100    0.8100\n",
      "        27   StandardScalerWrapper LightGBM                 0:00:26       0.8200    0.8200\n",
      "        28   SparseNormalizer XGBoostClassifier             0:00:28       0.8000    0.8200\n",
      "        29   StandardScalerWrapper RandomForest             0:00:28       0.7800    0.8200\n",
      "        30   SparseNormalizer LightGBM                      0:00:25       0.7600    0.8200\n",
      "        31   MaxAbsScaler LightGBM                          0:00:27       0.8000    0.8200\n",
      "        32   MaxAbsScaler RandomForest                      0:00:25       0.8050    0.8200\n",
      "        33   StandardScalerWrapper XGBoostClassifier        0:00:24       0.8200    0.8200\n",
      "        34   StandardScalerWrapper LightGBM                 0:00:26       0.8050    0.8200\n",
      "        35   RobustScaler LightGBM                          0:00:25       0.7750    0.8200\n",
      "        36   MaxAbsScaler LightGBM                          0:00:25       0.7750    0.8200\n",
      "        37   SparseNormalizer XGBoostClassifier             0:00:27       0.7700    0.8200\n",
      "        38   VotingEnsemble                                 0:00:29       0.8450    0.8450\n",
      "        39   StackEnsemble                                  0:00:29       0.8300    0.8450\n",
      "Stopping criteria reached at iteration 40. Ending experiment.\n",
      "****************************************************************************************************\n",
      "Current status: BestRunExplainModel. Best run model explanations started\n",
      "Current status: ModelExplanationDataSetSetup. Model explanations data setup completed\n",
      "Current status: PickSurrogateModel. Choosing LightGBM as the surrogate model for explanations\n",
      "Current status: EngineeredFeatureExplanations. Computation of engineered features started\n",
      "Current status: EngineeredFeatureExplanations. Computation of engineered features completed\n",
      "Current status: RawFeaturesExplanations. Computation of raw features started\n",
      "Current status: RawFeaturesExplanations. Computation of raw features completed\n",
      "Current status: BestRunExplainModel. Best run model explanations completed\n",
      "****************************************************************************************************\n"
     ]
    }
   ],
   "source": [
    "ws = Workspace.from_config()\n",
    "\n",
    "# choose a name for experiment\n",
    "auto_ml_experiment=Experiment(ws,\"auto_ml_experiment\")\n",
    "auto_ml_run=auto_ml_experiment.submit(config=automl_config,show_output=True)"
   ]
  },
  {
   "cell_type": "markdown",
   "metadata": {},
   "source": [
    "## AutoML Configuration\n",
    "\n",
    "TODO: Explain why you chose the automl settings and cofiguration you used below."
   ]
  },
  {
   "cell_type": "code",
   "execution_count": null,
   "metadata": {
    "gather": {
     "logged": 1598429217746
    },
    "jupyter": {
     "outputs_hidden": false,
     "source_hidden": false
    },
    "nteract": {
     "transient": {
      "deleting": false
     }
    }
   },
   "outputs": [],
   "source": [
    "from azureml.train.automl import AutoMLConfig\n",
    "# TODO: Put your automl settings here\n",
    "# automl_settings = {}\n",
    "\n",
    "# TODO: Put your automl config here\n",
    "\n",
    "# Set parameters for AutoMLConfig\n",
    "# NOTE: DO NOT CHANGE THE experiment_timeout_minutes PARAMETER OR YOUR INSTANCE WILL TIME OUT.\n",
    "# If you wish to run the experiment longer, you will need to run this notebook in your own\n",
    "# Azure tenant, which will incur personal costs.\n",
    "automl_config = AutoMLConfig(\n",
    "    experiment_timeout_minutes=30,\n",
    "    task=\"classification\",\n",
    "    primary_metric=\"accuracy\",\n",
    "    training_data=auto_ml_ds,\n",
    "    label_column_name=\"liked\",\n",
    "    n_cross_validations=8)"
   ]
  },
  {
   "cell_type": "code",
   "execution_count": null,
   "metadata": {
    "gather": {
     "logged": 1598431107951
    },
    "jupyter": {
     "outputs_hidden": false,
     "source_hidden": false
    },
    "nteract": {
     "transient": {
      "deleting": false
     }
    }
   },
   "outputs": [],
   "source": [
    "# TODO: Submit your experiment\n",
    "auto_ml_experiment=Experiment(ws,\"auto_ml_experiment\")\n",
    "\n",
    "# Submit your automl run\n",
    "auto_ml_run=auto_ml_experiment.submit(config=automl_config,show_output=True)"
   ]
  },
  {
   "cell_type": "markdown",
   "metadata": {},
   "source": [
    "## Run Details\n",
    "\n",
    "OPTIONAL: Write about the different models trained and their performance. Why do you think some models did better than others?\n",
    "\n",
    "TODO: In the cell below, use the `RunDetails` widget to show the different experiments."
   ]
  },
  {
   "cell_type": "code",
   "execution_count": 9,
   "metadata": {
    "gather": {
     "logged": 1598431121770
    },
    "jupyter": {
     "outputs_hidden": false,
     "source_hidden": false
    },
    "nteract": {
     "transient": {
      "deleting": false
     }
    }
   },
   "outputs": [
    {
     "data": {
      "application/vnd.jupyter.widget-view+json": {
       "model_id": "887c1f4e57204138accadbdeb7294d63",
       "version_major": 2,
       "version_minor": 0
      },
      "text/plain": [
       "_AutoMLWidget(widget_settings={'childWidgetDisplay': 'popup', 'send_telemetry': False, 'log_level': 'INFO', 's…"
      ]
     },
     "metadata": {},
     "output_type": "display_data"
    },
    {
     "data": {
      "application/aml.mini.widget.v1": "{\"status\": \"Completed\", \"workbench_run_details_uri\": \"https://ml.azure.com/runs/AutoML_1b1d6a52-6a22-41c2-8546-a488a7a5260a?wsid=/subscriptions/2c48c51c-bd47-40d4-abbe-fb8eabd19c8c/resourcegroups/aml-quickstarts-158537/workspaces/quick-starts-ws-158537&tid=660b3398-b80e-49d2-bc5b-ac1dc93b5254\", \"run_id\": \"AutoML_1b1d6a52-6a22-41c2-8546-a488a7a5260a\", \"run_properties\": {\"run_id\": \"AutoML_1b1d6a52-6a22-41c2-8546-a488a7a5260a\", \"created_utc\": \"2021-09-17T07:29:44.670689Z\", \"properties\": {\"num_iterations\": \"1000\", \"training_type\": \"TrainFull\", \"acquisition_function\": \"EI\", \"primary_metric\": \"accuracy\", \"train_split\": \"0\", \"acquisition_parameter\": \"0\", \"num_cross_validation\": \"8\", \"target\": \"local\", \"AMLSettingsJsonString\": \"{\\\"path\\\":null,\\\"name\\\":\\\"auto_ml_experiment\\\",\\\"subscription_id\\\":\\\"2c48c51c-bd47-40d4-abbe-fb8eabd19c8c\\\",\\\"resource_group\\\":\\\"aml-quickstarts-158537\\\",\\\"workspace_name\\\":\\\"quick-starts-ws-158537\\\",\\\"region\\\":\\\"southcentralus\\\",\\\"compute_target\\\":\\\"local\\\",\\\"spark_service\\\":null,\\\"azure_service\\\":\\\"Microsoft.AzureNotebookVM\\\",\\\"many_models\\\":false,\\\"pipeline_fetch_max_batch_size\\\":1,\\\"enable_batch_run\\\":false,\\\"enable_run_restructure\\\":false,\\\"start_auxiliary_runs_before_parent_complete\\\":false,\\\"enable_code_generation\\\":false,\\\"iterations\\\":1000,\\\"primary_metric\\\":\\\"accuracy\\\",\\\"task_type\\\":\\\"classification\\\",\\\"data_script\\\":null,\\\"test_size\\\":0.0,\\\"validation_size\\\":0.0,\\\"n_cross_validations\\\":8,\\\"y_min\\\":null,\\\"y_max\\\":null,\\\"num_classes\\\":null,\\\"featurization\\\":\\\"auto\\\",\\\"_ignore_package_version_incompatibilities\\\":false,\\\"is_timeseries\\\":false,\\\"max_cores_per_iteration\\\":1,\\\"max_concurrent_iterations\\\":1,\\\"iteration_timeout_minutes\\\":null,\\\"mem_in_mb\\\":null,\\\"enforce_time_on_windows\\\":false,\\\"experiment_timeout_minutes\\\":30,\\\"experiment_exit_score\\\":null,\\\"whitelist_models\\\":null,\\\"blacklist_algos\\\":[\\\"TensorFlowLinearClassifier\\\",\\\"TensorFlowDNN\\\"],\\\"supported_models\\\":[\\\"XGBoostClassifier\\\",\\\"LogisticRegression\\\",\\\"AveragedPerceptronClassifier\\\",\\\"LinearSVM\\\",\\\"TensorFlowDNN\\\",\\\"SVM\\\",\\\"ExtremeRandomTrees\\\",\\\"DecisionTree\\\",\\\"SGD\\\",\\\"KNN\\\",\\\"LightGBM\\\",\\\"BernoulliNaiveBayes\\\",\\\"TensorFlowLinearClassifier\\\",\\\"GradientBoosting\\\",\\\"MultinomialNaiveBayes\\\",\\\"RandomForest\\\"],\\\"private_models\\\":[],\\\"auto_blacklist\\\":true,\\\"blacklist_samples_reached\\\":false,\\\"exclude_nan_labels\\\":true,\\\"verbosity\\\":20,\\\"_debug_log\\\":\\\"automl.log\\\",\\\"show_warnings\\\":false,\\\"model_explainability\\\":true,\\\"service_url\\\":null,\\\"sdk_url\\\":null,\\\"sdk_packages\\\":null,\\\"enable_onnx_compatible_models\\\":false,\\\"enable_split_onnx_featurizer_estimator_models\\\":false,\\\"vm_type\\\":null,\\\"telemetry_verbosity\\\":20,\\\"send_telemetry\\\":true,\\\"enable_dnn\\\":false,\\\"scenario\\\":\\\"SDK-1.13.0\\\",\\\"environment_label\\\":null,\\\"save_mlflow\\\":false,\\\"force_text_dnn\\\":false,\\\"enable_feature_sweeping\\\":true,\\\"enable_early_stopping\\\":true,\\\"early_stopping_n_iters\\\":10,\\\"metrics\\\":null,\\\"enable_metric_confidence\\\":false,\\\"enable_ensembling\\\":true,\\\"enable_stack_ensembling\\\":true,\\\"ensemble_iterations\\\":15,\\\"enable_tf\\\":false,\\\"enable_subsampling\\\":null,\\\"subsample_seed\\\":null,\\\"enable_nimbusml\\\":false,\\\"enable_streaming\\\":false,\\\"force_streaming\\\":false,\\\"track_child_runs\\\":true,\\\"allowed_private_models\\\":[],\\\"label_column_name\\\":\\\"liked\\\",\\\"weight_column_name\\\":null,\\\"cv_split_column_names\\\":null,\\\"enable_local_managed\\\":false,\\\"_local_managed_run_id\\\":null,\\\"cost_mode\\\":1,\\\"lag_length\\\":0,\\\"metric_operation\\\":\\\"maximize\\\",\\\"preprocess\\\":true}\", \"DataPrepJsonString\": \"{\\\\\\\"training_data\\\\\\\": {\\\\\\\"datasetId\\\\\\\": \\\\\\\"65d88d26-be2f-46e9-8fb6-0de33f3d21e6\\\\\\\"}, \\\\\\\"datasets\\\\\\\": 0}\", \"EnableSubsampling\": null, \"runTemplate\": \"AutoML\", \"azureml.runsource\": \"automl\", \"display_task_type\": \"classification\", \"dependencies_versions\": \"{\\\"azureml-widgets\\\": \\\"1.33.0\\\", \\\"azureml-train\\\": \\\"1.33.0\\\", \\\"azureml-train-restclients-hyperdrive\\\": \\\"1.33.0\\\", \\\"azureml-train-core\\\": \\\"1.33.0\\\", \\\"azureml-train-automl\\\": \\\"1.33.0\\\", \\\"azureml-train-automl-runtime\\\": \\\"1.33.0\\\", \\\"azureml-train-automl-client\\\": \\\"1.33.0\\\", \\\"azureml-tensorboard\\\": \\\"1.33.0\\\", \\\"azureml-telemetry\\\": \\\"1.33.0\\\", \\\"azureml-sdk\\\": \\\"1.33.0\\\", \\\"azureml-samples\\\": \\\"0+unknown\\\", \\\"azureml-responsibleai\\\": \\\"1.33.0\\\", \\\"azureml-pipeline\\\": \\\"1.33.0\\\", \\\"azureml-pipeline-steps\\\": \\\"1.33.0\\\", \\\"azureml-pipeline-core\\\": \\\"1.33.0\\\", \\\"azureml-opendatasets\\\": \\\"1.33.0\\\", \\\"azureml-mlflow\\\": \\\"1.33.0\\\", \\\"azureml-interpret\\\": \\\"1.33.0\\\", \\\"azureml-explain-model\\\": \\\"1.33.0\\\", \\\"azureml-defaults\\\": \\\"1.33.0\\\", \\\"azureml-dataset-runtime\\\": \\\"1.33.0\\\", \\\"azureml-dataprep\\\": \\\"2.20.1\\\", \\\"azureml-dataprep-rslex\\\": \\\"1.18.0\\\", \\\"azureml-dataprep-native\\\": \\\"38.0.0\\\", \\\"azureml-datadrift\\\": \\\"1.33.0\\\", \\\"azureml-core\\\": \\\"1.33.0\\\", \\\"azureml-contrib-services\\\": \\\"1.33.0\\\", \\\"azureml-contrib-server\\\": \\\"1.33.0\\\", \\\"azureml-contrib-reinforcementlearning\\\": \\\"1.33.0\\\", \\\"azureml-contrib-pipeline-steps\\\": \\\"1.33.0\\\", \\\"azureml-contrib-notebook\\\": \\\"1.33.0\\\", \\\"azureml-contrib-fairness\\\": \\\"1.33.0\\\", \\\"azureml-contrib-dataset\\\": \\\"1.33.0\\\", \\\"azureml-cli-common\\\": \\\"1.33.0\\\", \\\"azureml-automl-runtime\\\": \\\"1.33.0\\\", \\\"azureml-automl-dnn-nlp\\\": \\\"1.33.0\\\", \\\"azureml-automl-core\\\": \\\"1.33.0\\\", \\\"azureml-accel-models\\\": \\\"1.33.0\\\"}\", \"_aml_system_scenario_identification\": \"Local.Parent\", \"ClientSdkVersion\": \"1.33.0\", \"ClientType\": \"SDK\", \"environment_cpu_name\": \"AzureML-AutoML\", \"environment_cpu_label\": \"prod\", \"environment_gpu_name\": \"AzureML-AutoML-GPU\", \"environment_gpu_label\": \"prod\", \"root_attribution\": \"automl\", \"attribution\": \"AutoML\", \"Orchestrator\": \"AutoML\", \"_azureml.ComputeTargetType\": \"local\", \"ProblemInfoJsonString\": \"{\\\"dataset_num_categorical\\\": 0, \\\"is_sparse\\\": false, \\\"subsampling\\\": false, \\\"has_extra_col\\\": true, \\\"dataset_classes\\\": 2, \\\"dataset_features\\\": 11, \\\"dataset_samples\\\": 200, \\\"single_frequency_class_detected\\\": false}\"}, \"tags\": {\"model_explain_run\": \"best_run\", \"best_score\": \"0.8450000000000001\", \"best_pipeline\": \"VotingEnsemble\", \"automl_best_child_run_id\": \"AutoML_1b1d6a52-6a22-41c2-8546-a488a7a5260a_38\", \"model_explain_best_run_child_id\": \"AutoML_1b1d6a52-6a22-41c2-8546-a488a7a5260a_38\"}, \"end_time_utc\": \"2021-09-17T07:48:42.500972Z\", \"status\": \"Completed\", \"log_files\": {}, \"log_groups\": [], \"run_duration\": \"0:18:57\", \"run_number\": \"1\", \"run_queued_details\": {\"status\": \"Completed\", \"details\": null}}, \"child_runs\": [{\"run_id\": \"AutoML_1b1d6a52-6a22-41c2-8546-a488a7a5260a_0\", \"run_number\": 2, \"metric\": null, \"status\": \"Completed\", \"run_type\": null, \"training_percent\": \"100\", \"start_time\": \"2021-09-17T07:30:04.781157Z\", \"end_time\": \"2021-09-17T07:30:32.181142Z\", \"created_time\": \"2021-09-17T07:30:04.669857Z\", \"created_time_dt\": \"2021-09-17T07:30:04.669857Z\", \"duration\": \"0:00:27\", \"iteration\": \"0\", \"goal\": \"accuracy_max\", \"run_name\": \"MaxAbsScaler, LightGBM\", \"run_properties\": \"copy=True\", \"primary_metric\": 0.8, \"best_metric\": 0.8}, {\"run_id\": \"AutoML_1b1d6a52-6a22-41c2-8546-a488a7a5260a_1\", \"run_number\": 3, \"metric\": null, \"status\": \"Completed\", \"run_type\": null, \"training_percent\": \"100\", \"start_time\": \"2021-09-17T07:30:32.825671Z\", \"end_time\": \"2021-09-17T07:30:57.400312Z\", \"created_time\": \"2021-09-17T07:30:32.600212Z\", \"created_time_dt\": \"2021-09-17T07:30:32.600212Z\", \"duration\": \"0:00:24\", \"iteration\": \"1\", \"goal\": \"accuracy_max\", \"run_name\": \"MaxAbsScaler, XGBoostClassifier\", \"run_properties\": \"copy=True\", \"primary_metric\": 0.805, \"best_metric\": 0.805}, {\"run_id\": \"AutoML_1b1d6a52-6a22-41c2-8546-a488a7a5260a_2\", \"run_number\": 4, \"metric\": null, \"status\": \"Completed\", \"run_type\": null, \"training_percent\": \"100\", \"start_time\": \"2021-09-17T07:30:58.576751Z\", \"end_time\": \"2021-09-17T07:31:24.968908Z\", \"created_time\": \"2021-09-17T07:30:58.312334Z\", \"created_time_dt\": \"2021-09-17T07:30:58.312334Z\", \"duration\": \"0:00:26\", \"iteration\": \"2\", \"goal\": \"accuracy_max\", \"run_name\": \"MaxAbsScaler, ExtremeRandomTrees\", \"run_properties\": \"copy=True\", \"primary_metric\": 0.765, \"best_metric\": 0.805}, {\"run_id\": \"AutoML_1b1d6a52-6a22-41c2-8546-a488a7a5260a_3\", \"run_number\": 5, \"metric\": null, \"status\": \"Completed\", \"run_type\": null, \"training_percent\": \"100\", \"start_time\": \"2021-09-17T07:31:27.290671Z\", \"end_time\": \"2021-09-17T07:31:51.032967Z\", \"created_time\": \"2021-09-17T07:31:26.479414Z\", \"created_time_dt\": \"2021-09-17T07:31:26.479414Z\", \"duration\": \"0:00:24\", \"iteration\": \"3\", \"goal\": \"accuracy_max\", \"run_name\": \"SparseNormalizer, XGBoostClassifier\", \"run_properties\": \"copy=True, norm='l2'\", \"primary_metric\": 0.745, \"best_metric\": 0.805}, {\"run_id\": \"AutoML_1b1d6a52-6a22-41c2-8546-a488a7a5260a_4\", \"run_number\": 6, \"metric\": null, \"status\": \"Completed\", \"run_type\": null, \"training_percent\": \"100\", \"start_time\": \"2021-09-17T07:31:52.625589Z\", \"end_time\": \"2021-09-17T07:32:18.228426Z\", \"created_time\": \"2021-09-17T07:31:52.41302Z\", \"created_time_dt\": \"2021-09-17T07:31:52.41302Z\", \"duration\": \"0:00:25\", \"iteration\": \"4\", \"goal\": \"accuracy_max\", \"run_name\": \"StandardScalerWrapper, KNN\", \"run_properties\": \"\\n    copy=True,\\n    with_mean=False,\\n    with_std=False\\n\", \"primary_metric\": 0.69, \"best_metric\": 0.805}, {\"run_id\": \"AutoML_1b1d6a52-6a22-41c2-8546-a488a7a5260a_5\", \"run_number\": 7, \"metric\": null, \"status\": \"Completed\", \"run_type\": null, \"training_percent\": \"100\", \"start_time\": \"2021-09-17T07:32:20.244665Z\", \"end_time\": \"2021-09-17T07:32:45.917414Z\", \"created_time\": \"2021-09-17T07:32:19.633417Z\", \"created_time_dt\": \"2021-09-17T07:32:19.633417Z\", \"duration\": \"0:00:26\", \"iteration\": \"5\", \"goal\": \"accuracy_max\", \"run_name\": \"MaxAbsScaler, LightGBM\", \"run_properties\": \"copy=True\", \"primary_metric\": 0.76, \"best_metric\": 0.805}, {\"run_id\": \"AutoML_1b1d6a52-6a22-41c2-8546-a488a7a5260a_6\", \"run_number\": 8, \"metric\": null, \"status\": \"Completed\", \"run_type\": null, \"training_percent\": \"100\", \"start_time\": \"2021-09-17T07:32:47.7357Z\", \"end_time\": \"2021-09-17T07:33:14.698692Z\", \"created_time\": \"2021-09-17T07:32:47.430738Z\", \"created_time_dt\": \"2021-09-17T07:32:47.430738Z\", \"duration\": \"0:00:27\", \"iteration\": \"6\", \"goal\": \"accuracy_max\", \"run_name\": \"RobustScaler, LogisticRegression\", \"run_properties\": \"copy=True, quantile_range=[10, 90], with_centering=True,\\n             with_scaling=True\", \"primary_metric\": 0.775, \"best_metric\": 0.805}, {\"run_id\": \"AutoML_1b1d6a52-6a22-41c2-8546-a488a7a5260a_7\", \"run_number\": 9, \"metric\": null, \"status\": \"Completed\", \"run_type\": null, \"training_percent\": \"100\", \"start_time\": \"2021-09-17T07:33:16.364707Z\", \"end_time\": \"2021-09-17T07:33:41.984563Z\", \"created_time\": \"2021-09-17T07:33:16.119903Z\", \"created_time_dt\": \"2021-09-17T07:33:16.119903Z\", \"duration\": \"0:00:25\", \"iteration\": \"7\", \"goal\": \"accuracy_max\", \"run_name\": \"MaxAbsScaler, LightGBM\", \"run_properties\": \"copy=True\", \"primary_metric\": 0.795, \"best_metric\": 0.805}, {\"run_id\": \"AutoML_1b1d6a52-6a22-41c2-8546-a488a7a5260a_8\", \"run_number\": 10, \"metric\": null, \"status\": \"Completed\", \"run_type\": null, \"training_percent\": \"100\", \"start_time\": \"2021-09-17T07:33:43.676554Z\", \"end_time\": \"2021-09-17T07:34:08.787934Z\", \"created_time\": \"2021-09-17T07:33:43.447133Z\", \"created_time_dt\": \"2021-09-17T07:33:43.447133Z\", \"duration\": \"0:00:25\", \"iteration\": \"8\", \"goal\": \"accuracy_max\", \"run_name\": \"StandardScalerWrapper, KNN\", \"run_properties\": \"\\n    copy=True,\\n    with_mean=False,\\n    with_std=False\\n\", \"primary_metric\": 0.665, \"best_metric\": 0.805}, {\"run_id\": \"AutoML_1b1d6a52-6a22-41c2-8546-a488a7a5260a_9\", \"run_number\": 11, \"metric\": null, \"status\": \"Completed\", \"run_type\": null, \"training_percent\": \"100\", \"start_time\": \"2021-09-17T07:34:10.469333Z\", \"end_time\": \"2021-09-17T07:34:35.805464Z\", \"created_time\": \"2021-09-17T07:34:10.243994Z\", \"created_time_dt\": \"2021-09-17T07:34:10.243994Z\", \"duration\": \"0:00:25\", \"iteration\": \"9\", \"goal\": \"accuracy_max\", \"run_name\": \"StandardScalerWrapper, SVM\", \"run_properties\": \"\\n    copy=True,\\n    with_mean=True,\\n    with_std=True\\n\", \"primary_metric\": 0.79, \"best_metric\": 0.805}, {\"run_id\": \"AutoML_1b1d6a52-6a22-41c2-8546-a488a7a5260a_10\", \"run_number\": 12, \"metric\": null, \"status\": \"Completed\", \"run_type\": null, \"training_percent\": \"100\", \"start_time\": \"2021-09-17T07:34:38.744909Z\", \"end_time\": \"2021-09-17T07:35:07.2885Z\", \"created_time\": \"2021-09-17T07:34:37.456331Z\", \"created_time_dt\": \"2021-09-17T07:34:37.456331Z\", \"duration\": \"0:00:29\", \"iteration\": \"10\", \"goal\": \"accuracy_max\", \"run_name\": \"StandardScalerWrapper, XGBoostClassifier\", \"run_properties\": \"\\n    copy=True,\\n    with_mean=False,\\n    with_std=False\\n\", \"primary_metric\": 0.77, \"best_metric\": 0.805}, {\"run_id\": \"AutoML_1b1d6a52-6a22-41c2-8546-a488a7a5260a_11\", \"run_number\": 13, \"metric\": null, \"status\": \"Completed\", \"run_type\": null, \"training_percent\": \"100\", \"start_time\": \"2021-09-17T07:35:09.070504Z\", \"end_time\": \"2021-09-17T07:35:39.386803Z\", \"created_time\": \"2021-09-17T07:35:08.856618Z\", \"created_time_dt\": \"2021-09-17T07:35:08.856618Z\", \"duration\": \"0:00:30\", \"iteration\": \"11\", \"goal\": \"accuracy_max\", \"run_name\": \"MinMaxScaler, RandomForest\", \"run_properties\": \"copy=True, feature_range=(0, 1\", \"primary_metric\": 0.785, \"best_metric\": 0.805}, {\"run_id\": \"AutoML_1b1d6a52-6a22-41c2-8546-a488a7a5260a_12\", \"run_number\": 14, \"metric\": null, \"status\": \"Completed\", \"run_type\": null, \"training_percent\": \"100\", \"start_time\": \"2021-09-17T07:35:40.879858Z\", \"end_time\": \"2021-09-17T07:36:06.071461Z\", \"created_time\": \"2021-09-17T07:35:40.756509Z\", \"created_time_dt\": \"2021-09-17T07:35:40.756509Z\", \"duration\": \"0:00:25\", \"iteration\": \"12\", \"goal\": \"accuracy_max\", \"run_name\": \"StandardScalerWrapper, LogisticRegression\", \"run_properties\": \"\\n    copy=True,\\n    with_mean=True,\\n    with_std=False\\n\", \"primary_metric\": 0.775, \"best_metric\": 0.805}, {\"run_id\": \"AutoML_1b1d6a52-6a22-41c2-8546-a488a7a5260a_13\", \"run_number\": 15, \"metric\": null, \"status\": \"Completed\", \"run_type\": null, \"training_percent\": \"100\", \"start_time\": \"2021-09-17T07:36:07.572101Z\", \"end_time\": \"2021-09-17T07:36:33.58979Z\", \"created_time\": \"2021-09-17T07:36:07.478232Z\", \"created_time_dt\": \"2021-09-17T07:36:07.478232Z\", \"duration\": \"0:00:26\", \"iteration\": \"13\", \"goal\": \"accuracy_max\", \"run_name\": \"StandardScalerWrapper, KNN\", \"run_properties\": \"\\n    copy=True,\\n    with_mean=False,\\n    with_std=True\\n\", \"primary_metric\": 0.785, \"best_metric\": 0.805}, {\"run_id\": \"AutoML_1b1d6a52-6a22-41c2-8546-a488a7a5260a_14\", \"run_number\": 16, \"metric\": null, \"status\": \"Completed\", \"run_type\": null, \"training_percent\": \"100\", \"start_time\": \"2021-09-17T07:36:35.121542Z\", \"end_time\": \"2021-09-17T07:36:59.005898Z\", \"created_time\": \"2021-09-17T07:36:35.009432Z\", \"created_time_dt\": \"2021-09-17T07:36:35.009432Z\", \"duration\": \"0:00:23\", \"iteration\": \"14\", \"goal\": \"accuracy_max\", \"run_name\": \"RobustScaler, KNN\", \"run_properties\": \"copy=True, quantile_range=[10, 90], with_centering=False,\\n             with_scaling=True\", \"primary_metric\": 0.715, \"best_metric\": 0.805}, {\"run_id\": \"AutoML_1b1d6a52-6a22-41c2-8546-a488a7a5260a_15\", \"run_number\": 17, \"metric\": null, \"status\": \"Completed\", \"run_type\": null, \"training_percent\": \"100\", \"start_time\": \"2021-09-17T07:37:00.486457Z\", \"end_time\": \"2021-09-17T07:37:25.16844Z\", \"created_time\": \"2021-09-17T07:37:00.369126Z\", \"created_time_dt\": \"2021-09-17T07:37:00.369126Z\", \"duration\": \"0:00:24\", \"iteration\": \"15\", \"goal\": \"accuracy_max\", \"run_name\": \"MinMaxScaler, KNN\", \"run_properties\": \"copy=True, feature_range=(0, 1\", \"primary_metric\": 0.74, \"best_metric\": 0.805}, {\"run_id\": \"AutoML_1b1d6a52-6a22-41c2-8546-a488a7a5260a_16\", \"run_number\": 18, \"metric\": null, \"status\": \"Completed\", \"run_type\": null, \"training_percent\": \"100\", \"start_time\": \"2021-09-17T07:37:26.589256Z\", \"end_time\": \"2021-09-17T07:37:50.825458Z\", \"created_time\": \"2021-09-17T07:37:26.492577Z\", \"created_time_dt\": \"2021-09-17T07:37:26.492577Z\", \"duration\": \"0:00:24\", \"iteration\": \"16\", \"goal\": \"accuracy_max\", \"run_name\": \"SparseNormalizer, KNN\", \"run_properties\": \"copy=True, norm='max'\", \"primary_metric\": 0.74, \"best_metric\": 0.805}, {\"run_id\": \"AutoML_1b1d6a52-6a22-41c2-8546-a488a7a5260a_17\", \"run_number\": 19, \"metric\": null, \"status\": \"Completed\", \"run_type\": null, \"training_percent\": \"100\", \"start_time\": \"2021-09-17T07:37:55.029929Z\", \"end_time\": \"2021-09-17T07:38:22.186169Z\", \"created_time\": \"2021-09-17T07:37:54.696398Z\", \"created_time_dt\": \"2021-09-17T07:37:54.696398Z\", \"duration\": \"0:00:27\", \"iteration\": \"17\", \"goal\": \"accuracy_max\", \"run_name\": \"MaxAbsScaler, LogisticRegression\", \"run_properties\": \"copy=True\", \"primary_metric\": 0.77, \"best_metric\": 0.805}, {\"run_id\": \"AutoML_1b1d6a52-6a22-41c2-8546-a488a7a5260a_18\", \"run_number\": 20, \"metric\": null, \"status\": \"Completed\", \"run_type\": null, \"training_percent\": \"100\", \"start_time\": \"2021-09-17T07:38:24.501133Z\", \"end_time\": \"2021-09-17T07:38:48.41021Z\", \"created_time\": \"2021-09-17T07:38:24.170616Z\", \"created_time_dt\": \"2021-09-17T07:38:24.170616Z\", \"duration\": \"0:00:24\", \"iteration\": \"18\", \"goal\": \"accuracy_max\", \"run_name\": \"StandardScalerWrapper, XGBoostClassifier\", \"run_properties\": \"\\n    copy=True,\\n    with_mean=False,\\n    with_std=False\\n\", \"primary_metric\": 0.78, \"best_metric\": 0.805}, {\"run_id\": \"AutoML_1b1d6a52-6a22-41c2-8546-a488a7a5260a_19\", \"run_number\": 21, \"metric\": null, \"status\": \"Completed\", \"run_type\": null, \"training_percent\": \"100\", \"start_time\": \"2021-09-17T07:38:50.340967Z\", \"end_time\": \"2021-09-17T07:39:14.092541Z\", \"created_time\": \"2021-09-17T07:38:50.088791Z\", \"created_time_dt\": \"2021-09-17T07:38:50.088791Z\", \"duration\": \"0:00:24\", \"iteration\": \"19\", \"goal\": \"accuracy_max\", \"run_name\": \"StandardScalerWrapper, XGBoostClassifier\", \"run_properties\": \"\\n    copy=True,\\n    with_mean=False,\\n    with_std=False\\n\", \"primary_metric\": 0.775, \"best_metric\": 0.805}, {\"run_id\": \"AutoML_1b1d6a52-6a22-41c2-8546-a488a7a5260a_20\", \"run_number\": 22, \"metric\": null, \"status\": \"Completed\", \"run_type\": null, \"training_percent\": \"100\", \"start_time\": \"2021-09-17T07:39:15.676279Z\", \"end_time\": \"2021-09-17T07:39:48.209121Z\", \"created_time\": \"2021-09-17T07:39:15.580306Z\", \"created_time_dt\": \"2021-09-17T07:39:15.580306Z\", \"duration\": \"0:00:32\", \"iteration\": \"20\", \"goal\": \"accuracy_max\", \"run_name\": \"MaxAbsScaler, LogisticRegression\", \"run_properties\": \"copy=True\", \"primary_metric\": 0.775, \"best_metric\": 0.805}, {\"run_id\": \"AutoML_1b1d6a52-6a22-41c2-8546-a488a7a5260a_21\", \"run_number\": 23, \"metric\": null, \"status\": \"Completed\", \"run_type\": null, \"training_percent\": \"100\", \"start_time\": \"2021-09-17T07:39:49.638295Z\", \"end_time\": \"2021-09-17T07:40:13.358227Z\", \"created_time\": \"2021-09-17T07:39:49.555387Z\", \"created_time_dt\": \"2021-09-17T07:39:49.555387Z\", \"duration\": \"0:00:23\", \"iteration\": \"21\", \"goal\": \"accuracy_max\", \"run_name\": \"StandardScalerWrapper, XGBoostClassifier\", \"run_properties\": \"\\n    copy=True,\\n    with_mean=False,\\n    with_std=False\\n\", \"primary_metric\": 0.775, \"best_metric\": 0.805}, {\"run_id\": \"AutoML_1b1d6a52-6a22-41c2-8546-a488a7a5260a_22\", \"run_number\": 24, \"metric\": null, \"status\": \"Completed\", \"run_type\": null, \"training_percent\": \"100\", \"start_time\": \"2021-09-17T07:40:14.972935Z\", \"end_time\": \"2021-09-17T07:40:40.358058Z\", \"created_time\": \"2021-09-17T07:40:14.815654Z\", \"created_time_dt\": \"2021-09-17T07:40:14.815654Z\", \"duration\": \"0:00:25\", \"iteration\": \"22\", \"goal\": \"accuracy_max\", \"run_name\": \"RobustScaler, RandomForest\", \"run_properties\": \"copy=True, quantile_range=[25, 75], with_centering=True,\\n             with_scaling=True\", \"primary_metric\": 0.81, \"best_metric\": 0.81}, {\"run_id\": \"AutoML_1b1d6a52-6a22-41c2-8546-a488a7a5260a_23\", \"run_number\": 25, \"metric\": null, \"status\": \"Completed\", \"run_type\": null, \"training_percent\": \"100\", \"start_time\": \"2021-09-17T07:40:41.902639Z\", \"end_time\": \"2021-09-17T07:41:07.117409Z\", \"created_time\": \"2021-09-17T07:40:41.742424Z\", \"created_time_dt\": \"2021-09-17T07:40:41.742424Z\", \"duration\": \"0:00:25\", \"iteration\": \"23\", \"goal\": \"accuracy_max\", \"run_name\": \"SparseNormalizer, XGBoostClassifier\", \"run_properties\": \"copy=True, norm='l1'\", \"primary_metric\": 0.81, \"best_metric\": 0.81}, {\"run_id\": \"AutoML_1b1d6a52-6a22-41c2-8546-a488a7a5260a_24\", \"run_number\": 26, \"metric\": null, \"status\": \"Completed\", \"run_type\": null, \"training_percent\": \"100\", \"start_time\": \"2021-09-17T07:41:08.703671Z\", \"end_time\": \"2021-09-17T07:41:35.264139Z\", \"created_time\": \"2021-09-17T07:41:08.603734Z\", \"created_time_dt\": \"2021-09-17T07:41:08.603734Z\", \"duration\": \"0:00:26\", \"iteration\": \"24\", \"goal\": \"accuracy_max\", \"run_name\": \"StandardScalerWrapper, LightGBM\", \"run_properties\": \"\\n    copy=True,\\n    with_mean=True,\\n    with_std=False\\n\", \"primary_metric\": 0.78, \"best_metric\": 0.81}, {\"run_id\": \"AutoML_1b1d6a52-6a22-41c2-8546-a488a7a5260a_25\", \"run_number\": 27, \"metric\": null, \"status\": \"Completed\", \"run_type\": null, \"training_percent\": \"100\", \"start_time\": \"2021-09-17T07:41:38.348676Z\", \"end_time\": \"2021-09-17T07:42:07.81229Z\", \"created_time\": \"2021-09-17T07:41:38.170419Z\", \"created_time_dt\": \"2021-09-17T07:41:38.170419Z\", \"duration\": \"0:00:29\", \"iteration\": \"25\", \"goal\": \"accuracy_max\", \"run_name\": \"RobustScaler, RandomForest\", \"run_properties\": \"copy=True, quantile_range=[25, 75], with_centering=False,\\n             with_scaling=True\", \"primary_metric\": 0.63, \"best_metric\": 0.81}, {\"run_id\": \"AutoML_1b1d6a52-6a22-41c2-8546-a488a7a5260a_26\", \"run_number\": 28, \"metric\": null, \"status\": \"Completed\", \"run_type\": null, \"training_percent\": \"100\", \"start_time\": \"2021-09-17T07:42:09.196591Z\", \"end_time\": \"2021-09-17T07:42:35.00761Z\", \"created_time\": \"2021-09-17T07:42:09.103897Z\", \"created_time_dt\": \"2021-09-17T07:42:09.103897Z\", \"duration\": \"0:00:25\", \"iteration\": \"26\", \"goal\": \"accuracy_max\", \"run_name\": \"SparseNormalizer, XGBoostClassifier\", \"run_properties\": \"copy=True, norm='l1'\", \"primary_metric\": 0.81, \"best_metric\": 0.81}, {\"run_id\": \"AutoML_1b1d6a52-6a22-41c2-8546-a488a7a5260a_27\", \"run_number\": 29, \"metric\": null, \"status\": \"Completed\", \"run_type\": null, \"training_percent\": \"100\", \"start_time\": \"2021-09-17T07:42:36.456195Z\", \"end_time\": \"2021-09-17T07:43:02.91879Z\", \"created_time\": \"2021-09-17T07:42:36.362034Z\", \"created_time_dt\": \"2021-09-17T07:42:36.362034Z\", \"duration\": \"0:00:26\", \"iteration\": \"27\", \"goal\": \"accuracy_max\", \"run_name\": \"StandardScalerWrapper, LightGBM\", \"run_properties\": \"\\n    copy=True,\\n    with_mean=False,\\n    with_std=False\\n\", \"primary_metric\": 0.82, \"best_metric\": 0.82}, {\"run_id\": \"AutoML_1b1d6a52-6a22-41c2-8546-a488a7a5260a_28\", \"run_number\": 30, \"metric\": null, \"status\": \"Completed\", \"run_type\": null, \"training_percent\": \"100\", \"start_time\": \"2021-09-17T07:43:04.270963Z\", \"end_time\": \"2021-09-17T07:43:32.221294Z\", \"created_time\": \"2021-09-17T07:43:04.190543Z\", \"created_time_dt\": \"2021-09-17T07:43:04.190543Z\", \"duration\": \"0:00:28\", \"iteration\": \"28\", \"goal\": \"accuracy_max\", \"run_name\": \"SparseNormalizer, XGBoostClassifier\", \"run_properties\": \"copy=True, norm='l2'\", \"primary_metric\": 0.8, \"best_metric\": 0.82}, {\"run_id\": \"AutoML_1b1d6a52-6a22-41c2-8546-a488a7a5260a_29\", \"run_number\": 31, \"metric\": null, \"status\": \"Completed\", \"run_type\": null, \"training_percent\": \"100\", \"start_time\": \"2021-09-17T07:43:33.690102Z\", \"end_time\": \"2021-09-17T07:44:02.513976Z\", \"created_time\": \"2021-09-17T07:43:33.569603Z\", \"created_time_dt\": \"2021-09-17T07:43:33.569603Z\", \"duration\": \"0:00:28\", \"iteration\": \"29\", \"goal\": \"accuracy_max\", \"run_name\": \"StandardScalerWrapper, RandomForest\", \"run_properties\": \"\\n    copy=True,\\n    with_mean=False,\\n    with_std=False\\n\", \"primary_metric\": 0.78, \"best_metric\": 0.82}, {\"run_id\": \"AutoML_1b1d6a52-6a22-41c2-8546-a488a7a5260a_30\", \"run_number\": 32, \"metric\": null, \"status\": \"Completed\", \"run_type\": null, \"training_percent\": \"100\", \"start_time\": \"2021-09-17T07:44:04.940387Z\", \"end_time\": \"2021-09-17T07:44:29.875986Z\", \"created_time\": \"2021-09-17T07:44:04.84636Z\", \"created_time_dt\": \"2021-09-17T07:44:04.84636Z\", \"duration\": \"0:00:25\", \"iteration\": \"30\", \"goal\": \"accuracy_max\", \"run_name\": \"SparseNormalizer, LightGBM\", \"run_properties\": \"copy=True, norm='l1'\", \"primary_metric\": 0.76, \"best_metric\": 0.82}, {\"run_id\": \"AutoML_1b1d6a52-6a22-41c2-8546-a488a7a5260a_31\", \"run_number\": 33, \"metric\": null, \"status\": \"Completed\", \"run_type\": null, \"training_percent\": \"100\", \"start_time\": \"2021-09-17T07:44:31.293441Z\", \"end_time\": \"2021-09-17T07:44:58.279961Z\", \"created_time\": \"2021-09-17T07:44:31.214503Z\", \"created_time_dt\": \"2021-09-17T07:44:31.214503Z\", \"duration\": \"0:00:27\", \"iteration\": \"31\", \"goal\": \"accuracy_max\", \"run_name\": \"MaxAbsScaler, LightGBM\", \"run_properties\": \"copy=True\", \"primary_metric\": 0.8, \"best_metric\": 0.82}, {\"run_id\": \"AutoML_1b1d6a52-6a22-41c2-8546-a488a7a5260a_32\", \"run_number\": 34, \"metric\": null, \"status\": \"Completed\", \"run_type\": null, \"training_percent\": \"100\", \"start_time\": \"2021-09-17T07:44:59.662204Z\", \"end_time\": \"2021-09-17T07:45:24.721759Z\", \"created_time\": \"2021-09-17T07:44:59.576496Z\", \"created_time_dt\": \"2021-09-17T07:44:59.576496Z\", \"duration\": \"0:00:25\", \"iteration\": \"32\", \"goal\": \"accuracy_max\", \"run_name\": \"MaxAbsScaler, RandomForest\", \"run_properties\": \"copy=True\", \"primary_metric\": 0.805, \"best_metric\": 0.82}, {\"run_id\": \"AutoML_1b1d6a52-6a22-41c2-8546-a488a7a5260a_33\", \"run_number\": 35, \"metric\": null, \"status\": \"Completed\", \"run_type\": null, \"training_percent\": \"100\", \"start_time\": \"2021-09-17T07:45:26.111919Z\", \"end_time\": \"2021-09-17T07:45:50.545499Z\", \"created_time\": \"2021-09-17T07:45:26.019878Z\", \"created_time_dt\": \"2021-09-17T07:45:26.019878Z\", \"duration\": \"0:00:24\", \"iteration\": \"33\", \"goal\": \"accuracy_max\", \"run_name\": \"StandardScalerWrapper, XGBoostClassifier\", \"run_properties\": \"\\n    copy=True,\\n    with_mean=False,\\n    with_std=False\\n\", \"primary_metric\": 0.82, \"best_metric\": 0.82}, {\"run_id\": \"AutoML_1b1d6a52-6a22-41c2-8546-a488a7a5260a_34\", \"run_number\": 36, \"metric\": null, \"status\": \"Completed\", \"run_type\": null, \"training_percent\": \"100\", \"start_time\": \"2021-09-17T07:45:52.010884Z\", \"end_time\": \"2021-09-17T07:46:18.150475Z\", \"created_time\": \"2021-09-17T07:45:51.872177Z\", \"created_time_dt\": \"2021-09-17T07:45:51.872177Z\", \"duration\": \"0:00:26\", \"iteration\": \"34\", \"goal\": \"accuracy_max\", \"run_name\": \"StandardScalerWrapper, LightGBM\", \"run_properties\": \"\\n    copy=True,\\n    with_mean=False,\\n    with_std=True\\n\", \"primary_metric\": 0.805, \"best_metric\": 0.82}, {\"run_id\": \"AutoML_1b1d6a52-6a22-41c2-8546-a488a7a5260a_35\", \"run_number\": 37, \"metric\": null, \"status\": \"Completed\", \"run_type\": null, \"training_percent\": \"100\", \"start_time\": \"2021-09-17T07:46:21.547033Z\", \"end_time\": \"2021-09-17T07:46:46.947968Z\", \"created_time\": \"2021-09-17T07:46:21.429251Z\", \"created_time_dt\": \"2021-09-17T07:46:21.429251Z\", \"duration\": \"0:00:25\", \"iteration\": \"35\", \"goal\": \"accuracy_max\", \"run_name\": \"RobustScaler, LightGBM\", \"run_properties\": \"copy=True, quantile_range=[25, 75], with_centering=False,\\n             with_scaling=True\", \"primary_metric\": 0.775, \"best_metric\": 0.82}, {\"run_id\": \"AutoML_1b1d6a52-6a22-41c2-8546-a488a7a5260a_36\", \"run_number\": 38, \"metric\": null, \"status\": \"Completed\", \"run_type\": null, \"training_percent\": \"100\", \"start_time\": \"2021-09-17T07:46:48.496041Z\", \"end_time\": \"2021-09-17T07:47:14.230082Z\", \"created_time\": \"2021-09-17T07:46:48.330602Z\", \"created_time_dt\": \"2021-09-17T07:46:48.330602Z\", \"duration\": \"0:00:25\", \"iteration\": \"36\", \"goal\": \"accuracy_max\", \"run_name\": \"MaxAbsScaler, LightGBM\", \"run_properties\": \"copy=True\", \"primary_metric\": 0.775, \"best_metric\": 0.82}, {\"run_id\": \"AutoML_1b1d6a52-6a22-41c2-8546-a488a7a5260a_37\", \"run_number\": 39, \"metric\": null, \"status\": \"Completed\", \"run_type\": null, \"training_percent\": \"100\", \"start_time\": \"2021-09-17T07:47:15.819099Z\", \"end_time\": \"2021-09-17T07:47:42.951162Z\", \"created_time\": \"2021-09-17T07:47:15.715908Z\", \"created_time_dt\": \"2021-09-17T07:47:15.715908Z\", \"duration\": \"0:00:27\", \"iteration\": \"37\", \"goal\": \"accuracy_max\", \"run_name\": \"SparseNormalizer, XGBoostClassifier\", \"run_properties\": \"copy=True, norm='max'\", \"primary_metric\": 0.77, \"best_metric\": 0.82}, {\"run_id\": \"AutoML_1b1d6a52-6a22-41c2-8546-a488a7a5260a_38\", \"run_number\": 40, \"metric\": null, \"status\": \"Completed\", \"run_type\": null, \"training_percent\": \"100\", \"start_time\": \"2021-09-17T07:47:43.336859Z\", \"end_time\": \"2021-09-17T07:48:12.663647Z\", \"created_time\": \"2021-09-17T07:47:43.218549Z\", \"created_time_dt\": \"2021-09-17T07:47:43.218549Z\", \"duration\": \"0:00:29\", \"iteration\": \"38\", \"goal\": \"accuracy_max\", \"run_name\": \"VotingEnsemble\", \"run_properties\": \"\\n    estimators=[('33', Pipeline(\\n        memory=None,\\n        steps=[('standardscalerwrapper', StandardScalerWrapper(\\n            copy=True,\\n            with_mean=False,\\n            with_std=False\\n        \", \"primary_metric\": 0.845, \"best_metric\": 0.845}, {\"run_id\": \"AutoML_1b1d6a52-6a22-41c2-8546-a488a7a5260a_39\", \"run_number\": 41, \"metric\": null, \"status\": \"Completed\", \"run_type\": null, \"training_percent\": \"100\", \"start_time\": \"2021-09-17T07:48:13.029335Z\", \"end_time\": \"2021-09-17T07:48:42.107447Z\", \"created_time\": \"2021-09-17T07:48:12.928456Z\", \"created_time_dt\": \"2021-09-17T07:48:12.928456Z\", \"duration\": \"0:00:29\", \"iteration\": \"39\", \"goal\": \"accuracy_max\", \"run_name\": \"StackEnsemble\", \"run_properties\": \"\\n    base_learners=[('33', Pipeline(\\n        memory=None,\\n        steps=[('standardscalerwrapper', StandardScalerWrapper(\\n            copy=True,\\n            with_mean=False,\\n            with_std=False\\n        \", \"primary_metric\": 0.83, \"best_metric\": 0.845}], \"children_metrics\": {\"categories\": [0], \"series\": {\"precision_score_micro\": [{\"categories\": [\"0\", \"1\", \"2\", \"3\", \"4\", \"5\", \"6\", \"7\", \"8\", \"9\", \"10\", \"11\", \"12\", \"13\", \"14\", \"15\", \"16\", \"17\", \"18\", \"19\", \"20\", \"21\", \"22\", \"23\", \"24\", \"25\", \"26\", \"27\", \"28\", \"29\", \"30\", \"31\", \"32\", \"33\", \"34\", \"35\", \"36\", \"37\", \"38\", \"39\"], \"mode\": \"markers\", \"name\": \"precision_score_micro\", \"stepped\": false, \"type\": \"scatter\", \"data\": [0.8, 0.805, 0.765, 0.745, 0.6900000000000001, 0.76, 0.775, 0.795, 0.6649999999999999, 0.79, 0.77, 0.785, 0.775, 0.785, 0.715, 0.74, 0.74, 0.77, 0.78, 0.775, 0.775, 0.775, 0.81, 0.81, 0.78, 0.6299999999999999, 0.81, 0.8200000000000001, 0.8, 0.78, 0.76, 0.8, 0.805, 0.8200000000000001, 0.805, 0.775, 0.775, 0.77, 0.8450000000000001, 0.8300000000000001]}, {\"categories\": [\"0\", \"1\", \"2\", \"3\", \"4\", \"5\", \"6\", \"7\", \"8\", \"9\", \"10\", \"11\", \"12\", \"13\", \"14\", \"15\", \"16\", \"17\", \"18\", \"19\", \"20\", \"21\", \"22\", \"23\", \"24\", \"25\", \"26\", \"27\", \"28\", \"29\", \"30\", \"31\", \"32\", \"33\", \"34\", \"35\", \"36\", \"37\", \"38\", \"39\"], \"mode\": \"lines\", \"name\": \"precision_score_micro_max\", \"stepped\": true, \"type\": \"scatter\", \"data\": [0.8, 0.805, 0.805, 0.805, 0.805, 0.805, 0.805, 0.805, 0.805, 0.805, 0.805, 0.805, 0.805, 0.805, 0.805, 0.805, 0.805, 0.805, 0.805, 0.805, 0.805, 0.805, 0.81, 0.81, 0.81, 0.81, 0.81, 0.8200000000000001, 0.8200000000000001, 0.8200000000000001, 0.8200000000000001, 0.8200000000000001, 0.8200000000000001, 0.8200000000000001, 0.8200000000000001, 0.8200000000000001, 0.8200000000000001, 0.8200000000000001, 0.8450000000000001, 0.8450000000000001]}], \"f1_score_micro\": [{\"categories\": [\"0\", \"1\", \"2\", \"3\", \"4\", \"5\", \"6\", \"7\", \"8\", \"9\", \"10\", \"11\", \"12\", \"13\", \"14\", \"15\", \"16\", \"17\", \"18\", \"19\", \"20\", \"21\", \"22\", \"23\", \"24\", \"25\", \"26\", \"27\", \"28\", \"29\", \"30\", \"31\", \"32\", \"33\", \"34\", \"35\", \"36\", \"37\", \"38\", \"39\"], \"mode\": \"markers\", \"name\": \"f1_score_micro\", \"stepped\": false, \"type\": \"scatter\", \"data\": [0.8, 0.805, 0.7649999999999999, 0.745, 0.6900000000000001, 0.76, 0.775, 0.7949999999999999, 0.6649999999999999, 0.7899999999999999, 0.77, 0.785, 0.775, 0.7849999999999999, 0.715, 0.74, 0.74, 0.77, 0.78, 0.775, 0.7750000000000001, 0.775, 0.81, 0.81, 0.78, 0.63, 0.8099999999999999, 0.82, 0.8, 0.78, 0.76, 0.7999999999999999, 0.8049999999999999, 0.8200000000000001, 0.8049999999999999, 0.775, 0.775, 0.77, 0.845, 0.8300000000000001]}, {\"categories\": [\"0\", \"1\", \"2\", \"3\", \"4\", \"5\", \"6\", \"7\", \"8\", \"9\", \"10\", \"11\", \"12\", \"13\", \"14\", \"15\", \"16\", \"17\", \"18\", \"19\", \"20\", \"21\", \"22\", \"23\", \"24\", \"25\", \"26\", \"27\", \"28\", \"29\", \"30\", \"31\", \"32\", \"33\", \"34\", \"35\", \"36\", \"37\", \"38\", \"39\"], \"mode\": \"lines\", \"name\": \"f1_score_micro_max\", \"stepped\": true, \"type\": \"scatter\", \"data\": [0.8, 0.805, 0.805, 0.805, 0.805, 0.805, 0.805, 0.805, 0.805, 0.805, 0.805, 0.805, 0.805, 0.805, 0.805, 0.805, 0.805, 0.805, 0.805, 0.805, 0.805, 0.805, 0.81, 0.81, 0.81, 0.81, 0.81, 0.82, 0.82, 0.82, 0.82, 0.82, 0.82, 0.8200000000000001, 0.8200000000000001, 0.8200000000000001, 0.8200000000000001, 0.8200000000000001, 0.845, 0.845]}], \"log_loss\": [{\"categories\": [\"0\", \"1\", \"2\", \"3\", \"4\", \"5\", \"6\", \"7\", \"8\", \"9\", \"10\", \"11\", \"12\", \"13\", \"14\", \"15\", \"16\", \"17\", \"18\", \"19\", \"20\", \"21\", \"22\", \"23\", \"24\", \"25\", \"26\", \"27\", \"28\", \"29\", \"30\", \"31\", \"32\", \"33\", \"34\", \"35\", \"36\", \"37\", \"38\", \"39\"], \"mode\": \"markers\", \"name\": \"log_loss\", \"stepped\": false, \"type\": \"scatter\", \"data\": [0.5044214144889438, 0.4244899351387016, 0.5218265813038876, 0.5505636700187422, 1.3879395968660204, 0.48666108291706767, 0.5080234757990773, 0.5408333715975512, 0.9107402937550038, 0.4891735318427707, 0.5224705290677825, 0.5180224757835177, 0.48581818344279404, 0.4966637508943609, 1.64091348363558, 1.2807796717622366, 0.7146460347542648, 0.4787331149991323, 0.5504888696595254, 0.5329790261308048, 0.5064393576975275, 0.5296413577566974, 0.45029836376098986, 0.4369897317366187, 0.4549528691175424, 0.6828498925271786, 0.43777638253012296, 0.4382916165750923, 0.4710860724907325, 0.4723129714606196, 0.46329688779591593, 0.4304470545069139, 0.46368759650732805, 0.43694618076402736, 0.5173764036883558, 0.5157612108148231, 0.4648072829628885, 0.46303752618923827, 0.4093938119802878, 0.5486565321061564]}, {\"categories\": [\"0\", \"1\", \"2\", \"3\", \"4\", \"5\", \"6\", \"7\", \"8\", \"9\", \"10\", \"11\", \"12\", \"13\", \"14\", \"15\", \"16\", \"17\", \"18\", \"19\", \"20\", \"21\", \"22\", \"23\", \"24\", \"25\", \"26\", \"27\", \"28\", \"29\", \"30\", \"31\", \"32\", \"33\", \"34\", \"35\", \"36\", \"37\", \"38\", \"39\"], \"mode\": \"lines\", \"name\": \"log_loss_min\", \"stepped\": true, \"type\": \"scatter\", \"data\": [0.5044214144889438, 0.4244899351387016, 0.4244899351387016, 0.4244899351387016, 0.4244899351387016, 0.4244899351387016, 0.4244899351387016, 0.4244899351387016, 0.4244899351387016, 0.4244899351387016, 0.4244899351387016, 0.4244899351387016, 0.4244899351387016, 0.4244899351387016, 0.4244899351387016, 0.4244899351387016, 0.4244899351387016, 0.4244899351387016, 0.4244899351387016, 0.4244899351387016, 0.4244899351387016, 0.4244899351387016, 0.4244899351387016, 0.4244899351387016, 0.4244899351387016, 0.4244899351387016, 0.4244899351387016, 0.4244899351387016, 0.4244899351387016, 0.4244899351387016, 0.4244899351387016, 0.4244899351387016, 0.4244899351387016, 0.4244899351387016, 0.4244899351387016, 0.4244899351387016, 0.4244899351387016, 0.4244899351387016, 0.4093938119802878, 0.4093938119802878]}], \"recall_score_micro\": [{\"categories\": [\"0\", \"1\", \"2\", \"3\", \"4\", \"5\", \"6\", \"7\", \"8\", \"9\", \"10\", \"11\", \"12\", \"13\", \"14\", \"15\", \"16\", \"17\", \"18\", \"19\", \"20\", \"21\", \"22\", \"23\", \"24\", \"25\", \"26\", \"27\", \"28\", \"29\", \"30\", \"31\", \"32\", \"33\", \"34\", \"35\", \"36\", \"37\", \"38\", \"39\"], \"mode\": \"markers\", \"name\": \"recall_score_micro\", \"stepped\": false, \"type\": \"scatter\", \"data\": [0.8, 0.805, 0.765, 0.745, 0.6900000000000001, 0.76, 0.775, 0.795, 0.6649999999999999, 0.79, 0.77, 0.785, 0.775, 0.785, 0.715, 0.74, 0.74, 0.77, 0.78, 0.775, 0.775, 0.775, 0.81, 0.81, 0.78, 0.6299999999999999, 0.81, 0.8200000000000001, 0.8, 0.78, 0.76, 0.8, 0.805, 0.8200000000000001, 0.805, 0.775, 0.775, 0.77, 0.8450000000000001, 0.8300000000000001]}, {\"categories\": [\"0\", \"1\", \"2\", \"3\", \"4\", \"5\", \"6\", \"7\", \"8\", \"9\", \"10\", \"11\", \"12\", \"13\", \"14\", \"15\", \"16\", \"17\", \"18\", \"19\", \"20\", \"21\", \"22\", \"23\", \"24\", \"25\", \"26\", \"27\", \"28\", \"29\", \"30\", \"31\", \"32\", \"33\", \"34\", \"35\", \"36\", \"37\", \"38\", \"39\"], \"mode\": \"lines\", \"name\": \"recall_score_micro_max\", \"stepped\": true, \"type\": \"scatter\", \"data\": [0.8, 0.805, 0.805, 0.805, 0.805, 0.805, 0.805, 0.805, 0.805, 0.805, 0.805, 0.805, 0.805, 0.805, 0.805, 0.805, 0.805, 0.805, 0.805, 0.805, 0.805, 0.805, 0.81, 0.81, 0.81, 0.81, 0.81, 0.8200000000000001, 0.8200000000000001, 0.8200000000000001, 0.8200000000000001, 0.8200000000000001, 0.8200000000000001, 0.8200000000000001, 0.8200000000000001, 0.8200000000000001, 0.8200000000000001, 0.8200000000000001, 0.8450000000000001, 0.8450000000000001]}], \"f1_score_macro\": [{\"categories\": [\"0\", \"1\", \"2\", \"3\", \"4\", \"5\", \"6\", \"7\", \"8\", \"9\", \"10\", \"11\", \"12\", \"13\", \"14\", \"15\", \"16\", \"17\", \"18\", \"19\", \"20\", \"21\", \"22\", \"23\", \"24\", \"25\", \"26\", \"27\", \"28\", \"29\", \"30\", \"31\", \"32\", \"33\", \"34\", \"35\", \"36\", \"37\", \"38\", \"39\"], \"mode\": \"markers\", \"name\": \"f1_score_macro\", \"stepped\": false, \"type\": \"scatter\", \"data\": [0.795274976579901, 0.7978978957719367, 0.7562826849125794, 0.740737177949153, 0.6814101993739079, 0.7509766488827142, 0.7669163764109168, 0.7889895133634522, 0.6539170847534819, 0.7826283734647705, 0.7637078262417936, 0.7776374709215732, 0.7666744434244186, 0.773400663970889, 0.7057014309220191, 0.7314414430309948, 0.7358656142707867, 0.7622136076116806, 0.7748123617289219, 0.7686671881572501, 0.7678562956750614, 0.770675574678449, 0.801234802157916, 0.8058397748791954, 0.7711996252355673, 0.6092745709924763, 0.801753453547731, 0.8125243804037934, 0.7933988553909588, 0.7722183326158683, 0.75500144833505, 0.7920810805534849, 0.7970963684116437, 0.8124117364052799, 0.7980183244559373, 0.7681329731142165, 0.764005641290758, 0.7651461521032505, 0.8378977409348254, 0.8240595936453685]}, {\"categories\": [\"0\", \"1\", \"2\", \"3\", \"4\", \"5\", \"6\", \"7\", \"8\", \"9\", \"10\", \"11\", \"12\", \"13\", \"14\", \"15\", \"16\", \"17\", \"18\", \"19\", \"20\", \"21\", \"22\", \"23\", \"24\", \"25\", \"26\", \"27\", \"28\", \"29\", \"30\", \"31\", \"32\", \"33\", \"34\", \"35\", \"36\", \"37\", \"38\", \"39\"], \"mode\": \"lines\", \"name\": \"f1_score_macro_max\", \"stepped\": true, \"type\": \"scatter\", \"data\": [0.795274976579901, 0.7978978957719367, 0.7978978957719367, 0.7978978957719367, 0.7978978957719367, 0.7978978957719367, 0.7978978957719367, 0.7978978957719367, 0.7978978957719367, 0.7978978957719367, 0.7978978957719367, 0.7978978957719367, 0.7978978957719367, 0.7978978957719367, 0.7978978957719367, 0.7978978957719367, 0.7978978957719367, 0.7978978957719367, 0.7978978957719367, 0.7978978957719367, 0.7978978957719367, 0.7978978957719367, 0.801234802157916, 0.8058397748791954, 0.8058397748791954, 0.8058397748791954, 0.8058397748791954, 0.8125243804037934, 0.8125243804037934, 0.8125243804037934, 0.8125243804037934, 0.8125243804037934, 0.8125243804037934, 0.8125243804037934, 0.8125243804037934, 0.8125243804037934, 0.8125243804037934, 0.8125243804037934, 0.8378977409348254, 0.8378977409348254]}], \"balanced_accuracy\": [{\"categories\": [\"0\", \"1\", \"2\", \"3\", \"4\", \"5\", \"6\", \"7\", \"8\", \"9\", \"10\", \"11\", \"12\", \"13\", \"14\", \"15\", \"16\", \"17\", \"18\", \"19\", \"20\", \"21\", \"22\", \"23\", \"24\", \"25\", \"26\", \"27\", \"28\", \"29\", \"30\", \"31\", \"32\", \"33\", \"34\", \"35\", \"36\", \"37\", \"38\", \"39\"], \"mode\": \"markers\", \"name\": \"balanced_accuracy\", \"stepped\": false, \"type\": \"scatter\", \"data\": [0.796600188006438, 0.7985789384226885, 0.7636100011100011, 0.7456036151348652, 0.6844371774059275, 0.7546346015096015, 0.7697423236485736, 0.793803071928072, 0.6592838585026084, 0.784869730963481, 0.7651927933177933, 0.7833097458097458, 0.7705436056998557, 0.7847154581529582, 0.7072107579920079, 0.7377295447607948, 0.7463239017926517, 0.7648223304473304, 0.7821574259074259, 0.7740316974691974, 0.771044406981907, 0.7756686022311021, 0.8035624965312466, 0.8090948114385614, 0.7731350246975247, 0.6639454295704296, 0.8086792547730048, 0.816182688838939, 0.7989036137473637, 0.7766396797646797, 0.7627895541958041, 0.79503552003552, 0.8008616383616384, 0.8149079219391719, 0.8020333832833832, 0.7710122342934842, 0.7653225246975246, 0.7690704261016761, 0.8398605734543235, 0.8272403811466311]}, {\"categories\": [\"0\", \"1\", \"2\", \"3\", \"4\", \"5\", \"6\", \"7\", \"8\", \"9\", \"10\", \"11\", \"12\", \"13\", \"14\", \"15\", \"16\", \"17\", \"18\", \"19\", \"20\", \"21\", \"22\", \"23\", \"24\", \"25\", \"26\", \"27\", \"28\", \"29\", \"30\", \"31\", \"32\", \"33\", \"34\", \"35\", \"36\", \"37\", \"38\", \"39\"], \"mode\": \"lines\", \"name\": \"balanced_accuracy_max\", \"stepped\": true, \"type\": \"scatter\", \"data\": [0.796600188006438, 0.7985789384226885, 0.7985789384226885, 0.7985789384226885, 0.7985789384226885, 0.7985789384226885, 0.7985789384226885, 0.7985789384226885, 0.7985789384226885, 0.7985789384226885, 0.7985789384226885, 0.7985789384226885, 0.7985789384226885, 0.7985789384226885, 0.7985789384226885, 0.7985789384226885, 0.7985789384226885, 0.7985789384226885, 0.7985789384226885, 0.7985789384226885, 0.7985789384226885, 0.7985789384226885, 0.8035624965312466, 0.8090948114385614, 0.8090948114385614, 0.8090948114385614, 0.8090948114385614, 0.816182688838939, 0.816182688838939, 0.816182688838939, 0.816182688838939, 0.816182688838939, 0.816182688838939, 0.816182688838939, 0.816182688838939, 0.816182688838939, 0.816182688838939, 0.816182688838939, 0.8398605734543235, 0.8398605734543235]}], \"f1_score_weighted\": [{\"categories\": [\"0\", \"1\", \"2\", \"3\", \"4\", \"5\", \"6\", \"7\", \"8\", \"9\", \"10\", \"11\", \"12\", \"13\", \"14\", \"15\", \"16\", \"17\", \"18\", \"19\", \"20\", \"21\", \"22\", \"23\", \"24\", \"25\", \"26\", \"27\", \"28\", \"29\", \"30\", \"31\", \"32\", \"33\", \"34\", \"35\", \"36\", \"37\", \"38\", \"39\"], \"mode\": \"markers\", \"name\": \"f1_score_weighted\", \"stepped\": false, \"type\": \"scatter\", \"data\": [0.8000528082614983, 0.8034149598152156, 0.7605185230101448, 0.7440636801923064, 0.6867373867039814, 0.7568734379096845, 0.7730040168599566, 0.7938048937009038, 0.6593781598303656, 0.7881565064837123, 0.7692551947850861, 0.7818853151581345, 0.7725786816032869, 0.7761422833565604, 0.7131594092182327, 0.7364105938844225, 0.7380274667860875, 0.7676261964877584, 0.7782278077610558, 0.7729781292378304, 0.7735642885068157, 0.7747865949786656, 0.8072266710981545, 0.8096171259414044, 0.7779908816733769, 0.5960056843896493, 0.8052114759707469, 0.8181513483852942, 0.7974925639080102, 0.777258267147229, 0.7573273381429959, 0.7984201639685272, 0.801861110005202, 0.8181350904886016, 0.803125982590848, 0.7735892382446843, 0.7714839268236834, 0.7691515014362785, 0.8431744977812754, 0.8290191343362004]}, {\"categories\": [\"0\", \"1\", \"2\", \"3\", \"4\", \"5\", \"6\", \"7\", \"8\", \"9\", \"10\", \"11\", \"12\", \"13\", \"14\", \"15\", \"16\", \"17\", \"18\", \"19\", \"20\", \"21\", \"22\", \"23\", \"24\", \"25\", \"26\", \"27\", \"28\", \"29\", \"30\", \"31\", \"32\", \"33\", \"34\", \"35\", \"36\", \"37\", \"38\", \"39\"], \"mode\": \"lines\", \"name\": \"f1_score_weighted_max\", \"stepped\": true, \"type\": \"scatter\", \"data\": [0.8000528082614983, 0.8034149598152156, 0.8034149598152156, 0.8034149598152156, 0.8034149598152156, 0.8034149598152156, 0.8034149598152156, 0.8034149598152156, 0.8034149598152156, 0.8034149598152156, 0.8034149598152156, 0.8034149598152156, 0.8034149598152156, 0.8034149598152156, 0.8034149598152156, 0.8034149598152156, 0.8034149598152156, 0.8034149598152156, 0.8034149598152156, 0.8034149598152156, 0.8034149598152156, 0.8034149598152156, 0.8072266710981545, 0.8096171259414044, 0.8096171259414044, 0.8096171259414044, 0.8096171259414044, 0.8181513483852942, 0.8181513483852942, 0.8181513483852942, 0.8181513483852942, 0.8181513483852942, 0.8181513483852942, 0.8181513483852942, 0.8181513483852942, 0.8181513483852942, 0.8181513483852942, 0.8181513483852942, 0.8431744977812754, 0.8431744977812754]}], \"recall_score_macro\": [{\"categories\": [\"0\", \"1\", \"2\", \"3\", \"4\", \"5\", \"6\", \"7\", \"8\", \"9\", \"10\", \"11\", \"12\", \"13\", \"14\", \"15\", \"16\", \"17\", \"18\", \"19\", \"20\", \"21\", \"22\", \"23\", \"24\", \"25\", \"26\", \"27\", \"28\", \"29\", \"30\", \"31\", \"32\", \"33\", \"34\", \"35\", \"36\", \"37\", \"38\", \"39\"], \"mode\": \"markers\", \"name\": \"recall_score_macro\", \"stepped\": false, \"type\": \"scatter\", \"data\": [0.796600188006438, 0.7985789384226885, 0.7636100011100011, 0.7456036151348652, 0.6844371774059275, 0.7546346015096015, 0.7697423236485736, 0.793803071928072, 0.6592838585026084, 0.784869730963481, 0.7651927933177933, 0.7833097458097458, 0.7705436056998557, 0.7847154581529582, 0.7072107579920079, 0.7377295447607948, 0.7463239017926517, 0.7648223304473304, 0.7821574259074259, 0.7740316974691974, 0.771044406981907, 0.7756686022311021, 0.8035624965312466, 0.8090948114385614, 0.7731350246975247, 0.6639454295704296, 0.8086792547730048, 0.816182688838939, 0.7989036137473637, 0.7766396797646797, 0.7627895541958041, 0.79503552003552, 0.8008616383616384, 0.8149079219391719, 0.8020333832833832, 0.7710122342934842, 0.7653225246975246, 0.7690704261016761, 0.8398605734543235, 0.8272403811466311]}, {\"categories\": [\"0\", \"1\", \"2\", \"3\", \"4\", \"5\", \"6\", \"7\", \"8\", \"9\", \"10\", \"11\", \"12\", \"13\", \"14\", \"15\", \"16\", \"17\", \"18\", \"19\", \"20\", \"21\", \"22\", \"23\", \"24\", \"25\", \"26\", \"27\", \"28\", \"29\", \"30\", \"31\", \"32\", \"33\", \"34\", \"35\", \"36\", \"37\", \"38\", \"39\"], \"mode\": \"lines\", \"name\": \"recall_score_macro_max\", \"stepped\": true, \"type\": \"scatter\", \"data\": [0.796600188006438, 0.7985789384226885, 0.7985789384226885, 0.7985789384226885, 0.7985789384226885, 0.7985789384226885, 0.7985789384226885, 0.7985789384226885, 0.7985789384226885, 0.7985789384226885, 0.7985789384226885, 0.7985789384226885, 0.7985789384226885, 0.7985789384226885, 0.7985789384226885, 0.7985789384226885, 0.7985789384226885, 0.7985789384226885, 0.7985789384226885, 0.7985789384226885, 0.7985789384226885, 0.7985789384226885, 0.8035624965312466, 0.8090948114385614, 0.8090948114385614, 0.8090948114385614, 0.8090948114385614, 0.816182688838939, 0.816182688838939, 0.816182688838939, 0.816182688838939, 0.816182688838939, 0.816182688838939, 0.816182688838939, 0.816182688838939, 0.816182688838939, 0.816182688838939, 0.816182688838939, 0.8398605734543235, 0.8398605734543235]}], \"norm_macro_recall\": [{\"categories\": [\"0\", \"1\", \"2\", \"3\", \"4\", \"5\", \"6\", \"7\", \"8\", \"9\", \"10\", \"11\", \"12\", \"13\", \"14\", \"15\", \"16\", \"17\", \"18\", \"19\", \"20\", \"21\", \"22\", \"23\", \"24\", \"25\", \"26\", \"27\", \"28\", \"29\", \"30\", \"31\", \"32\", \"33\", \"34\", \"35\", \"36\", \"37\", \"38\", \"39\"], \"mode\": \"markers\", \"name\": \"norm_macro_recall\", \"stepped\": false, \"type\": \"scatter\", \"data\": [0.593200376012876, 0.5971578768453768, 0.5272200022200022, 0.49120723026973023, 0.3688743548118548, 0.509269203019203, 0.5394846472971473, 0.5876061438561438, 0.31856771700521697, 0.569739461926962, 0.5303855866355867, 0.5666194916194917, 0.5410872113997114, 0.5694309163059164, 0.414421515984016, 0.47545908952158944, 0.4926478035853036, 0.5296446608946609, 0.5643148518148519, 0.5480633949383948, 0.542088813963814, 0.5513372044622045, 0.6071249930624931, 0.6181896228771229, 0.5462700493950494, 0.32789085914085914, 0.6173585095460095, 0.6323653776778777, 0.5978072274947275, 0.5532793595293596, 0.5255791083916084, 0.59007104007104, 0.6017232767232767, 0.6298158438783439, 0.6040667665667666, 0.5420244685869686, 0.5306450493950494, 0.5381408522033522, 0.6797211469086469, 0.6544807622932624]}, {\"categories\": [\"0\", \"1\", \"2\", \"3\", \"4\", \"5\", \"6\", \"7\", \"8\", \"9\", \"10\", \"11\", \"12\", \"13\", \"14\", \"15\", \"16\", \"17\", \"18\", \"19\", \"20\", \"21\", \"22\", \"23\", \"24\", \"25\", \"26\", \"27\", \"28\", \"29\", \"30\", \"31\", \"32\", \"33\", \"34\", \"35\", \"36\", \"37\", \"38\", \"39\"], \"mode\": \"lines\", \"name\": \"norm_macro_recall_max\", \"stepped\": true, \"type\": \"scatter\", \"data\": [0.593200376012876, 0.5971578768453768, 0.5971578768453768, 0.5971578768453768, 0.5971578768453768, 0.5971578768453768, 0.5971578768453768, 0.5971578768453768, 0.5971578768453768, 0.5971578768453768, 0.5971578768453768, 0.5971578768453768, 0.5971578768453768, 0.5971578768453768, 0.5971578768453768, 0.5971578768453768, 0.5971578768453768, 0.5971578768453768, 0.5971578768453768, 0.5971578768453768, 0.5971578768453768, 0.5971578768453768, 0.6071249930624931, 0.6181896228771229, 0.6181896228771229, 0.6181896228771229, 0.6181896228771229, 0.6323653776778777, 0.6323653776778777, 0.6323653776778777, 0.6323653776778777, 0.6323653776778777, 0.6323653776778777, 0.6323653776778777, 0.6323653776778777, 0.6323653776778777, 0.6323653776778777, 0.6323653776778777, 0.6797211469086469, 0.6797211469086469]}], \"weighted_accuracy\": [{\"categories\": [\"0\", \"1\", \"2\", \"3\", \"4\", \"5\", \"6\", \"7\", \"8\", \"9\", \"10\", \"11\", \"12\", \"13\", \"14\", \"15\", \"16\", \"17\", \"18\", \"19\", \"20\", \"21\", \"22\", \"23\", \"24\", \"25\", \"26\", \"27\", \"28\", \"29\", \"30\", \"31\", \"32\", \"33\", \"34\", \"35\", \"36\", \"37\", \"38\", \"39\"], \"mode\": \"markers\", \"name\": \"weighted_accuracy\", \"stepped\": false, \"type\": \"scatter\", \"data\": [0.8028750026964793, 0.8105140417971497, 0.7657392595969256, 0.7442689467983667, 0.6949412341335535, 0.764606202311441, 0.7794024353502876, 0.7958135427709545, 0.6699945100292936, 0.7943059926326196, 0.774105141354277, 0.7864552422720171, 0.7786037133055592, 0.7845856036028077, 0.721812904551105, 0.7416225337630771, 0.7338718021628615, 0.7744092992054762, 0.77804043211293, 0.7757664797795599, 0.7782600495177681, 0.774322849282604, 0.8154689482104167, 0.8104728988788423, 0.7860507971340063, 0.5994611312468803, 0.810593351930783, 0.823168202104483, 0.8004311499155458, 0.782703371567639, 0.7571341668626679, 0.8040946977985671, 0.8086055191903384, 0.8244217169854053, 0.8075026392944107, 0.7785016147737922, 0.7835432365306749, 0.7704801467688026, 0.8492671787338868, 0.8322060492413716]}, {\"categories\": [\"0\", \"1\", \"2\", \"3\", \"4\", \"5\", \"6\", \"7\", \"8\", \"9\", \"10\", \"11\", \"12\", \"13\", \"14\", \"15\", \"16\", \"17\", \"18\", \"19\", \"20\", \"21\", \"22\", \"23\", \"24\", \"25\", \"26\", \"27\", \"28\", \"29\", \"30\", \"31\", \"32\", \"33\", \"34\", \"35\", \"36\", \"37\", \"38\", \"39\"], \"mode\": \"lines\", \"name\": \"weighted_accuracy_max\", \"stepped\": true, \"type\": \"scatter\", \"data\": [0.8028750026964793, 0.8105140417971497, 0.8105140417971497, 0.8105140417971497, 0.8105140417971497, 0.8105140417971497, 0.8105140417971497, 0.8105140417971497, 0.8105140417971497, 0.8105140417971497, 0.8105140417971497, 0.8105140417971497, 0.8105140417971497, 0.8105140417971497, 0.8105140417971497, 0.8105140417971497, 0.8105140417971497, 0.8105140417971497, 0.8105140417971497, 0.8105140417971497, 0.8105140417971497, 0.8105140417971497, 0.8154689482104167, 0.8154689482104167, 0.8154689482104167, 0.8154689482104167, 0.8154689482104167, 0.823168202104483, 0.823168202104483, 0.823168202104483, 0.823168202104483, 0.823168202104483, 0.823168202104483, 0.8244217169854053, 0.8244217169854053, 0.8244217169854053, 0.8244217169854053, 0.8244217169854053, 0.8492671787338868, 0.8492671787338868]}], \"AUC_macro\": [{\"categories\": [\"0\", \"1\", \"2\", \"3\", \"4\", \"5\", \"6\", \"7\", \"8\", \"9\", \"10\", \"11\", \"12\", \"13\", \"14\", \"15\", \"16\", \"17\", \"18\", \"19\", \"20\", \"21\", \"22\", \"23\", \"24\", \"25\", \"26\", \"27\", \"28\", \"29\", \"30\", \"31\", \"32\", \"33\", \"34\", \"35\", \"36\", \"37\", \"38\", \"39\"], \"mode\": \"markers\", \"name\": \"AUC_macro\", \"stepped\": false, \"type\": \"scatter\", \"data\": [0.8705898615273615, 0.8812588800088801, 0.8660321275946276, 0.8486544705294705, 0.7572733863358864, 0.8663498307248307, 0.8569717435342435, 0.8846116383616385, 0.7648671467421467, 0.8509577575202576, 0.8619695235320235, 0.8698384948384947, 0.8666738816738817, 0.8662265512265512, 0.7884047896547897, 0.835975135975136, 0.796762647075147, 0.862624007936508, 0.8628453837828838, 0.8605809815184815, 0.8593755896880897, 0.8824279713342214, 0.8903472569097569, 0.8893203324453325, 0.8623691586191586, 0.8172648705461205, 0.8885433663558664, 0.8832152916527917, 0.8701155441780442, 0.8774765512265512, 0.880841033966034, 0.8761245004995004, 0.8690580253080253, 0.8773141788766788, 0.886708603896104, 0.8679081335331335, 0.8747770632145633, 0.8687020618270618, 0.8985913392163392, 0.9009388181263182]}, {\"categories\": [\"0\", \"1\", \"2\", \"3\", \"4\", \"5\", \"6\", \"7\", \"8\", \"9\", \"10\", \"11\", \"12\", \"13\", \"14\", \"15\", \"16\", \"17\", \"18\", \"19\", \"20\", \"21\", \"22\", \"23\", \"24\", \"25\", \"26\", \"27\", \"28\", \"29\", \"30\", \"31\", \"32\", \"33\", \"34\", \"35\", \"36\", \"37\", \"38\", \"39\"], \"mode\": \"lines\", \"name\": \"AUC_macro_max\", \"stepped\": true, \"type\": \"scatter\", \"data\": [0.8705898615273615, 0.8812588800088801, 0.8812588800088801, 0.8812588800088801, 0.8812588800088801, 0.8812588800088801, 0.8812588800088801, 0.8846116383616385, 0.8846116383616385, 0.8846116383616385, 0.8846116383616385, 0.8846116383616385, 0.8846116383616385, 0.8846116383616385, 0.8846116383616385, 0.8846116383616385, 0.8846116383616385, 0.8846116383616385, 0.8846116383616385, 0.8846116383616385, 0.8846116383616385, 0.8846116383616385, 0.8903472569097569, 0.8903472569097569, 0.8903472569097569, 0.8903472569097569, 0.8903472569097569, 0.8903472569097569, 0.8903472569097569, 0.8903472569097569, 0.8903472569097569, 0.8903472569097569, 0.8903472569097569, 0.8903472569097569, 0.8903472569097569, 0.8903472569097569, 0.8903472569097569, 0.8903472569097569, 0.8985913392163392, 0.9009388181263182]}], \"average_precision_score_macro\": [{\"categories\": [\"0\", \"1\", \"2\", \"3\", \"4\", \"5\", \"6\", \"7\", \"8\", \"9\", \"10\", \"11\", \"12\", \"13\", \"14\", \"15\", \"16\", \"17\", \"18\", \"19\", \"20\", \"21\", \"22\", \"23\", \"24\", \"25\", \"26\", \"27\", \"28\", \"29\", \"30\", \"31\", \"32\", \"33\", \"34\", \"35\", \"36\", \"37\", \"38\", \"39\"], \"mode\": \"markers\", \"name\": \"average_precision_score_macro\", \"stepped\": false, \"type\": \"scatter\", \"data\": [0.8763811945033624, 0.8873888748889305, 0.8756199353538592, 0.855066751553053, 0.7658099879553186, 0.8735319674633819, 0.8663447939910225, 0.8921590781826261, 0.778749386958574, 0.8621489877750386, 0.871031697780908, 0.8735694902967266, 0.8756921431242998, 0.8682147704629197, 0.7992691793446557, 0.8455324143889118, 0.8069342927072058, 0.8778344986376047, 0.8703041349993567, 0.8572128873362279, 0.8688410751311214, 0.8857544051555906, 0.8928419218711242, 0.8982725846031134, 0.8727591121044895, 0.8135331442943492, 0.8995757860259108, 0.8879603708348953, 0.87461489515012, 0.8842130572010465, 0.8945156425729999, 0.8806325529299126, 0.8677147751322702, 0.8858989981910721, 0.8948941984318463, 0.8744762670372461, 0.8845701650907041, 0.8763117697817504, 0.9049503183824689, 0.908190790120086]}, {\"categories\": [\"0\", \"1\", \"2\", \"3\", \"4\", \"5\", \"6\", \"7\", \"8\", \"9\", \"10\", \"11\", \"12\", \"13\", \"14\", \"15\", \"16\", \"17\", \"18\", \"19\", \"20\", \"21\", \"22\", \"23\", \"24\", \"25\", \"26\", \"27\", \"28\", \"29\", \"30\", \"31\", \"32\", \"33\", \"34\", \"35\", \"36\", \"37\", \"38\", \"39\"], \"mode\": \"lines\", \"name\": \"average_precision_score_macro_max\", \"stepped\": true, \"type\": \"scatter\", \"data\": [0.8763811945033624, 0.8873888748889305, 0.8873888748889305, 0.8873888748889305, 0.8873888748889305, 0.8873888748889305, 0.8873888748889305, 0.8921590781826261, 0.8921590781826261, 0.8921590781826261, 0.8921590781826261, 0.8921590781826261, 0.8921590781826261, 0.8921590781826261, 0.8921590781826261, 0.8921590781826261, 0.8921590781826261, 0.8921590781826261, 0.8921590781826261, 0.8921590781826261, 0.8921590781826261, 0.8921590781826261, 0.8928419218711242, 0.8982725846031134, 0.8982725846031134, 0.8982725846031134, 0.8995757860259108, 0.8995757860259108, 0.8995757860259108, 0.8995757860259108, 0.8995757860259108, 0.8995757860259108, 0.8995757860259108, 0.8995757860259108, 0.8995757860259108, 0.8995757860259108, 0.8995757860259108, 0.8995757860259108, 0.9049503183824689, 0.908190790120086]}], \"AUC_micro\": [{\"categories\": [\"0\", \"1\", \"2\", \"3\", \"4\", \"5\", \"6\", \"7\", \"8\", \"9\", \"10\", \"11\", \"12\", \"13\", \"14\", \"15\", \"16\", \"17\", \"18\", \"19\", \"20\", \"21\", \"22\", \"23\", \"24\", \"25\", \"26\", \"27\", \"28\", \"29\", \"30\", \"31\", \"32\", \"33\", \"34\", \"35\", \"36\", \"37\", \"38\", \"39\"], \"mode\": \"markers\", \"name\": \"AUC_micro\", \"stepped\": false, \"type\": \"scatter\", \"data\": [0.8815999999999999, 0.8886000000000001, 0.8613999999999999, 0.84, 0.7518, 0.8604, 0.8542, 0.8814, 0.7552000000000001, 0.8514, 0.8572, 0.8642000000000001, 0.861, 0.8562, 0.7996000000000001, 0.839, 0.7908, 0.8528, 0.8563999999999999, 0.8548, 0.8562000000000001, 0.871, 0.8912, 0.8815999999999999, 0.8728, 0.7202, 0.8795999999999999, 0.8872, 0.8652, 0.8712, 0.8676, 0.8815999999999999, 0.8694, 0.8828, 0.8862, 0.8593999999999999, 0.8706, 0.8595999999999999, 0.8966, 0.8928]}, {\"categories\": [\"0\", \"1\", \"2\", \"3\", \"4\", \"5\", \"6\", \"7\", \"8\", \"9\", \"10\", \"11\", \"12\", \"13\", \"14\", \"15\", \"16\", \"17\", \"18\", \"19\", \"20\", \"21\", \"22\", \"23\", \"24\", \"25\", \"26\", \"27\", \"28\", \"29\", \"30\", \"31\", \"32\", \"33\", \"34\", \"35\", \"36\", \"37\", \"38\", \"39\"], \"mode\": \"lines\", \"name\": \"AUC_micro_max\", \"stepped\": true, \"type\": \"scatter\", \"data\": [0.8815999999999999, 0.8886000000000001, 0.8886000000000001, 0.8886000000000001, 0.8886000000000001, 0.8886000000000001, 0.8886000000000001, 0.8886000000000001, 0.8886000000000001, 0.8886000000000001, 0.8886000000000001, 0.8886000000000001, 0.8886000000000001, 0.8886000000000001, 0.8886000000000001, 0.8886000000000001, 0.8886000000000001, 0.8886000000000001, 0.8886000000000001, 0.8886000000000001, 0.8886000000000001, 0.8886000000000001, 0.8912, 0.8912, 0.8912, 0.8912, 0.8912, 0.8912, 0.8912, 0.8912, 0.8912, 0.8912, 0.8912, 0.8912, 0.8912, 0.8912, 0.8912, 0.8912, 0.8966, 0.8966]}], \"average_precision_score_weighted\": [{\"categories\": [\"0\", \"1\", \"2\", \"3\", \"4\", \"5\", \"6\", \"7\", \"8\", \"9\", \"10\", \"11\", \"12\", \"13\", \"14\", \"15\", \"16\", \"17\", \"18\", \"19\", \"20\", \"21\", \"22\", \"23\", \"24\", \"25\", \"26\", \"27\", \"28\", \"29\", \"30\", \"31\", \"32\", \"33\", \"34\", \"35\", \"36\", \"37\", \"38\", \"39\"], \"mode\": \"markers\", \"name\": \"average_precision_score_weighted\", \"stepped\": false, \"type\": \"scatter\", \"data\": [0.881660058642282, 0.8923485319168873, 0.8783077537114924, 0.8610725440409264, 0.7700779983447401, 0.8785489427517711, 0.8722710079777164, 0.8960596201903493, 0.7835302707748646, 0.8640527710731709, 0.8745694794074623, 0.8783061724884649, 0.8812242678241651, 0.8723327845829781, 0.8030307025713103, 0.8491368952197276, 0.8125612750137047, 0.8815001034182536, 0.8749562226445201, 0.8629375720329685, 0.8748015684475183, 0.8909837336796853, 0.8967045548695334, 0.9013961503463035, 0.8773190931738801, 0.8193310309833075, 0.9034642632694103, 0.8919231000976559, 0.8811987536942948, 0.8889590373011845, 0.8976295609919835, 0.8849583353388508, 0.8751948338261923, 0.8906532209779198, 0.8992479546998746, 0.8803126873724532, 0.8883202157179728, 0.8820441783719564, 0.9075683099757588, 0.9108100675526221]}, {\"categories\": [\"0\", \"1\", \"2\", \"3\", \"4\", \"5\", \"6\", \"7\", \"8\", \"9\", \"10\", \"11\", \"12\", \"13\", \"14\", \"15\", \"16\", \"17\", \"18\", \"19\", \"20\", \"21\", \"22\", \"23\", \"24\", \"25\", \"26\", \"27\", \"28\", \"29\", \"30\", \"31\", \"32\", \"33\", \"34\", \"35\", \"36\", \"37\", \"38\", \"39\"], \"mode\": \"lines\", \"name\": \"average_precision_score_weighted_max\", \"stepped\": true, \"type\": \"scatter\", \"data\": [0.881660058642282, 0.8923485319168873, 0.8923485319168873, 0.8923485319168873, 0.8923485319168873, 0.8923485319168873, 0.8923485319168873, 0.8960596201903493, 0.8960596201903493, 0.8960596201903493, 0.8960596201903493, 0.8960596201903493, 0.8960596201903493, 0.8960596201903493, 0.8960596201903493, 0.8960596201903493, 0.8960596201903493, 0.8960596201903493, 0.8960596201903493, 0.8960596201903493, 0.8960596201903493, 0.8960596201903493, 0.8967045548695334, 0.9013961503463035, 0.9013961503463035, 0.9013961503463035, 0.9034642632694103, 0.9034642632694103, 0.9034642632694103, 0.9034642632694103, 0.9034642632694103, 0.9034642632694103, 0.9034642632694103, 0.9034642632694103, 0.9034642632694103, 0.9034642632694103, 0.9034642632694103, 0.9034642632694103, 0.9075683099757588, 0.9108100675526221]}], \"precision_score_weighted\": [{\"categories\": [\"0\", \"1\", \"2\", \"3\", \"4\", \"5\", \"6\", \"7\", \"8\", \"9\", \"10\", \"11\", \"12\", \"13\", \"14\", \"15\", \"16\", \"17\", \"18\", \"19\", \"20\", \"21\", \"22\", \"23\", \"24\", \"25\", \"26\", \"27\", \"28\", \"29\", \"30\", \"31\", \"32\", \"33\", \"34\", \"35\", \"36\", \"37\", \"38\", \"39\"], \"mode\": \"markers\", \"name\": \"precision_score_weighted\", \"stepped\": false, \"type\": \"scatter\", \"data\": [0.8055433439109909, 0.8103712341579988, 0.7907460317460318, 0.7546479154015919, 0.7026181314600433, 0.7719154619889914, 0.7881486013986013, 0.8074249427043545, 0.6814831698229531, 0.7991509985112926, 0.7742947493682788, 0.805119874707336, 0.7925091183326478, 0.8204487097869451, 0.7213050454447514, 0.7597160319255907, 0.7676327035537561, 0.7852490450725744, 0.8024392135642135, 0.7945621575062365, 0.7898024475524474, 0.7905013944388944, 0.8212399531582968, 0.818430617993118, 0.7925218991534781, 0.6606859731771497, 0.8301288462569423, 0.8353475734791524, 0.8172802626295272, 0.7969965198200493, 0.7709549825174825, 0.8091005208027267, 0.8193340477891562, 0.8320643566959356, 0.8177132034632035, 0.7858023504273504, 0.7847199266162115, 0.7813448687750157, 0.8556954099821747, 0.8441320346320347]}, {\"categories\": [\"0\", \"1\", \"2\", \"3\", \"4\", \"5\", \"6\", \"7\", \"8\", \"9\", \"10\", \"11\", \"12\", \"13\", \"14\", \"15\", \"16\", \"17\", \"18\", \"19\", \"20\", \"21\", \"22\", \"23\", \"24\", \"25\", \"26\", \"27\", \"28\", \"29\", \"30\", \"31\", \"32\", \"33\", \"34\", \"35\", \"36\", \"37\", \"38\", \"39\"], \"mode\": \"lines\", \"name\": \"precision_score_weighted_max\", \"stepped\": true, \"type\": \"scatter\", \"data\": [0.8055433439109909, 0.8103712341579988, 0.8103712341579988, 0.8103712341579988, 0.8103712341579988, 0.8103712341579988, 0.8103712341579988, 0.8103712341579988, 0.8103712341579988, 0.8103712341579988, 0.8103712341579988, 0.8103712341579988, 0.8103712341579988, 0.8204487097869451, 0.8204487097869451, 0.8204487097869451, 0.8204487097869451, 0.8204487097869451, 0.8204487097869451, 0.8204487097869451, 0.8204487097869451, 0.8204487097869451, 0.8212399531582968, 0.8212399531582968, 0.8212399531582968, 0.8212399531582968, 0.8301288462569423, 0.8353475734791524, 0.8353475734791524, 0.8353475734791524, 0.8353475734791524, 0.8353475734791524, 0.8353475734791524, 0.8353475734791524, 0.8353475734791524, 0.8353475734791524, 0.8353475734791524, 0.8353475734791524, 0.8556954099821747, 0.8556954099821747]}], \"accuracy\": [{\"categories\": [\"0\", \"1\", \"2\", \"3\", \"4\", \"5\", \"6\", \"7\", \"8\", \"9\", \"10\", \"11\", \"12\", \"13\", \"14\", \"15\", \"16\", \"17\", \"18\", \"19\", \"20\", \"21\", \"22\", \"23\", \"24\", \"25\", \"26\", \"27\", \"28\", \"29\", \"30\", \"31\", \"32\", \"33\", \"34\", \"35\", \"36\", \"37\", \"38\", \"39\"], \"mode\": \"markers\", \"name\": \"accuracy\", \"stepped\": false, \"type\": \"scatter\", \"data\": [0.8, 0.805, 0.765, 0.745, 0.6900000000000001, 0.76, 0.775, 0.795, 0.6649999999999999, 0.79, 0.77, 0.785, 0.775, 0.785, 0.715, 0.74, 0.74, 0.77, 0.78, 0.775, 0.775, 0.775, 0.81, 0.81, 0.78, 0.6299999999999999, 0.81, 0.8200000000000001, 0.8, 0.78, 0.76, 0.8, 0.805, 0.8200000000000001, 0.805, 0.775, 0.775, 0.77, 0.8450000000000001, 0.8300000000000001]}, {\"categories\": [\"0\", \"1\", \"2\", \"3\", \"4\", \"5\", \"6\", \"7\", \"8\", \"9\", \"10\", \"11\", \"12\", \"13\", \"14\", \"15\", \"16\", \"17\", \"18\", \"19\", \"20\", \"21\", \"22\", \"23\", \"24\", \"25\", \"26\", \"27\", \"28\", \"29\", \"30\", \"31\", \"32\", \"33\", \"34\", \"35\", \"36\", \"37\", \"38\", \"39\"], \"mode\": \"lines\", \"name\": \"accuracy_max\", \"stepped\": true, \"type\": \"scatter\", \"data\": [0.8, 0.805, 0.805, 0.805, 0.805, 0.805, 0.805, 0.805, 0.805, 0.805, 0.805, 0.805, 0.805, 0.805, 0.805, 0.805, 0.805, 0.805, 0.805, 0.805, 0.805, 0.805, 0.81, 0.81, 0.81, 0.81, 0.81, 0.8200000000000001, 0.8200000000000001, 0.8200000000000001, 0.8200000000000001, 0.8200000000000001, 0.8200000000000001, 0.8200000000000001, 0.8200000000000001, 0.8200000000000001, 0.8200000000000001, 0.8200000000000001, 0.8450000000000001, 0.8450000000000001]}], \"matthews_correlation\": [{\"categories\": [\"0\", \"1\", \"2\", \"3\", \"4\", \"5\", \"6\", \"7\", \"8\", \"9\", \"10\", \"11\", \"12\", \"13\", \"14\", \"15\", \"16\", \"17\", \"18\", \"19\", \"20\", \"21\", \"22\", \"23\", \"24\", \"25\", \"26\", \"27\", \"28\", \"29\", \"30\", \"31\", \"32\", \"33\", \"34\", \"35\", \"36\", \"37\", \"38\", \"39\"], \"mode\": \"markers\", \"name\": \"matthews_correlation\", \"stepped\": false, \"type\": \"scatter\", \"data\": [0.5960724554640766, 0.6044881170373388, 0.5465100493406032, 0.49282917245210844, 0.3815958014011345, 0.5198605384168467, 0.5509851801968595, 0.592754361793556, 0.3347127068461385, 0.5781169196765682, 0.533254335264758, 0.5813949131386762, 0.5554495191664499, 0.5956639923956681, 0.4212871429374491, 0.4889830101889914, 0.5017785038099043, 0.5441848046921952, 0.5756624999983508, 0.5610334743041097, 0.5534139640259677, 0.5572136636628073, 0.6193871255075869, 0.6208329014180192, 0.5590852797053703, 0.3563397170300977, 0.6320791076311982, 0.6442033859387317, 0.6082352920402085, 0.5660630315510733, 0.5261748689032552, 0.5962697331305309, 0.6146330797824315, 0.6407539297540301, 0.61254909926301, 0.5497394735970305, 0.5449086823871924, 0.5432850757942702, 0.6902188068192319, 0.6642503952210205]}, {\"categories\": [\"0\", \"1\", \"2\", \"3\", \"4\", \"5\", \"6\", \"7\", \"8\", \"9\", \"10\", \"11\", \"12\", \"13\", \"14\", \"15\", \"16\", \"17\", \"18\", \"19\", \"20\", \"21\", \"22\", \"23\", \"24\", \"25\", \"26\", \"27\", \"28\", \"29\", \"30\", \"31\", \"32\", \"33\", \"34\", \"35\", \"36\", \"37\", \"38\", \"39\"], \"mode\": \"lines\", \"name\": \"matthews_correlation_max\", \"stepped\": true, \"type\": \"scatter\", \"data\": [0.5960724554640766, 0.6044881170373388, 0.6044881170373388, 0.6044881170373388, 0.6044881170373388, 0.6044881170373388, 0.6044881170373388, 0.6044881170373388, 0.6044881170373388, 0.6044881170373388, 0.6044881170373388, 0.6044881170373388, 0.6044881170373388, 0.6044881170373388, 0.6044881170373388, 0.6044881170373388, 0.6044881170373388, 0.6044881170373388, 0.6044881170373388, 0.6044881170373388, 0.6044881170373388, 0.6044881170373388, 0.6193871255075869, 0.6208329014180192, 0.6208329014180192, 0.6208329014180192, 0.6320791076311982, 0.6442033859387317, 0.6442033859387317, 0.6442033859387317, 0.6442033859387317, 0.6442033859387317, 0.6442033859387317, 0.6442033859387317, 0.6442033859387317, 0.6442033859387317, 0.6442033859387317, 0.6442033859387317, 0.6902188068192319, 0.6902188068192319]}], \"precision_score_macro\": [{\"categories\": [\"0\", \"1\", \"2\", \"3\", \"4\", \"5\", \"6\", \"7\", \"8\", \"9\", \"10\", \"11\", \"12\", \"13\", \"14\", \"15\", \"16\", \"17\", \"18\", \"19\", \"20\", \"21\", \"22\", \"23\", \"24\", \"25\", \"26\", \"27\", \"28\", \"29\", \"30\", \"31\", \"32\", \"33\", \"34\", \"35\", \"36\", \"37\", \"38\", \"39\"], \"mode\": \"markers\", \"name\": \"precision_score_macro\", \"stepped\": false, \"type\": \"scatter\", \"data\": [0.7995834129106187, 0.8062084463738876, 0.783531746031746, 0.7473292893789217, 0.6976994818906583, 0.7655853643905115, 0.7816054605117104, 0.7990413691700456, 0.676442453476606, 0.7933805471489295, 0.768138009865951, 0.7989310236117511, 0.7854023172497437, 0.8135860003966622, 0.7142962123660653, 0.751739477842419, 0.7562432313665866, 0.7798569077980844, 0.7937883297258297, 0.7877306584132242, 0.7827339327339328, 0.7816665105727606, 0.8164434233851803, 0.811760982073482, 0.7865891783654941, 0.6550380909939733, 0.8240352752252906, 0.828645039171355, 0.8097175241017153, 0.7898666284695697, 0.7634349157786657, 0.8013221612945878, 0.8145080425895055, 0.8264701307464466, 0.8107895576645576, 0.7788595085470085, 0.7803065312740236, 0.7743451962661522, 0.8506681533335945, 0.8373234404484404]}, {\"categories\": [\"0\", \"1\", \"2\", \"3\", \"4\", \"5\", \"6\", \"7\", \"8\", \"9\", \"10\", \"11\", \"12\", \"13\", \"14\", \"15\", \"16\", \"17\", \"18\", \"19\", \"20\", \"21\", \"22\", \"23\", \"24\", \"25\", \"26\", \"27\", \"28\", \"29\", \"30\", \"31\", \"32\", \"33\", \"34\", \"35\", \"36\", \"37\", \"38\", \"39\"], \"mode\": \"lines\", \"name\": \"precision_score_macro_max\", \"stepped\": true, \"type\": \"scatter\", \"data\": [0.7995834129106187, 0.8062084463738876, 0.8062084463738876, 0.8062084463738876, 0.8062084463738876, 0.8062084463738876, 0.8062084463738876, 0.8062084463738876, 0.8062084463738876, 0.8062084463738876, 0.8062084463738876, 0.8062084463738876, 0.8062084463738876, 0.8135860003966622, 0.8135860003966622, 0.8135860003966622, 0.8135860003966622, 0.8135860003966622, 0.8135860003966622, 0.8135860003966622, 0.8135860003966622, 0.8135860003966622, 0.8164434233851803, 0.8164434233851803, 0.8164434233851803, 0.8164434233851803, 0.8240352752252906, 0.828645039171355, 0.828645039171355, 0.828645039171355, 0.828645039171355, 0.828645039171355, 0.828645039171355, 0.828645039171355, 0.828645039171355, 0.828645039171355, 0.828645039171355, 0.828645039171355, 0.8506681533335945, 0.8506681533335945]}], \"AUC_weighted\": [{\"categories\": [\"0\", \"1\", \"2\", \"3\", \"4\", \"5\", \"6\", \"7\", \"8\", \"9\", \"10\", \"11\", \"12\", \"13\", \"14\", \"15\", \"16\", \"17\", \"18\", \"19\", \"20\", \"21\", \"22\", \"23\", \"24\", \"25\", \"26\", \"27\", \"28\", \"29\", \"30\", \"31\", \"32\", \"33\", \"34\", \"35\", \"36\", \"37\", \"38\", \"39\"], \"mode\": \"markers\", \"name\": \"AUC_weighted\", \"stepped\": false, \"type\": \"scatter\", \"data\": [0.8705898615273615, 0.8812588800088801, 0.8660321275946277, 0.8486544705294705, 0.7572733863358864, 0.8663498307248307, 0.8569717435342435, 0.8846116383616384, 0.7648671467421467, 0.8509577575202576, 0.8619695235320236, 0.8698384948384947, 0.8666738816738816, 0.8662265512265512, 0.7884047896547897, 0.835975135975136, 0.7967626470751471, 0.862624007936508, 0.8628453837828838, 0.8605809815184815, 0.8593755896880897, 0.8824279713342214, 0.8903472569097569, 0.8893203324453325, 0.8623691586191586, 0.8172648705461206, 0.8885433663558664, 0.8832152916527916, 0.8701155441780442, 0.8774765512265512, 0.880841033966034, 0.8761245004995004, 0.8690580253080253, 0.8773141788766788, 0.8867086038961038, 0.8679081335331335, 0.8747770632145633, 0.8687020618270618, 0.8985913392163393, 0.9009388181263182]}, {\"categories\": [\"0\", \"1\", \"2\", \"3\", \"4\", \"5\", \"6\", \"7\", \"8\", \"9\", \"10\", \"11\", \"12\", \"13\", \"14\", \"15\", \"16\", \"17\", \"18\", \"19\", \"20\", \"21\", \"22\", \"23\", \"24\", \"25\", \"26\", \"27\", \"28\", \"29\", \"30\", \"31\", \"32\", \"33\", \"34\", \"35\", \"36\", \"37\", \"38\", \"39\"], \"mode\": \"lines\", \"name\": \"AUC_weighted_max\", \"stepped\": true, \"type\": \"scatter\", \"data\": [0.8705898615273615, 0.8812588800088801, 0.8812588800088801, 0.8812588800088801, 0.8812588800088801, 0.8812588800088801, 0.8812588800088801, 0.8846116383616384, 0.8846116383616384, 0.8846116383616384, 0.8846116383616384, 0.8846116383616384, 0.8846116383616384, 0.8846116383616384, 0.8846116383616384, 0.8846116383616384, 0.8846116383616384, 0.8846116383616384, 0.8846116383616384, 0.8846116383616384, 0.8846116383616384, 0.8846116383616384, 0.8903472569097569, 0.8903472569097569, 0.8903472569097569, 0.8903472569097569, 0.8903472569097569, 0.8903472569097569, 0.8903472569097569, 0.8903472569097569, 0.8903472569097569, 0.8903472569097569, 0.8903472569097569, 0.8903472569097569, 0.8903472569097569, 0.8903472569097569, 0.8903472569097569, 0.8903472569097569, 0.8985913392163393, 0.9009388181263182]}], \"recall_score_weighted\": [{\"categories\": [\"0\", \"1\", \"2\", \"3\", \"4\", \"5\", \"6\", \"7\", \"8\", \"9\", \"10\", \"11\", \"12\", \"13\", \"14\", \"15\", \"16\", \"17\", \"18\", \"19\", \"20\", \"21\", \"22\", \"23\", \"24\", \"25\", \"26\", \"27\", \"28\", \"29\", \"30\", \"31\", \"32\", \"33\", \"34\", \"35\", \"36\", \"37\", \"38\", \"39\"], \"mode\": \"markers\", \"name\": \"recall_score_weighted\", \"stepped\": false, \"type\": \"scatter\", \"data\": [0.8, 0.805, 0.765, 0.745, 0.6900000000000001, 0.76, 0.775, 0.795, 0.6649999999999999, 0.79, 0.77, 0.785, 0.775, 0.785, 0.715, 0.74, 0.74, 0.77, 0.78, 0.775, 0.775, 0.775, 0.81, 0.81, 0.78, 0.6299999999999999, 0.81, 0.8200000000000001, 0.8, 0.78, 0.76, 0.8, 0.805, 0.8200000000000001, 0.805, 0.775, 0.775, 0.77, 0.8450000000000001, 0.8300000000000001]}, {\"categories\": [\"0\", \"1\", \"2\", \"3\", \"4\", \"5\", \"6\", \"7\", \"8\", \"9\", \"10\", \"11\", \"12\", \"13\", \"14\", \"15\", \"16\", \"17\", \"18\", \"19\", \"20\", \"21\", \"22\", \"23\", \"24\", \"25\", \"26\", \"27\", \"28\", \"29\", \"30\", \"31\", \"32\", \"33\", \"34\", \"35\", \"36\", \"37\", \"38\", \"39\"], \"mode\": \"lines\", \"name\": \"recall_score_weighted_max\", \"stepped\": true, \"type\": \"scatter\", \"data\": [0.8, 0.805, 0.805, 0.805, 0.805, 0.805, 0.805, 0.805, 0.805, 0.805, 0.805, 0.805, 0.805, 0.805, 0.805, 0.805, 0.805, 0.805, 0.805, 0.805, 0.805, 0.805, 0.81, 0.81, 0.81, 0.81, 0.81, 0.8200000000000001, 0.8200000000000001, 0.8200000000000001, 0.8200000000000001, 0.8200000000000001, 0.8200000000000001, 0.8200000000000001, 0.8200000000000001, 0.8200000000000001, 0.8200000000000001, 0.8200000000000001, 0.8450000000000001, 0.8450000000000001]}], \"average_precision_score_micro\": [{\"categories\": [\"0\", \"1\", \"2\", \"3\", \"4\", \"5\", \"6\", \"7\", \"8\", \"9\", \"10\", \"11\", \"12\", \"13\", \"14\", \"15\", \"16\", \"17\", \"18\", \"19\", \"20\", \"21\", \"22\", \"23\", \"24\", \"25\", \"26\", \"27\", \"28\", \"29\", \"30\", \"31\", \"32\", \"33\", \"34\", \"35\", \"36\", \"37\", \"38\", \"39\"], \"mode\": \"markers\", \"name\": \"average_precision_score_micro\", \"stepped\": false, \"type\": \"scatter\", \"data\": [0.886554003559269, 0.8949592619767202, 0.8638899029925684, 0.8458643111693841, 0.7435600194909919, 0.8684256202184941, 0.8591175526603958, 0.887914350743348, 0.760024466589197, 0.8472678709580643, 0.8654511010086922, 0.8680429045364546, 0.8654262922626077, 0.8550916048910894, 0.7982687472038024, 0.8323247672839007, 0.7924335232757176, 0.8584363223848609, 0.8621021101982744, 0.8533963635141558, 0.861245279288736, 0.8772856579609791, 0.8911729723057208, 0.8877825289927495, 0.8753911413676035, 0.7378035291316066, 0.8893629666054963, 0.8825431069431151, 0.8691144325663733, 0.8776077690053494, 0.8825584273507464, 0.8866162549931582, 0.8756817903466618, 0.886473239926556, 0.894651916350538, 0.8657351271221667, 0.8797309060707921, 0.8684176687188495, 0.8981159115526947, 0.8948418853510254]}, {\"categories\": [\"0\", \"1\", \"2\", \"3\", \"4\", \"5\", \"6\", \"7\", \"8\", \"9\", \"10\", \"11\", \"12\", \"13\", \"14\", \"15\", \"16\", \"17\", \"18\", \"19\", \"20\", \"21\", \"22\", \"23\", \"24\", \"25\", \"26\", \"27\", \"28\", \"29\", \"30\", \"31\", \"32\", \"33\", \"34\", \"35\", \"36\", \"37\", \"38\", \"39\"], \"mode\": \"lines\", \"name\": \"average_precision_score_micro_max\", \"stepped\": true, \"type\": \"scatter\", \"data\": [0.886554003559269, 0.8949592619767202, 0.8949592619767202, 0.8949592619767202, 0.8949592619767202, 0.8949592619767202, 0.8949592619767202, 0.8949592619767202, 0.8949592619767202, 0.8949592619767202, 0.8949592619767202, 0.8949592619767202, 0.8949592619767202, 0.8949592619767202, 0.8949592619767202, 0.8949592619767202, 0.8949592619767202, 0.8949592619767202, 0.8949592619767202, 0.8949592619767202, 0.8949592619767202, 0.8949592619767202, 0.8949592619767202, 0.8949592619767202, 0.8949592619767202, 0.8949592619767202, 0.8949592619767202, 0.8949592619767202, 0.8949592619767202, 0.8949592619767202, 0.8949592619767202, 0.8949592619767202, 0.8949592619767202, 0.8949592619767202, 0.8949592619767202, 0.8949592619767202, 0.8949592619767202, 0.8949592619767202, 0.8981159115526947, 0.8981159115526947]}]}, \"metricName\": null, \"primaryMetricName\": \"accuracy\", \"showLegend\": false}, \"run_metrics\": [{\"name\": \"norm_macro_recall\", \"run_id\": \"AutoML_1b1d6a52-6a22-41c2-8546-a488a7a5260a\", \"categories\": [0], \"series\": [{\"data\": [0.6797211469086469]}]}, {\"name\": \"matthews_correlation\", \"run_id\": \"AutoML_1b1d6a52-6a22-41c2-8546-a488a7a5260a\", \"categories\": [0], \"series\": [{\"data\": [0.6902188068192319]}]}, {\"name\": \"recall_score_micro\", \"run_id\": \"AutoML_1b1d6a52-6a22-41c2-8546-a488a7a5260a\", \"categories\": [0], \"series\": [{\"data\": [0.8450000000000001]}]}, {\"name\": \"balanced_accuracy\", \"run_id\": \"AutoML_1b1d6a52-6a22-41c2-8546-a488a7a5260a\", \"categories\": [0], \"series\": [{\"data\": [0.8398605734543235]}]}, {\"name\": \"AUC_macro\", \"run_id\": \"AutoML_1b1d6a52-6a22-41c2-8546-a488a7a5260a\", \"categories\": [0], \"series\": [{\"data\": [0.8985913392163392]}]}, {\"name\": \"recall_score_weighted\", \"run_id\": \"AutoML_1b1d6a52-6a22-41c2-8546-a488a7a5260a\", \"categories\": [0], \"series\": [{\"data\": [0.8450000000000001]}]}, {\"name\": \"precision_score_weighted\", \"run_id\": \"AutoML_1b1d6a52-6a22-41c2-8546-a488a7a5260a\", \"categories\": [0], \"series\": [{\"data\": [0.8556954099821747]}]}, {\"name\": \"recall_score_macro\", \"run_id\": \"AutoML_1b1d6a52-6a22-41c2-8546-a488a7a5260a\", \"categories\": [0], \"series\": [{\"data\": [0.8398605734543235]}]}, {\"name\": \"average_precision_score_micro\", \"run_id\": \"AutoML_1b1d6a52-6a22-41c2-8546-a488a7a5260a\", \"categories\": [0], \"series\": [{\"data\": [0.8981159115526947]}]}, {\"name\": \"average_precision_score_weighted\", \"run_id\": \"AutoML_1b1d6a52-6a22-41c2-8546-a488a7a5260a\", \"categories\": [0], \"series\": [{\"data\": [0.9075683099757588]}]}, {\"name\": \"precision_score_macro\", \"run_id\": \"AutoML_1b1d6a52-6a22-41c2-8546-a488a7a5260a\", \"categories\": [0], \"series\": [{\"data\": [0.8506681533335945]}]}, {\"name\": \"f1_score_weighted\", \"run_id\": \"AutoML_1b1d6a52-6a22-41c2-8546-a488a7a5260a\", \"categories\": [0], \"series\": [{\"data\": [0.8431744977812754]}]}, {\"name\": \"AUC_micro\", \"run_id\": \"AutoML_1b1d6a52-6a22-41c2-8546-a488a7a5260a\", \"categories\": [0], \"series\": [{\"data\": [0.8966]}]}, {\"name\": \"f1_score_macro\", \"run_id\": \"AutoML_1b1d6a52-6a22-41c2-8546-a488a7a5260a\", \"categories\": [0], \"series\": [{\"data\": [0.8378977409348254]}]}, {\"name\": \"accuracy\", \"run_id\": \"AutoML_1b1d6a52-6a22-41c2-8546-a488a7a5260a\", \"categories\": [0], \"series\": [{\"data\": [0.8450000000000001]}]}, {\"name\": \"log_loss\", \"run_id\": \"AutoML_1b1d6a52-6a22-41c2-8546-a488a7a5260a\", \"categories\": [0], \"series\": [{\"data\": [0.4093938119802878]}]}, {\"name\": \"AUC_weighted\", \"run_id\": \"AutoML_1b1d6a52-6a22-41c2-8546-a488a7a5260a\", \"categories\": [0], \"series\": [{\"data\": [0.8985913392163393]}]}, {\"name\": \"weighted_accuracy\", \"run_id\": \"AutoML_1b1d6a52-6a22-41c2-8546-a488a7a5260a\", \"categories\": [0], \"series\": [{\"data\": [0.8492671787338868]}]}, {\"name\": \"f1_score_micro\", \"run_id\": \"AutoML_1b1d6a52-6a22-41c2-8546-a488a7a5260a\", \"categories\": [0], \"series\": [{\"data\": [0.845]}]}, {\"name\": \"precision_score_micro\", \"run_id\": \"AutoML_1b1d6a52-6a22-41c2-8546-a488a7a5260a\", \"categories\": [0], \"series\": [{\"data\": [0.8450000000000001]}]}, {\"name\": \"average_precision_score_macro\", \"run_id\": \"AutoML_1b1d6a52-6a22-41c2-8546-a488a7a5260a\", \"categories\": [0], \"series\": [{\"data\": [0.9049503183824689]}]}], \"run_logs\": \"\\nRun is completed.\", \"graph\": {}, \"widget_settings\": {\"childWidgetDisplay\": \"popup\", \"send_telemetry\": false, \"log_level\": \"INFO\", \"sdk_version\": \"1.33.0\"}, \"loading\": false}"
     },
     "metadata": {},
     "output_type": "display_data"
    }
   ],
   "source": [
    "from azureml.widgets import RunDetails\n",
    "\n",
    "RunDetails(auto_ml_run).show()"
   ]
  },
  {
   "cell_type": "markdown",
   "metadata": {},
   "source": [
    "## Best Model\n",
    "\n",
    "TODO: In the cell below, get the best model from the automl experiments and display all the properties of the model.\n",
    "\n"
   ]
  },
  {
   "cell_type": "code",
   "execution_count": 24,
   "metadata": {
    "gather": {
     "logged": 1598431426111
    },
    "jupyter": {
     "outputs_hidden": false,
     "source_hidden": false
    },
    "nteract": {
     "transient": {
      "deleting": false
     }
    }
   },
   "outputs": [
    {
     "data": {
      "text/plain": [
       "['auto-ml-best_run.pkl']"
      ]
     },
     "execution_count": 24,
     "metadata": {},
     "output_type": "execute_result"
    }
   ],
   "source": [
    "#TODO: Save the best model\n",
    "import joblib\n",
    "\n",
    "best_run,best_model = auto_ml_run.get_output()\n",
    "\n",
    "joblib.dump(value=best_model,filename='auto-ml-best_run.pkl')"
   ]
  },
  {
   "cell_type": "markdown",
   "metadata": {},
   "source": [
    "## Model Deployment\n",
    "\n",
    "Remember you have to deploy only one of the two models you trained.. Perform the steps in the rest of this notebook only if you wish to deploy this model.\n",
    "\n",
    "TODO: In the cell below, register the model, create an inference config and deploy the model as a web service."
   ]
  },
  {
   "cell_type": "code",
   "execution_count": 25,
   "metadata": {
    "gather": {
     "logged": 1598431435189
    },
    "jupyter": {
     "outputs_hidden": false,
     "source_hidden": false
    },
    "nteract": {
     "transient": {
      "deleting": false
     }
    }
   },
   "outputs": [],
   "source": [
    "from azureml.core.model import InferenceConfig, Model\n",
    "from azureml.core.webservice import AciWebservice, Webservice\n",
    "\n",
    "# Register the model to deploy\n",
    "model_name = best_run.properties['model_name']\n",
    "description = 'AutoML model for predicting track recommendation'\n",
    "tags={'area': \"music\", 'type': \"classification\"}\n",
    "model = auto_ml_run.register_model(model_name = model_name, \n",
    "                                  description = description, \n",
    "                                  tags = tags)"
   ]
  },
  {
   "cell_type": "code",
   "execution_count": null,
   "metadata": {},
   "outputs": [],
   "source": [
    "# Combine scoring script & environment in Inference configuration\n",
    "inference_config = InferenceConfig(entry_script=\"score.py\",\n",
    "                                   environment=myenv)\n",
    "\n",
    "# Set deployment configuration\n",
    "deployment_config = AciWebservice.deploy_configuration(cpu_cores = 1,\n",
    "                                                       memory_gb = 1)\n",
    "\n",
    "# Define the model, inference, & deployment configuration and web service name and location to deploy\n",
    "service = Model.deploy(workspace = ws,\n",
    "                       name = \"my_web_service\",\n",
    "                       models = [model],\n",
    "                       inference_config = inference_config,\n",
    "                       deployment_config = deployment_config)"
   ]
  },
  {
   "cell_type": "markdown",
   "metadata": {
    "collapsed": true,
    "gather": {
     "logged": 1598431657736
    },
    "jupyter": {
     "outputs_hidden": false,
     "source_hidden": false
    },
    "nteract": {
     "transient": {
      "deleting": false
     }
    }
   },
   "source": [
    "TODO: In the cell below, send a request to the web service you deployed to test it."
   ]
  },
  {
   "cell_type": "code",
   "execution_count": null,
   "metadata": {
    "gather": {
     "logged": 1598432707604
    },
    "jupyter": {
     "outputs_hidden": false,
     "source_hidden": false
    },
    "nteract": {
     "transient": {
      "deleting": false
     }
    }
   },
   "outputs": [],
   "source": []
  },
  {
   "cell_type": "markdown",
   "metadata": {
    "collapsed": true,
    "gather": {
     "logged": 1598432765711
    },
    "jupyter": {
     "outputs_hidden": false,
     "source_hidden": false
    },
    "nteract": {
     "transient": {
      "deleting": false
     }
    }
   },
   "source": [
    "TODO: In the cell below, print the logs of the web service and delete the service"
   ]
  },
  {
   "cell_type": "code",
   "execution_count": null,
   "metadata": {
    "jupyter": {
     "outputs_hidden": false,
     "source_hidden": false
    },
    "nteract": {
     "transient": {
      "deleting": false
     }
    }
   },
   "outputs": [],
   "source": []
  }
 ],
 "metadata": {
  "kernel_info": {
   "name": "python3-azureml"
  },
  "kernelspec": {
   "display_name": "Python 3",
   "language": "python",
   "name": "python3"
  },
  "language_info": {
   "codemirror_mode": {
    "name": "ipython",
    "version": 3
   },
   "file_extension": ".py",
   "mimetype": "text/x-python",
   "name": "python",
   "nbconvert_exporter": "python",
   "pygments_lexer": "ipython3",
   "version": "3.6.9"
  },
  "nteract": {
   "version": "nteract-front-end@1.0.0"
  }
 },
 "nbformat": 4,
 "nbformat_minor": 2
}
